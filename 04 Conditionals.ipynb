{
 "cells": [
  {
   "cell_type": "markdown",
   "metadata": {},
   "source": [
    "### Navigation Reminder\n",
    "\n",
    "- **Grey cells** are **code cells**. Click inside them and type to edit.\n",
    "- **Run**  code cells by pressing $ \\triangleright $  in the toolbar above, or press ``` shift + enter```.\n",
    "-  **Stop** a running process by clicking $\\Box$ in the toolbar above.\n",
    "- You can **add new cells** by clicking to the left of a cell and pressing ```A``` (for above), or```B``` (for below). \n",
    "- **Delete cells** by pressing```X```.\n",
    "- Run all code cells that import objects (such as the one below) to ensure that you can follow exercises and examples.\n",
    "- Feel free to edit and experiment - you will not corrupt the original files."
   ]
  },
  {
   "cell_type": "markdown",
   "metadata": {},
   "source": [
    "# Conditionals and Comparisons\n",
    "\n",
    "The next lessons (04,05) are focused on the syntactical structures that make Python such a powerful tool for automation. In this lesson we will look at the conditional structures that help us program Python to make decisions.  In Lesson 05, we will look at loops as a way of programming repetitive tasks. \n",
    "\n",
    "Conditionals are statements that check True or False conditions to make decisions. \n",
    "\n",
    "In this lesson, we will learn to use **comparison operators** to craft conditional statements with **if**, **elif** and **else**.\n",
    "\n",
    "---\n",
    "Questions and exercises are distributed throughout this lesson. Please run the code cell below to import them before starting the lesson. The code will not produce any visible output, but they will be loaded for future use."
   ]
  },
  {
   "cell_type": "code",
   "execution_count": null,
   "metadata": {},
   "outputs": [],
   "source": [
    "from QuestionsConditionals import Q1, Q2, Q3, Q4, Q5, Q6, Q7, Q8, Q9, Q10, question, solution"
   ]
  },
  {
   "cell_type": "markdown",
   "metadata": {},
   "source": [
    "---\n",
    "## Lesson Goals:\n",
    "- Understand comparison operators\n",
    "- Distinguish between = (variable assignment) and == (equality comparison)\n",
    "- Understand membership operators & comparisons between text\n",
    "- Construct conditional statements with if, nested ifs, if-else and if-elif-else\n",
    "- Use try-except for error handling\n",
    "\n",
    "**Key Concepts:** if, elif, else, try, except, comparison operators, booleans, ==, in/not in, is/is not, nested ifs\n",
    "\n",
    "---\n",
    "# Comparison Operators\n",
    "\n",
    ">**Comparison operators** evaluate values without changing them.\n",
    "\n",
    "Statements with comparisons will return a **boolean value**, that is, a True or False value.\n",
    "\n",
    "Python's comparison operators are:\n",
    "\n",
    "| Operator | Meaning|\n",
    "| --- | ---|\n",
    "|**\\>** |greater than|\n",
    "|**\\>=**| greater than or equal to|\n",
    "|**==**| equal to **(!!)**|\n",
    "|**<** |less than|\n",
    "|**<=** |less than or equal to|\n",
    "|**!=** |not equal to|"
   ]
  },
  {
   "cell_type": "code",
   "execution_count": null,
   "metadata": {},
   "outputs": [],
   "source": [
    "1 < 2"
   ]
  },
  {
   "cell_type": "code",
   "execution_count": null,
   "metadata": {},
   "outputs": [],
   "source": [
    "1 > 2"
   ]
  },
  {
   "cell_type": "markdown",
   "metadata": {},
   "source": [
    "**!! Remember !!**\n",
    "\n",
    "A single equals sign assigns values to a variable.\n",
    "\n",
    "A double equals sign checks whether two items are equal.\n",
    "\n",
    "So here, we assign 1 to x:"
   ]
  },
  {
   "cell_type": "code",
   "execution_count": null,
   "metadata": {},
   "outputs": [],
   "source": [
    "x = 1"
   ]
  },
  {
   "cell_type": "markdown",
   "metadata": {},
   "source": [
    "And below, we are checking whether x is equal to two (as per the line above, it is not)."
   ]
  },
  {
   "cell_type": "code",
   "execution_count": null,
   "metadata": {},
   "outputs": [],
   "source": [
    "x == 2"
   ]
  },
  {
   "cell_type": "markdown",
   "metadata": {},
   "source": [
    "**Exercise 1:** Define a variable named 'artist', with the text value 'Frida Kahlo'. Then create a conditional statement that checks whether the length of the string is greater than or equal to 10."
   ]
  },
  {
   "cell_type": "code",
   "execution_count": null,
   "metadata": {},
   "outputs": [],
   "source": []
  },
  {
   "cell_type": "code",
   "execution_count": null,
   "metadata": {},
   "outputs": [],
   "source": [
    "solution(Q1)"
   ]
  },
  {
   "cell_type": "markdown",
   "metadata": {},
   "source": [
    "---\n",
    "# Strings and Comparisons\n",
    "\n",
    "Comparison operators also work with text data (strings), because strings are sequences of characters. \n",
    "\n",
    "**==** and **!=** return True and False respectively if two strings match exactly. \n",
    "\n",
    "The other operators will compare the strings based on character order, in other words, alphabetization. This order depends on the character table that is in use on your machine while executing the Python code and will be case sensitive unless you specify the string method upper() or lower(). Some character tables place all lowercase characters before uppercase ones, meaning that, for example, z would be classified as smaller than A, whereas others place them in alphabetical order (aAbBcC), meaning that A would be smaller than z."
   ]
  },
  {
   "cell_type": "code",
   "execution_count": null,
   "metadata": {},
   "outputs": [],
   "source": [
    "artist > 'Diego Rivera'"
   ]
  },
  {
   "cell_type": "code",
   "execution_count": null,
   "metadata": {},
   "outputs": [],
   "source": [
    "artist > 'Pablo Picasso'"
   ]
  },
  {
   "cell_type": "code",
   "execution_count": null,
   "metadata": {},
   "outputs": [],
   "source": [
    "question(Q2)"
   ]
  },
  {
   "cell_type": "markdown",
   "metadata": {},
   "source": [
    "---\n",
    "## Boolean Operators\n",
    "\n",
    "Simple statements including comparisons can be combined to create complex conditions.\n",
    "\n",
    "**Boolean operators** allow us to evaluate more than one comparison simultaneously or modify a comparison. \n",
    "\n",
    "These include:\n",
    "\n",
    "|Operator| For True value:|\n",
    "| --- | ---|\n",
    "|**and** |Two conditions must be simultaneously true|\n",
    "|**or** |One or another condition must be true|\n",
    "|**not** |Negate a condition|"
   ]
  },
  {
   "cell_type": "code",
   "execution_count": null,
   "metadata": {},
   "outputs": [],
   "source": [
    "x=1\n",
    "x == 1 and x>2"
   ]
  },
  {
   "cell_type": "code",
   "execution_count": null,
   "metadata": {},
   "outputs": [],
   "source": [
    "x == 1 or x >2"
   ]
  },
  {
   "cell_type": "markdown",
   "metadata": {},
   "source": [
    "**Exercise 3** With our previous variable artist, create a conditional statement that tests whether the length of the string is greater than or equal to 10 and whether Frida comes after Diego Rivera in the alphabet."
   ]
  },
  {
   "cell_type": "code",
   "execution_count": null,
   "metadata": {},
   "outputs": [],
   "source": []
  },
  {
   "cell_type": "code",
   "execution_count": null,
   "metadata": {},
   "outputs": [],
   "source": [
    "solution(Q3)"
   ]
  },
  {
   "cell_type": "markdown",
   "metadata": {},
   "source": [
    "---\n",
    "# Identity and Membership Operators\n",
    "\n",
    ">**Identity operators** check whether two variables point to the same object. \n",
    "\n",
    "**is & is not**: Check whether a variable has a certain quality, returns True/False respectively.\n",
    "\n",
    ">**Membership operators** test whether an item is in a sequence, such as a list or other compound data structure. \n",
    "\n",
    "**in/not in**: Check whether a value exists in a sequence (or not), giving True/False respectively.\n",
    "\n",
    "This can be used to test whether an item is in a list, or a substring is in a string.\n",
    "\n",
    "**Exercise:** Check whether the word Frida is in our artist name."
   ]
  },
  {
   "cell_type": "code",
   "execution_count": null,
   "metadata": {},
   "outputs": [],
   "source": []
  },
  {
   "cell_type": "code",
   "execution_count": null,
   "metadata": {},
   "outputs": [],
   "source": [
    "solution(Q4)"
   ]
  },
  {
   "cell_type": "markdown",
   "metadata": {},
   "source": [
    "---\n",
    "# The if statement\n",
    "\n",
    "The if statement is a line of code that asks Python to check a condition, and run a code block if the condition is true.\n",
    "\n",
    "```python\n",
    "if <condition>:\n",
    "    statement 1\n",
    "    statement 2\n",
    "```\n",
    "\n",
    "It is formed by the reserved word **if** followed by our condition and a colon. Indented, new lines form part of the code block that will only run if the condition is true. If the conditions is false, they will be skipped.\n",
    "\n",
    "<img src=\"Other_files/if.jpeg\" width=\"200\" >"
   ]
  },
  {
   "cell_type": "code",
   "execution_count": null,
   "metadata": {},
   "outputs": [],
   "source": [
    "# This condition is True, and should thus output the text\n",
    "x = 1\n",
    "\n",
    "if x < 2:  #Conditional statement that is True\n",
    "    print('x is smaller than 2') #Indented block indicating action"
   ]
  },
  {
   "cell_type": "code",
   "execution_count": null,
   "metadata": {},
   "outputs": [],
   "source": [
    "# This condition is False, and should not output anything.\n",
    "x = 1\n",
    "\n",
    "if x<0: # Conditional statement that is False\n",
    "    print('x is smaller than 0') #Indented block indicating action"
   ]
  },
  {
   "cell_type": "markdown",
   "metadata": {},
   "source": [
    "**Exercise:** Use an 'if' statement to print the artist name and the string length if the length of the string is greater than or equal to 10.   Use concatenation within the print() str() and len() functions to format the output as 'Frida Kahlo: 11 letters'."
   ]
  },
  {
   "cell_type": "code",
   "execution_count": null,
   "metadata": {},
   "outputs": [],
   "source": []
  },
  {
   "cell_type": "code",
   "execution_count": null,
   "metadata": {},
   "outputs": [],
   "source": [
    "solution(Q5)"
   ]
  },
  {
   "cell_type": "markdown",
   "metadata": {},
   "source": [
    "This type of if statement construction will get code to run only if a certain condition is met. But how do we ask the program to do one thing if a condition is True, and another if it is False?\n",
    "\n",
    "---\n",
    "# Either/or: If-else\n",
    "\n",
    "**else** is another reserved word that allows us to construct an alternative to an if statement. Following an if block, an else block provides the action to perform if the condition was not fulfilled.\n",
    "\n",
    "```python\n",
    "if condition :\n",
    "    code to run when condition is True\n",
    "else : \n",
    "    code to run when condition is False\n",
    "```\n",
    "\n",
    "Starting at the same indentation level as the if statement (that is, de-indenting from the code block), else is followed by a semicolon and a new indented block with code.\n",
    "\n",
    "<img src=\"Other_files/ifelse.jpeg\" width=\"200\" >\n",
    "\n",
    "The else statement is optional. When omitted, a False condition will yield no output, just skip over the conditional code, as we saw before."
   ]
  },
  {
   "cell_type": "code",
   "execution_count": null,
   "metadata": {},
   "outputs": [],
   "source": [
    "x = 1\n",
    "\n",
    "if x < 0:\n",
    "    print('x is less than 0')\n",
    "else:\n",
    "    print('x is greater than 0')"
   ]
  },
  {
   "cell_type": "code",
   "execution_count": null,
   "metadata": {},
   "outputs": [],
   "source": [
    "question(Q6)"
   ]
  },
  {
   "cell_type": "markdown",
   "metadata": {},
   "source": [
    "## Multi-way branching: If-elif-else:\n",
    "\n",
    "**elif** is another reserved word in Python that allows us to add multiple branches to an if statement. \n",
    "\n",
    "It can be added after an if and before an (optional) else clause.\n",
    "\n",
    "```python\n",
    "if condition1 :\n",
    "    code to run when condition1 is True\n",
    "elif condition2 :\n",
    "    code to run when condition1 is False \n",
    "    and condition2 is True\n",
    "else:\n",
    "    code to run when condition1 \n",
    "    and condition2 are False\n",
    "```\n",
    "\n",
    "<img src=\"Other_files/ifelifelse.jpeg\" width=\"300\" >\n",
    "\n",
    "In this example, we include one elif clause, but we can use multiple elif statements."
   ]
  },
  {
   "cell_type": "code",
   "execution_count": null,
   "metadata": {},
   "outputs": [],
   "source": [
    "x = 1"
   ]
  },
  {
   "cell_type": "code",
   "execution_count": null,
   "metadata": {},
   "outputs": [],
   "source": [
    "x = 1\n",
    "\n",
    "if x < 0:\n",
    "    print('x is less than 0')\n",
    "elif x<5:\n",
    "    print('x is less than 5')\n",
    "else:\n",
    "    print('x is greater than 5')"
   ]
  },
  {
   "cell_type": "markdown",
   "metadata": {},
   "source": [
    "When using elif, **the order of conditions matters.**\n",
    "\n",
    "If condition 1 is evaluated as True, condition 2 will not be checked. \n",
    "\n",
    "This could lead to unexpected program choices if your if statements have not been designed carefully. \n",
    "\n",
    "For instance, in the code below, the elif statement will never be tested. Whatever the value of x, we will never get the message \"x is less than 0\"."
   ]
  },
  {
   "cell_type": "code",
   "execution_count": null,
   "metadata": {},
   "outputs": [],
   "source": [
    "if x<5:\n",
    "    print(\"x is less than 5\")\n",
    "elif x<0:\n",
    "    print(\"x is less than 0\")\n",
    "else:\n",
    "    print(\"x is greater than 5\")"
   ]
  },
  {
   "cell_type": "markdown",
   "metadata": {},
   "source": [
    "**Exercise:** Fix the code above so that it will check the conditions in the right order (without giving misleading results). Add another clause that also checks whether x is less than 10, placing it in the proper order."
   ]
  },
  {
   "cell_type": "code",
   "execution_count": null,
   "metadata": {},
   "outputs": [],
   "source": []
  },
  {
   "cell_type": "code",
   "execution_count": null,
   "metadata": {},
   "outputs": [],
   "source": [
    "solution(Q7)"
   ]
  },
  {
   "cell_type": "code",
   "execution_count": null,
   "metadata": {},
   "outputs": [],
   "source": [
    "question(Q8)"
   ]
  },
  {
   "cell_type": "markdown",
   "metadata": {},
   "source": [
    "---\n",
    "# If-And: Nested ifs\n",
    "\n",
    "In lesson 02, we saw that code blocks can be **nested** by increasing indentation. This means that one code block will run within another.\n",
    "\n",
    "Nesting if statements will result in two conditions that need to be satisfied for the innermost code to run. \n",
    "\n",
    "For instance:\n",
    "\n",
    "```python\n",
    "if <condition1>:\n",
    "    <statement A>\n",
    "    if <condition 2>\n",
    "        <statement B>\n",
    "```\n",
    "\n",
    "<img src=\"Other_files/nestedif.jpeg\" width=\"300\" >"
   ]
  },
  {
   "cell_type": "code",
   "execution_count": null,
   "metadata": {},
   "outputs": [],
   "source": [
    "x=-1\n",
    "\n",
    "if x<5:\n",
    "    print(\"x is less than 5\")\n",
    "    if x<0:\n",
    "        print(\"x is also less than 0\")\n",
    "else:\n",
    "    print(\"x is more than 5\")"
   ]
  },
  {
   "cell_type": "markdown",
   "metadata": {},
   "source": [
    "So in our example above, using a nested if to check for the second condition allows us to evaluate both. You can play with the value of x to see how the results change. "
   ]
  },
  {
   "cell_type": "code",
   "execution_count": null,
   "metadata": {},
   "outputs": [],
   "source": [
    "question(Q9)"
   ]
  },
  {
   "cell_type": "markdown",
   "metadata": {},
   "source": [
    "In short, if, elif and else and nested ifs can be used and combined to create complex conditional structures within which programs make decisions. Their use requires careful thought about potential outputs.\n",
    "\n",
    "---\n",
    "# Try-Except: Handling foreseeable errors\n",
    "\n",
    "Try-except is a different conditional construction that allows us to handle potential errors. As soon as your program runs into a traceback, or error, it will normally stop running. Using try and except allows you to continue running the program in spite of these errors.\n",
    "\n",
    "```python\n",
    "try:\n",
    "    code to try\n",
    "except:\n",
    "    code to execute if try fails\n",
    "```\n",
    "\n",
    "Code included in the **try** statement will run if there are no errors\n",
    "\n",
    "Code included in **except** will run if an error arises with the code in the try statement.\n",
    "\n",
    "You can include multiple lines within try, but be aware that as soon as an exception arises, the program will move to except. This means that if there were lines in your block that had not yet been executed, they will not be executed.\n",
    "\n",
    "For instance, the code below runs through a list of musicians and bands with numbers in their names.  It uses the string method string.split() to divide each name into tokens (single words) based on the space character (by default). There is actually an integer type in the list, to which we cannot apply a string method, and will give us an error. "
   ]
  },
  {
   "cell_type": "code",
   "execution_count": null,
   "metadata": {},
   "outputs": [],
   "source": [
    "artists = ['50 cent','4 Non Blondes', 'The 1975',702,'3 Doors DOwn']\n",
    "\n",
    "tokens=[]\n",
    "for artist in artists:\n",
    "    tokens.append(artist.split())"
   ]
  },
  {
   "cell_type": "markdown",
   "metadata": {},
   "source": [
    "Using try-except, we can let the code run despite there being the integer, and suggest an alternative action instead of creating an exception. For instance, we can convert the integer to a string:"
   ]
  },
  {
   "cell_type": "code",
   "execution_count": null,
   "metadata": {},
   "outputs": [],
   "source": [
    "artists = ['50 cent','4 Non Blondes', 'The 1975',702,'3 Doors Down']\n",
    "\n",
    "wordlist=[]\n",
    "for artist in artists:\n",
    "    try:\n",
    "        wordlist.append(artist.split())\n",
    "    except:\n",
    "        wordlist.append(str(artist).split())"
   ]
  },
  {
   "cell_type": "code",
   "execution_count": null,
   "metadata": {},
   "outputs": [],
   "source": [
    "wordlist"
   ]
  },
  {
   "cell_type": "markdown",
   "metadata": {},
   "source": [
    "**Exercise** The code below iterates through the items in 'wordlist', trying to convert each token (word) into an integer and adding them to an empty list called 'bandnumbers'. \n",
    "\n",
    "This will raise an exception for any tokens that are not numerical. \n",
    "\n",
    "Use try-except to avoid causing a traceback. You can use the argument 'pass' in the except clause to skip non-numerical words."
   ]
  },
  {
   "cell_type": "code",
   "execution_count": null,
   "metadata": {},
   "outputs": [],
   "source": [
    "bandnumbers = []\n",
    "for words in wordlist:\n",
    "    for token in words:\n",
    "            bandnumbers.append(int(token))"
   ]
  },
  {
   "cell_type": "code",
   "execution_count": null,
   "metadata": {},
   "outputs": [],
   "source": [
    "bandnumbers"
   ]
  },
  {
   "cell_type": "code",
   "execution_count": null,
   "metadata": {},
   "outputs": [],
   "source": [
    "solution(Q10)"
   ]
  },
  {
   "cell_type": "markdown",
   "metadata": {},
   "source": [
    "---\n",
    "# Lesson Summary\n",
    "\n",
    "- Comparison operators evaluate statements that juxtapose two variables or values by giving a True or False value\n",
    "- == (double equals sign) is the operator for testing for equality, because = (single equals sign) is already used for assigning variables\n",
    "- Strings are compared by alphabetical order, based on your computer's character set. \n",
    "- Membership operators in-not in and is-is not test whether a value is in a set.\n",
    "- The if statement creates a code that is run conditionally if a comparison returns True\n",
    "- The else statement provides an alternative, if the comparison returns False\n",
    "- Elif and nesting ifs allow us to insert additional conditions, replicating OR or AND statements.\n",
    "\n",
    "<div style=\"text-align:center\">    \n",
    "  <a href=\"03%20Basic%20Data%20Types%20II%20-%20Strings.ipynb\">Previous Lesson: Basic Data Types II. Strings</a>|\n",
    "   <a href=\"05%20Loops.ipynb\">Next Lesson: Loops</a>\n",
    "</div>\n",
    "\n",
    "---\n",
    "# Further Resources\n",
    "\n",
    "[Python 4 Everybody - Conditional Execution](https://www.py4e.com/lessons/logic)"
   ]
  },
  {
   "cell_type": "code",
   "execution_count": null,
   "metadata": {},
   "outputs": [],
   "source": []
  }
 ],
 "metadata": {
  "kernelspec": {
   "display_name": "Python 3",
   "language": "python",
   "name": "python3"
  },
  "language_info": {
   "codemirror_mode": {
    "name": "ipython",
    "version": 3
   },
   "file_extension": ".py",
   "mimetype": "text/x-python",
   "name": "python",
   "nbconvert_exporter": "python",
   "pygments_lexer": "ipython3",
   "version": "3.7.6"
  }
 },
 "nbformat": 4,
 "nbformat_minor": 4
}
