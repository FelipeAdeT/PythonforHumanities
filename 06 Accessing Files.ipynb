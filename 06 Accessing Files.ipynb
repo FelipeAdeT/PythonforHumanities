{
 "cells": [
  {
   "cell_type": "markdown",
   "metadata": {},
   "source": [
    "# Lesson 06: Accessing Resources: Handling Files in Python\n",
    "\n",
    "The goal of this resource is to quickly set you up to use Python in your own projects.\n",
    "\n",
    "When working on a project in Python, you will need to access external resources. You might want to access **files** to import existing data stored on our computer, or export the output of our coding into a permanent file."
   ]
  },
  {
   "cell_type": "code",
   "execution_count": null,
   "metadata": {},
   "outputs": [],
   "source": [
    "#Run this cell to import lesson questions\n",
    "from QuestionsFiles import Q1, Q2, Q3, question, solution"
   ]
  },
  {
   "cell_type": "markdown",
   "metadata": {},
   "source": [
    "---\n",
    "## Lesson Objectives\n",
    "- Access files within Python\n",
    "- Manipulate files within Python\n",
    "- Open .csv files with Pandas\n",
    "- Write output to file\n",
    "\n",
    "\n",
    "**Key Concepts:** open(), read(), write(), pandas.read_csv(), file handle\n",
    "\n",
    "---\n",
    "# Accessing Files\n",
    "\n",
    "Python provides several ways of accessing files natively or through modules. \n",
    "\n",
    "There are several ways to open a file which will vary in the way they use memory and the way code is structured. \n",
    "\n",
    "For now, it is good to recognize the different options for when you encounter them in code.\n",
    "\n",
    "We will look at the **open** and **read** functions and using **Pandas** to handle .csv files (spreadsheets).\n",
    "\n",
    "# Opening text files with the open() function\n",
    "\n",
    "Python's **open()** function uses a filepath to create a \"file handle\", a point of access to a file.\n",
    "\n",
    "It does nothing else-- not even read it. It creates a variable that you can later use to read the file. \n",
    "\n",
    "```python\n",
    "myfile= open('filename.txt', 'mode')\n",
    "```\n",
    "\n",
    "As with any variable, you can choose which name to assign (here, 'myfile').\n",
    "\n",
    "You must give a string with the filename and filetype, ex. 'data.txt'. If the file is in another directory, you have to specify a filepath.\n",
    "\n",
    "And you can optionally give a mode for opening the file. 'r' will read an existing file. 'w' allows you to write it (create a new file if one with that name does not exist, or write onto an existing file). 'a' allows you to append data to an existing file as new lines. You can also dictate whether a the file is not text but binary format by following the mode with the letter 'b'. \n",
    "\n",
    "Let's open a file:"
   ]
  },
  {
   "cell_type": "code",
   "execution_count": null,
   "metadata": {},
   "outputs": [],
   "source": [
    "theRaven = open('Other_files/TheRaven.txt', mode='r')"
   ]
  },
  {
   "cell_type": "markdown",
   "metadata": {},
   "source": [
    "As can be seen, this line does not output any visible code. Instead, it has created an object called 'theRaven' that points to the file.\n",
    "\n",
    "This becomes clear if we use print()."
   ]
  },
  {
   "cell_type": "code",
   "execution_count": null,
   "metadata": {},
   "outputs": [],
   "source": [
    "print(theRaven)"
   ]
  },
  {
   "cell_type": "markdown",
   "metadata": {},
   "source": [
    "What we are seeing is some information on our file handle, the object that points to our file. \n",
    "\n",
    "The file handle is a type of object with several methods, including those that help us access the data.\n",
    "\n",
    "**read()** and **write()** are methods of file objects used for reading from and writing to files. \n",
    "\n",
    "**read()** can be used in several ways to access a file."
   ]
  },
  {
   "cell_type": "markdown",
   "metadata": {},
   "source": [
    "# Reading files with the read() method\n",
    "\n",
    "One option is to create a file handle and then use the read statement: \n",
    "\n",
    "```python\n",
    "myfile= open('filename or path', 'mode')\n",
    "data= myfile.read()\n",
    "```\n",
    "\n",
    "We use open to create a file handle, and then use the read() method, assigned to the variable 'data'. \n",
    "\n",
    "read() is a method of the open() function.\n",
    "\n",
    "This option will bring in the whole file as a block of text, and you will later have to find ways to subdivide the file. \n",
    "\n",
    "Let's try it:"
   ]
  },
  {
   "cell_type": "code",
   "execution_count": null,
   "metadata": {},
   "outputs": [],
   "source": [
    "theRaven = open('Other_files/TheRaven.txt','r')\n",
    "Raventext = theRaven.read()"
   ]
  },
  {
   "cell_type": "markdown",
   "metadata": {},
   "source": [
    "As you can see, this also has not printed the content of the file. Instead, we have created an object that reads the content of the file. We can now print it:"
   ]
  },
  {
   "cell_type": "code",
   "execution_count": null,
   "metadata": {},
   "outputs": [],
   "source": [
    "print(Raventext)"
   ]
  },
  {
   "cell_type": "markdown",
   "metadata": {},
   "source": [
    "**Exercise** We have prepared a file called TheWalrusandtheCarpenter.txt in our Other_files folder. Create a file handle with the name \"walrus\" and use it to print the contents of the file."
   ]
  },
  {
   "cell_type": "code",
   "execution_count": null,
   "metadata": {},
   "outputs": [],
   "source": []
  },
  {
   "cell_type": "code",
   "execution_count": null,
   "metadata": {},
   "outputs": [],
   "source": [
    "solution(Q1)"
   ]
  },
  {
   "cell_type": "markdown",
   "metadata": {},
   "source": [
    "## Missing or Misspelled Filenames\n",
    "\n",
    "Open() accepts filenames or filepaths.\n",
    "\n",
    "Python will look for a filename in its current working directory. \n",
    "\n",
    "Alternatively, you can specify an absolute file path to help Python find your file.\n",
    "\n",
    "If you get an error, you can import this module and use this command to check the current working directory:\n",
    "\n",
    "`import os\n",
    "os.getcwd()`\n",
    "\n",
    "This can give you an indication as to whether Python is looking in the right folder for your file."
   ]
  },
  {
   "cell_type": "markdown",
   "metadata": {},
   "source": [
    "# The File close() Method\n",
    "\n",
    "Files you open will eventually close on their own, but there are several reasons you should close your files when you are done with them:\n",
    "\n",
    "1. To improve performance by minimizing the spaced used in the computer's RAM\n",
    "1. To make sure all changes go into effect\n",
    "1. To ensure they can be used by other programs and scripts\n",
    "1. To avoid any accidental changes\n",
    "\n",
    ">Source: https://stackoverflow.com/questions/25070854/why-should-i-close-files-in-python\n",
    "\n",
    "It is good practice to use the filehandle.close() method to close your file when you are done with it.\n",
    "\n",
    "In our case, this would be:"
   ]
  },
  {
   "cell_type": "code",
   "execution_count": null,
   "metadata": {},
   "outputs": [],
   "source": [
    "theRaven.close()"
   ]
  },
  {
   "cell_type": "markdown",
   "metadata": {},
   "source": [
    "Now, when we call the object again, we will get an error. We can no longer act upon it:"
   ]
  },
  {
   "cell_type": "code",
   "execution_count": null,
   "metadata": {},
   "outputs": [],
   "source": [
    "theRaven.read()"
   ]
  },
  {
   "cell_type": "markdown",
   "metadata": {},
   "source": [
    "# Variations on the open() method: 'with'\n",
    "\n",
    "To ensure that we don't forget to close a file, a common way of opening a file is to use a 'with' statement:\n",
    "\n",
    "```python\n",
    "with open('file path', 'a') as myfile:\n",
    "   data = myfile.read()\n",
    "```\n",
    "\n",
    "Here you should recognize the same elements as before: the open statement, with a file path or name and a mode (read or write), and a name for our file handle. \n",
    "\n",
    "```python\n",
    "with open('file path', 'a') as myfile:\n",
    "   data = myfile.read()\n",
    "```\n",
    "\n",
    "The difference is that with 'with', we are opening a code block. Anything you want to do to the data will have to remain in the indented block that follows. Once we exit the code block, we will also stop accessing the file.\n",
    "\n",
    "In our case, we might open our file like this:"
   ]
  },
  {
   "cell_type": "code",
   "execution_count": null,
   "metadata": {},
   "outputs": [],
   "source": [
    "with open('Other_files/TheRaven.txt','r') as theRaven:\n",
    "    Raventext = theRaven.read()\n",
    "    print(Raventext)"
   ]
  },
  {
   "cell_type": "markdown",
   "metadata": {},
   "source": [
    "This is equivalent to the code using **open()**, **read()**, **print()** and **close()** as discussed before but within the same code block. \n",
    "\n",
    "Note that as soon as you leave the indented block, you cannot do anything to the file.\n",
    "\n",
    "# Variations on the open() method: 'for line in file'\n",
    "\n",
    "The options above loaded the file as a block of text. To continue working with it as data, you would have to use functions and methods to split it or manipulate it in different ways. \n",
    "\n",
    "Another option is to create a file handle and then do something to the data, line by line.\n",
    "\n",
    "```python\n",
    "myfile= open('filename', 'mode')\n",
    "for line in myfile:\n",
    "    print(line)\n",
    "```\n",
    "    \n",
    "This can be combined with loops and conditionals to select and manipulate specific lines from the file.\n",
    "\n",
    "```python\n",
    "myfile= open('filename', 'mode')\n",
    "for line in myfile:\n",
    "    if line.startswith('This'): # find lines that start with \"This\"\n",
    "        print(line)\n",
    "```\n",
    "\n",
    "In our example, we might want to open the file in question and print only the lines that mention the raven:"
   ]
  },
  {
   "cell_type": "code",
   "execution_count": null,
   "metadata": {},
   "outputs": [],
   "source": [
    "theRaven=open('Other_files/TheRaven.txt','r')\n",
    "\n",
    "for line in theRaven:\n",
    "    if ' raven' in line:\n",
    "        print(line)"
   ]
  },
  {
   "cell_type": "markdown",
   "metadata": {},
   "source": [
    "We could conceive of more sophisticated ways of using the 'for line' statement. For instance, we could count the number of lines in the poem:"
   ]
  },
  {
   "cell_type": "code",
   "execution_count": null,
   "metadata": {},
   "outputs": [],
   "source": [
    "count = 0\n",
    "\n",
    "theRaven=open('Other_files/TheRaven.txt','r')\n",
    "\n",
    "for line in theRaven:\n",
    "    count=count+1\n",
    "print(count)"
   ]
  },
  {
   "cell_type": "markdown",
   "metadata": {},
   "source": [
    "**Exercise:** Use the for line in file syntax to print the Walrus and the Carpenter poem line by line:"
   ]
  },
  {
   "cell_type": "code",
   "execution_count": null,
   "metadata": {},
   "outputs": [],
   "source": []
  },
  {
   "cell_type": "code",
   "execution_count": null,
   "metadata": {},
   "outputs": [],
   "source": [
    "solution(Q2)"
   ]
  },
  {
   "cell_type": "markdown",
   "metadata": {},
   "source": [
    "# Writing output to file\n",
    "\n",
    "Just as you can use read() to read files, you can also export your output to a file with the **write()** method.\n",
    "\n",
    "Like read(), write() is a method of a file object. Thus, you can use open() with write() similarly to the ways described above to save data to a file. \n",
    "\n",
    "Write() takes strings and writes them into a file opened under write mode. This file can exist already, or you can create it; if a filename doesn't exist, it will be created in the current directory.\n",
    "\n",
    "Let's create a file for the number of lines in The Raven and export that value out to it:"
   ]
  },
  {
   "cell_type": "code",
   "execution_count": null,
   "metadata": {},
   "outputs": [],
   "source": [
    "with open('Other_files/Ravencount.txt','w') as file:\n",
    "    file.write(str(count))"
   ]
  },
  {
   "cell_type": "code",
   "execution_count": null,
   "metadata": {},
   "outputs": [],
   "source": [
    "question(Q3)"
   ]
  },
  {
   "cell_type": "markdown",
   "metadata": {},
   "source": [
    "---\n",
    "# Opening Spreadsheets with Pandas\n",
    "\n",
    "Oftentimes, we don't have a text file, organized into lines, but a spreadsheet with tabular data arranged into rows and columns. Common files are .csv or Excel files. \n",
    "\n",
    "**Pandas** is a module for data manipulation and analysis that provides a powerful solution for working with spreadsheet data.\n",
    "\n",
    ">A **Dataframe** is a data structure for storing tabular data in rows and columns.\n",
    "\n",
    "Pandas provides powerful methods for the manipulation, analysis and plotting of such data, and is worth getting to know from the beginning. We will introduce Pandas and dataframes here, and later give a more in-depth lesson.\n",
    "\n",
    "# Pandas.read_csv()\n",
    "\n",
    "The pandas.read_csv() method is similar to the file.read() method, but this is a method of pandas specifically designed for csv files. \n",
    "\n",
    "```python\n",
    "import pandas as pd\n",
    "\n",
    "data = pd.read_csv(\"filepath or name\")\n",
    "```\n",
    "\n",
    "1. We import the pandas module, giving it the convenient and conventional alias 'pd'\n",
    "\n",
    "2. We assign the variable \"data\" to the object we are creating for our file. We use the pandas.read_csv() method.\n",
    "\n",
    "The read_csv method requires a filepath or filename with its extension.\n",
    "\n",
    "There are many other options, including specifying rules for reading the header, specifying the encoding, etc., which are described in the pandas [documentation](https://pandas.pydata.org/pandas-docs/stable/reference/api/pandas.read_csv.html).\n",
    "\n",
    "Pandas will create a **Dataframe** for your spreadsheet, an object that allows you to display your data in rows and columns.\n",
    "\n",
    "DataFrames can be operated on. You can extract information, as well as append new data and perform queries.\n",
    "\n",
    "Let's open a CSV file with Pandas, and do some basic manipulation."
   ]
  },
  {
   "cell_type": "code",
   "execution_count": null,
   "metadata": {},
   "outputs": [],
   "source": [
    "import pandas as pd\n",
    "NGAData = pd.read_csv(\"Other_files/NGAData/constituents.csv\")"
   ]
  },
  {
   "cell_type": "markdown",
   "metadata": {},
   "source": [
    "As we can see, we have created a variable for our data. This is a table of artworks from the National Gallery, with attributes that describe the pieces (including an ID for the object, the title, dates related to its creation, among other variables).\n",
    "\n",
    "Let's call it to see what we have. The .head() method of DataFrames allows us to see the first rows of the DataFrame."
   ]
  },
  {
   "cell_type": "code",
   "execution_count": null,
   "metadata": {},
   "outputs": [],
   "source": [
    "NGAData.head()"
   ]
  },
  {
   "cell_type": "markdown",
   "metadata": {},
   "source": [
    "As seen above, pandas organizes the information into an object structured into rows and columns. \n",
    "\n",
    "In lesson 10, we present how to manipulate and work with DataFrames."
   ]
  },
  {
   "cell_type": "markdown",
   "metadata": {},
   "source": [
    "---\n",
    "# Lesson Summary\n",
    "\n",
    "- The open() command creates a file handle, an object that serves as an access point to a file\n",
    "- read() and write() can be used on the file handle to extract or add information to a file.\n",
    "- The ```python with open() as file:```syntax helps ensure you close a file after finishing with it\n",
    "- ```for line in file:```acts on lines in a file individually\n",
    "- read() can be used in several ways\n",
    "- CSVs are easily accessed with the Pandas module's pandas.read_csv() function. \n",
    "\n",
    "---\n",
    "# Further Resources\n",
    "\n",
    "[Python 4 Everybody - Files Lesson (video)](https://www.py4e.com/lessons/files)\n"
   ]
  }
 ],
 "metadata": {
  "kernelspec": {
   "display_name": "Python 3",
   "language": "python",
   "name": "python3"
  },
  "language_info": {
   "codemirror_mode": {
    "name": "ipython",
    "version": 3
   },
   "file_extension": ".py",
   "mimetype": "text/x-python",
   "name": "python",
   "nbconvert_exporter": "python",
   "pygments_lexer": "ipython3",
   "version": "3.7.6"
  }
 },
 "nbformat": 4,
 "nbformat_minor": 4
}
