{
 "cells": [
  {
   "cell_type": "markdown",
   "metadata": {},
   "source": [
    "### Navigation\n",
    "\n",
    "- **Grey cells** are **code cells**. Click inside them and type to edit.\n",
    "- **Run**  code cells by pressing $ \\triangleright $  above, or press ``` shift + enter```.\n",
    "-  **Stop** a running process by clicking $\\Box$ above.\n",
    "- You can **add new cells** by clicking to the left of a cell and pressing ```A``` (for above), or```B``` (for below). \n",
    "- **Delete cells** by pressing```X```.\n",
    "- Run all code cells that import objects (such as the one below) to ensure that you can follow exercises and examples.\n",
    "- Feel free to edit and experiment - you will not corrupt the original files."
   ]
  },
  {
   "cell_type": "markdown",
   "metadata": {},
   "source": [
    "# Lesson 07: Functions\n",
    "\n",
    "Previously, we learned a few powerful constructions that allow us to create code that solves problems for us. We have learned about comparison and membership operators, the conditional statements of if, elif and else, and how to construct while and for loops.\n",
    "\n",
    "In this lesson, we will learn to **write functions**, helping us store some of the code we create by name. That way, we can call it throughout a session without rewriting it, thus making code shorter and more legible, make our writing more efficient and reduce the potential for errors. "
   ]
  },
  {
   "cell_type": "code",
   "execution_count": null,
   "metadata": {},
   "outputs": [],
   "source": [
    "from QuestionsFunctions import Q1,Q2,Q3,Q4, question, solution"
   ]
  },
  {
   "cell_type": "markdown",
   "metadata": {},
   "source": [
    "---\n",
    "## Lesson Goals:\n",
    "- Understand functions and methods\n",
    "- Define a function with parameters\n",
    "- Understand the return statement\n",
    "- Call a function with arguments\n",
    "\n",
    "**Keywords:** function, method, def function(), argument, parameter, return, call\n",
    "\n",
    "---\n",
    "# Functions\n",
    "\n",
    "We learned about functions at the beginning of our course.\n",
    "\n",
    ">**Functions** are blocks of code for performing an action that have been given a name.\n",
    "\n",
    "Several predefined functions are available on the main Python module, and modules usually supply additional functions of their own. We have been using some of these functions, such as print(), for a while now. But we can also create (define) our own functions. In this lesson, we will learn how to define and call our own functions.\n",
    "\n",
    "# Methods\n",
    "\n",
    "You will also recall that object classes come with associated functions of their own.\n",
    "\n",
    ">Functions belonging to an object are called **methods**.\n",
    "\n",
    "They are called by giving the object name, followed by a period and the method name:\n",
    "```python\n",
    "object.method()\n",
    "```\n",
    "\n",
    "We will not learn about defining object classes and their methods in this course, though you should know how to call existing methods in the manner illustrated above. We have done this several times in previous lessons, and explored some common methods for different data types.\n",
    "\n",
    "---\n",
    "# Why define functions?\n",
    "\n",
    "- Write faster\n",
    "\n",
    "- Prevent human error: code only has to be written (and corrected) once.\n",
    "\n",
    "- Maximize readability: minimize length & repetition\n",
    "\n",
    "- Organize code into clear, purposeful chunks\n",
    "\n",
    "\n",
    "# Defining functions\n",
    "\n",
    "We use the **def** keyword to define our own functions. **def** stores our function, but does not run it. Once stored, we can **call** the function as many times as we would like using the function name.\n",
    "\n",
    "We define the function by giving its name, the parameters it will depend on and then specifying the code in terms of these parameters.\n",
    "\n",
    "```python\n",
    "def function_name(parameter1, parameter2):\n",
    "    \"docstring\"\n",
    "    code depending on parameter1 and parameter2\n",
    "    #Can be multiple lines or nested blocks\n",
    "```\n",
    "\n",
    "The ```def``` statement accepts a **name** for the function, followed by **parentheses**, which can include optional **parameters** inside them. The values we give parameters when we call the function will modify the way the function behaves. \n",
    "\n",
    "The ```def``` statement ends in a **colon**, followed by the body of the function indented in a **code block**. The body can include as many statements or code blocks as necessary. All code within the function will be indented, and can consist of multiple statements. or nested blocks. Above, we define a function called  function_name that accepts parameter1 and parameter 2.\n",
    "\n",
    "The first line of code in a function is usually the **docstring**, a text value that specifies the purpose of the function. This is optional, but good practice, for recalling a function's purpose and sharing with others."
   ]
  },
  {
   "cell_type": "code",
   "execution_count": null,
   "metadata": {},
   "outputs": [],
   "source": [
    "# Here, we define a function that accepts two parameters.\n",
    "def call_me(your_name, my_name):\n",
    "    \"Returns a sentence with two names\"\n",
    "    return \"Call me \" + your_name +\" and I'll call you \" + my_name +\".\""
   ]
  },
  {
   "cell_type": "markdown",
   "metadata": {},
   "source": [
    "**Exercise 1** Store the code below as a function with the name 'liftoff' by using the define statement. Make count a parameter for the function and make sure to follow the correct syntax, including appropriate indentation."
   ]
  },
  {
   "cell_type": "code",
   "execution_count": null,
   "metadata": {},
   "outputs": [],
   "source": [
    "while count > 0:\n",
    "    print(str(count) +\"!\")\n",
    "    count = count - 1\n",
    "print(\"Lift off!\")"
   ]
  },
  {
   "cell_type": "code",
   "execution_count": null,
   "metadata": {},
   "outputs": [],
   "source": [
    "solution(Q1)"
   ]
  },
  {
   "cell_type": "markdown",
   "metadata": {},
   "source": [
    "Congratulations! You just created your first function. Once defined (stored), you can call it (use it). \n",
    "\n",
    "Below, you can play with your function by inserting different values for count: "
   ]
  },
  {
   "cell_type": "code",
   "execution_count": null,
   "metadata": {},
   "outputs": [],
   "source": [
    "liftoff(__)"
   ]
  },
  {
   "cell_type": "markdown",
   "metadata": {},
   "source": [
    "---\n",
    "# Calling a Function \n",
    "\n",
    "Defining a function only creates it. It does not run the code until you **call** it by its name, specifying the values of the parameters. When calling a function, parameter values are called **arguments**. \n",
    "\n",
    "## Arguments and Parameters\n",
    "\n",
    ">**Arguments** are values that the user of a function can include as input to modify the function's behavior. \n",
    "\n",
    ">**Parameters** are placeholder names for arguments in the function definition. They are included in parentheses after the function name.\n",
    "\n",
    "We will have to be conscientious about our code and the different inputs it might need, thinking carefully about which parameters to include.\n",
    "\n",
    "You call a function simply by giving its name and arguments in parentheses. \n",
    "\n",
    "A function might need no parameters if it only does one thing, independent of any external input. We then call it by giving its name followed by empty parentheses.\n",
    "\n",
    "You can also have more than one parameter, meaning that the function will accept more than one argument when called. They can be required or optional. \n",
    "\n",
    "Arguments can be specified **positionally**, that is, by directly giving a value in the order they were given as parameters in the definition.\n",
    "\n",
    "For instance:"
   ]
  },
  {
   "cell_type": "code",
   "execution_count": null,
   "metadata": {},
   "outputs": [],
   "source": [
    "# Here we call it, feeding it two arguments.\n",
    "call_me('Elio','Oliver')"
   ]
  },
  {
   "cell_type": "markdown",
   "metadata": {},
   "source": [
    "Or they can be specified by **keyword**, in which case order does not matter. In this case, you give the name of the parameter followed by an equals sign and its value."
   ]
  },
  {
   "cell_type": "code",
   "execution_count": null,
   "metadata": {},
   "outputs": [],
   "source": [
    "call_me(my_name='Oliver',your_name='Elio')"
   ]
  },
  {
   "cell_type": "markdown",
   "metadata": {},
   "source": [
    "Above, we wrote these values out in a different order, but by specifying the parameter name, Python was able to interpret them as we intended.\n",
    "\n",
    "If we want to include both positional and keyword arguments, we can include keywords after all positional arguments have been specified in the right order. \n",
    "\n",
    "With preexisting functions, you can look up their documentation online to find a list of all possible parameters. Some parameters might be optional."
   ]
  },
  {
   "cell_type": "markdown",
   "metadata": {},
   "source": [
    "**Exercise 2** When we have used string concatenation, we have run into the problem that spaces are not included automatically between strings. Check the [print() documentation](https://www.w3schools.com/python/ref_func_print.asp) to find a way to include spaces between strings.\n",
    "\n",
    "Instead of concatenating strings within print with +, find an alternative option to print the words 'Hello, I like to code' together."
   ]
  },
  {
   "cell_type": "code",
   "execution_count": null,
   "metadata": {},
   "outputs": [],
   "source": [
    "a= 'Hello,'\n",
    "b= 'I like to'\n",
    "c= 'code'.\n",
    "\n",
    "print()"
   ]
  },
  {
   "cell_type": "code",
   "execution_count": null,
   "metadata": {},
   "outputs": [],
   "source": [
    "question(Q2)"
   ]
  },
  {
   "cell_type": "markdown",
   "metadata": {},
   "source": [
    "**Note** that methods have a parameter called 'self', which just refers to the object the method belongs to, and does not have to be specified when calling the method with dot notation.\n",
    "\n",
    "For instance:"
   ]
  },
  {
   "cell_type": "code",
   "execution_count": null,
   "metadata": {},
   "outputs": [],
   "source": [
    "word= 'Humanities'"
   ]
  },
  {
   "cell_type": "markdown",
   "metadata": {},
   "source": [
    "String data types have a method called upper. We can call it generically, including the string in question as 'self within the parentheses:"
   ]
  },
  {
   "cell_type": "code",
   "execution_count": null,
   "metadata": {},
   "outputs": [],
   "source": [
    "str.upper(word)"
   ]
  },
  {
   "cell_type": "markdown",
   "metadata": {},
   "source": [
    "Or more simply, we call it on the string with dot notation, and don't have to specify anything at all."
   ]
  },
  {
   "cell_type": "code",
   "execution_count": null,
   "metadata": {},
   "outputs": [],
   "source": [
    "word.upper()"
   ]
  },
  {
   "cell_type": "markdown",
   "metadata": {},
   "source": [
    "---\n",
    "## Specifying default argument values\n",
    "\n",
    "You can specify default values by including an argument value in the definition of your function. The function will default to using these values for those parameters, but the user can optionally input other values, either by specifying them positionally or by keyword. \n",
    "\n",
    "```python\n",
    "def function_name(parameter1='text', parameter2=1):\n",
    "    \"docstring\"\n",
    "    code depending on parameter1 and parameter2\n",
    "    #Can be multiple lines or nested blocks\n",
    "```\n",
    "If the user calls the function above without specifying the arguments, it will run with the parameters equal to 'text' and 1 by default. \n",
    "\n",
    "Alternatively, the user could specify the arguments in order:\n",
    "```python\n",
    "function_name('other_text',2)\n",
    "```\n",
    "or giving keywords for a specific value:\n",
    "\n",
    "```python\n",
    "function_name(parameter2=2)\n",
    "```\n",
    "(In the case above, they have maintained the default value for parameter 1).\n",
    "\n",
    "With a previous example, our default values might be set like this."
   ]
  },
  {
   "cell_type": "code",
   "execution_count": null,
   "metadata": {},
   "outputs": [],
   "source": [
    "def call_me(your_name='Elio', my_name='Oliver'):\n",
    "    \"Returns a sentence with two names\"\n",
    "    return \"Call me \" + your_name +\" and I'll call you \" + my_name +\".\""
   ]
  },
  {
   "cell_type": "code",
   "execution_count": null,
   "metadata": {},
   "outputs": [],
   "source": [
    "call_me()"
   ]
  },
  {
   "cell_type": "markdown",
   "metadata": {},
   "source": [
    "The function returns a default output, but this can be modified if the user specifies other arguments:"
   ]
  },
  {
   "cell_type": "code",
   "execution_count": null,
   "metadata": {},
   "outputs": [],
   "source": [
    "call_me('Humanist','Pythonista')"
   ]
  },
  {
   "cell_type": "markdown",
   "metadata": {},
   "source": [
    "**Exercise 3** Re-create the 'liftoff' function, this time giving 'count' a default value of 10. Then, call it without specifying a value for count."
   ]
  },
  {
   "cell_type": "code",
   "execution_count": null,
   "metadata": {},
   "outputs": [],
   "source": [
    "while count > 0:\n",
    "    print(str(count) +\"!\")\n",
    "    count = count - 1\n",
    "print(\"Lift off!\")"
   ]
  },
  {
   "cell_type": "code",
   "execution_count": null,
   "metadata": {},
   "outputs": [],
   "source": [
    "liftoff()"
   ]
  },
  {
   "cell_type": "code",
   "execution_count": null,
   "metadata": {},
   "outputs": [],
   "source": [
    "solution(Q3)"
   ]
  },
  {
   "cell_type": "markdown",
   "metadata": {},
   "source": [
    "---\n",
    "## Return Values\n",
    "\n",
    "The **return** statement finishes the function and sends back the result of the function. If we don't specify one, the function is returning nothing. A function without a return value is called a **void** or **non-fruitful function**. Though the function might be displaying some output, it is not returning a storable object.\n",
    "\n",
    "```python\n",
    "def function_name(parameter1='text', parameter2=1):\n",
    "    \"docstring\"\n",
    "    code depending on parameter1 and parameter2\n",
    "    #Can be multiple lines or nested blocks\n",
    "    return <result>\n",
    "```\n",
    "\n",
    "Returning to the call_me example above, we could store its output as a variable. If we check the variable's type, we can see that it is a string. That is because the function was returning a result, here a string. "
   ]
  },
  {
   "cell_type": "code",
   "execution_count": null,
   "metadata": {},
   "outputs": [],
   "source": [
    "a = call_me()\n",
    "a"
   ]
  },
  {
   "cell_type": "code",
   "execution_count": null,
   "metadata": {},
   "outputs": [],
   "source": [
    "type(a)"
   ]
  },
  {
   "cell_type": "markdown",
   "metadata": {},
   "source": [
    "Let's define another function, but use print instead of calling return. "
   ]
  },
  {
   "cell_type": "code",
   "execution_count": null,
   "metadata": {},
   "outputs": [],
   "source": [
    "def call_me2(by_your_name='Elio', by_my_name='Oliver'):\n",
    "    \"Prints a sentence with two names\"\n",
    "    print(\"Call me \" + by_your_name +\" and I'll call you \" +by_my_name +\".\")"
   ]
  },
  {
   "cell_type": "markdown",
   "metadata": {},
   "source": [
    "If we assign its output to a variable and then check its type, we will see that it is Nonetype.  Though an output was displayed, it was not stored. If we try to manipulate the supposed string, we see that this returns an error."
   ]
  },
  {
   "cell_type": "code",
   "execution_count": null,
   "metadata": {},
   "outputs": [],
   "source": [
    "b = call_me2()"
   ]
  },
  {
   "cell_type": "code",
   "execution_count": null,
   "metadata": {},
   "outputs": [],
   "source": [
    "type(b)"
   ]
  },
  {
   "cell_type": "code",
   "execution_count": null,
   "metadata": {},
   "outputs": [],
   "source": [
    "str.upper(b)"
   ]
  },
  {
   "cell_type": "markdown",
   "metadata": {},
   "source": [
    "**Exercise 4** Modify the 'liftoff' function to return a string instead of using 'print'. All the output can be in one line. \n",
    "\n",
    "**Clue:** This is tricky. It requires defining an empty string before the while loop begins. Then, have it update as the while loop progresses. Finally, include a return statement that includes the final value of the variable concatenated with the string 'Lift off!'"
   ]
  },
  {
   "cell_type": "code",
   "execution_count": null,
   "metadata": {},
   "outputs": [],
   "source": [
    "def liftoff(count):\n",
    "    while count > 0:\n",
    "        print(str(count) +\"!\")\n",
    "        count = count - 1\n",
    "    print(\"lift off!\")"
   ]
  },
  {
   "cell_type": "code",
   "execution_count": null,
   "metadata": {},
   "outputs": [],
   "source": [
    "liftoff()"
   ]
  },
  {
   "cell_type": "code",
   "execution_count": null,
   "metadata": {},
   "outputs": [],
   "source": [
    "solution(Q4)"
   ]
  },
  {
   "cell_type": "markdown",
   "metadata": {},
   "source": [
    "# Lesson Summary\n",
    "\n",
    "- Functions are blocks of code with a name that perform an action\n",
    "- Methods are functions associated with an object, called by prefixing the object name: object.method()\n",
    "- Functions can be defined with the def statement\n",
    "- The def statement accepts parameters, which define the arguments that can later be used when calling a function\n",
    "- The return statement makes the output of the function explicit (and returns None if not used)\n",
    "- You call a function by typing its name followed by parentheses, with necessary arguments within the parentheses, either ordered by position or using keywords\n",
    "\n",
    "<div style=\"text-align:center\">    \n",
    "  <a href=\"06%20Accessing%20Files.ipynb\">Previous Lesson: Accessing Files</a>|\n",
    "   <a href=\"08%20Further%20Data%20Types%20(Collections).ipynb\">Next Lesson: Further Data Types. Collections</a>\n",
    "</div>"
   ]
  }
 ],
 "metadata": {
  "kernelspec": {
   "display_name": "Python 3",
   "language": "python",
   "name": "python3"
  },
  "language_info": {
   "codemirror_mode": {
    "name": "ipython",
    "version": 3
   },
   "file_extension": ".py",
   "mimetype": "text/x-python",
   "name": "python",
   "nbconvert_exporter": "python",
   "pygments_lexer": "ipython3",
   "version": "3.7.6"
  }
 },
 "nbformat": 4,
 "nbformat_minor": 4
}
