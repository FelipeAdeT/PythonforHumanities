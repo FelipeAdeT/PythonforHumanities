{
 "cells": [
  {
   "cell_type": "markdown",
   "metadata": {},
   "source": [
    "### Navigation Reminder\n",
    "\n",
    "- **Grey cells** are **code cells**. Click inside them and type to edit.\n",
    "- **Run**  code cells by pressing $ \\triangleright $  in the toolbar above, or press ``` shift + enter```.\n",
    "-  **Stop** a running process by clicking &#9634; in the toolbar above.\n",
    "- You can **add new cells** by clicking to the left of a cell and pressing ```A``` (for above), or ```B``` (for below). \n",
    "- **Delete cells** by pressing ```X```.\n",
    "- Run all code cells that import objects (such as the one below) to ensure that you can follow exercises and examples.\n",
    "- Feel free to edit and experiment - you will not corrupt the original files."
   ]
  },
  {
   "cell_type": "markdown",
   "metadata": {},
   "source": [
    "# 06B Putting it all together (Lessons 1-6)\n",
    "\n",
    "In lessons 1-5, we learned about many of the building blocks that make Python such a powerful language, including basic data types (strings, integers, floats), conditional structures, and loops. \n",
    "\n",
    "In this notebook, we will run through an exercise that allows us to put all this knowledge together.\n",
    "\n",
    "---"
   ]
  },
  {
   "cell_type": "markdown",
   "metadata": {},
   "source": [
    "The text below is a string of the poem \"The Walrus and the Carpenter,\" from Alice through the Looking Glass.\n",
    "\n",
    "Assign it to the variable 'walrus', taking into consideration that the text contains double and single quotes."
   ]
  },
  {
   "cell_type": "code",
   "execution_count": null,
   "metadata": {},
   "outputs": [],
   "source": [
    "walrus = The sun was shining on the sea,\\n      Shining with all his might:\\n     He did his very best to make\\n      The billows smooth and bright—\\n     And this was odd, because it was\\n      The middle of the night.\\n\\n     The moon was shining sulkily,\\n      Because she thought the sun\\n     Had got no business to be there\\n      After the day was done—\\n     “It’s very rude of him,” she said,\\n      “To come and spoil the fun!”\\n\\n     The sea was wet as wet could be,\\n      The sands were dry as dry.\\n     You could not see a cloud, because\\n      No cloud was in the sky:\\n     No birds were flying over head—\\n      There were no birds to fly.\\n\\n     The Walrus and the Carpenter\\n      Were walking close at hand;\\n     They wept like anything to see\\n      Such quantities of sand:\\n     “If this were only cleared away,”\\n       They said, “it would be grand!”\\n\\n     “If seven maids with seven mops\\n      Swept it for half a year,\\n     Do you suppose,” the Walrus said,\\n      “That they could get it clear?”\\n      “I doubt it,” said the Carpenter,\\n      And shed a bitter tear.\\n\\n     “O Oysters, come and walk with us!”\\n       The Walrus did beseech.\\n     “A pleasant walk, a pleasant talk,\\n      Along the briny beach:\\n     We cannot do with more than four,\\n      To give a hand to each.”\\n\\n     The eldest Oyster looked at him.\\n      But never a word he said:\\n     The eldest Oyster winked his eye,\\n      And shook his heavy head—\\n     Meaning to say he did not choose\\n      To leave the oyster-bed.\\n\\n     But four young oysters hurried up,\\n      All eager for the treat:\\n     Their coats were brushed, their faces washed,\\n      Their shoes were clean and neat—\\n     And this was odd, because, you know,\\n      They hadn’t any feet.\\n\\n     Four other Oysters followed them,\\n      And yet another four;\\n     And thick and fast they came at last,\\n      And more, and more, and more—\\n     All hopping through the frothy waves,\\n      And scrambling to the shore.\\n\\n     The Walrus and the Carpenter\\n      Walked on a mile or so,\\n     And then they rested on a rock\\n      Conveniently low:\\n     And all the little Oysters stood\\n      And waited in a row.\\n\\n     “The time has come,” the Walrus said,\\n      “To talk of many things:\\n     Of shoes—and ships—and sealing-wax—\\n      Of cabbages—and kings—\\n     And why the sea is boiling hot—\\n      And whether pigs have wings.”\\n\\n     “But wait a bit,” the Oysters cried,\\n      “Before we have our chat;\\n     For some of us are out of breath,\\n      And all of us are fat!”\\n      “No hurry!” said the Carpenter.\\n      They thanked him much for that.\\n\\n     “A loaf of bread,” the Walrus said,\\n      “Is what we chiefly need:\\n     Pepper and vinegar besides\\n      Are very good indeed—\\n     Now if you’re ready Oysters dear,\\n      We can begin to feed.”\\n\\n     “But not on us!” the Oysters cried,\\n      Turning a little blue,\\n     “After such kindness, that would be\\n      A dismal thing to do!”\\n      “The night is fine,” the Walrus said\\n      “Do you admire the view?\\n\\n     “It was so kind of you to come!\\n      And you are very nice!”\\n      The Carpenter said nothing but\\n      “Cut us another slice:\\n     I wish you were not quite so deaf—\\n      I’ve had to ask you twice!”\\n\\n     “It seems a shame,” the Walrus said,\\n      “To play them such a trick,\\n     After we’ve brought them out so far,\\n      And made them trot so quick!”\\n      The Carpenter said nothing but\\n      “The butter’s spread too thick!”\\n\\n     “I weep for you,” the Walrus said.\\n      “I deeply sympathize.”\\n      With sobs and tears he sorted out\\n      Those of the largest size.\\n     Holding his pocket handkerchief\\n      Before his streaming eyes.\\n\\n     “O Oysters,” said the Carpenter.\\n      “You’ve had a pleasant run!\\n     Shall we be trotting home again?”\\n       But answer came there none—\\n     And that was scarcely odd, because\\n      They’d eaten every one."
   ]
  },
  {
   "cell_type": "code",
   "execution_count": null,
   "metadata": {},
   "outputs": [],
   "source": [
    "print(walrus)"
   ]
  },
  {
   "cell_type": "markdown",
   "metadata": {},
   "source": [
    "Right now, the text is one long string block. Use a [string method](https://docs.python.org/2.5/lib/string-methods.html) to split it into a list of lines, considering that \\n is the line break character."
   ]
  },
  {
   "cell_type": "code",
   "execution_count": null,
   "metadata": {},
   "outputs": [],
   "source": [
    "walrussplit = walrus.split('\\n')"
   ]
  },
  {
   "cell_type": "code",
   "execution_count": null,
   "metadata": {},
   "outputs": [],
   "source": [
    "walrussplit"
   ]
  },
  {
   "cell_type": "markdown",
   "metadata": {},
   "source": [
    "Then, Construct a for-loop that identifies the number of lines in the poem, following these instructions.\n",
    "\n",
    "1. Create a variable named **count** that will be used to track the number of stanzas as we iterate through the poem.\n",
    "1. Create a **for-statement** using the text file as an iterator. Python will identify each line as an item of the file.\n",
    "1. Use a **conditional structure** to ignore any blank lines.\n",
    "1. **Update the count** each time we start a new line. \n",
    "1. Print the result at the end of the loop. \n"
   ]
  },
  {
   "cell_type": "code",
   "execution_count": null,
   "metadata": {},
   "outputs": [],
   "source": [
    "count = 0\n",
    "for line in walrussplit:\n",
    "    if line != '':\n",
    "        count = count +1 \n",
    "print(count)"
   ]
  },
  {
   "cell_type": "markdown",
   "metadata": {},
   "source": [
    "<div style=\"text-align:center\">    \n",
    "  <a href=\"06%20Loops.ipynb\">Previous Lesson: Loops</a>|\n",
    "   <a href=\"07%20Accessing%20Files.ipynb\">Next Lesson: Accessing Files</a>\n",
    "</div>"
   ]
  }
 ],
 "metadata": {
  "kernelspec": {
   "display_name": "Python 3",
   "language": "python",
   "name": "python3"
  },
  "language_info": {
   "codemirror_mode": {
    "name": "ipython",
    "version": 3
   },
   "file_extension": ".py",
   "mimetype": "text/x-python",
   "name": "python",
   "nbconvert_exporter": "python",
   "pygments_lexer": "ipython3",
   "version": "3.7.6"
  }
 },
 "nbformat": 4,
 "nbformat_minor": 4
}
