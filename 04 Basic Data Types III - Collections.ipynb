{
 "cells": [
  {
   "cell_type": "markdown",
   "metadata": {},
   "source": [
    "### Navigation Reminder\n",
    "\n",
    "- **Grey cells** are **code cells**. Click inside them and type to edit.\n",
    "- **Run**  code cells by pressing $ \\triangleright $  in the toolbar above, or press ``` shift + enter```.\n",
    "-  **Stop** a running process by clicking &#9634; in the toolbar above.\n",
    "- You can **add new cells** by clicking to the left of a cell and pressing ```A``` (for above), or ```B``` (for below). \n",
    "- **Delete cells** by pressing ```X```.\n",
    "- Run all code cells that import objects (such as the one below) to ensure that you can follow exercises and examples.\n",
    "- Feel free to edit and experiment - you will not corrupt the original files."
   ]
  },
  {
   "cell_type": "markdown",
   "metadata": {},
   "source": [
    "# Lesson 04: Further Data Structures - Collections\n",
    "\n",
    "As seen in the previous Basic Data Types Lessons, strings, integers and floats are object types that contain single values. You can store these as variables individually by assigning them a name. \n",
    "\n",
    "You can store multiple values in more complex structures called **collections**. In this lesson, we will focus on **lists** and **dictionaries**, and give a few notes on **tuples**, and **sets**.\n",
    "\n",
    "---\n",
    "Questions and exercises are distributed throughout this lesson. Please run the code cell below to import them before starting the lesson. The code will not produce any visible output, but exercises and questions will be loaded for later use."
   ]
  },
  {
   "cell_type": "code",
   "execution_count": null,
   "metadata": {},
   "outputs": [],
   "source": [
    "from QuestionsCollections import E1,E2,E3,E4,E5, question,solution"
   ]
  },
  {
   "cell_type": "markdown",
   "metadata": {},
   "source": [
    "---\n",
    "## Lesson Goals\n",
    "\n",
    "- Understand the difference between lists, dictionaries, tuples, and sets\n",
    "- Understand usefulness of each compound data type for projects\n",
    "- Explore key list and dictionary methods\n",
    "- Use sets to create lists of unique values.\n",
    "\n",
    "**Key Concepts:** collection, list, dictionary, tuple, set"
   ]
  },
  {
   "cell_type": "markdown",
   "metadata": {},
   "source": [
    "# Lists, Dictionaries, Tuples and Sets\n",
    "\n",
    "Python provides several built-in options for storing multiple pieces of data. We'll look at these different options for storing several pieces of data and their advantages and uses.\n",
    "\n",
    "|Structure| Description | Notation|\n",
    "|---|---|---|\n",
    "|**List**| A changeable, ordered collection| []|\n",
    "|**Dictionary**| A changeable, unordered collection| {k:v}|\n",
    "|**Tuples**| An unchangeable, ordered collection (like an unchangeable list)|()|\n",
    "|**Set**|An unordered collection of unique values|{}|\n"
   ]
  },
  {
   "cell_type": "markdown",
   "metadata": {},
   "source": [
    "---\n",
    "# Lists\n",
    "\n",
    ">**Lists** are ordered, mutable (changeable) collections of values.\n",
    "\n",
    "We have seen lists before, and have been using them in our code. Lists are **enclosed by square brackets**, and each item is **separated by a comma**. \n",
    "\n",
    "```python\n",
    "my_list = ['value A', 'value B', 1, 'value D']\n",
    "```\n",
    "\n",
    "Values in lists can be repeated, and one list can hold several data types (above, for example, we included an integer as well as text values). \n",
    "\n",
    "In fact, any Python object can be put into a list. We can even nest lists to make 'lists of lists', as well as include other collections inside a list."
   ]
  },
  {
   "cell_type": "markdown",
   "metadata": {},
   "source": [
    "# Creating Lists\n",
    "\n",
    "To create a list, you can open square brackets and specify values separated by commas, assigning it a variable, as seen above.\n",
    "\n",
    "**Exercise 1**: Create a list with 4 string elements representing donut flavors: Plain Glaze, Classic Chocolate, Strawberry Sprinkle and Lemon Glaze. Give it the name 'donuts'."
   ]
  },
  {
   "cell_type": "code",
   "execution_count": null,
   "metadata": {},
   "outputs": [],
   "source": []
  },
  {
   "cell_type": "code",
   "execution_count": null,
   "metadata": {},
   "outputs": [],
   "source": [
    "solution(E1)"
   ]
  },
  {
   "cell_type": "markdown",
   "metadata": {},
   "source": [
    "Alternatively, we can create blank lists to be populated later. These be made with the reserved word **list()** or using **empty square brackets**:\n",
    "\n",
    "```python\n",
    "list_name = []\n",
    "```\n",
    "or\n",
    "\n",
    "```python\n",
    "list_name = list()\n",
    "```\n",
    "\n",
    "We'll practice this later.\n",
    "\n",
    "# Characteristics of Lists: Order\n",
    "\n",
    "Lists are **ordered**, meaning that each element can be accessed by its place in the list. \n",
    "\n",
    "**Indexing** and **slicing** lists works in the way we saw with strings. We can access an item in a list by giving the list's name and the item's **integer index** in brackets. Like strings, lists are indexed by position, starting with **position 0** for the first item.\n",
    "\n",
    "```python\n",
    "list_name[0]\n",
    "```\n",
    "\n",
    "will return the first item in a list.\n",
    "\n",
    "Please note that trying to access an  that doesn't exist will give you an Index Error, with the message \"List Index Out of Range.\"\n",
    "\n",
    "You can also slice lists. \n",
    "\n",
    "```python\n",
    "list_name[a:b]\n",
    "``` \n",
    "\n",
    "returns all list elements from **a, up to, but not including b**. You can omit a or b to start from the beginning or continue to the end, respectively. \n",
    "\n",
    "**Exercise 2** Retrieve the first three elements of our donut flavors list."
   ]
  },
  {
   "cell_type": "code",
   "execution_count": null,
   "metadata": {},
   "outputs": [],
   "source": []
  },
  {
   "cell_type": "code",
   "execution_count": null,
   "metadata": {},
   "outputs": [],
   "source": [
    "solution(E2)"
   ]
  },
  {
   "cell_type": "markdown",
   "metadata": {},
   "source": [
    "# Characteristics of Lists: Mutability\n",
    "\n",
    "Lists are **mutable**, meaning that existing elements can be changed. To do so, specify the element's position and assign it a new value.\n",
    "\n",
    "In our example, say our donut shop has replaced 'Classic Chocolate' with 'Chocolate and Sea Salt'.  'Classic Chocolate' was item 2, in position 1.  \n",
    "\n",
    "In the code below, we can say: "
   ]
  },
  {
   "cell_type": "code",
   "execution_count": null,
   "metadata": {},
   "outputs": [],
   "source": [
    "donuts[1]= 'Chocolate and Sea Salt'"
   ]
  },
  {
   "cell_type": "markdown",
   "metadata": {},
   "source": [
    "If we print our list, we will see that the item has been updated."
   ]
  },
  {
   "cell_type": "code",
   "execution_count": null,
   "metadata": {},
   "outputs": [],
   "source": [
    "print(donuts)"
   ]
  },
  {
   "cell_type": "markdown",
   "metadata": {},
   "source": [
    "**Exercise 3:** Try it yourself: change the item 'Strawberry Sprinkle' to 'Strawberry Shortcake'."
   ]
  },
  {
   "cell_type": "code",
   "execution_count": null,
   "metadata": {},
   "outputs": [],
   "source": []
  },
  {
   "cell_type": "code",
   "execution_count": null,
   "metadata": {},
   "outputs": [],
   "source": [
    "solution(E3)"
   ]
  },
  {
   "cell_type": "markdown",
   "metadata": {},
   "source": [
    "---\n",
    "# Manipulating Lists: Functions, Operators and Methods\n",
    "\n",
    "## Python Built-in functions and lists\n",
    "\n",
    "Some of Python's built-in functions work well for lists.\n",
    "\n",
    "|Function| Action|\n",
    "|---|---|\n",
    "|**len(list)**|Returns number of items in a list|\n",
    "|**sum(list)**|Adds elements in list if these are all numerical|\n",
    "\n",
    "The membership operators **in** and **not in** also work with lists, and will check whether a list contains a certain item or not."
   ]
  },
  {
   "cell_type": "markdown",
   "metadata": {},
   "source": [
    "## List Methods\n",
    "\n",
    "Like strings, lists possess a variety of [useful methods](https://docs.python.org/3/tutorial/datastructures.html) that allow us to manipulate their contents. Unlike with strings, many of these methods act in-place, meaning that we do not need to reassign the variable to preserve any changes (but you should always check the documentation to be sure).\n",
    "\n",
    "|Method|Action|\n",
    "|--|--|\n",
    "|**list.append()**|Adds a value to the end of the list|\n",
    "|**list.extend()**| adds several values from an iterable object (such as a list) to end of list|\n",
    "|**list.insert()**| adds a value to another place in list|\n",
    "|**list.remove('value')**| Removes the first item with the content 'value' from the list|\n",
    "|**list.reverse()**| reverses the order of list|\n",
    "|**list.sort()**| sorts based on values|\n",
    "|**list.count('value')**| counts number of time 'value' is in list|\n",
    "\n",
    "**Exercise 4:** We are in the process of brainstorming more flavors for donuts. So far, ideas include: Apple Cider, Boston Cream, Lemon Glaze and Raspberry.\n",
    "\n",
    "1. Create a new list called 'donuts2' with these elements.\n",
    "2. Add these items to the end of our first list with one of the methods above. Look at the documentation if necessary.\n",
    "3. Calculate the length of the list.\n",
    "4. We only need 7 flavors - drop the last item of the list.\n",
    "5. We might have repeated the value 'Lemon Glaze'. Print the contents of the list to see what we have. \n",
    "6. Drop the first value of 'Lemon Glaze'\n",
    "7. Re-add the value 'Raspberry' to have 6 flavors.\n",
    "\n",
    "The final output should be a list called donuts with 6 flavors: 'Plain Glaze', 'Chocolate Sea Salt', 'Strawberry Sprinkle', 'Apple Cider', 'Boston Cream', 'Lemon Glaze', and 'Raspberry'.\n",
    "\n",
    "(If you would like to work in steps, you can add new cells to the notebook. Do this by clicking on the left of a cell, and pressing A or B,to create a cell above or below.)"
   ]
  },
  {
   "cell_type": "code",
   "execution_count": null,
   "metadata": {},
   "outputs": [],
   "source": []
  },
  {
   "cell_type": "code",
   "execution_count": null,
   "metadata": {},
   "outputs": [],
   "source": [
    "solution(E4)"
   ]
  },
  {
   "cell_type": "markdown",
   "metadata": {},
   "source": [
    "---\n",
    "# Dictionaries\n",
    "\n",
    "Dictionaries are unordered, mutable collections of **key-value pairs**. Dictionaries are **unordered**, meaning that unlike lists, they do not organize values by position. They instead index values by their key, a name you can assign. You can fetch values by calling their key.   \n",
    "\n",
    "They function a bit like a bag of values, with tags (keys). Python searches through the keys efficiently to find the values, without preserving order. **Keys** must be unique, and can only be immutable objects (such as strings or numbers, but not lists). Values can be repeated and can be any sort of object (including collections- such as lists or further dictionaries).\n",
    "\n",
    "You might also liken each key value pair to an entry in a (printed) dictionary: you search for a word (key) to find its entry (value).\n",
    "\n",
    "```python\n",
    "dict_name = {'key1': value1,'key2': value2, 'key3': value3 }\n",
    "```\n",
    "Dictionaries are denoted by **curly brackets {}**. Each **key-value pair** is written as key, colon, value. Key-value pairs are separated by commas.\n"
   ]
  },
  {
   "cell_type": "markdown",
   "metadata": {},
   "source": [
    "# Creating Dictionaries\n",
    "\n",
    "You can specify a dictionary by listing key-value pairs in the format above and assigning it to a variable. \n",
    "\n",
    "You can also create a blank dictionary by using the dict() command.\n",
    "\n",
    "```python\n",
    "dict_name = dict()\n",
    "```\n",
    "\n",
    "Alternatively, you can use empty curly braces {}:\n",
    "\n",
    "```python\n",
    "dict_name = {}\n",
    "```\n",
    "\n",
    "Let's create an empty price dictionary for our donuts."
   ]
  },
  {
   "cell_type": "code",
   "execution_count": null,
   "metadata": {},
   "outputs": [],
   "source": [
    "prices = {}"
   ]
  },
  {
   "cell_type": "markdown",
   "metadata": {},
   "source": [
    "# Creating New Key-Value Pairs\n",
    "\n",
    "Indexing can be used in the same way to define new key-value pairs, by assigning a key that does not exist to a new value.\n",
    "\n",
    "```python\n",
    "dict_name['newkey']='newvalue'\n",
    "```\n",
    "Please keep in mind that such an assignment using an existing key would overwrite its value.\n",
    "\n",
    "**Exercise** Loop through our list of donuts to create a key for each item. Give all donuts a value of $1.00."
   ]
  },
  {
   "cell_type": "code",
   "execution_count": null,
   "metadata": {},
   "outputs": [],
   "source": [
    "for donut in donuts:\n",
    "    prices[donut]=1.00"
   ]
  },
  {
   "cell_type": "code",
   "execution_count": null,
   "metadata": {},
   "outputs": [],
   "source": [
    "solution(E5)"
   ]
  },
  {
   "cell_type": "markdown",
   "metadata": {},
   "source": [
    "If you print your dictionary, you should now have a key-value pair for each entry in your list."
   ]
  },
  {
   "cell_type": "code",
   "execution_count": null,
   "metadata": {},
   "outputs": [],
   "source": [
    "print(prices)"
   ]
  },
  {
   "cell_type": "markdown",
   "metadata": {},
   "source": [
    "# Accessing Information in Dictionaries\n",
    "\n",
    "We can access a value in a dictionary by indexing, not by position, but by key:\n",
    "\n",
    "```python\n",
    "dict_name['key1']\n",
    "```\n",
    "\n",
    "The above will return the value stored for key1.\n",
    "\n",
    "Looking for a key that does not exist will result in a Key Error. \n",
    "\n",
    "The **in** and **not in** operators also work with dictionary keys, helping us determine if a key exists."
   ]
  },
  {
   "cell_type": "code",
   "execution_count": null,
   "metadata": {},
   "outputs": [],
   "source": [
    "prices['Plain Glaze']"
   ]
  },
  {
   "cell_type": "markdown",
   "metadata": {},
   "source": [
    "# Other Useful Dictionary Methods & Functions\n",
    "\n",
    "|Method| Action|\n",
    "|---|---|\n",
    "|len(d)|Return the number of items in the dictionary d|\n",
    "|del d[key]| Remove d[key] from d. Raises a KeyError if key is not in the map.|\n",
    "|clear()|Remove all items from the dictionary.|\n",
    "|pop(key[, default])|If key is in the dictionary, remove it and return its value, else return default. If default is not given and key is not in the dictionary, a KeyError is raised.|\n",
    "|update([other])|Update the dictionary with the key/value pairs from other, overwriting existing keys. Return None.|"
   ]
  },
  {
   "cell_type": "code",
   "execution_count": null,
   "metadata": {},
   "outputs": [],
   "source": [
    "#histogram pattern\n",
    "\n",
    "counts = dict()\n",
    "names = ['a','b','c','b']\n",
    "for name in names:\n",
    "    counts[name]= counts.get(name,0) +1\n",
    "print(counts)"
   ]
  },
  {
   "cell_type": "markdown",
   "metadata": {},
   "source": [
    "# Iterating through Dictionaries \n",
    "\n",
    "dict.keys, dict.items\n",
    "\n",
    "|dict.iter()|Return an iterator over the keys of the dictionary. This is a shortcut for iter(d.keys()), and is useful for looping over the elements of a dictionary.|"
   ]
  },
  {
   "cell_type": "markdown",
   "metadata": {},
   "source": [
    "## A note on Tuples\n",
    "\n",
    "Tuples are ordered, immutable collections of values.\n",
    "\n",
    "Tuples are much like lists, with the difference that they are immutable, meaning that once written, they cannot be modified. This means that the methods so useful for lists cannot be used with tuples. \n",
    "\n",
    "```python\n",
    "my_tuple = ('value A', 'value B', 1, 'value D')\n",
    "```\n",
    "\n",
    "- Tuples are denoted by parentheses.\n",
    "- Items in tuples are separated by commas.\n",
    "- Values can be repeated\n",
    "- Different datatypes can coexist as values.\n",
    "- Any Python object can be put into a tuple.\n",
    "\n",
    "You can create them using the function tuple() or by specifying a comma-separated list of values in parenthesis (note that a tuple with a single value still needs to have a comma after the value)."
   ]
  },
  {
   "cell_type": "markdown",
   "metadata": {},
   "source": [
    "----\n",
    "# A Note on Sets\n",
    "\n",
    "Another useful built-in data type is the set, which can be thought of as a collection of dictionary keys without values.\n",
    "\n",
    "Sets are unordered collections of **distinct** values.  They provide an easy way to look at unique elements within lists."
   ]
  },
  {
   "cell_type": "code",
   "execution_count": null,
   "metadata": {},
   "outputs": [],
   "source": [
    "flavors = ['Plain Glazed', 'Classic Chocolate', 'Plain Glazed']"
   ]
  },
  {
   "cell_type": "code",
   "execution_count": null,
   "metadata": {},
   "outputs": [],
   "source": [
    "uniqueflavors = set(flavors)"
   ]
  },
  {
   "cell_type": "code",
   "execution_count": null,
   "metadata": {},
   "outputs": [],
   "source": [
    "uniqueflavors"
   ]
  },
  {
   "cell_type": "markdown",
   "metadata": {},
   "source": [
    "Much like with sets in mathematics, you can look at the contents of sets and compare them with some useful operators.\n",
    "\n",
    "|Syntax | Name |Action|\n",
    "|--|--|--|\n",
    "|```set1 \\ set2``` |Union |Return a new set with elements from the set and all others.|\n",
    "|```set1 & set2```| Intersection| Return a new set with elements common to the set and all others.|\n",
    "|```set1 - set2```| Difference| Return a new set with elements in the set that are not in the others.|\n",
    "|```set1 ^ set2``` |Symmetric Difference |Return a new set with elements in either the set or other but not both.|"
   ]
  },
  {
   "cell_type": "markdown",
   "metadata": {},
   "source": [
    "# Lesson Summary\n",
    "\n",
    "- Lists, dictionaries, tuples, and sets are all compound data types or collections, that store multiple values.\n",
    "- Lists are mutable, ordered collections of items. Each item can be accessed by its position in a list.\n",
    "- Dictionaries are mutable, unordered collections of items, structured as key-value pairs. Each value can be accessed by its unique key.\n",
    "- Sets can be used to create find unique values in lists"
   ]
  },
  {
   "cell_type": "markdown",
   "metadata": {},
   "source": [
    "<div style=\"text-align:center\">    \n",
    "  <a href=\"03%20Basic%20Data%20Types II%20-%20Strings.ipynb\">Previous Lesson: Basic Data Types II: Strings</a>|\n",
    "   <a href=\"05%20Conditionals.ipynb\">Next Lesson: Conditionals </a>\n",
    "</div>"
   ]
  }
 ],
 "metadata": {
  "kernelspec": {
   "display_name": "Python 3",
   "language": "python",
   "name": "python3"
  },
  "language_info": {
   "codemirror_mode": {
    "name": "ipython",
    "version": 3
   },
   "file_extension": ".py",
   "mimetype": "text/x-python",
   "name": "python",
   "nbconvert_exporter": "python",
   "pygments_lexer": "ipython3",
   "version": "3.7.6"
  }
 },
 "nbformat": 4,
 "nbformat_minor": 4
}
