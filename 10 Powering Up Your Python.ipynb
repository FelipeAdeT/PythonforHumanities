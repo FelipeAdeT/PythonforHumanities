{
 "cells": [
  {
   "cell_type": "markdown",
   "metadata": {},
   "source": [
    "# Lesson 11 Power Up Your Python\n",
    "\n",
    "In previous lessons, we learned some of the building blocks of Python as well as practical aspects for getting started with your projects. These open up a world of possibilities within the digital humanities.\n",
    "\n",
    "At some point, however, you might want to move past for-loops towards more efficient ways of processing data.\n",
    "\n",
    "In this lesson, we look at a few more advanced topics to improve code speed, including mapping, list comprehensions, lambda functions and magic commands. \n"
   ]
  },
  {
   "cell_type": "code",
   "execution_count": null,
   "metadata": {},
   "outputs": [],
   "source": [
    "import"
   ]
  },
  {
   "cell_type": "code",
   "execution_count": null,
   "metadata": {},
   "outputs": [],
   "source": [
    "---\n",
    "# Lesson Goals\n",
    "\n",
    "\n",
    "**Keywords:**"
   ]
  },
  {
   "cell_type": "code",
   "execution_count": null,
   "metadata": {},
   "outputs": [],
   "source": [
    "slow versus fast ways of doing things"
   ]
  }
 ],
 "metadata": {
  "kernelspec": {
   "display_name": "Python 3",
   "language": "python",
   "name": "python3"
  },
  "language_info": {
   "codemirror_mode": {
    "name": "ipython",
    "version": 3
   },
   "file_extension": ".py",
   "mimetype": "text/x-python",
   "name": "python",
   "nbconvert_exporter": "python",
   "pygments_lexer": "ipython3",
   "version": "3.7.6"
  }
 },
 "nbformat": 4,
 "nbformat_minor": 4
}
