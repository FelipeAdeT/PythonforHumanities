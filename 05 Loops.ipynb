{
 "cells": [
  {
   "cell_type": "markdown",
   "metadata": {},
   "source": [
    "### Navigation Reminder\n",
    "\n",
    "- **Grey cells** are **code cells**. Click inside them and type to edit.\n",
    "- **Run**  code cells by pressing $ \\triangleright $  in the toolbar above, or press ``` shift + enter```.\n",
    "-  **Stop** a running process by clicking $\\Box$ in the toolbar above.\n",
    "- You can **add new cells** by clicking to the left of a cell and pressing ```A``` (for above), or```B``` (for below). \n",
    "- **Delete cells** by pressing```X```.\n",
    "- Run all code cells that import objects (such as the one below) to ensure that you can follow exercises and examples.\n",
    "- Feel free to edit and experiment - you will not corrupt the original files."
   ]
  },
  {
   "cell_type": "markdown",
   "metadata": {},
   "source": [
    "# Lesson 05: Loops\n",
    "\n",
    "**Loops** are repeated steps within code. They are blocks of code that allow us to begin automating work within a program.\n",
    "\n",
    "In this lesson, we will learn the syntax for **while-loops** and **for-loops**, as well as useful statements for stopping loops and skipping iterations, like break, else, continue and pass.\n",
    "\n",
    "---\n",
    "Questions and exercises are distributed throughout this lesson. Please run the code cell below to import them before starting the lesson. The code will not produce any visible output, but exercises and questions will be loaded for later use."
   ]
  },
  {
   "cell_type": "code",
   "execution_count": null,
   "metadata": {},
   "outputs": [],
   "source": [
    "from QuestionsLoops import Q1,Q2,Q3,Q4,Q5, question, solution"
   ]
  },
  {
   "cell_type": "markdown",
   "metadata": {},
   "source": [
    "---\n",
    "## Lesson Goals:\n",
    "- Understand the concepts of looping and iterations\n",
    "- Construct a while loop (indefinite) with an iterator variable\n",
    "- Construct a for loop (definite) through a set or range\n",
    "- Use break or continue to exit a loop or iteration\n",
    "\n",
    "**Key Concepts:** loop, iteration, indefinite loop, iterator variable, definite loop, while, for,break, continue, range() \n",
    "\n",
    "---\n",
    "# Indefinite and Definite Loops\n",
    "\n",
    ">**Loops** run several times, repeating a step within the code. This is called **iterating**, which is done over a variable. \n",
    "\n",
    "A loop goes through several iterations until it is exited. \n",
    "\n",
    ">**Indefinite loops** will go through an undefined number of iterations. **While-loops**, are indefinite loops, and  depend on a condition predicated on an **iteration variable**.\n",
    "\n",
    ">**Definite loops** have a defined length, looping over a finite set of things. **For-loops** are definite loops.\n",
    "\n",
    "---\n",
    "## While loops (Indefinite)\n",
    "\n",
    "Like an if-statement, the **while** statement evaluates a condition.\n",
    "\n",
    "But instead of going through to the next statement in the code, the loop will re-run as long as that condition remains true. \n",
    "\n",
    "This means that we have to program ways for the condition to eventually result in a 'False' output. \n",
    "\n",
    "We will do this through an **iteration variable**, a variable that changes value as the loop progresses. These often go through a sequence of numbers.\n",
    "\n",
    "## While Loop Syntax\n",
    "```python\n",
    "i = 5\n",
    "\n",
    "while <condition based on i>:\n",
    "    code\n",
    "    i= i-1\n",
    "    \n",
    "other code...\n",
    "```\n",
    "\n",
    "### Which means...\n",
    "\n",
    "1. assign a name to an iterator variable\n",
    "\n",
    "2. while the condition is true,\n",
    "\n",
    "    perform some lines of code\n",
    "    \n",
    "    give the iterator a new value\n",
    "\n",
    "3. and continue with other code.\n",
    "\n",
    "In this example, we have carefully constructed the iterator variable to change as the loop performs iterations. We do this to avoid the loop being infinite: at some point, as the variable changes, the condition will become false and the loop will stop. "
   ]
  },
  {
   "cell_type": "code",
   "execution_count": null,
   "metadata": {},
   "outputs": [],
   "source": [
    "count = 10\n",
    "\n",
    "while count > 0:\n",
    "    print(str(count) +\"!\")\n",
    "    count = count - 1\n",
    "print(\"lift off!\")"
   ]
  },
  {
   "cell_type": "markdown",
   "metadata": {},
   "source": [
    "**Exercise:** Create a while loop that performs 6 iterations. Combine it with an if statement so that when the iterator is even, the code prints \"tick,\" and when it is odd, it prints \"tock\". Finally, have it print \"Ring!!\"\n",
    "\n",
    "Clue: you can use the remainder operator (%) to check whether a number is even, if the remainder when dividing by 2 is equal to zero.\n",
    "\n",
    "If you get stuck in an infinite loop, you can stop the run with the square stop button in the ribbon above."
   ]
  },
  {
   "cell_type": "code",
   "execution_count": null,
   "metadata": {},
   "outputs": [],
   "source": []
  },
  {
   "cell_type": "code",
   "execution_count": null,
   "metadata": {},
   "outputs": [],
   "source": [
    "solution(Q1)"
   ]
  },
  {
   "cell_type": "markdown",
   "metadata": {},
   "source": [
    "**Exercise 2:**  If game[0]=='duck', the loop below is an infinite loop. If you try it, you can stop it by using the stop (square) button in the ribbon above.\n",
    "\n",
    "Find a way to escape the loop by thinking of game[0] as an iterator variable that you has to change."
   ]
  },
  {
   "cell_type": "code",
   "execution_count": null,
   "metadata": {},
   "outputs": [],
   "source": [
    "from random import shuffle\n",
    "\n",
    "game = ['duck', 'duck', 'duck', 'goose', 'duck']\n",
    "shuffle(game)\n",
    "\n",
    "while game[0]=='duck':\n",
    "    print('safe')\n",
    "    \n",
    "print('Run!')"
   ]
  },
  {
   "cell_type": "code",
   "execution_count": null,
   "metadata": {},
   "outputs": [],
   "source": [
    "solution(Q2)"
   ]
  },
  {
   "cell_type": "markdown",
   "metadata": {},
   "source": [
    "## The duration of a while loop\n",
    "\n",
    "While loops are zero-trip, meaning that like an if-statement, they are not even guaranteed to run once if the condition is false from the beginning.\n",
    "\n",
    "Additionally, if the iterator is not carefully constructed, they could also run infinitely. \n",
    "\n",
    "This could be done purposefully if we use \n",
    "```python \n",
    "while True:\n",
    "``` \n",
    "as our condition, since True is always True. Different statements can help us break a loop before it is done running. \n",
    "\n",
    "---\n",
    "\n",
    "## Break and Continue \n",
    "\n",
    ">**Break** is an executable statement that exits a running loop and moves on to the next line of code.\n",
    "\n",
    "It can be combined with an if statement to provide a reason to terminate a loop. \n",
    "\n",
    ">**Continue** exits an iteration of a loop, returning to the top of the loop to start the next iteration. \n",
    "\n",
    "Continue will exit an iteration of a loop, but not the loop itself.\n",
    "\n",
    "For instance, in this example, the loop will let us input text until we type the word 'done'. When we type done, it finishes the loop."
   ]
  },
  {
   "cell_type": "code",
   "execution_count": null,
   "metadata": {},
   "outputs": [],
   "source": [
    "while True:\n",
    "    line = input('Type here: ')\n",
    "    if line == 'done':\n",
    "        break\n",
    "    print(line)\n",
    "print('Done!')"
   ]
  },
  {
   "cell_type": "markdown",
   "metadata": {},
   "source": [
    "**Exercise 3:** Below is an infinite loop. Use a second if statement (without an else statement), break and continue to print only even values and end the loop when the value reaches 20."
   ]
  },
  {
   "cell_type": "code",
   "execution_count": null,
   "metadata": {},
   "outputs": [],
   "source": [
    "value = 0\n",
    "\n",
    "while True:\n",
    "    if value%2==0:\n",
    "        print(value)\n",
    "    value = value+1"
   ]
  },
  {
   "cell_type": "code",
   "execution_count": null,
   "metadata": {},
   "outputs": [],
   "source": [
    "solution(Q3)"
   ]
  },
  {
   "cell_type": "markdown",
   "metadata": {},
   "source": [
    "**Exercise 4:** Restructure the previous loop to achieve the same results without the break statement, using the value variable in the while clause's condition."
   ]
  },
  {
   "cell_type": "code",
   "execution_count": null,
   "metadata": {},
   "outputs": [],
   "source": []
  },
  {
   "cell_type": "code",
   "execution_count": null,
   "metadata": {},
   "outputs": [],
   "source": [
    "solution(Q4)"
   ]
  },
  {
   "cell_type": "markdown",
   "metadata": {},
   "source": [
    "---\n",
    "# For-Loops (Definite)\n",
    "\n",
    "For loops are a looping structure that allows us to define a determined number of iterations. With for loops, you don't run the risk of creating an infinite loop and collapsing your computer.\n",
    "\n",
    "The iteration variable is defined in the for statement and goes through each of the values in a finite set.\n",
    "\n",
    "This set could be a range of numbers to define a specific number of iterations. It could also be the elements of an existing list, meaning that the code in the loop will be applied to each of its elements. Other objects (such as dictionaries) can also be iterated through. \n",
    "\n",
    "### For-loop Syntax\n",
    "\n",
    "```python\n",
    "for i in <set>:\n",
    "    \n",
    "    code\n",
    "\n",
    "other code   \n",
    "```\n",
    "\n",
    "### What this means...\n",
    "\n",
    "for each item _i_ in a set,\n",
    "\n",
    "    perform this code\n",
    "    \n",
    "continue with other code\n",
    "\n",
    "The letter i (standing for 'item') is a conventional way to refer to the iterator, but Python does not interpret it. We can choose any other word if it makes our code clearer. Equally conventional is the use of an intelligible noun that references what we are iterating over.  For instance, we could say for 'item' in list, or use a word that helps us refer to the semantical content of a list. For instance, for artist in artists; for art in arts, etc. \n",
    "\n",
    "The first example we saw in our lessons was in fact a for loop. In the code below, we created a finite list of arts; and then specified a loop that iterated over each element in th elist, printing something about them."
   ]
  },
  {
   "cell_type": "code",
   "execution_count": null,
   "metadata": {},
   "outputs": [],
   "source": [
    "SevenArts = ['Painting','Architecture','Sculpture','Literature','Music','Performing Art','Film'] \n",
    "\n",
    "for art in SevenArts:     \n",
    "    print(art, \"is one of the seven arts\") \n",
    "    print(\"I love\", art)                    \n",
    "print(\"But what about photography?\") "
   ]
  },
  {
   "cell_type": "markdown",
   "metadata": {},
   "source": [
    "**Exercise 5:** Create a loop that iterates through the list of donuts at Monuts and prints only those with the word 'Glaze' in their name."
   ]
  },
  {
   "cell_type": "code",
   "execution_count": null,
   "metadata": {},
   "outputs": [],
   "source": [
    "MonutsDonuts = ['Classic Chocolate','Strawberry','Maple-Bacon','Plain Glazed', 'Raspberry','Lemon Glaze']\n",
    "\n",
    "for ___  in  ____:\n",
    "    if 'Glaze' in ____:\n",
    "        print(___)"
   ]
  },
  {
   "cell_type": "code",
   "execution_count": null,
   "metadata": {},
   "outputs": [],
   "source": [
    "solution(Q5)"
   ]
  },
  {
   "cell_type": "markdown",
   "metadata": {},
   "source": [
    "# The range() function\n",
    "\n",
    "**range()** is a useful function for creating a determined number of iterations in a for-loop. \n",
    "\n",
    "This function creates a sequence of numbers, where you define the starting number, the final number, and its increments. \n",
    "\n",
    "```python\n",
    "range(start, stop, step)\n",
    "```\n",
    "\n",
    "By default, the starting number is 0 and the increment is 1, meaning that if you only give one number, it will produce a range of numbers up to that digit. \n",
    "\n",
    "It can be used in a for-loop to specify the number of iterations.\n",
    "\n",
    "```python\n",
    "for i in range(5):\n",
    "    code\n",
    "```\n",
    "\n",
    "This can be useful if we want to repeat a loop a certain number of times, or need to match it exactly to the length of an object, for which we can use ```range(len(object)```.\n",
    "\n",
    "The function below accomplishes the same goal as the one in exercise 5, by indexing into the list by item position."
   ]
  },
  {
   "cell_type": "code",
   "execution_count": null,
   "metadata": {},
   "outputs": [],
   "source": [
    "for i  in  range(len(MonutsDonuts)):\n",
    "    if 'Glaze' in MonutsDonuts[i]:\n",
    "        print(MonutsDonuts[i])"
   ]
  },
  {
   "cell_type": "markdown",
   "metadata": {},
   "source": [
    "---\n",
    "## Lesson Summary\n",
    "\n",
    "- Loops repeat steps in an algorithm\n",
    "- Indefinite loops are constructed with while, and don't have an explicit duration. They must include an iterator variable to be finite.\n",
    "- Definite loops are constructed with for, and iterate through a finite set such as a list or a range defined by the coder.\n",
    "- 'Break' exits a running loop, 'Continue' exits an iteration of a loop.\n",
    "\n",
    "<div style=\"text-align:center\">    \n",
    "  <a href=\"04%20Conditionals.ipynb\">Previous Lesson: Conditionals</a>|\n",
    "   <a href=\"05B%20Putting%20it%20all%20Together%20(Lessons%201-5).ipynb\">Next Lesson: Putting it all together</a>\n",
    "</div>\n"
   ]
  }
 ],
 "metadata": {
  "kernelspec": {
   "display_name": "Python 3",
   "language": "python",
   "name": "python3"
  },
  "language_info": {
   "codemirror_mode": {
    "name": "ipython",
    "version": 3
   },
   "file_extension": ".py",
   "mimetype": "text/x-python",
   "name": "python",
   "nbconvert_exporter": "python",
   "pygments_lexer": "ipython3",
   "version": "3.7.6"
  }
 },
 "nbformat": 4,
 "nbformat_minor": 4
}
