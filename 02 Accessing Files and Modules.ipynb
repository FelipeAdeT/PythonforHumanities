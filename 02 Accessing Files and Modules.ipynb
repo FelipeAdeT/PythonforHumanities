{
 "cells": [
  {
   "cell_type": "markdown",
   "metadata": {},
   "source": [
    "# Lesson 02: Accessing Resources: Handling Files and Importing Modules in Python\n",
    "\n",
    "The goal of this resource is to quickly set you up to use Python in your own projects. When working on a project in Python, you will need to access external resources.\n",
    "\n",
    "We might want to access **files** to import existing data stored on our computer, or export the output of our coding into a permanent file.\n",
    "\n",
    "The existence of many **modules**, or code files that have been created and packaged by third parties, is one of Python's great strengths, expanding the possibilities of the language to include many useful objects and functions.\n",
    "\n",
    "In this lesson, we explain how to access files, as well as modules of code developed by others."
   ]
  },
  {
   "cell_type": "code",
   "execution_count": null,
   "metadata": {},
   "outputs": [],
   "source": [
    "#Run this cell to import lesson questions\n",
    "from QuestionsFiles import Q1, Q2, question"
   ]
  },
  {
   "cell_type": "markdown",
   "metadata": {},
   "source": [
    "---\n",
    "## Lesson Objectives\n",
    "- Access files within Python\n",
    "- Manipulate files within Python\n",
    "- Open .csv files with Pandas\n",
    "- Write output to file\n",
    "- Understand modules\n",
    "- Import modules\n",
    "\n",
    "**Key Concepts:** open(), read(), write(), pandas.read_csv(), file handle, module, import\n",
    "\n",
    "---\n",
    "# Accessing Files\n",
    "\n",
    "Python provides several ways of accessing files natively or through modules. \n",
    "\n",
    "There are several ways to open a file which will vary in the way they use memory and the way code is structured. \n",
    "\n",
    "For now, it is good to recognize the different options for when you encounter them in code.\n",
    "\n",
    "We will look at the **open** and **read** functions and using **Pandas** to handle .csv files (spreadsheets).\n",
    "\n",
    "# Opening text files with the open() function\n",
    "\n",
    "Python's **open()** function uses a filepath to create a \"file handle\", a point of access to a file.\n",
    "\n",
    "It does nothing else-- not even read it. It creates a variable that you can later use to read the file. \n",
    "\n",
    "`myfile= open('filename.txt', 'mode')`\n",
    "\n",
    "as with any variable, you can choose which name to assign (here, 'myfile').\n",
    "\n",
    "You must give a string with the filename and filetype, ex. 'data.txt'. If the file is in another directory, you have to specify a filepath.\n",
    "\n",
    "And you can optionally give a mode for opening the file. 'r' will read an existing file. 'w' allows you to write it (create a new file if one with that name does not exist, or write onto an existing file). 'a' allows you to append data to an existing file as new lines. You can also dictate whether a the file is not text but binary format by following the mode with the letter 'b'. \n",
    "\n",
    "Let's open a file:"
   ]
  },
  {
   "cell_type": "code",
   "execution_count": null,
   "metadata": {},
   "outputs": [],
   "source": [
    "theRaven = open('Other_files/TheRaven.txt', mode='r')"
   ]
  },
  {
   "cell_type": "markdown",
   "metadata": {},
   "source": [
    "As can be seen, this line does not output any visible code. Instead, it has created an object called 'theRaven' that points to the file.\n",
    "\n",
    "This becomes clear if we use print()."
   ]
  },
  {
   "cell_type": "code",
   "execution_count": null,
   "metadata": {},
   "outputs": [],
   "source": [
    "question(Q1)"
   ]
  },
  {
   "cell_type": "code",
   "execution_count": null,
   "metadata": {},
   "outputs": [],
   "source": [
    "print(theRaven)"
   ]
  },
  {
   "cell_type": "markdown",
   "metadata": {},
   "source": [
    "What we are seeing is some information on our file handle, the object that points to our file. \n",
    "\n",
    "The file handle is a type of object with several methods, including those that help us access the data.\n",
    "\n",
    "**read()** and **write()** are methods of file objects used for reading from and writing to files. \n",
    "\n",
    "**read()** can be used in several ways to access a file."
   ]
  },
  {
   "cell_type": "markdown",
   "metadata": {},
   "source": [
    "# Reading files with the read() method\n",
    "\n",
    "One option is to create a file handle and then use the read statement: \n",
    "\n",
    "`myfile= open('filename', 'mode')\n",
    "data= myfile.read()`\n",
    "\n",
    "We use open to create a file handle, and then use the read() method, assigned to the variable 'data'. \n",
    "\n",
    "read() is a method of the open() function.\n",
    "\n",
    "This option will bring in the whole file as a block of text, and you will later have to find ways to subdivide the file. \n",
    "\n",
    "Let's try it:"
   ]
  },
  {
   "cell_type": "code",
   "execution_count": null,
   "metadata": {},
   "outputs": [],
   "source": [
    "theRaven = open('Other_files/TheRaven.txt','r')\n",
    "Raventext = theRaven.read()"
   ]
  },
  {
   "cell_type": "markdown",
   "metadata": {},
   "source": [
    "As you can see, this also has not printed the content of the file. Instead, we have created an object that reads the content of the file. We can now print it:"
   ]
  },
  {
   "cell_type": "code",
   "execution_count": null,
   "metadata": {},
   "outputs": [],
   "source": [
    "print(Raventext)"
   ]
  },
  {
   "cell_type": "markdown",
   "metadata": {},
   "source": [
    "# The File close() Method\n",
    "\n",
    "Files you open will eventually close on their own, but there are several reasons you should close your files when you are done with them:\n",
    "\n",
    "1. To improve performance by minimizing the spaced used in the computer's RAM\n",
    "1. To make sure all changes go into effect\n",
    "1. To ensure they can be used by other programs and scripts\n",
    "1. To avoid any accidental changes\n",
    "\n",
    ">Source: https://stackoverflow.com/questions/25070854/why-should-i-close-files-in-python\n",
    "\n",
    "It is good practice to use the filehandle.close() method to close your file when you are done with it.\n",
    "\n",
    "In our case, this would be:"
   ]
  },
  {
   "cell_type": "code",
   "execution_count": null,
   "metadata": {},
   "outputs": [],
   "source": [
    "theRaven.close()"
   ]
  },
  {
   "cell_type": "markdown",
   "metadata": {},
   "source": [
    "Now, when we call the object again, we will get an error. We can no longer act upon it:"
   ]
  },
  {
   "cell_type": "code",
   "execution_count": null,
   "metadata": {},
   "outputs": [],
   "source": [
    "theRaven.read()"
   ]
  },
  {
   "cell_type": "markdown",
   "metadata": {},
   "source": [
    "# Variations on the open() method: 'with'\n",
    "\n",
    "To ensure that we don't forget to close a file, a common way of opening a file is to use a 'with' statement:\n",
    "\n",
    "`with open('file path', 'a') as myfile:\n",
    "   data = myfile.read()`\n",
    "\n",
    "Here you should recognize the same elements as before: the open statement, with a file path or name and a mode (read or write), and a name for our file handle. \n",
    "\n",
    "`with open('file path', 'a') as myfile:\n",
    "   data = myfile.read()`\n",
    "\n",
    "The difference is that with 'with', we are opening a code block. Anything you want to do to the data will have to remain in the indented block that follows. Once we exit the code block, we will also stop accessing the file.\n",
    "\n",
    "In our case, we might open our file like this:"
   ]
  },
  {
   "cell_type": "code",
   "execution_count": null,
   "metadata": {},
   "outputs": [],
   "source": [
    "with open('Other_Files/TheRaven.txt','r') as theRaven:\n",
    "    Raventext = theRaven.read()\n",
    "    print(Raventext)"
   ]
  },
  {
   "cell_type": "markdown",
   "metadata": {},
   "source": [
    "This is equivalent to the code using **open()**, **read()**, **print()** and **close()** as discussed before but within the same code block. \n",
    "\n",
    "Note that as soon as you leave the indented block, you cannot do anything to the file.\n",
    "\n",
    "# Variations on the open() method: 'for line in file'\n",
    "\n",
    "The options above loaded the file as a block of text. To continue working with it as data, you would have to use functions and methods to split it or manipulate it in different ways. \n",
    "\n",
    "Another option is to create a file handle and then do something to the data, line by line.\n",
    "\n",
    "`myfile= open('filename', 'mode')\n",
    "for line in myfile:\n",
    "    print(line)`\n",
    "    \n",
    "This can be combined with loops and conditionals to select and manipulate specific lines from the file.\n",
    "\n",
    "`myfile= open('filename', 'mode')\n",
    "for line in myfile:\n",
    "    if line.startswith('This'): # find lines that start with \"This\"\n",
    "        print(line)`\n",
    "\n",
    "In our example, we might want to open the file in question and print only the lines that mention the raven:"
   ]
  },
  {
   "cell_type": "code",
   "execution_count": null,
   "metadata": {},
   "outputs": [],
   "source": [
    "theRaven=open('Other_Files/TheRaven.txt','r')\n",
    "\n",
    "for line in theRaven:\n",
    "    if ' raven' in line:\n",
    "        print(line)"
   ]
  },
  {
   "cell_type": "markdown",
   "metadata": {},
   "source": [
    "We could conceive of more sophisticated ways of using the 'for line' statement. For instance, we could count the number of lines in the poem:"
   ]
  },
  {
   "cell_type": "code",
   "execution_count": null,
   "metadata": {},
   "outputs": [],
   "source": [
    "count = 0\n",
    "\n",
    "theRaven=open('Other_Files/TheRaven.txt','r')\n",
    "\n",
    "for line in theRaven:\n",
    "    count=count+1\n",
    "print(count)"
   ]
  },
  {
   "cell_type": "markdown",
   "metadata": {},
   "source": [
    "We will learn about for loops and conditionals in detail on, which will allow you to create conditions like the ones exhibited above.\n",
    "\n",
    "# Writing output to file\n",
    "\n",
    "Just as you can use read() to read files, you can also export your output to a file with the **write()** method.\n",
    "\n",
    "Like read(), write() is a method of a file object. Thus, you can use open() with write() similarly to the ways described above to save data to a file. \n",
    "\n",
    "Write() takes strings and writes them into a file opened under write mode. This file can exist already, or you can create it; if a filename doesn't exist, it will be created in the current directory.\n",
    "\n",
    "Let's create a file for the number of lines in The Raven and export that value out to it:"
   ]
  },
  {
   "cell_type": "code",
   "execution_count": null,
   "metadata": {},
   "outputs": [],
   "source": [
    "with open('Other_Files/Ravencount.txt','w') as file:\n",
    "    file.write(str(count))"
   ]
  },
  {
   "cell_type": "code",
   "execution_count": null,
   "metadata": {},
   "outputs": [],
   "source": [
    "question(Q2)"
   ]
  },
  {
   "cell_type": "markdown",
   "metadata": {},
   "source": [
    "\n",
    "# Missing or Misspelled Filenames\n",
    "\n",
    "Open() accepts filenames or filepaths.\n",
    "\n",
    "Python will look for a filename in its current working directory. \n",
    "\n",
    "Alternatively, you can specify an absolute file path to help Python find your file.\n",
    "\n",
    "If you get an error, you can import this module and use this command to check the current working directory:\n",
    "\n",
    "`import os\n",
    "os.getcwd()`\n",
    "\n",
    "This can give you an indication as to whether Python is looking in the right folder for your file."
   ]
  },
  {
   "cell_type": "markdown",
   "metadata": {},
   "source": [
    "---\n",
    "# Opening Spreadsheets with Pandas\n",
    "\n",
    "Oftentimes, we don't have a text file, organized into lines, but a spreadsheet arranged into rows and columns. Common files are .csv or Excel files. \n",
    "\n",
    "**Pandas** is a module for data manipulation and analysis that provides a powerful solution for working with spreadsheet data.\n",
    "\n",
    ">A **Dataframe** is a data structure for storing tabular data in rows and columns.\n",
    "\n",
    "Pandas provides powerful methods for the manipulation, analysis and plotting of such data, and is worth getting to know from the beginning.\n",
    "\n",
    "We will introduce Pandas and dataframes here, and give a more in-depth lesson further on which will also explain how to access excel files.\n",
    "\n",
    "# Pandas.read_csv()\n",
    "\n",
    "The pandas.read_csv() method is similar to the file.read() method, but this is a method of pandas specifically designed for csv files. \n",
    "\n",
    "```python\n",
    "import pandas as pd\n",
    "\n",
    "data = pd.read_csv(\"filepath or name\")\n",
    "```\n",
    "\n",
    "1. We import the pandas module, giving it the convenient and conventional alias 'pd'\n",
    "\n",
    "2. We assign the variable \"data\" to the object we are creating for our file. We use the pandas.read_csv() method.\n",
    "\n",
    "The read_csv method requires a filepath or filename with its extension.\n",
    "\n",
    "There are many other options, including specifying rules for reading the header, specifying the encoding, etc., which are described in the pandas [documentation](https://pandas.pydata.org/pandas-docs/stable/reference/api/pandas.read_csv.html).\n",
    "\n",
    "Pandas will create a **Dataframe** for your spreadsheet, an object that allows you to display your data in rows and columns.\n",
    "\n",
    "DataFrames can be operated on. You can extract information, as well as append new data and perform queries.\n",
    "\n",
    "Let's open a CSV file with Pandas, and do some basic manipulation."
   ]
  },
  {
   "cell_type": "code",
   "execution_count": null,
   "metadata": {},
   "outputs": [],
   "source": [
    "import pandas as pd\n",
    "NGAData = pd.read_csv(\"Other_Files/NGAData/constituents.csv\")"
   ]
  },
  {
   "cell_type": "markdown",
   "metadata": {},
   "source": [
    "As we can see, we have created a variable for our data. This is a table of artworks from the National Gallery, with attributes that describe the pieces (including an ID for the object, the title, dates related to its creation, among other variables).\n",
    "\n",
    "Let's call it to see what we have:"
   ]
  },
  {
   "cell_type": "code",
   "execution_count": null,
   "metadata": {},
   "outputs": [],
   "source": [
    "NGAData.head()"
   ]
  },
  {
   "cell_type": "markdown",
   "metadata": {},
   "source": [
    "As seen above, pandas organizes the information into an object structured into rows and columns. \n",
    "\n",
    "In lesson 10, we present how to manipulate and work with DataFrames."
   ]
  },
  {
   "cell_type": "markdown",
   "metadata": {
    "slideshow": {
     "slide_type": "slide"
    }
   },
   "source": [
    "---\n",
    "# Accessing Python Modules\n",
    "\n",
    ">A **module** is a file containing Python definitions and statements. \n",
    "\n",
    "By packaging code into a module, developers save it into a file that can be accessed later or by other people. \n",
    "\n",
    "Modules can be imported into the main module. When you do this, you have access to functions, classes, variables and runnable code designed by others. You can thus use their definitions in your own projects.\n",
    "\n",
    "Because modules are files, they have to be installed on your system before being imported into your Python session in Jupyter.\n",
    "\n",
    "When you install Anaconda (the suite of programs that includes Jupyter), you also install a series of standard Python modules. If a module is not installed on your computer, you will have to install it manually.\n",
    "\n",
    "**Note:** If you are doing this tutorial online (on Binder), you are using an online environment where all necessary packages have been made available. **You do not need to install anything right now.** If you would like to install modules, we have made instructions available in the \"Installing Python and its Modules\" Lesson at the end of the course.\n",
    "\n",
    "---\n",
    "# Importing a Module\n",
    "\n",
    "To use a module once it is installed, you must access it in your Jupyter session. This is done with the import command.\n",
    "\n",
    "If you will be using a module within a notebook, you must import it. You will have to do this in every new file and session.\n",
    "\n",
    "This also means that you must run the import cell each time you open the file in a new session.\n",
    "\n",
    "The **import command** is simple:\n",
    "\n",
    "```python\n",
    "import module\n",
    "```\n",
    "    \n",
    "you can also give a package an alias for when you have to call its name:\n",
    "\n",
    "```python \n",
    "import module as md\n",
    "```\n",
    "\n",
    "This is conventional for some modules such as Pandas (pd) or NumPy (np), common modules for handling data.\n",
    "\n",
    "You can also import an object from within a module:\n",
    "\n",
    "```python\n",
    "from module import object\n",
    "```\n",
    "To import multiple objects, just separate them with a comma.\n",
    "\n",
    "The way you import a module has an effect on how you can call its objects to start using them.\n",
    "\n",
    "if you import the whole module, you will have to specify the name  of the module (or nickname, if you assigned one) as well as that of the object, separated by a period sign:\n",
    "\n",
    "```python\n",
    "import module as md\n",
    "myobject = md.object #create our own object of the imported object type\n",
    "```\n",
    "\n",
    "if you import the object alone, you can just call the object without specifying the module.\n",
    "\n",
    "```python\n",
    "from module import object\n",
    "myobject = object #create our own object of the imported object type\n",
    "```\n",
    "\n",
    "Let's test the import command and have some fun."
   ]
  },
  {
   "cell_type": "code",
   "execution_count": null,
   "metadata": {
    "slideshow": {
     "slide_type": "fragment"
    }
   },
   "outputs": [],
   "source": [
    "import ipycanvas"
   ]
  },
  {
   "cell_type": "markdown",
   "metadata": {
    "slideshow": {
     "slide_type": "fragment"
    }
   },
   "source": [
    "Above, we import a module for drawing in Python (remember to run it!)\n",
    "\n",
    "This command has made available to us the  functions, objects and classes designed by the creators of 'ipycanvas'."
   ]
  },
  {
   "cell_type": "markdown",
   "metadata": {
    "slideshow": {
     "slide_type": "subslide"
    }
   },
   "source": [
    "The help() function can give us a list of the module's attributes and objects."
   ]
  },
  {
   "cell_type": "code",
   "execution_count": null,
   "metadata": {
    "slideshow": {
     "slide_type": "fragment"
    }
   },
   "outputs": [],
   "source": [
    "help(ipycanvas) #run it!"
   ]
  },
  {
   "cell_type": "markdown",
   "metadata": {
    "slideshow": {
     "slide_type": "subslide"
    }
   },
   "source": [
    "And now we can call different functions, attributes and objects available from the ipycanvas module.\n",
    "\n",
    "Let's import their canvas function and create a blank canvas to work on:"
   ]
  },
  {
   "cell_type": "code",
   "execution_count": null,
   "metadata": {
    "slideshow": {
     "slide_type": "fragment"
    }
   },
   "outputs": [],
   "source": [
    "from ipycanvas import Canvas # Here we import a functionality that allows us to display our drawing as a canvas within Jupyter Notebooks\n",
    "canvas = Canvas(width=200, height=200) #We make our canvas\n",
    "canvas # show empty canvas"
   ]
  },
  {
   "cell_type": "markdown",
   "metadata": {
    "slideshow": {
     "slide_type": "subslide"
    }
   },
   "source": [
    "Now let's draw a two squares, one red and one blue, with their fill_rect function:"
   ]
  },
  {
   "cell_type": "code",
   "execution_count": null,
   "metadata": {
    "slideshow": {
     "slide_type": "fragment"
    }
   },
   "outputs": [],
   "source": [
    "canvas.fill_style= 'red' #Define the fill of our shapes to be red\n",
    "canvas.fill_rect(25, 25, 100, 100) #Create a 100x100 filled square starting at x=25, y=24,\n",
    "\n",
    "canvas.fill_style= 'blue' #Redefine the fill of our shapes to be blue\n",
    "canvas.fill_rect(125, 125, 50, 50) #Create a 100x100 filled square starting at x=25, y=24,\n",
    "\n",
    "canvas # display our canvas"
   ]
  },
  {
   "cell_type": "markdown",
   "metadata": {
    "slideshow": {
     "slide_type": "subslide"
    }
   },
   "source": [
    "Let's create some lines with their path, line and stroke functions:"
   ]
  },
  {
   "cell_type": "code",
   "execution_count": null,
   "metadata": {
    "slideshow": {
     "slide_type": "fragment"
    }
   },
   "outputs": [],
   "source": [
    "canvas.stroke_style='black' # Define black line color\n",
    "canvas.line_width = 4 # Define line width\n",
    "\n",
    "canvas.begin_path()  # Function that begins a path\n",
    "canvas.move_to(175,0)  # Function that moves our position\n",
    "canvas.line_to(175,200) # Function that traces a line to a new point\n",
    "canvas.move_to(0,175) # Move again\n",
    "canvas.line_to(200,175) # Line again\n",
    "canvas.stroke()  # Function that draws a stroke through all the lines we created\n",
    "\n",
    "for i in range(2):   # A few more lines (you will learn about for loops later)\n",
    "    canvas.begin_path()\n",
    "    canvas.move_to(25+100*i,0)\n",
    "    canvas.line_to(25+100*i,200)\n",
    "    canvas.move_to(0,25+100*i)\n",
    "    canvas.line_to(200,25+100*i)\n",
    "    canvas.stroke()"
   ]
  },
  {
   "cell_type": "code",
   "execution_count": null,
   "metadata": {
    "slideshow": {
     "slide_type": "subslide"
    }
   },
   "outputs": [],
   "source": [
    "canvas  #display canvas"
   ]
  },
  {
   "cell_type": "markdown",
   "metadata": {
    "slideshow": {
     "slide_type": "fragment"
    }
   },
   "source": [
    "With a few lines of code, we created a small Mondrianesque painting!"
   ]
  },
  {
   "cell_type": "markdown",
   "metadata": {
    "slideshow": {
     "slide_type": "subslide"
    }
   },
   "source": [
    "This was just a very simple example of creating art with Python coding. \n",
    "\n",
    "In Case X, we will play with creating generative art with Processing, another tool that accepts Python code for the creation of **generative art**, art partially or totally created by an autonomous system (the computer)."
   ]
  },
  {
   "cell_type": "markdown",
   "metadata": {},
   "source": [
    "---\n",
    "# Lesson Summary\n",
    "\n",
    "- The open() command creates a file handle, an object that serves as an access point to a file\n",
    "- read() and write() can be used on the file handle to extract or add information to a file.\n",
    "- The ```python with open() as file:```syntax helps ensure you close a file after finishing with it\n",
    "- ```for line in file:```acts on lines in a file individually\n",
    "- read() can be used in several ways\n",
    "- CSVs are easily accessed with the Pandas module's pandas.read_csv() function. \n",
    "- modules are files of pre-packaged code such as functions and objects.\n",
    "- the import command allows us to bring modules into our workspace.\n",
    "\n",
    "---\n",
    "# Further Resources\n",
    "\n",
    "[Python 4 Everybody - Files Lesson (video)](https://www.py4e.com/lessons/files)\n"
   ]
  },
  {
   "cell_type": "code",
   "execution_count": null,
   "metadata": {},
   "outputs": [],
   "source": []
  }
 ],
 "metadata": {
  "celltoolbar": "Slideshow",
  "kernelspec": {
   "display_name": "Python 3",
   "language": "python",
   "name": "python3"
  },
  "language_info": {
   "codemirror_mode": {
    "name": "ipython",
    "version": 3
   },
   "file_extension": ".py",
   "mimetype": "text/x-python",
   "name": "python",
   "nbconvert_exporter": "python",
   "pygments_lexer": "ipython3",
   "version": "3.7.6"
  }
 },
 "nbformat": 4,
 "nbformat_minor": 4
}
