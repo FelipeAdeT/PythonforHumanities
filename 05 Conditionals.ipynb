{
 "cells": [
  {
   "cell_type": "markdown",
   "metadata": {},
   "source": [
    "The next lessons (05,06,07) are focused on the syntactical structures that make Python such a powerful tool for automation.\n",
    "\n",
    "In this lesson we will look at the conditional structures that help us program Python to make decisions.  In Lesson 06, we will look at loops as a way of programming repetitive tasks. And in Lesson 07, we will explore storing our own code in custom-made functions.\n",
    "\n",
    "---\n",
    "# Conditionals and Comparisons\n",
    "\n",
    "Conditionals are statements that check True or False conditions to make decisions. \n",
    "\n",
    "In this lesson, we will learn to use **comparison operators** to craft conditional statements with **if**, **elif** and **else**.\n",
    "\n",
    "---\n",
    "## Lesson Goals:\n",
    "- Understand comparison operators\n",
    "- Distinguish between = (variable assignment) and == (equality comparison)\n",
    "- Understand membership operators & comparisons between text\n",
    "- Construct conditional statements with if, nested ifs, if-else and if-elif-else\n",
    "- Use try-except for error handling\n",
    "\n",
    "**Key Concepts:** if, elif, else, try, except, comparison operators, booleans, ==, in/not in, is/is not, nested ifs\n",
    "\n",
    "---\n",
    "# Comparison Operators\n",
    "\n",
    ">**Comparison operators** evaluate values without changing them.\n",
    "\n",
    "Statements with comparisons will return a **boolean value**, that is, a True or False value.\n",
    "\n",
    "Python's comparison operators are:\n",
    "\n",
    "| Operator | Meaning|\n",
    "| --- | ---|\n",
    "|**\\>** |greater than|\n",
    "|**\\>=**| greater than or equal to|\n",
    "|**==**| equal to **(!!)**|\n",
    "|**<** |less than|\n",
    "|**<=** |less than or equal to|\n",
    "|**!=** |not equal to|\n"
   ]
  },
  {
   "cell_type": "code",
   "execution_count": null,
   "metadata": {},
   "outputs": [],
   "source": [
    "1 < 2"
   ]
  },
  {
   "cell_type": "code",
   "execution_count": null,
   "metadata": {},
   "outputs": [],
   "source": [
    "1 > 2"
   ]
  },
  {
   "cell_type": "markdown",
   "metadata": {},
   "source": [
    "**!! Remember !!**\n",
    "\n",
    "A single equals sign assigns values to a variable.\n",
    "\n",
    "A double equals sign checks whether two items are equal.\n",
    "\n",
    "So here, we assign 1 to x:"
   ]
  },
  {
   "cell_type": "code",
   "execution_count": null,
   "metadata": {},
   "outputs": [],
   "source": [
    "x = 1"
   ]
  },
  {
   "cell_type": "markdown",
   "metadata": {},
   "source": [
    "And below, we are checking whether x is equal to two (as per the line above, it is not)."
   ]
  },
  {
   "cell_type": "code",
   "execution_count": null,
   "metadata": {},
   "outputs": [],
   "source": [
    "x == 2"
   ]
  },
  {
   "cell_type": "markdown",
   "metadata": {},
   "source": [
    "---\n",
    "# Strings and Comparisons\n",
    "\n",
    "Comparison operators also work with text data (strings), because strings are sequences of characters. \n",
    "\n",
    "**==** and **!=** return True and False respectively if two strings match exactly. \n",
    "\n",
    "The other operators will compare the strings based on character order, in other words, alphabetization. This order depends on the character table that is in use on your machine while executing the Python code and will be case sensitive unless you specify the string method upper() or lower()."
   ]
  },
  {
   "cell_type": "markdown",
   "metadata": {},
   "source": [
    "---\n",
    "## Boolean Operators\n",
    "\n",
    "Simple statements including comparisons can be combined to create complex conditions.\n",
    "\n",
    "**Boolean operators** allow us to evaluate more than one comparison simultaneously or modify a comparison. \n",
    "\n",
    "These include:\n",
    "\n",
    "|Operator| For True value:|\n",
    "| --- | ---|\n",
    "|**and** |Two conditions must be simultaneously true|\n",
    "|**or** |One or another condition must be true|\n",
    "|**not** |Negate a condition|"
   ]
  },
  {
   "cell_type": "code",
   "execution_count": null,
   "metadata": {},
   "outputs": [],
   "source": [
    "x=1\n",
    "x == 1 and x>2"
   ]
  },
  {
   "cell_type": "code",
   "execution_count": null,
   "metadata": {},
   "outputs": [],
   "source": [
    "x == 1 or x >2"
   ]
  },
  {
   "cell_type": "markdown",
   "metadata": {},
   "source": [
    "---\n",
    "# Identity and Membership Operators\n",
    "\n",
    ">**Identity operators** check whether two variables point to the same object. \n",
    "\n",
    "**is & is not**: Check whether a variable has a certain quality, returns True/False respectively.\n",
    "\n",
    ">**Membership operators** test whether an item is in a sequence, such as a list or other compound data structure. \n",
    "\n",
    "**in/not in**: Check whether a value exists in a sequence (or not), giving True/False respectively.\n",
    "\n",
    "This can be used to test whether an item is in a list, or a substring is in a string."
   ]
  },
  {
   "cell_type": "code",
   "execution_count": null,
   "metadata": {},
   "outputs": [],
   "source": [
    "#examples"
   ]
  },
  {
   "cell_type": "markdown",
   "metadata": {},
   "source": [
    "---\n",
    "# The if statement\n",
    "\n",
    "The if statement is a line of code that asks Python to check a condition before running a block of code.\n",
    "\n",
    "```python\n",
    "if <condition>:\n",
    "    statement 1\n",
    "    statement 2\n",
    "```\n",
    "\n",
    "It is formed by the reserved word **if** followed by our condition and a colon. Indented, new lines form part are the code that will only run if the condition is true. If the conditions is false, they will be skipped.\n",
    "\n",
    "<img src=\"Other_files/if.jpeg\" width=\"200\" >"
   ]
  },
  {
   "cell_type": "code",
   "execution_count": null,
   "metadata": {},
   "outputs": [],
   "source": [
    "# This condition is True, and should thus output the text\n",
    "x = 1\n",
    "\n",
    "if x < 2:  #Conditional statement that is True\n",
    "    print('x is smaller than 2') #Indented block indicating action"
   ]
  },
  {
   "cell_type": "code",
   "execution_count": null,
   "metadata": {},
   "outputs": [],
   "source": [
    "# This condition is False, and should not output anything.\n",
    "x = 1\n",
    "\n",
    "if x<0: # Conditional statement that is False\n",
    "    print('x is smaller than 0') #Indented block indicating action"
   ]
  },
  {
   "cell_type": "markdown",
   "metadata": {},
   "source": [
    "This type of if statement construction will get code to run only if a certain condition is met. But how do we ask the program to do one thing if a condition is True, and another if it is False?\n",
    "\n",
    "---\n",
    "# Either/or: If-else\n",
    "\n",
    "**else** is another reserved word that allows us to construct an alternative to an if statement.\n",
    "\n",
    "```python\n",
    "if condition :\n",
    "    code to run when condition is True\n",
    "else : \n",
    "    code to run when condition is False\n",
    "```\n",
    "\n",
    "Following an if block, an else block provides the action to perform if the condition was not fulfilled.\n",
    "\n",
    "Starting at the same indentation level as the if statement (that is, de-indenting from the code block), else is followed by a semicolon and a new indented block with code.\n",
    "\n",
    "<img src=\"Other_files/ifelse.jpeg\" width=\"200\" >\n",
    "\n",
    "The else statement is optional. When omitted, a False condition will yield no output, just skip over the conditional code, as we saw before."
   ]
  },
  {
   "cell_type": "code",
   "execution_count": null,
   "metadata": {},
   "outputs": [],
   "source": [
    "x = 1\n",
    "\n",
    "if x < 0:\n",
    "    print('x is smaller than 0')\n",
    "else:\n",
    "    print('x is greater than 0')"
   ]
  },
  {
   "cell_type": "markdown",
   "metadata": {},
   "source": [
    "## Multi-way branching: If-elif-else:\n",
    "\n",
    "**elif** is another reserved word in Python that allows us to add multiple conditions to an if statement. \n",
    "\n",
    "It can be added after an if and before an (optional) else clause.\n",
    "\n",
    "```python\n",
    "if condition1 :\n",
    "    code to run when condition1 is True\n",
    "elif condition2 :\n",
    "    code to run when condition1 is False \n",
    "    and condition2 is True\n",
    "else:\n",
    "    code to run when condition1 \n",
    "    and condition2 are False\n",
    "```\n",
    "\n",
    "<img src=\"Other_files/ifelifelse.jpeg\" width=\"300\" >\n",
    "\n",
    "In this example, we include one elif clause, but we can use multiple elif statements."
   ]
  },
  {
   "cell_type": "code",
   "execution_count": null,
   "metadata": {},
   "outputs": [],
   "source": [
    "x = 1"
   ]
  },
  {
   "cell_type": "code",
   "execution_count": null,
   "metadata": {},
   "outputs": [],
   "source": [
    "x = 1\n",
    "\n",
    "if x < 0:\n",
    "    print('x is smaller than 0')\n",
    "elif x<5:\n",
    "    print('x is smaller than 5')\n",
    "else:\n",
    "    print('x is greater than 5')"
   ]
  },
  {
   "cell_type": "markdown",
   "metadata": {},
   "source": [
    "When using elif, **the order of conditions matters.**\n",
    "\n",
    "If condition 1 is evaluated as True, condition 2 will not be checked. \n",
    "\n",
    "This could lead to unexpected program choices if your if statements have not been designed carefully. \n",
    "\n",
    "For instance, in the code below, the elif statement will never be tested. Whatever the value of x, we will never get the message \"x is less than 0\"."
   ]
  },
  {
   "cell_type": "code",
   "execution_count": null,
   "metadata": {},
   "outputs": [],
   "source": [
    "if x<5:\n",
    "    print(\"x is less than 5\")\n",
    "elif x<0:\n",
    "    print(\"x is less than 0\")\n",
    "else:\n",
    "    print(\"x is greater than 5\")"
   ]
  },
  {
   "cell_type": "markdown",
   "metadata": {},
   "source": [
    "---\n",
    "# If-And: Nested ifs\n",
    "\n",
    "In lesson 02, we saw that code blocks can be **nested** by increasing indentation. This means that one code block will run within another.\n",
    "\n",
    "Nesting if statements will result in two conditions that need to be satisfied for the innermost code to run. \n",
    "\n",
    "For instance:\n",
    "\n",
    "```python\n",
    "if <condition1>:\n",
    "    <statement A>\n",
    "    if <condition 2>\n",
    "        <statement B>\n",
    "```\n",
    "\n",
    "<img src=\"Other_files/nestedif.jpeg\" width=\"300\" >"
   ]
  },
  {
   "cell_type": "code",
   "execution_count": null,
   "metadata": {},
   "outputs": [],
   "source": [
    "x=1\n",
    "\n",
    "if x<5:\n",
    "    print(\"x is less than 5\")\n",
    "    if x<0:\n",
    "        print(\"x is also less than 0\")\n",
    "else:\n",
    "    print(\"x is more than 5\")"
   ]
  },
  {
   "cell_type": "markdown",
   "metadata": {},
   "source": [
    "So in our example above, using a nested if to check for the second condition allows us to evaluate both. You can play with the value of x to see how the results change. \n",
    "\n",
    "In short, if, elif and else and nested ifs can be used to create conditional structures with multiple branches."
   ]
  },
  {
   "cell_type": "markdown",
   "metadata": {},
   "source": [
    "---\n",
    "# Try-Except: Handling foreseeable errors\n",
    "\n",
    "Try-except is a different conditional construction that allows us to handle potential errors. As soon as your program runs into a traceback, or error, it will normally stop running. Using try and except allows you to continue running the program in spite of these errors.\n",
    "\n",
    "```python\n",
    "try:\n",
    "    code to try\n",
    "except:\n",
    "    code to execute if try fails\n",
    "```\n",
    "\n",
    "Code included in the **try** statement will run if there are no errors\n",
    "\n",
    "Code included in **except** will run if an error arises with the code in the try statement.\n",
    "\n",
    "You can include multiple lines within try, but be aware that as soon as an exception arises, the program will move to except. This means that if there were lines in your block that had not yet been executed, they will not be executed."
   ]
  },
  {
   "cell_type": "code",
   "execution_count": null,
   "metadata": {},
   "outputs": [],
   "source": [
    "# this is actually quite relevant, for example with \n",
    "# substring positions that don't exist. Need to transmit \n",
    "# this relevance.\n",
    "# Or for example, user inputting invalid data"
   ]
  },
  {
   "cell_type": "markdown",
   "metadata": {},
   "source": [
    "---\n",
    "# Lesson Summary\n",
    "\n",
    "- Comparison operators evaluate statements that juxtapose two variables or values by giving a True or False value\n",
    "- == (double equals sign) is the operator for testing for equality, because = (single equals sign) is already used for assigning variables\n",
    "- Strings are compared by alphabetical order, based on your computer's character set. \n",
    "- Membership operators in-not in and is-is not test whether a value is in a set.\n",
    "- The if statement creates a code that is run conditionally if a comparison returns True\n",
    "- The else statement provides an alternative, if the comparison returns False\n",
    "- Elif and nesting ifs allow us to insert additional conditions, replicating OR or AND statements.\n",
    "\n",
    "---\n",
    "# Further Resources\n",
    "\n",
    "[Python 4 Everybody - Conditional Execution](https://www.py4e.com/lessons/logic)"
   ]
  },
  {
   "cell_type": "code",
   "execution_count": null,
   "metadata": {},
   "outputs": [],
   "source": []
  }
 ],
 "metadata": {
  "kernelspec": {
   "display_name": "Python 3",
   "language": "python",
   "name": "python3"
  },
  "language_info": {
   "codemirror_mode": {
    "name": "ipython",
    "version": 3
   },
   "file_extension": ".py",
   "mimetype": "text/x-python",
   "name": "python",
   "nbconvert_exporter": "python",
   "pygments_lexer": "ipython3",
   "version": "3.7.6"
  }
 },
 "nbformat": 4,
 "nbformat_minor": 4
}
