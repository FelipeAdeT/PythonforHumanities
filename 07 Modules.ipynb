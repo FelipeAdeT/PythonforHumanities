{
 "cells": [
  {
   "cell_type": "markdown",
   "metadata": {},
   "source": [
    "# Lesson 07: Python Modules \n",
    "\n",
    "In the lessons before, we focused on some of the built-in functionalities of Python. The existence of many **modules**, or code files that have been created and packaged by third parties, is one of Python's great strengths, expanding the possibilities of the language to include many useful objects and functions.\n",
    "\n",
    "We did occasionally import modules; in this lesson we will look at the different ways the import statement can be structured."
   ]
  },
  {
   "cell_type": "code",
   "execution_count": null,
   "metadata": {},
   "outputs": [],
   "source": [
    "#Run this cell to import lesson questions\n",
    "from QuestionsModules import Q1, Q2, Q3, Q4, question, solution"
   ]
  },
  {
   "cell_type": "markdown",
   "metadata": {},
   "source": [
    "---\n",
    "## Lesson Objectives\n",
    "\n",
    "- Understand modules\n",
    "- Import modules\n",
    "\n",
    "**Key Concepts:** module, import"
   ]
  },
  {
   "cell_type": "markdown",
   "metadata": {
    "slideshow": {
     "slide_type": "slide"
    }
   },
   "source": [
    "---\n",
    "# Accessing Python Modules\n",
    "\n",
    ">A **module** is a file containing Python definitions and statements. \n",
    "\n",
    "By packaging code into a module, developers save it into a file that can be accessed later or by other people. \n",
    "\n",
    "Modules can be imported into the main module. When you do this, you have access to functions, classes, variables and runnable code designed by others. You can thus use their definitions in your own projects.\n",
    "\n",
    "Because modules are files, they have to be installed on your system before being imported into your Python session in Jupyter.\n",
    "\n",
    "When you install Anaconda (the suite of programs that includes Jupyter), you also install a series of standard Python modules. If a module is not installed on your computer, you will have to install it manually.\n",
    "\n",
    "**Note:** If you are doing this tutorial online (on Binder), you are using an online environment where all necessary packages have been made available. **You do not need to install anything right now.** If you would like to install modules, we have made instructions available in the \"Installing Python and its Modules\" Lesson at the end of the course.\n",
    "\n",
    "---\n",
    "# Importing a Module\n",
    "\n",
    "To use a module once it is installed, you must access it in your Jupyter session. This is done with the import command.\n",
    "\n",
    "If you will be using a module within a notebook, you must import it. You will have to do this in every new file and session.\n",
    "\n",
    "This also means that you must run the import cell each time you open the file in a new session.\n",
    "\n",
    "The **import command** is simple:\n",
    "\n",
    "```python\n",
    "import module\n",
    "```\n",
    "    \n",
    "you can also give a package an alias for when you have to call its name:\n",
    "\n",
    "```python \n",
    "import module as md\n",
    "```\n",
    "\n",
    "This is conventional for some modules such as Pandas (pd) or NumPy (np), common modules for handling data.\n",
    "\n",
    "You can also import an object from within a module:\n",
    "\n",
    "```python\n",
    "from module import object\n",
    "```\n",
    "To import multiple objects, just separate them with a comma.\n",
    "\n",
    "The way you import a module has an effect on how you can call its objects to start using them.\n",
    "\n",
    "if you import the whole module, you will have to specify the name  of the module (or nickname, if you assigned one) as well as that of the object, separated by a period sign:\n",
    "\n",
    "```python\n",
    "import module as md\n",
    "myobject = md.object #create our own object of the imported object type\n",
    "```\n",
    "\n",
    "if you import the object alone, you can just call the object without specifying the module.\n",
    "\n",
    "```python\n",
    "from module import object\n",
    "myobject = object #create our own object of the imported object type\n",
    "```\n",
    "\n",
    "Let's test the import command and have some fun."
   ]
  },
  {
   "cell_type": "code",
   "execution_count": null,
   "metadata": {
    "slideshow": {
     "slide_type": "fragment"
    }
   },
   "outputs": [],
   "source": [
    "import ipycanvas"
   ]
  },
  {
   "cell_type": "markdown",
   "metadata": {
    "slideshow": {
     "slide_type": "fragment"
    }
   },
   "source": [
    "Above, we import a module for drawing in Python (remember to run it!)\n",
    "\n",
    "This command has made available to us the  functions, objects and classes designed by the creators of 'ipycanvas'."
   ]
  },
  {
   "cell_type": "markdown",
   "metadata": {
    "slideshow": {
     "slide_type": "subslide"
    }
   },
   "source": [
    "The help() function can give us a list of the module's attributes and objects."
   ]
  },
  {
   "cell_type": "code",
   "execution_count": null,
   "metadata": {
    "slideshow": {
     "slide_type": "fragment"
    }
   },
   "outputs": [],
   "source": [
    "help(ipycanvas) #run it!"
   ]
  },
  {
   "cell_type": "markdown",
   "metadata": {
    "slideshow": {
     "slide_type": "subslide"
    }
   },
   "source": [
    "And now we can call different functions, attributes and objects available from the ipycanvas module.\n",
    "\n",
    "Let's import their canvas function and create a blank canvas to work on:"
   ]
  },
  {
   "cell_type": "code",
   "execution_count": null,
   "metadata": {
    "slideshow": {
     "slide_type": "fragment"
    }
   },
   "outputs": [],
   "source": [
    "from ipycanvas import Canvas # Here we import a functionality that allows us to display our drawing as a canvas within Jupyter Notebooks\n",
    "canvas = Canvas(width=200, height=200) #We make our canvas\n",
    "canvas # show empty canvas"
   ]
  },
  {
   "cell_type": "markdown",
   "metadata": {
    "slideshow": {
     "slide_type": "subslide"
    }
   },
   "source": [
    "Now let's draw a two squares, one red and one blue, with their fill_rect function:"
   ]
  },
  {
   "cell_type": "code",
   "execution_count": null,
   "metadata": {
    "slideshow": {
     "slide_type": "fragment"
    }
   },
   "outputs": [],
   "source": [
    "canvas.fill_style= 'red' #Define the fill of our shapes to be red\n",
    "canvas.fill_rect(25, 25, 100, 100) #Create a 100x100 filled square starting at x=25, y=24,\n",
    "\n",
    "canvas.fill_style= 'blue' #Redefine the fill of our shapes to be blue\n",
    "canvas.fill_rect(125, 125, 50, 50) #Create a 100x100 filled square starting at x=25, y=24,\n",
    "\n",
    "canvas # display our canvas"
   ]
  },
  {
   "cell_type": "markdown",
   "metadata": {
    "slideshow": {
     "slide_type": "subslide"
    }
   },
   "source": [
    "Let's create some lines with their path, line and stroke functions:"
   ]
  },
  {
   "cell_type": "code",
   "execution_count": null,
   "metadata": {
    "slideshow": {
     "slide_type": "fragment"
    }
   },
   "outputs": [],
   "source": [
    "canvas.stroke_style='black' # Define black line color\n",
    "canvas.line_width = 4 # Define line width\n",
    "\n",
    "canvas.begin_path()  # Function that begins a path\n",
    "canvas.move_to(175,0)  # Function that moves our position\n",
    "canvas.line_to(175,200) # Function that traces a line to a new point\n",
    "canvas.move_to(0,175) # Move again\n",
    "canvas.line_to(200,175) # Line again\n",
    "canvas.stroke()  # Function that draws a stroke through all the lines we created\n",
    "\n",
    "for i in range(2):   # A few more lines (you will learn about for loops later)\n",
    "    canvas.begin_path()\n",
    "    canvas.move_to(25+100*i,0)\n",
    "    canvas.line_to(25+100*i,200)\n",
    "    canvas.move_to(0,25+100*i)\n",
    "    canvas.line_to(200,25+100*i)\n",
    "    canvas.stroke()"
   ]
  },
  {
   "cell_type": "code",
   "execution_count": null,
   "metadata": {
    "slideshow": {
     "slide_type": "subslide"
    }
   },
   "outputs": [],
   "source": [
    "canvas  #display canvas"
   ]
  },
  {
   "cell_type": "markdown",
   "metadata": {
    "slideshow": {
     "slide_type": "fragment"
    }
   },
   "source": [
    "With a few lines of code, we created a small Mondrianesque painting!"
   ]
  },
  {
   "cell_type": "markdown",
   "metadata": {
    "slideshow": {
     "slide_type": "subslide"
    }
   },
   "source": [
    "This was just a very simple example of creating art with Python coding. \n",
    "\n",
    "In Case X, we will play with creating generative art with Processing, another tool that accepts Python code for the creation of **generative art**, art partially or totally created by an autonomous system (the computer)."
   ]
  },
  {
   "cell_type": "markdown",
   "metadata": {},
   "source": [
    "---\n",
    "# Lesson Summary\n",
    "\n",
    "- modules are files of pre-packaged code such as functions and objects.\n",
    "- the import command allows us to bring modules into our workspace."
   ]
  }
 ],
 "metadata": {
  "kernelspec": {
   "display_name": "Python 3",
   "language": "python",
   "name": "python3"
  },
  "language_info": {
   "codemirror_mode": {
    "name": "ipython",
    "version": 3
   },
   "file_extension": ".py",
   "mimetype": "text/x-python",
   "name": "python",
   "nbconvert_exporter": "python",
   "pygments_lexer": "ipython3",
   "version": "3.7.6"
  }
 },
 "nbformat": 4,
 "nbformat_minor": 4
}
