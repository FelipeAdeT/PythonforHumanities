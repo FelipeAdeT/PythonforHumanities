{
 "cells": [
  {
   "cell_type": "markdown",
   "metadata": {},
   "source": [
    "# A tour of Jupyter Notebooks\n",
    "\n",
    "Jupyter notebooks provide an environment where code and prose can be run and presented simultaneously. They are a great tool for documenting projects, teaching and experimenting. \n",
    "\n",
    "The files included in this resource are all on Jupyter notebook files. Some have been formatted to open as slide presentations; once you close the slides, you will see the notebook itself.\n",
    "\n",
    "In this lesson, we will learn how to work with Jupyter Notebooks."
   ]
  },
  {
   "cell_type": "markdown",
   "metadata": {},
   "source": [
    "\n",
    "\n",
    "# Installing Jupyter Notebooks\n",
    "\n",
    "The easiest way to install Python, Jupyter Notebooks and a suite of other programs is to download the Anaconda package:\n",
    "\n",
    "Go to https://www.anaconda.com/distribution/ and choose the appropriate package for your operating system. Open the file to install, and follow the regular procedure for installing any software.\n",
    "\n",
    "If you already have Python and don't want to install Anaconda, you can install Jupyter separately through the Terminal or Command Line. Just open it and run the code\n",
    "    ```pip3 install jupyter```."
   ]
  },
  {
   "cell_type": "markdown",
   "metadata": {},
   "source": [
    "# Launching Jupyter Notebooks\n",
    "\n",
    "With Anaconda, open the Anaconda app like any other software. Then click Launch Jupyter Notebook.\n",
    "\n",
    "Alternatively, open a terminal window (mac)/ command prompt (win) and run\n",
    "```jupyter notebook```\n",
    "\n",
    "These options will open a window or tab in your default browser, where Jupyter is always accessed."
   ]
  },
  {
   "cell_type": "markdown",
   "metadata": {},
   "source": [
    "# Navigating the Jupyter Notebook Interface\n",
    "\n",
    "The interface will display your home directory.\n",
    "\n",
    "The buttons on the upper right allow you to upload files (Upload) and create new files and folders (New).\n",
    "\n",
    "# Creating Folders and Files\n",
    "\n",
    "You can create folders on the interface to organize your notebooks.\n",
    "    ```New -- Folder```\n",
    "\n",
    "Click on the checkbox to the left of the new Untitled Folder\n",
    "Click Rename, which should now appear under the \"Files\" tab.\n",
    "\n",
    "You can also create new Notebook files:\n",
    "    ```New -- Notebook: Python```\n",
    "    \n",
    "This will open the new file automatically. You can rename it and start working.\n",
    "    \n",
    "You can also create other files such as text files. \n",
    "\n",
    "Alternatively, these things can all be done through your Finder/ File explorer by creating folders and files. Notebook files end in .ipynb.\n",
    "\n",
    "# Accessing existing files\n",
    "\n",
    "You can access preexisting files by clicking on their filename in the central panel. \n",
    "\n",
    "Alternatively, without opening the interface, you can access files through the terminal:\n",
    "    ```jupyter notebook filename.ipynb```"
   ]
  },
  {
   "cell_type": "markdown",
   "metadata": {},
   "source": [
    "# Anatomy of a Jupyter Notebook\n",
    "\n",
    "When you enter a Jupyter notebook, you will find yourself in a word-like environment with two ribbons above that allow for different actions. \n",
    "\n",
    "Several shortcuts for these actions exist. See Help - Keyboard Shortcuts for the full list."
   ]
  },
  {
   "cell_type": "markdown",
   "metadata": {},
   "source": [
    "# Cells\n",
    "\n",
    "A notebook is made up of cells: boxes that contain code or human-readable text. Every cell has a type, which can be selected from the drop-down options in the menu. The default option is “Code”; human-readable text boxes should use the “Markdown” type, and will need to be written using Markdown formatting conventions.\n",
    "\n",
    "When using Jupyter notebooks, you can create a cell by clicking  the **+** button in the ribbon, or ```shift + enter``` on your keyboard.\n",
    "\n",
    "You can also create cells above and below an existing cell by clicking to the left of the cell and pressing A or B respectively.\n",
    "\n",
    "Finally, you can change cell order with the arrow buttons above."
   ]
  },
  {
   "cell_type": "markdown",
   "metadata": {},
   "source": [
    "You can use cells to write code or text. Cells are in code mode by default, and can be switched to Markdown by c going to the white ribbon above and switching from ```Code``` to ```Markdown```. \n",
    "\n",
    "Markdown is straightforward to use; the basic formatting syntax is available [here](https://help.github.com/en/github/writing-on-github/basic-writing-and-formatting-syntax)."
   ]
  },
  {
   "cell_type": "markdown",
   "metadata": {},
   "source": [
    "Whether text or code, the step after writing the content of a cell is to run it. You can run a cell by clicking the ```Run```button in the ribbon. Alternatively, you can press ```shift + enter```.\n",
    "\n",
    "Running a cell will render any markdown text with proper formatting, or it will execute any code within the cell."
   ]
  },
  {
   "cell_type": "markdown",
   "metadata": {},
   "source": [
    "The number in brackets to the left of a code cell indicates the order in which the cell was run. When you re-run a cell, this number is updated. If a cell is still running, the brackets will contain an *."
   ]
  },
  {
   "cell_type": "markdown",
   "metadata": {},
   "source": [
    "# Saving\n",
    "\n",
    "Jupyter autosaves your work periodically, and provides checkpoints that you can revert to if something went wrong with your code.\n",
    "\n",
    "You should still save your work with the save icon in the ribbon, to avoid losing any work.\n",
    "\n",
    "You can download the Jupyter Notebook in different file formats by going to ```File - Download as```.\n",
    "\n",
    "GitHub also supports uploading Jupyter Notebooks, and is a great and common way to share code. These notebooks will not be interactive, but a static rendering of the file. Users can download these files. "
   ]
  },
  {
   "cell_type": "markdown",
   "metadata": {},
   "source": [
    "These instructions were adapted from a Programming Historian Lesson titled [Introduction to Jupyter Notebooks](https://programminghistorian.org/en/lessons/jupyter-notebooks)"
   ]
  },
  {
   "cell_type": "markdown",
   "metadata": {},
   "source": [
    "From Eric's workshop\n",
    "\n",
    "ls command\n",
    "\n",
    "%whos for seeing named objects\n",
    "\n",
    "Rendering on Github\n",
    "\n",
    "Markdown syntax\n",
    "Markdown: Simplified HTML\n",
    "\n",
    "adding cells with B and A, deleting with X\n",
    "\n",
    "    Markdown cheatsheet (EMonson Github) https://guides.github.com/pdfs/markdown-cheatsheet-online.pdf\n",
    "# Header\n",
    "\n",
    "https://www.datacamp.com/community/tutorials/tutorial-jupyter-notebook"
   ]
  }
 ],
 "metadata": {
  "kernelspec": {
   "display_name": "Python 3",
   "language": "python",
   "name": "python3"
  },
  "language_info": {
   "codemirror_mode": {
    "name": "ipython",
    "version": 3
   },
   "file_extension": ".py",
   "mimetype": "text/x-python",
   "name": "python",
   "nbconvert_exporter": "python",
   "pygments_lexer": "ipython3",
   "version": "3.7.6"
  }
 },
 "nbformat": 4,
 "nbformat_minor": 4
}
