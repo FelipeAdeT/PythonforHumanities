{
 "cells": [
  {
   "cell_type": "markdown",
   "metadata": {},
   "source": [
    "# Installing Python\n",
    "\n",
    "Python can be installed a number of ways. Mac computers come with a version of Python preinstalled. \n",
    "\n",
    "Mac instructions versus Windows instructions"
   ]
  },
  {
   "cell_type": "code",
   "execution_count": 1,
   "metadata": {},
   "outputs": [],
   "source": [
    "## Checking your version of Python\n"
   ]
  },
  {
   "cell_type": "markdown",
   "metadata": {},
   "source": [
    "## Python and Jupyter installation through Anaconda\n",
    "\n",
    "These easiest way to install Python, Jupyter, and the necessary packages is through Anaconda. To download and install Anaconda:\n",
    "\n",
    "1. Visit the [Anaconda download page](https://www.anaconda.com/distribution/)\n",
    "2. Select your appropriate operating system\n",
    "3. Click the \"Download\" button for Python 3.7 - this will begin to download the Anaconda installer\n",
    "4. Open the installer when the download completes, and then follow the prompts. If you are prompted about installing PyCharm, elect **not** to do so.\n",
    "5. Once installed, open the Anaconda Navigator and launch a Jupyter Notebook to ensure it works.\n",
    "6. Follow [the package installation instructions](https://docs.anaconda.com/anaconda/navigator/tutorials/manage-packages/#installing-a-package) to ensure `pandas` and `seaborn` packages are installed.\n",
    "\n",
    "      Download instructions taken from https://github.com/uc-python/intro-python-datasci\n",
    "      \n",
    "### Module installation through Jupyter\n",
    "\n"
   ]
  },
  {
   "cell_type": "markdown",
   "metadata": {},
   "source": [
    "## Python installation through Homebrew\n",
    "\n",
    "### Module installation\n",
    "\n"
   ]
  },
  {
   "cell_type": "markdown",
   "metadata": {},
   "source": [
    "How to Run Python Code\n",
    "Python is a flexible language, and there are several ways to use it depending on your particular task. One thing that distinguishes Python from other programming languages is that it is interpreted rather than compiled. This means that it is executed line by line, which allows programming to be interactive in a way that is not directly possible with compiled languages like Fortran, C, or Java. This section will describe four primary ways you can run Python code: the Python interpreter, the IPython interpreter, via self- contained scripts, or in the Jupyter notebook.\n",
    "The Python interpreter\n",
    "The most basic way to execute Python code is line by line within the Python interpreter. The Python interpreter can be started by instal‐ ling the Python language (see the previous section) and typing python at the command prompt (look for the Terminal on Mac OS X and Unix/Linux systems, or the Command Prompt application in Windows):\n",
    "    $ python\n",
    "    Python 3.5.1 |Continuum Analytics, Inc.| (default, Dec  7...\n",
    "    Type \"help\", \"copyright\", \"credits\" or \"license\" for more...\n",
    "    >>>\n",
    "    \n",
    "    \n",
    "    With the interpreter running, you can begin to type and execute code snippets. Here we’ll use the interpreter as a simple calculator, performing calculations and assigning values to variables:\n",
    ">>>1+1 2 >>>x=5 >>>x*3 15\n",
    "The interpreter makes it very convenient to try out small snippets of Python code and to experiment with short sequences of operations.\n",
    "The IPython interpreter\n",
    "If you spend much time with the basic Python interpreter, you’ll find that it lacks many of the features of a full-fledged interactive development environment. An alternative interpreter called IPython (for Interactive Python) is bundled with the Anaconda distribution, and includes a host of convenient enhancements to the basic Python interpreter. It can be started by typing ipython at the command prompt:\n",
    "    $ ipython\n",
    "    Python 3.5.1 |Continuum Analytics, Inc.| (default, Dec  7...\n",
    "    Type \"copyright\", \"credits\" or \"license\" for more information.\n",
    "    IPython 4.0.0 -- An enhanced Interactive Python.\n",
    "    ?         -> Introduction and overview of IPython's features.\n",
    "    %quickref -> Quick reference.\n",
    "    help      -> Python's own help system.\n",
    "    object?   -> Details about 'object', use 'object??' for extra...\n",
    "In [1]:\n",
    "The main aesthetic difference between the Python interpreter and the enhanced IPython interpreter lies in the command prompt: Python uses >>> by default, while IPython uses numbered com‐ mands (e.g., In [1]:). Regardless, we can execute code line by line just as we did before:\n",
    "In[1]:1+1 Out[1]: 2\n",
    "In[2]:x=5 In[3]:x*3\n",
    "Out[3]: 15\n",
    "\n",
    "Note that just as the input is numbered, the output of each com‐ mand is numbered as well. IPython makes available a wide array of useful features; for some suggestions on where to read more, see “Resources for Further Learning” on page 90.\n",
    "Self-contained Python scripts\n",
    "Running Python snippets line by line is useful in some cases, but for more complicated programs it is more convenient to save code to file, and execute it all at once. By convention, Python scripts are saved in files with a .py extension. For example, let’s create a script called test.py that contains the following:\n",
    "    # file: test.py\n",
    "print(\"Running test.py\") x=5\n",
    "print(\"Result is\", 3 * x)\n",
    "To run this file, we make sure it is in the current directory and type python filename at the command prompt:\n",
    "    $ python test.py\n",
    "    Running test.py\n",
    "    Result is 15\n",
    "For more complicated programs, creating self-contained scripts like this one is a must.\n",
    "The Jupyter notebook\n",
    "A useful hybrid of the interactive terminal and the self-contained script is the Jupyter notebook, a document format that allows exe‐ cutable code, formatted text, graphics, and even interactive features to be combined into a single document. Though the notebook began as a Python-only format, it has since been made compatible with a large number of programming languages, and is now an essential part of the Jupyter Project. The notebook is useful both as a develop‐ ment environment and as a means of sharing work via rich compu‐ tational and data-driven narratives that mix together code, figures, data, and text."
   ]
  }
 ],
 "metadata": {
  "kernelspec": {
   "display_name": "Python 3",
   "language": "python",
   "name": "python3"
  },
  "language_info": {
   "codemirror_mode": {
    "name": "ipython",
    "version": 3
   },
   "file_extension": ".py",
   "mimetype": "text/x-python",
   "name": "python",
   "nbconvert_exporter": "python",
   "pygments_lexer": "ipython3",
   "version": "3.7.3"
  }
 },
 "nbformat": 4,
 "nbformat_minor": 4
}
