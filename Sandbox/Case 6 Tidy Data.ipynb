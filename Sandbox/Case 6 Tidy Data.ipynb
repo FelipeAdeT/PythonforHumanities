{
 "cells": [
  {
   "cell_type": "markdown",
   "metadata": {},
   "source": [
    "# Case 6: Data Cleaning (Tidy Data)\n",
    "\n",
    "Data semantics\n",
    "Datasets contain values\n",
    "Numbers (quantitative, or numerical)\n",
    "Strings (qualitative, or categorical)\n",
    "Dates + times (quantitative, or parts of dates and times can be categorical)\n",
    "Think of a table as a spreadsheet of values, describing the attributes of a type of thing which can be named, like people, corporations, phone numbers, trips people took, recipes, ingredients, experimental measurements, etc.\n",
    "The rows are the individual instances of that thing the table is recording\n",
    "The columns describe the various attributes of that individual instance of the thing\n",
    "So, every value belongs to a variable (column) and an observation (row)\n",
    "A variable contains all values of the same attribute (height, temperature, duration...)\n",
    "An observation contains all values recorded on one instance or unit (one person, one day, one trip, one company, one letter someone wrote...)\n",
    "\n",
    "\n",
    "A new way to think about the data\n",
    "The dataset contains 18 values representing 3 variables and 6 observations\n",
    "person, with three possible values (John, Mary and Jane)\n",
    "treatment, with two possible values (a and b)\n",
    "result, with five or six possible values, depending on how you think of the missing value (-, 16, 3, 2, 11, 1)\n",
    "Tidy data\n",
    "Tidy data is a standard way of mapping the meaning of a dataset to its structure. A dataset is messy or tidy depending on how rows, columns and tables are matched up with observations, variables and types.\n",
    "In tidy data\n",
    "Each variable forms a column\n",
    "Each observation forms a row\n",
    "Each type of observational unit forms a table\n",
    "messy data is any other arrangement of the data.\n",
    "\n",
    "Eric Monson's Workshops:\n",
    "\n",
    "https://library.capture.duke.edu/Panopto/Pages/Viewer.aspx?id=c592edf5-bfe7-45a8-ad09-f4a2a87532c6\n",
    "    \n",
    "Tidy Data in Python\n",
    "https://library.capture.duke.edu/Panopto/Pages/Viewer.aspx?id=d8a3efe2-48d7-4505-acd3-a943013c2442\n",
    "\n",
    "Structuring Humanities Data\n",
    "https://library.capture.duke.edu/Panopto/Pages/Viewer.aspx?id=e014fbae-2bf0-4048-8e67-9ec7b411c573\n",
    "\n",
    "https://github.com/emonson/tidy-data-python\n",
    "\n",
    "https://github.com/emonson/JupyterPythonIntro/blob/master/01_people_states_split.ipynb\n",
    "\n",
    "http://www.jeannicholashould.com/tidy-data-in-python.html\n",
    "\n"
   ]
  },
  {
   "cell_type": "markdown",
   "metadata": {},
   "source": [
    "Merging two data sets\n"
   ]
  },
  {
   "cell_type": "markdown",
   "metadata": {},
   "source": [
    "df.melt() specify columns you do not want to melt\n",
    "\n",
    "df.melt(id_vars=['column']) \n",
    "or\n",
    "df.melt(value_vars=[...]) will ignore other variables\n",
    "\n",
    "df.melt(id_vars=['column'], value_vars=[], var_name='name', value_name='name2')"
   ]
  }
 ],
 "metadata": {
  "kernelspec": {
   "display_name": "Python 3",
   "language": "python",
   "name": "python3"
  },
  "language_info": {
   "codemirror_mode": {
    "name": "ipython",
    "version": 3
   },
   "file_extension": ".py",
   "mimetype": "text/x-python",
   "name": "python",
   "nbconvert_exporter": "python",
   "pygments_lexer": "ipython3",
   "version": "3.7.6"
  }
 },
 "nbformat": 4,
 "nbformat_minor": 4
}
