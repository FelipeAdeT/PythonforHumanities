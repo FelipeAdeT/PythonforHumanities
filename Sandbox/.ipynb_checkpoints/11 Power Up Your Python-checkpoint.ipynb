{
 "cells": [
  {
   "cell_type": "markdown",
   "metadata": {},
   "source": [
    "### Navigation Reminder\n",
    "\n",
    "- **Grey cells** are **code cells**. Click inside them and type to edit.\n",
    "- **Run**  code cells by pressing $ \\triangleright $  in the toolbar above, or press ``` shift + enter```.\n",
    "-  **Stop** a running process by clicking &#9634; in the toolbar above.\n",
    "- You can **add new cells** by clicking to the left of a cell and pressing ```A``` (for above), or ```B``` (for below). \n",
    "- **Delete cells** by pressing ```X```.\n",
    "- Run all code cells that import objects (such as the one below) to ensure that you can follow exercises and examples.\n",
    "- Feel free to edit and experiment - you will not corrupt the original files."
   ]
  },
  {
   "cell_type": "markdown",
   "metadata": {},
   "source": [
    "# Lesson 11 Power Up Your Python\n",
    "\n",
    "In previous lessons, we learned some of the building blocks of Python as well as practical tools and methods for building your projects. \n",
    "\n",
    "At some point, however, you might find that you need more efficient ways of processing data. As you progress in your Python coding, you will notice that some of the processes that make Python so valuable can take a long time to execute with large files.\n",
    "\n",
    "In this lesson, we look at a few more advanced topics to improve your code, including mapping, list comprehensions, lambda functions, string formatting and magic commands. \n",
    "\n",
    "---\n",
    "Questions and exercises are distributed throughout this lesson. Please run the code cell below to import them before starting the lesson. The code will not produce any visible output, but exercises and questions will be loaded for later use."
   ]
  },
  {
   "cell_type": "code",
   "execution_count": null,
   "metadata": {},
   "outputs": [],
   "source": [
    "from QuestionsPYUP import "
   ]
  },
  {
   "cell_type": "markdown",
   "metadata": {},
   "source": [
    "---\n",
    "# Lesson Goals\n",
    "\n",
    "\n",
    "**Keywords:**"
   ]
  },
  {
   "cell_type": "markdown",
   "metadata": {},
   "source": [
    "# Error Handling : Try-Except\n",
    "\n",
    "Try-except is a conditional construction that allows us to handle potential errors. As soon as your program runs into an error, or traceback, it will normally stop running. Using try and except allows you to continue running the program in spite of these errors.\n",
    "\n",
    "```python\n",
    "try:\n",
    "    code to try\n",
    "except:\n",
    "    code to execute if try fails\n",
    "```\n",
    "\n",
    "Code included in the **try** statement will run if there are no errors\n",
    "\n",
    "Code included in **except** will run if an error arises with the code in the try statement.\n",
    "\n",
    "You can include multiple lines within try, but be aware that as soon as an exception arises, the program will move to except. This means that if there were lines in your block that had not yet been executed, they will not be executed.\n",
    "\n",
    "For instance, the code below runs through a list of musicians and bands with numbers in their names.  It uses the string method string.split() to divide each name into tokens (single words) based on the space character (by default). However, one of the elements of the list is an integer type. Remember that methods are functions belonging to a specific object type, so a string method will not work on an integer. It will give us an error. "
   ]
  },
  {
   "cell_type": "code",
   "execution_count": null,
   "metadata": {},
   "outputs": [],
   "source": [
    "artists = ['50 cent','4 Non Blondes', 'The 1975',702,'3 Doors DOwn']\n",
    "\n",
    "wordlist=[]\n",
    "for artist in artists:\n",
    "    wordlist.append(artist.split())"
   ]
  },
  {
   "cell_type": "markdown",
   "metadata": {},
   "source": [
    "Using try-except, we can let the code run despite there being the integer, and suggest an alternative action instead of creating an exception. For instance, we can convert the integer to a string:"
   ]
  },
  {
   "cell_type": "code",
   "execution_count": null,
   "metadata": {},
   "outputs": [],
   "source": [
    "artists = ['50 cent','4 Non Blondes', 'The 1975',702,'3 Doors Down']\n",
    "\n",
    "wordlist=[]\n",
    "for artist in artists:\n",
    "    try:\n",
    "        wordlist.append(artist.split())\n",
    "    except:\n",
    "        wordlist.append(str(artist).split())"
   ]
  },
  {
   "cell_type": "code",
   "execution_count": null,
   "metadata": {},
   "outputs": [],
   "source": [
    "wordlist"
   ]
  },
  {
   "cell_type": "markdown",
   "metadata": {},
   "source": [
    "**Exercise 1** The code below iterates through the items in 'wordlist', trying to convert each token (word) into an integer and adding them to an empty list called 'bandnumbers'. \n",
    "\n",
    "This will raise an exception for any tokens that are not numerical. \n",
    "\n",
    "Use try-except to avoid causing a traceback. You can use the argument 'pass' in the except clause to skip non-numerical words."
   ]
  },
  {
   "cell_type": "code",
   "execution_count": null,
   "metadata": {},
   "outputs": [],
   "source": [
    "bandnumbers = []\n",
    "for words in wordlist:\n",
    "    for token in words:\n",
    "            bandnumbers.append(int(token))"
   ]
  },
  {
   "cell_type": "code",
   "execution_count": null,
   "metadata": {},
   "outputs": [],
   "source": [
    "bandnumbers"
   ]
  },
  {
   "cell_type": "code",
   "execution_count": null,
   "metadata": {},
   "outputs": [],
   "source": [
    "solution(E1)"
   ]
  },
  {
   "cell_type": "code",
   "execution_count": null,
   "metadata": {},
   "outputs": [],
   "source": []
  },
  {
   "cell_type": "markdown",
   "metadata": {},
   "source": [
    "# Timing Code: Magic Commands on Jupyter\n",
    "\n",
    "IPython and Jupyter provide several handy **magic commands** that can be quite useful for your projects. \n",
    "\n",
    "Magic commands are accessed with *%* and can be applied to a line or a cell. Line magic commands are run with a single %, whereas cell magic commands are called with  two (%%).\n",
    "\n",
    "We will discuss two: \n",
    "\n",
    "```%time``` followed by the code you want to time will run it once and tell you how long it took to execute. \n",
    "\n",
    "```%timeit``` followed by the code that you want to time will run it many times and tell you the most accurate run time.\n",
    "\n",
    "Both can be used for lines (```%time``` or ```%timeit```) or for cells (```%%time``` or ```%%timeit```) and can be valuable resources for determining how long your code might take. \n",
    "\n",
    "See more: [IPython Magics Documentation](https://ipython.readthedocs.io/en/stable/interactive/magics.html)"
   ]
  },
  {
   "cell_type": "markdown",
   "metadata": {},
   "source": [
    "# Slow versus fast ways of doing things\n"
   ]
  },
  {
   "cell_type": "markdown",
   "metadata": {},
   "source": [
    "# List comprehensions\n",
    "\n",
    "List comprehensions create a list-building for-loop in a single line.\n",
    "\n",
    "```python\n",
    "[<expression(i)> for i in iterable]\n",
    "```\n",
    "\n",
    "In this construction, square brackets indicate that we are building a list. For every item in our iterable object, we will apply the expression and output an item into a list.\n",
    "\n",
    "This is the equivalent of a for-loop:\n",
    "\n",
    "```python\n",
    "lst =[] \n",
    "for i in iterable:\n",
    "    lst.append(<expression(i)>)\n",
    "```  \n",
    "\n",
    "List comprehensions are faster than for loops, and more concise. You can also include multiple iterators by including a second for specification. The list comprehension will iterate over all i before proceeding to the next j item. \n",
    "\n",
    "```python\n",
    "[<expression(i, j)> for i in iterable1 for j in iterable2]\n",
    "```\n",
    "The for-loop equivalent would be:\n",
    "\n",
    "```python\n",
    "lst =[]\n",
    "for j in iterable2:\n",
    "    for i in iterable1:\n",
    "        lst.append(expression(i,j))\n",
    "```\n",
    "\n",
    "We can also include conditionals on the iterator and on the value:\n",
    "\n",
    "```python\n",
    "#Listcomp with condition on the iterator\n",
    "[<expression(i)> for i in iterable if <condition on i>]\n",
    "\n",
    "#For-loop equivalent:\n",
    "lst=[]\n",
    "for i in iterable:\n",
    "    if <condition on i>:\n",
    "        lst.append(expression(i)\n",
    "\n",
    "# Listcomp with conditional on the value:    \n",
    "[<expression(i)> if <condition on expression(i)> for i in iterable ]\n",
    "\n",
    "#For-loop equivalent:\n",
    "lst = []\n",
    "for i in iterable:\n",
    "    if <condition on expression(i)>:\n",
    "        lst.append(expression(i))\n",
    "```"
   ]
  },
  {
   "cell_type": "markdown",
   "metadata": {},
   "source": [
    "# Mapping\n",
    "\n",
    "The built-in **map()** function applies a function to an iterable object (such as a list) and returns a map object(which is an iterator) of the results. This map object can then be turned into a list, tuple, etc.\n",
    "\n",
    "```python\n",
    "map(function,iterable)\n",
    "```"
   ]
  },
  {
   "cell_type": "markdown",
   "metadata": {},
   "source": [
    "# Lambda Functions\n",
    "\n",
    "The lambda keyword can help us **anonymous functions**, that is, functions that we have not defined with a name. This is useful for creating short, one-time use functions, often used within other functions.\n",
    "\n",
    "```python \n",
    "lambda arguments: <expression(arguments)>\n",
    "```\n",
    "\n",
    "These can be helpful within other functions, while working with large amounts of "
   ]
  },
  {
   "cell_type": "markdown",
   "metadata": {},
   "source": [
    "# String Formatting\n",
    "\n",
    "In this course, we formatted strings by concatenating them. \n",
    "\n",
    "https://realpython.com/python-formatted-output/\n",
    "\n"
   ]
  },
  {
   "cell_type": "markdown",
   "metadata": {},
   "source": [
    "---\n",
    "Lesson Summary\n",
    "\n",
    "\n",
    "<div style=\"text-align:center\">    \n",
    "  <a href=\"10%20Pandas%20II.ipynb\">Previous Lesson: Pandas II</a>\n",
    "</div>"
   ]
  }
 ],
 "metadata": {
  "kernelspec": {
   "display_name": "Python 3",
   "language": "python",
   "name": "python3"
  },
  "language_info": {
   "codemirror_mode": {
    "name": "ipython",
    "version": 3
   },
   "file_extension": ".py",
   "mimetype": "text/x-python",
   "name": "python",
   "nbconvert_exporter": "python",
   "pygments_lexer": "ipython3",
   "version": "3.7.6"
  }
 },
 "nbformat": 4,
 "nbformat_minor": 4
}
