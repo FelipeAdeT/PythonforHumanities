{
 "cells": [
  {
   "cell_type": "markdown",
   "metadata": {},
   "source": [
    "### Navigation Reminder\n",
    "\n",
    "- **Grey cells** are **code cells**. Click inside them and type to edit.\n",
    "- **Run**  code cells by pressing $ \\triangleright $  in the toolbar above, or press ``` shift + enter```.\n",
    "-  **Stop** a running process by clicking &#9634; in the toolbar above.\n",
    "- You can **add new cells** by clicking to the left of a cell and pressing ```A``` (for above), or ```B``` (for below). \n",
    "- **Delete cells** by pressing ```X```.\n",
    "- Run all code cells that import objects (such as the one below) to ensure that you can follow exercises and examples.\n",
    "- Feel free to edit and experiment - you will not corrupt the original files."
   ]
  },
  {
   "cell_type": "markdown",
   "metadata": {},
   "source": [
    "# Basic Python Data Types I: Numerical Values\n",
    "\n",
    "In the first lesson, we were introduced to the notion of semantics, or meaning. \n",
    "\n",
    "In this lesson we learn about some basic units of meaning in python: the basic data types of strings, integers, and floats.  \n",
    "\n",
    "We focus on numerical data types and their mathematical operators.\n",
    "\n",
    "---\n",
    "Questions and exercises are distributed throughout this lesson. Please run the code cell below to import them before starting the lesson. The code will not produce any visible output, but exercises and questions will be loaded for later use."
   ]
  },
  {
   "cell_type": "code",
   "execution_count": null,
   "metadata": {},
   "outputs": [],
   "source": [
    "# Run this cell to import lesson exercises\n",
    "from QuestionsBDT import E1, E2, E3, E4, Q1, question, solution"
   ]
  },
  {
   "cell_type": "markdown",
   "metadata": {},
   "source": [
    "---\n",
    "## Lesson goals:\n",
    "- Learn to check data types\n",
    "- Learn to convert data types\n",
    "- Basic data types: str, bool, int, float\n",
    "- Numerical operators (+, -, \\*, /, \\*\\*)\n",
    "\n",
    "**Key Concepts:** strings, integers, floats, numerical operators, string operators, indexing and slicing\n",
    "\n",
    "---\n",
    "# Basic Data Types\n",
    "\n",
    "Some default object classes, with their attributes and methods, exist in Python. Let's look at the most basic and essential types among them, the structures created to hold single values.\n",
    "\n",
    ">A **string** is a piece of text, a sequence of characters that is expressed in between quotes (single or double).\n",
    "    \n",
    ">An **integer** is a whole number.\n",
    "\n",
    ">A **float (floating point)** is a number with a decimal point.\n",
    "\n",
    ">A **boolean** is a True or False, 0 or 1, value.\n",
    "\n",
    "Other datatypes exist, such as Decimal or Fraction, for more precise mathematical needs.\n",
    "\n",
    "## Checking a Variable's Datatype\n",
    "\n",
    "Strings, booleans, integers and floats are classes (types) of objects.\n",
    "\n",
    "You can store them as **variables** by assigning them a name with the equals sign.  We did this in the previous lesson.\n",
    "\n",
    "Let's create a variable containing text data. Note that not surrounding the text with quotes gives us an error:"
   ]
  },
  {
   "cell_type": "code",
   "execution_count": null,
   "metadata": {},
   "outputs": [],
   "source": [
    "artist = Frida Kahlo # gives an error!"
   ]
  },
  {
   "cell_type": "markdown",
   "metadata": {},
   "source": [
    "Instead, by surrounding the text by quotes (single or double), we create a string type variable."
   ]
  },
  {
   "cell_type": "code",
   "execution_count": null,
   "metadata": {},
   "outputs": [],
   "source": [
    "artist = 'Frida Kahlo' # note the quotes"
   ]
  },
  {
   "cell_type": "markdown",
   "metadata": {},
   "source": [
    "We can double check what type of data the variable we defined is by using the function **type()**:"
   ]
  },
  {
   "cell_type": "code",
   "execution_count": null,
   "metadata": {},
   "outputs": [],
   "source": [
    "type(artist)"
   ]
  },
  {
   "cell_type": "markdown",
   "metadata": {},
   "source": [
    "Let's also create a variable for the artist's birth year:"
   ]
  },
  {
   "cell_type": "code",
   "execution_count": null,
   "metadata": {},
   "outputs": [],
   "source": [
    "year_of_birth = '1907'"
   ]
  },
  {
   "cell_type": "markdown",
   "metadata": {},
   "source": [
    "**Exercise 1** Have you caught the problem? Use the code cell below to check the variable's type. "
   ]
  },
  {
   "cell_type": "code",
   "execution_count": null,
   "metadata": {},
   "outputs": [],
   "source": []
  },
  {
   "cell_type": "code",
   "execution_count": null,
   "metadata": {},
   "outputs": [],
   "source": [
    "solution(E1)"
   ]
  },
  {
   "cell_type": "markdown",
   "metadata": {},
   "source": [
    "---\n",
    "## Converting Between Datatypes\n",
    "\n",
    "We can also **convert a variable's data type**. The functions **str()**, **int()** and **float()** will convert an object to the respective type, if possible. \n",
    "\n",
    "**Exercise 2:** Edit the first code cell below to convert the artist's birth year to an integer (a whole number). It will not output a result, just store the variable. You can check the variable's type in the line after, and call its value in the third cell.\n",
    "\n",
    "Note that we must apply the function and assign its output to a variable. In this case, we are reassigning to the existing variable (year_of_birth), to avoid creating unnecessary objects. "
   ]
  },
  {
   "cell_type": "code",
   "execution_count": null,
   "metadata": {},
   "outputs": [],
   "source": [
    "year_of_birth = ___(year_of_birth)"
   ]
  },
  {
   "cell_type": "code",
   "execution_count": null,
   "metadata": {},
   "outputs": [],
   "source": [
    "type(year_of_birth)"
   ]
  },
  {
   "cell_type": "code",
   "execution_count": null,
   "metadata": {},
   "outputs": [],
   "source": [
    "solution(E2)"
   ]
  },
  {
   "cell_type": "markdown",
   "metadata": {},
   "source": [
    "Run the code cell below to call our variable, and then think about question 2."
   ]
  },
  {
   "cell_type": "code",
   "execution_count": null,
   "metadata": {},
   "outputs": [],
   "source": [
    "year_of_birth"
   ]
  },
  {
   "cell_type": "code",
   "execution_count": null,
   "metadata": {},
   "outputs": [],
   "source": [
    "question(Q1)"
   ]
  },
  {
   "cell_type": "markdown",
   "metadata": {},
   "source": [
    "---\n",
    "# Working with Numerical Data Types\n",
    "\n",
    "The two main numerical data types are integers and floats.  **Integers** contain whole numbers, while **floats** are numbers with decimals. \n",
    "\n",
    "You can convert floats to integers. Just note that no rounding is done; instead, the decimals are just removed.\n",
    "\n",
    "For example, if we assign the value 0.8 to the variable x, we will notice its data type is 'float'. Python is smart enough to recognize the type automatically."
   ]
  },
  {
   "cell_type": "code",
   "execution_count": null,
   "metadata": {},
   "outputs": [],
   "source": [
    "x = 0.8"
   ]
  },
  {
   "cell_type": "code",
   "execution_count": null,
   "metadata": {},
   "outputs": [],
   "source": [
    "type(x)"
   ]
  },
  {
   "cell_type": "markdown",
   "metadata": {},
   "source": [
    "If we change this variable into an integer type, however, we will see that it does not round it up as we would. Instead, it has ignored the decimal values. We need to be careful with this when conducting mathematical operations."
   ]
  },
  {
   "cell_type": "code",
   "execution_count": null,
   "metadata": {},
   "outputs": [],
   "source": [
    "int(x)"
   ]
  },
  {
   "cell_type": "markdown",
   "metadata": {},
   "source": [
    "# Numerical Operators \n",
    "\n",
    "At this basic level, we can conduct operations with integers and floats with the typical mathematical operators.\n",
    "\n",
    "|symbol | operation| description|\n",
    "|--|-|-|\n",
    "| + | add| returns the sum of two numbers|\n",
    "| - | subtract| returns the difference between two numbers|\n",
    "| * | multiply| returns the product of two numbers|\n",
    "| / | divide| returns the result of the division between two numbers|\n",
    "| // | floor division | returns the result of division, excluding fractions|\n",
    "| % | remainder| returns the remainder of the division|\n",
    "| ** | power| exponentiates one number by the other|\n",
    "\n",
    "You can group operations or modify order by putting them in parentheses.\n",
    "\n",
    "## Order of Operations\n",
    "\n",
    "Python follows the mathematical convention of PEMDAS. Mathematical expressions are resolved in this order, from highest to lowest:\n",
    "\n",
    "**P** Parentheses\n",
    "\n",
    "**E** Exponentiation\n",
    "\n",
    "**M,D** Multiplication and Division\n",
    "\n",
    "**A,S** Addition and subtraction,\n",
    "\n",
    "Where M and D are given the same level of preference, as are A and S. Operators with the same preference are resolved from left to right. \n",
    "\n",
    "The order of operations described above can affect the results of an operation. For instance:"
   ]
  },
  {
   "cell_type": "code",
   "execution_count": null,
   "metadata": {},
   "outputs": [],
   "source": [
    "x= 1\n",
    "y= 2"
   ]
  },
  {
   "cell_type": "code",
   "execution_count": null,
   "metadata": {},
   "outputs": [],
   "source": [
    "x + y*2"
   ]
  },
  {
   "cell_type": "markdown",
   "metadata": {},
   "source": [
    "As you can see, Python multiplied y by two first, and then added x. This is because multiplication and division have priority over addition and subtraction.\n",
    "\n",
    "Parentheses are the best way to override the default order of operations:"
   ]
  },
  {
   "cell_type": "code",
   "execution_count": null,
   "metadata": {},
   "outputs": [],
   "source": [
    "(x + y)*2"
   ]
  },
  {
   "cell_type": "markdown",
   "metadata": {},
   "source": [
    "Because parentheses have the highest priority, Python acted first on the addition, and then multiplied.\n",
    "\n",
    "---\n",
    "## Let's play around with some numbers."
   ]
  },
  {
   "cell_type": "markdown",
   "metadata": {},
   "source": [
    "**Exercise 3** Say we have two variables, x and y, with values 1 and 2. Say we want to subtract y from x, square the result, and finally divide that by two. In the cell below, define both variables and structure the equation so that it follows the correct order of operations. The result should be 0.5."
   ]
  },
  {
   "cell_type": "code",
   "execution_count": null,
   "metadata": {},
   "outputs": [],
   "source": []
  },
  {
   "cell_type": "code",
   "execution_count": null,
   "metadata": {},
   "outputs": [],
   "source": [
    "solution(E3)"
   ]
  },
  {
   "cell_type": "markdown",
   "metadata": {},
   "source": [
    "**Exercise 4** We already defined our artist's year_of_birth. Create a variable called year_of_death for the numerical value 1954."
   ]
  },
  {
   "cell_type": "code",
   "execution_count": null,
   "metadata": {},
   "outputs": [],
   "source": []
  },
  {
   "cell_type": "markdown",
   "metadata": {},
   "source": [
    "Calculate the lifespan of the artist below by inserting the appropriate functions and operator. In the same cell, check your response by using the print() function. You should get a value of 47."
   ]
  },
  {
   "cell_type": "code",
   "execution_count": null,
   "metadata": {},
   "outputs": [],
   "source": [
    "lifespan = "
   ]
  },
  {
   "cell_type": "code",
   "execution_count": null,
   "metadata": {},
   "outputs": [],
   "source": [
    "solution(E4)"
   ]
  },
  {
   "cell_type": "markdown",
   "metadata": {},
   "source": [
    "We have to be careful with data types. Say we were to convert the year_of_birth back to a string."
   ]
  },
  {
   "cell_type": "code",
   "execution_count": null,
   "metadata": {},
   "outputs": [],
   "source": [
    "year_of_birth = str(year_of_birth)"
   ]
  },
  {
   "cell_type": "markdown",
   "metadata": {},
   "source": [
    "If we try to subtract it from the year_of_death, we will run into an error."
   ]
  },
  {
   "cell_type": "code",
   "execution_count": null,
   "metadata": {},
   "outputs": [],
   "source": [
    "year_of_death - year_of_birth"
   ]
  },
  {
   "cell_type": "markdown",
   "metadata": {},
   "source": [
    "Operations combining numbers and strings are not possible. \n",
    "\n",
    "But even when we have two objects with the same data types, we have to be careful. An operation might not give you an error, but you might get an unexpected result.\n",
    "\n",
    "As integers, the adding the year of birth to the lifespan works as expected, returning the year of death:"
   ]
  },
  {
   "cell_type": "code",
   "execution_count": null,
   "metadata": {},
   "outputs": [],
   "source": [
    "year_of_birth=int(year_of_birth)\n",
    "\n",
    "year_of_birth + lifespan"
   ]
  },
  {
   "cell_type": "markdown",
   "metadata": {},
   "source": [
    "But we could also add them as strings..."
   ]
  },
  {
   "cell_type": "code",
   "execution_count": null,
   "metadata": {},
   "outputs": [],
   "source": [
    "str(year_of_birth) + str(lifespan)"
   ]
  },
  {
   "cell_type": "markdown",
   "metadata": {},
   "source": [
    "This has not given us the output of mathematical addition. Instead, has concatenated the two strings. Let's learn more about strings, in the next lesson.\n",
    "\n",
    "---\n",
    "# Lesson Summary\n",
    "\n",
    "- Strings, integers and floats are some basic data types\n",
    "- You can check a value's data type with type()\n",
    "- And convert between them with str(), int() and float().\n",
    "- Mathematical operators work on numbers\n",
    "- Care must be taken with data types and operations to avoid unexpected results\n",
    "\n",
    "<div style=\"text-align:center\">    \n",
    "  <a href=\"02%20Semantics.ipynb\">Previous Lesson: Reading Python Script - Semantics</a>|\n",
    "   <a href=\"04%20Basic%20Data%20Types%20II%20-%20Strings.ipynb\">Next Lesson: Basic Data Types II. Strings</a>\n",
    "</div>"
   ]
  }
 ],
 "metadata": {
  "kernelspec": {
   "display_name": "Python 3",
   "language": "python",
   "name": "python3"
  },
  "language_info": {
   "codemirror_mode": {
    "name": "ipython",
    "version": 3
   },
   "file_extension": ".py",
   "mimetype": "text/x-python",
   "name": "python",
   "nbconvert_exporter": "python",
   "pygments_lexer": "ipython3",
   "version": "3.7.6"
  }
 },
 "nbformat": 4,
 "nbformat_minor": 4
}
