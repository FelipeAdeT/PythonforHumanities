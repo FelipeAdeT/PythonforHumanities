{
 "cells": [
  {
   "cell_type": "markdown",
   "metadata": {},
   "source": [
    "# Further Resources\n",
    "\n",
    "\n",
    "## List of Useful Python Modules\n",
    "\n",
    "**[Pandas](https://pandas.pydata.org)** and **[Numpy](https://numpy.org)** are common for manipulating data and using mathematics, and could almost be considered Python standards. We will see **Pandas** for handling .csv files, and learn more about it in Lesson 10. \n",
    "\n",
    "Several libraries or tools are available for humanities-specific tasks with Python:\n",
    "\n",
    "Text analysis: **[Textblob](https://textblob.readthedocs.io/en/dev/)**, **[NLTK](http://www.nltk.org)**, **[Spacy](https://spacy.io)**\n",
    "\n",
    "Imaging: **[Pillow/PIL](https://pillow.readthedocs.io)**\n",
    "\n",
    "Mapping: **[ArcGIS](https://developers.arcgis.com/python/)**\n",
    "\n",
    "Drawing/Generative Art: **[ipycanvas](https://ipycanvas.readthedocs.io/en/latest/basic_usage.html)**,**[Processing](https://py.processing.org)**.\n",
    "\n",
    "\n",
    "## Taped Workshops\n",
    "\n",
    "## CDVS link\n",
    "\n",
    "## Eric Monson Github\n",
    "\n",
    "## Whirlwind Tour of Python\n",
    "\n"
   ]
  },
  {
   "cell_type": "code",
   "execution_count": null,
   "metadata": {},
   "outputs": [],
   "source": []
  }
 ],
 "metadata": {
  "kernelspec": {
   "display_name": "Python 3",
   "language": "python",
   "name": "python3"
  },
  "language_info": {
   "codemirror_mode": {
    "name": "ipython",
    "version": 3
   },
   "file_extension": ".py",
   "mimetype": "text/x-python",
   "name": "python",
   "nbconvert_exporter": "python",
   "pygments_lexer": "ipython3",
   "version": "3.7.6"
  }
 },
 "nbformat": 4,
 "nbformat_minor": 4
}
