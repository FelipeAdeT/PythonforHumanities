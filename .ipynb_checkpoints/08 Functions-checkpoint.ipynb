{
 "cells": [
  {
   "cell_type": "markdown",
   "metadata": {},
   "source": [
    "### Navigation Reminder\n",
    "\n",
    "- **Grey cells** are **code cells**. Click inside them and type to edit.\n",
    "- **Run**  code cells by pressing $ \\triangleright $  in the toolbar above, or press ``` shift + enter```.\n",
    "-  **Stop** a running process by clicking &#9634; in the toolbar above.\n",
    "- You can **add new cells** by clicking to the left of a cell and pressing ```A``` (for above), or ```B``` (for below). \n",
    "- **Delete cells** by pressing ```X```.\n",
    "- Run all code cells that import objects (such as the one below) to ensure that you can follow exercises and examples.\n",
    "- Feel free to edit and experiment - you will not corrupt the original files."
   ]
  },
  {
   "cell_type": "markdown",
   "metadata": {},
   "source": [
    "# Lesson 08: Functions\n",
    "\n",
    "In this lesson, we will learn to **write functions**, allowing us to store pieces of the code that get reused, calling the piece of code by a name. That way, we can call it throughout a session without rewriting it, thus making code shorter and more legible, make our writing more efficient and reduce the potential for errors.\n",
    "\n",
    "---\n",
    "Questions and exercises are distributed throughout this lesson. Please run the code cell below to import them before starting the lesson. The code will not produce any visible output, but exercises and questions will be loaded for later use."
   ]
  },
  {
   "cell_type": "code",
   "execution_count": null,
   "metadata": {},
   "outputs": [],
   "source": [
    "from QuestionsFunctions import E1,E2,E3,E4,E5, question, solution"
   ]
  },
  {
   "cell_type": "markdown",
   "metadata": {},
   "source": [
    "---\n",
    "## Lesson Goals:\n",
    "- Understand functions and methods\n",
    "- Define a function with parameters\n",
    "- Understand the return statement\n",
    "- Call a function with arguments\n",
    "\n",
    "**Keywords:** function, method, def function(), argument, parameter, return, call\n",
    "\n",
    "---\n",
    "# Functions\n",
    "\n",
    "We learned about functions at the beginning of our course.\n",
    "\n",
    ">**Functions** are blocks of code for performing an action that have been given a name.\n",
    "\n",
    "Several predefined functions are available on the main Python module, and modules usually supply additional functions of their own. We have been using some of these functions, such as ```print()``` or ```len()```, for a while now. But we can also create (define) our own functions. In this lesson, we will learn how to define and call our own functions.\n",
    "\n",
    "# Methods\n",
    "\n",
    "You will also recall that object classes come with associated functions of their own. \n",
    "\n",
    ">Functions belonging to an object are called **methods**.\n",
    "\n",
    "We will not learn about defining object classes and their methods in this course, though you should know how to call existing methods. They are called by giving the object name, followed by a period and the method name:\n",
    "\n",
    "```python\n",
    "object.method()\n",
    "```\n",
    "---\n",
    "# Why define functions?\n",
    "\n",
    "Defining functions helps us avoid repetition in the code, which has several advantages:\n",
    "\n",
    "- Organizes code into clear, purposeful chunks\n",
    "\n",
    "- Prevents human error: code only has to be written (and corrected) once.\n",
    "\n",
    "- Maximizes readability: minimize length & repetition\n",
    "\n",
    "- Makes code easier to maintain\n",
    "\n",
    "Whenever you find yourself repeatedly using the same chunk of code, it's good practice to move it into a function. It makes your script more legible, reduces the likelihood of errors, and makes your code more maintainable, because if you need to make a change, you only have to do it in one place. Functions can be tested and debugged separately from the code they will be used in.\n",
    "\n",
    "**Tip** Don't obsess over creating functions when starting a project. In a first pass, try focusing on working out a functioning script without using functions. Once you find a functional way to go through a project, you can return to your script, edit and improve it, and run it for all your data.\n",
    "\n",
    "# Defining functions\n",
    "\n",
    "We use the **```def```** keyword to define our own functions. **```def```** **stores** our function, but does not run it. \n",
    "\n",
    "```python\n",
    "def function_name(parameter1, parameter2):\n",
    "    code depending on parameter1 and parameter2\n",
    "    return value\n",
    "```\n",
    "\n",
    "The ```def``` statement accepts a **name** for the function, followed by **parentheses**, which can include optional **parameters** inside them. Parameters are placeholder words for values that modify the way the function behaves. The statement ends in a **colon**. It is followed by the body of the function indented in a **code block**, which can include as many statements or nested code blocks as necessary.  Note that variable and parameter names used within a function definition are local to  the function, and will not cause problems if these names exist as variables or for other purposes in the code.\n",
    "\n",
    "Once stored, we can **call** the function as many times as we would like using the function name. When we call a function that has already been defined, we give **arguments** or values for its parameters, within the parentheses. Above, we define a function called  function_name that accepts arguments for parameter1 and parameter 2."
   ]
  },
  {
   "cell_type": "code",
   "execution_count": null,
   "metadata": {},
   "outputs": [],
   "source": [
    "# Here, we define a function that accepts two parameters.\n",
    "def call_me(my_name, your_name):\n",
    "    return \"Call me \" + my_name +\" and I'll call you \" + your_name +\".\""
   ]
  },
  {
   "cell_type": "markdown",
   "metadata": {},
   "source": [
    "Now, we have created a function called 'call_me' that takes two arguments (one for each parameter, your_name and my_name). It concatenates that input with some other strings. Notice the **```return````** statement, which is an optional statement that defines what object we want the function to return (here, a string that concatenates several words). We'll return to the ```return``` statement later on in the lesson.\n",
    "\n",
    "We can call the function below, and it will output a line of text:"
   ]
  },
  {
   "cell_type": "code",
   "execution_count": null,
   "metadata": {},
   "outputs": [],
   "source": [
    "call_me(\"maybe\",\"for sure\")"
   ]
  },
  {
   "cell_type": "markdown",
   "metadata": {},
   "source": [
    "**Exercise 1** Store the code below as a function with the name 'liftoff' by using the define statement. Make count a parameter for the function and make sure to follow the correct syntax, including appropriate indentation. You do not need to use a return statement."
   ]
  },
  {
   "cell_type": "code",
   "execution_count": null,
   "metadata": {},
   "outputs": [],
   "source": [
    "while count > 0:\n",
    "    print(str(count) +\"!\")\n",
    "    count = count - 1\n",
    "print(\"Lift off!\")"
   ]
  },
  {
   "cell_type": "markdown",
   "metadata": {},
   "source": [
    "Once defined (stored), you can call it (use it) below. Remember to give the function an argument."
   ]
  },
  {
   "cell_type": "code",
   "execution_count": null,
   "metadata": {},
   "outputs": [],
   "source": [
    "liftoff(__)"
   ]
  },
  {
   "cell_type": "code",
   "execution_count": null,
   "metadata": {},
   "outputs": [],
   "source": [
    "solution(E1)"
   ]
  },
  {
   "cell_type": "markdown",
   "metadata": {},
   "source": [
    "---\n",
    "# Calling a Function \n",
    "\n",
    "Defining a function only creates it. It does not run the code until you **call** it by its name, specifying the values of the parameters. When calling a function, parameter values are called **arguments**.\n",
    "\n",
    "## Arguments and Parameters\n",
    "\n",
    ">**Arguments** are values that the user of a function can include as input to modify the function's behavior. \n",
    "\n",
    ">**Parameters** are placeholder names for arguments in the function definition. They are included in parentheses after the function name.\n",
    "\n",
    "We will have to be conscientious about our code and the different inputs it might need, thinking carefully about which parameters to include.\n",
    "\n",
    "You call a function simply by giving its name and arguments in parentheses. A function might not need parameters if it only does one thing, independent of any input. We then call it by giving its name followed by empty parentheses. You can also have more than one parameter, meaning that the function will accept more than one argument when called. They can be required or optional. \n",
    "\n",
    "Arguments can be specified **positionally**, that is, by directly giving a value in the order they were given as parameters in the definition.\n",
    "\n",
    "For instance:"
   ]
  },
  {
   "cell_type": "code",
   "execution_count": null,
   "metadata": {},
   "outputs": [],
   "source": [
    "# Remember the call_me function we created. Let's call it again here, feeding it two arguments.\n",
    "call_me('Elio','Oliver')"
   ]
  },
  {
   "cell_type": "markdown",
   "metadata": {},
   "source": [
    "Or they can be specified by **keyword** or **name**, in which case order does not matter. In this case, you give the name of the parameter followed by an equals sign and its value."
   ]
  },
  {
   "cell_type": "code",
   "execution_count": null,
   "metadata": {},
   "outputs": [],
   "source": [
    "call_me(your_name='Oliver',my_name='Elio')"
   ]
  },
  {
   "cell_type": "markdown",
   "metadata": {},
   "source": [
    "Above, we wrote these values out in a different order, but by specifying the parameter name, Python was able to interpret them as we intended.\n",
    "\n",
    "With preexisting functions, you can look up their documentation on-line to find a list of all possible parameters. Some parameters might be optional.\n",
    "\n",
    "**Exercise 2** An important part of working with Python is getting familiarized with online documentation. When we have used ```print()``` with multiple strings, we have concatenated them with ```+```. This includes them in the function as a single piece of text, with the added problem that spaces are not included automatically between them. "
   ]
  },
  {
   "cell_type": "code",
   "execution_count": null,
   "metadata": {},
   "outputs": [],
   "source": [
    "a= 'Hello,'\n",
    "b= 'I like to'\n",
    "c= 'code.'\n",
    "\n",
    "print(a+b+c)"
   ]
  },
  {
   "cell_type": "markdown",
   "metadata": {},
   "source": [
    "Using the [print() documentation online](https://www.w3schools.com/python/ref_func_print.asp), look for an alternative way that print() might accept the variables and output the text: 'Hello, I like to code'  without using the concatenation operator + and manually adding spaces. "
   ]
  },
  {
   "cell_type": "code",
   "execution_count": null,
   "metadata": {},
   "outputs": [],
   "source": [
    "print()"
   ]
  },
  {
   "cell_type": "code",
   "execution_count": null,
   "metadata": {},
   "outputs": [],
   "source": [
    "solution(E2)"
   ]
  },
  {
   "cell_type": "markdown",
   "metadata": {},
   "source": [
    "---\n",
    "# Specifying default argument values\n",
    "\n",
    "You can specify default values by including an argument value in the definition of your function. The function will default to using these values for those parameters, but the user can optionally input other values, either by specifying them positionally or by keyword. \n",
    "\n",
    "```python\n",
    "def function_name(parameter1='text', parameter2=1):\n",
    "    \"docstring\"\n",
    "    code depending on parameter1 and parameter2\n",
    "    #Can be multiple lines or nested blocks\n",
    "```\n",
    "If the user calls the function above without specifying the arguments, it will run with the parameters equal to 'text' and 1 by default. \n",
    "\n",
    "Alternatively, the user could specify the arguments in order:\n",
    "```python\n",
    "function_name('other_text',2)\n",
    "```\n",
    "or giving keywords for a specific value:\n",
    "\n",
    "```python\n",
    "function_name(parameter2=2)\n",
    "```\n",
    "(In the case above, they have maintained the default value for parameter 1).\n",
    "\n",
    "With a previous example, our default values might be set like this."
   ]
  },
  {
   "cell_type": "code",
   "execution_count": null,
   "metadata": {},
   "outputs": [],
   "source": [
    "def call_me(your_name='Elio', my_name='Oliver'):\n",
    "    \"Returns a sentence with two names\"\n",
    "    return \"Call me \" + your_name +\" and I'll call you \" + my_name +\".\""
   ]
  },
  {
   "cell_type": "code",
   "execution_count": null,
   "metadata": {},
   "outputs": [],
   "source": [
    "call_me()"
   ]
  },
  {
   "cell_type": "markdown",
   "metadata": {},
   "source": [
    "The function returns a default output, but this can be modified if the user specifies other arguments:"
   ]
  },
  {
   "cell_type": "code",
   "execution_count": null,
   "metadata": {},
   "outputs": [],
   "source": [
    "call_me('Humanist','Pythonista')"
   ]
  },
  {
   "cell_type": "markdown",
   "metadata": {},
   "source": [
    "**Exercise 3** Edit the code below to make a function called 'liftoff', as we did previously, but this time giving 'count' a default value of 10. Then, call it without specifying a value for count."
   ]
  },
  {
   "cell_type": "code",
   "execution_count": null,
   "metadata": {},
   "outputs": [],
   "source": [
    "while count > 0:\n",
    "    print(str(count) +\"!\")\n",
    "    count = count - 1\n",
    "print(\"Lift off!\")"
   ]
  },
  {
   "cell_type": "code",
   "execution_count": null,
   "metadata": {},
   "outputs": [],
   "source": [
    "liftoff()"
   ]
  },
  {
   "cell_type": "code",
   "execution_count": null,
   "metadata": {},
   "outputs": [],
   "source": [
    "solution(E3)"
   ]
  },
  {
   "cell_type": "markdown",
   "metadata": {},
   "source": [
    "---\n",
    "## Return Values\n",
    "\n",
    "The **return** statement finishes the function and sends back the result of the function. If we don't specify one, the function is not returning a storable object when called (even if it might be displaying some output). A function without a return value is called a **void** or **non-fruitful function**.\n",
    "\n",
    "```python\n",
    "def function_name(parameter1='text', parameter2=1):\n",
    "    \"docstring\"\n",
    "    code depending on parameter1 and parameter2\n",
    "    #Can be multiple lines or nested blocks\n",
    "    return <result>\n",
    "```\n",
    "\n",
    "Returning to the call_me example above, we could store its output as a variable (here, a). If we check the variable's type, we can see that it is a string. That is because the function was **returning** a result. "
   ]
  },
  {
   "cell_type": "code",
   "execution_count": null,
   "metadata": {},
   "outputs": [],
   "source": [
    "def call_me(your_name='Elio', my_name='Oliver'):\n",
    "    \"Returns a sentence with two names\"\n",
    "    return \"Call me \" + your_name +\" and I'll call you \" + my_name +\".\""
   ]
  },
  {
   "cell_type": "code",
   "execution_count": null,
   "metadata": {},
   "outputs": [],
   "source": [
    "a = call_me()\n",
    "a"
   ]
  },
  {
   "cell_type": "code",
   "execution_count": null,
   "metadata": {},
   "outputs": [],
   "source": [
    "type(a)"
   ]
  },
  {
   "cell_type": "markdown",
   "metadata": {},
   "source": [
    "Let's define another function, but use print instead of calling return. "
   ]
  },
  {
   "cell_type": "code",
   "execution_count": null,
   "metadata": {},
   "outputs": [],
   "source": [
    "def call_me2(by_your_name='Elio', by_my_name='Oliver'):\n",
    "    \"Prints a sentence with two names\"\n",
    "    print(\"Call me \" + by_your_name +\" and I'll call you \" +by_my_name +\".\")"
   ]
  },
  {
   "cell_type": "markdown",
   "metadata": {},
   "source": [
    "If we assign its output to a variable and then check its type, we will see that it is Nonetype.  Though an output was displayed, it was not stored. "
   ]
  },
  {
   "cell_type": "code",
   "execution_count": null,
   "metadata": {},
   "outputs": [],
   "source": [
    "b = call_me2()"
   ]
  },
  {
   "cell_type": "code",
   "execution_count": null,
   "metadata": {},
   "outputs": [],
   "source": [
    "type(b)"
   ]
  },
  {
   "cell_type": "markdown",
   "metadata": {},
   "source": [
    "**Exercise 4** Modify the 'liftoff' function to return a string instead of using 'print'. All the output can be in one line. \n",
    "\n",
    "**Clue:** This is tricky. It requires defining an empty string before the while loop begins. Then, have it update as the while loop progresses. Finally, include a return statement that includes the final value of the variable concatenated with the string 'Lift off!'"
   ]
  },
  {
   "cell_type": "code",
   "execution_count": null,
   "metadata": {},
   "outputs": [],
   "source": [
    "def liftoff(count):\n",
    "    while count > 0:\n",
    "        print(str(count) +\"!\")\n",
    "        count = count - 1\n",
    "    print(\"lift off!\")"
   ]
  },
  {
   "cell_type": "code",
   "execution_count": null,
   "metadata": {},
   "outputs": [],
   "source": [
    "def liftoff(count=10):\n",
    "    a=''\n",
    "    while count > 0:\n",
    "        a = a + ' '+ str(count) +'!'\n",
    "        count = count - 1\n",
    "    return (a + 'Lift off!')"
   ]
  },
  {
   "cell_type": "code",
   "execution_count": null,
   "metadata": {},
   "outputs": [],
   "source": [
    "liftoff()"
   ]
  },
  {
   "cell_type": "code",
   "execution_count": null,
   "metadata": {},
   "outputs": [],
   "source": [
    "solution(E4)"
   ]
  },
  {
   "cell_type": "markdown",
   "metadata": {},
   "source": [
    "### Using Tuples for Returning Multiple Values\n",
    "\n",
    "You can use tuples to get the function to **return multiple values**. Recall that elements in tuples are separated by commas, and the tuple itself can, but doesn't need to be, surrounded by parentheses. Returning multiple values works by separating the different objects to be returned with a comma in the return statement. To store these multiple results, all you need to do is assign the results of the function to multiple variables when calling the function. Once again, this relies on tuples, this time, on the left hand side of the variable assignment statement, to separate the different variables you in which you want to store the information.  \n",
    "\n",
    "```python\n",
    "def function_name(parameter1='text', parameter2=1):\n",
    "    \"docstring\"\n",
    "    code depending on parameter1 and parameter2\n",
    "    #Can be multiple lines or nested blocks\n",
    "    return <result1>, <result2>, <result2>\n",
    "\n",
    "var_a, var_b, var_c = function_name()\n",
    "```\n",
    "\n",
    "**Note** Note that you can also use functions to create and populate dictionaries or lists. These would then be outputting one object (albeit one with many values within it), and would be stored within one variable.\n",
    "\n",
    "**Exercise 5** Below is a function defined to create two variables. The only thing missing is a return statement that allows us to output the contents of both variables. Construct that return statement."
   ]
  },
  {
   "cell_type": "code",
   "execution_count": null,
   "metadata": {},
   "outputs": [],
   "source": [
    "def distance (point1,point2):\n",
    "    xdistance = abs(point1[0]-point2[0])\n",
    "    ydistance = abs(point1[1]-point2[1])\n",
    "    return ____\n",
    "\n",
    "distancex, distancey = distance(point1,point2)"
   ]
  },
  {
   "cell_type": "markdown",
   "metadata": {},
   "source": [
    "In the code cell below, we have two points. Call the function in a way that stores the distances between the points  as \"distancex\" and \"distancey\". You can later check the value of these variables to see if they stored correctly."
   ]
  },
  {
   "cell_type": "code",
   "execution_count": null,
   "metadata": {},
   "outputs": [],
   "source": [
    "point1 = [0,3]\n",
    "point2 = [3,4]\n",
    "\n"
   ]
  },
  {
   "cell_type": "code",
   "execution_count": null,
   "metadata": {},
   "outputs": [],
   "source": [
    "distancex"
   ]
  },
  {
   "cell_type": "code",
   "execution_count": null,
   "metadata": {},
   "outputs": [],
   "source": [
    "distancey"
   ]
  },
  {
   "cell_type": "code",
   "execution_count": null,
   "metadata": {},
   "outputs": [],
   "source": [
    "solution(E5)"
   ]
  },
  {
   "cell_type": "markdown",
   "metadata": {},
   "source": [
    "---\n",
    "# Lesson Summary\n",
    "\n",
    "- Functions are blocks of code with a name that perform an action\n",
    "- Methods are functions associated with an object, called by prefixing the object name: object.method()\n",
    "- Functions can be defined with the def statement\n",
    "- The def statement accepts parameters, which define the arguments that can later be used when calling a function\n",
    "- You call a function by typing its name followed by parentheses, with necessary arguments within the parentheses, either ordered by position or using keywords\n",
    "- The return statement makes the output of the function explicit (and returns None if not used)\n",
    "- You can use tuples to design functions that return multiple values, and then to assign these values to multiple variables.\n",
    "\n",
    "<div style=\"text-align:center\">    \n",
    "  <a href=\"07B%20Putting%20it%20all%20Together.ipynb\">Previous Lesson: Putting it all together (Lessons 1-7)</a>|\n",
    "   <a href=\"09%20Pandas.ipynb\">Next Lesson: Pandas</a>\n",
    "</div>"
   ]
  }
 ],
 "metadata": {
  "kernelspec": {
   "display_name": "Python 3",
   "language": "python",
   "name": "python3"
  },
  "language_info": {
   "codemirror_mode": {
    "name": "ipython",
    "version": 3
   },
   "file_extension": ".py",
   "mimetype": "text/x-python",
   "name": "python",
   "nbconvert_exporter": "python",
   "pygments_lexer": "ipython3",
   "version": "3.7.6"
  }
 },
 "nbformat": 4,
 "nbformat_minor": 4
}
