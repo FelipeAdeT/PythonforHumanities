{
 "cells": [
  {
   "cell_type": "markdown",
   "metadata": {},
   "source": [
    "### Navigation Reminder\n",
    "\n",
    "- **Grey cells** are **code cells**. Click inside them and type to edit.\n",
    "- **Run**  code cells by pressing $ \\triangleright $  in the toolbar above, or press ``` shift + enter```.\n",
    "-  **Stop** a running process by clicking &#9634; in the toolbar above.\n",
    "- You can **add new cells** by clicking to the left of a cell and pressing ```A``` (for above), or ```B``` (for below). \n",
    "- **Delete cells** by pressing ```X```.\n",
    "- Run all code cells that import objects (such as the one below) to ensure that you can follow exercises and examples.\n",
    "- Feel free to edit and experiment - you will not corrupt the original files."
   ]
  },
  {
   "cell_type": "markdown",
   "metadata": {},
   "source": [
    "# Lesson 01. Reading Python Script: Syntax\n",
    "\n",
    "Much of your work as a humanist will be to read and understand others' code, so you can reuse  what has already been done by other or collaborate with programmers. \n",
    "\n",
    "Let's get you comfortable with reading Python code. In Lesson 1, we will look at some basic issues of **syntax** (form). In Lesson 2, we will look at some basic **semantics** (meaning).\n",
    "\n",
    "---\n",
    "Questions and exercises are distributed throughout this lesson. Please run the code cell below to import them before starting the lesson. The code will not produce any visible output, but exercises and questions will be loaded for later use."
   ]
  },
  {
   "cell_type": "code",
   "execution_count": null,
   "metadata": {},
   "outputs": [],
   "source": [
    "#Run this cell to import questions!\n",
    "\n",
    "from QuestionsRPS import Q1, Q2, Q3, Q4, Q5, E1, E2, E3, question, solution"
   ]
  },
  {
   "cell_type": "markdown",
   "metadata": {},
   "source": [
    "---\n",
    "## Lesson Goals:\n",
    "\n",
    "- Recognize overarching Python syntax (comments, statements, codeblocks, variable assignment)\n",
    "- Assign variables with =\n",
    "- Know naming rules\n",
    "- Understand error messages\n",
    "\n",
    "**Key Concepts:** algorithm, pseudocode, statement, code block, variable, error message\n",
    "\n",
    "---\n",
    "# A recipe for a task\n",
    "\n",
    "Though code might seem imposing, it is only a language: one that allows humans to speak to computers.\n",
    "\n",
    "Most simply, code is a set of instructions we give to a computer. It is a recipe we hand to the computer to solve a particular problem.\n",
    "\n",
    "In this course, we will come to understand the ingredients and instructions that go into that recipe. This lesson is a primer. \n",
    "\n",
    ">**Algorithm:** a general procedure for solving a problem in a finite number of steps.\n",
    "\n",
    ">**Program:** A set of instructions that can be executed by a computer.\n",
    "\n",
    "When faced with a programming language, translating lines of code into plain English is a useful strategy.\n",
    "\n",
    ">**Pseudocode:** A detailed description of what a program or algorithm must do, expressed in a natural language rather than a programming language.\n",
    "\n",
    "For instance, say we want to create a simple program. You are an art lover, and love all sorts of cultural production (a true Renaissance person!). Perhaps you want to write a piece of code to announce your passion.\n",
    "\n",
    "First, let's describe everything we want the code to do. We could:\n",
    "\n",
    "1. Create a list of seven arts, including 'Painting', 'Architecture', 'Sculpture', 'Literature', 'Music', 'Performing Art', 'Film'\n",
    "\n",
    "2. For each art in the list, \n",
    "    print \"This art is one of the seven arts\",\n",
    "    and then print \"I love this art\".\n",
    "    \n",
    "3. When done with all arts, print \"But what about photography?\"\n",
    "\n",
    "That is what the code below does. You might not fully be aware of the details of the structure, but you can begin to read it: "
   ]
  },
  {
   "cell_type": "code",
   "execution_count": null,
   "metadata": {},
   "outputs": [],
   "source": [
    "SevenArts = ['Painting','Architecture','Sculpture','Literature','Music','Performing Art','Film'] \n",
    "\n",
    "for art in SevenArts:     \n",
    "    print(art, \"is one of the seven arts\") \n",
    "    print(\"I love\", art)                    \n",
    "print(\"But what about photography?\") \n",
    "\n",
    "#(Run me!)"
   ]
  },
  {
   "cell_type": "markdown",
   "metadata": {},
   "source": [
    "This silly piece of code hopefully illustrates that it helps to try to translate code into a human language to figure out its meaning, or plan our approach to a problem.\n",
    "\n",
    "We will use a rudimentary version of **pseudocode** as the course advances to give prompts and aid in code interpretation. Through pseudocode, we can put the steps that we want to happen in an algorithm into words. We can also translate code into written English, a good exercise for decyphering code that is already written. \n",
    "\n",
    "---\n",
    "# Syntax and Semantics \n",
    "\n",
    ">**Syntax** refers to the structures of a language, whereas **semantics** refers to meaning. \n",
    "\n",
    "They would be our recipe's instructions and ingredients.\n",
    "\n",
    "In the first two lessons, we will look at the general syntax and semantics of Python. Throughout the course, we will explore essential syntactical and semantical components more deeply.\n",
    "\n",
    "# Syntax: Reading Code\n",
    "\n",
    "Python is a high-level programming language that prioritizes human readability. Python's syntactic structure makes it very easy for humans to read. \n",
    "\n",
    "## A. Comments\n",
    "\n",
    "Comments can be added following a **pound sign or hashtag (#)**, so you can add explanatory notes for yourself and others as you write your code. Anything written after a # in the same line will not run. \n",
    "\n",
    "Comments can be added **on separate lines** or **inline, after any active code**. They do not affect indentation.\n",
    "\n",
    "So, for instance, if we have some code: \n",
    "\n",
    "```python\n",
    "x = 3 # We can comment in line, after active code\n",
    "# or comment on a separate line\n",
    "```\n",
    "\n",
    "You will also find that people use hashtags to \"comment out\" code that they don't want to run, but might want to keep for other reasons. If you put a hashtag in front of code, it will be turned into a comment and will not run.\n",
    "\n",
    "```python\n",
    "#x = 3 \n",
    "# the code above has been commented out.\n",
    "```"
   ]
  },
  {
   "cell_type": "code",
   "execution_count": null,
   "metadata": {},
   "outputs": [],
   "source": [
    "# Don't forget to read these when they appear in a cell! "
   ]
  },
  {
   "cell_type": "markdown",
   "metadata": {},
   "source": [
    "Below is the first exercise in our lessons. Run the code cell (the grey code cell immediately below this one), and the question will appear. Then type your answer (a,b,c or d) in the white space and press enter to get feedback."
   ]
  },
  {
   "cell_type": "code",
   "execution_count": null,
   "metadata": {},
   "outputs": [],
   "source": [
    "question(Q1)"
   ]
  },
  {
   "cell_type": "markdown",
   "metadata": {},
   "source": [
    "## B. Reading Whitespace\n",
    "\n",
    "> **Whitespace:** Characters that do not represent visible marks, but fill space.\n",
    "\n",
    "While other languages ignore whitespace, Python uses line breaks and indentations to structure code. This makes code easy to follow because it minimizes the number of brackets, braces and other punctuation in the code.\n",
    "\n",
    "Compare our code written in Python with the same example written in Java, another popular language (that ignores whitespace).\n",
    "\n",
    "**Python:**\n",
    "```python\n",
    "arts = ['Painting','Architecture','Sculpture','Literature','Music','Performing Art','Film']\n",
    "for art in arts:\n",
    "    print(art)\n",
    "```\n",
    "\n",
    "**Java:**\n",
    "```java\n",
    "public class Test {\n",
    "    public static void main(String args[]) {\n",
    "        String array[] = {\"Painting\",\"Architecture\",\"Sculpture\",\"Literature\",\"Music\",\"Performing Art\",\"Film\"};\n",
    "        for (String i : array) {\n",
    "          System.out.println(i);\n",
    "        }\n",
    "    }\n",
    "}\n",
    "```\n",
    "\n",
    "As we can see, Python is more intuitive, and minimizes the chances that we will forget to close brackets, parentheses, or make other syntactical mistakes.\n",
    "\n",
    "Let's look at Python's rules for using whitespace.\n",
    "\n",
    "### 1. Line Breaks make Statements \n",
    "\n",
    "In Python, each **line** represents a **statement**. Each line break starts a new statement.\n",
    "\n",
    ">**Statement:** A syntactic unit that expresses one action to be carried out.\n",
    "\n",
    "You can override this rule and continue an expression on a new line by ending with **\\** or if using parentheses. You can also optionally include multiple statements in one line by using **;** to separate statements."
   ]
  },
  {
   "cell_type": "markdown",
   "metadata": {},
   "source": [
    "### 2. Indents create Codeblocks\n",
    "\n",
    "**Indentation** creates **code blocks**.\n",
    "\n",
    ">**Code block:** A set of statements that are executed together.\n",
    "\n",
    "A code block starts with a statement ending in a colon **:**\n",
    "\n",
    "Statements within the code block are indented. Anything at the same level of indentation belongs to the same block of code. \n",
    "\n",
    "Reducing the indentation back to the previous level ends a code block.\n",
    "\n",
    "Blocks can be **nested**. That is, code blocks can be inserted into other code blocks. This is done by indenting further. \n",
    "\n",
    "Python is strict about indentation. Always use **four spaces** to indent code. If you want to indent further (create a nested block), add four more spaces. Do not use tabs. Oftentimes, unexpected errors are due to issues with indentation.\n",
    "\n",
    "For example, in the code we saw previously:"
   ]
  },
  {
   "cell_type": "code",
   "execution_count": null,
   "metadata": {
    "slideshow": {
     "slide_type": "-"
    }
   },
   "outputs": [],
   "source": [
    "#Below is a statement\n",
    "SevenArts = ['Painting','Architecture','Sculpture','Literature','Music','Performing','Film'] \n",
    "\n",
    "#  Below is a set of three statements.\n",
    "# Everything that is indented is in the same block.\n",
    "# They will finish running on every element in our list before proceeding with other code.\n",
    "\n",
    "for art in SevenArts:     \n",
    "    print(art, \"is one of the seven arts\")  \n",
    "    print(\"I love\", art)                    \n",
    "    \n",
    "# Because the next line is not indented, we have exited the previous block of code. \n",
    "# The line runs once the block above is finished.     \n",
    "print(\"But what about photography?\")  "
   ]
  },
  {
   "cell_type": "markdown",
   "metadata": {},
   "source": [
    "### 3. Extra whitespace is not a problem\n",
    "\n",
    "Aside from indentation, Python is flexible with including additional **whitespace**. It is not picky with spaces within lines and allows you to add blank lines.\n",
    "\n",
    "Blank lines will not affect code blocks. Use these for clarity."
   ]
  },
  {
   "cell_type": "code",
   "execution_count": null,
   "metadata": {},
   "outputs": [],
   "source": [
    "SevenArts = ['Painting','Architecture','Sculpture','Literature','Music','Performing','Film']\n",
    "      \n",
    "#Python does not mind blank lines or extra spaces, use them for clarity\n",
    "    \n",
    "for art in SevenArts:     \n",
    "    print(art, \"is one of the seven arts\") \n",
    "\n",
    "# They won't affect indentation (so the lines above and below\n",
    "# this comment will still be read as part of the same block)\n",
    "\n",
    "    print(\"I love\", art)                    \n",
    "print(\"But what about photography?\")"
   ]
  },
  {
   "cell_type": "code",
   "execution_count": null,
   "metadata": {},
   "outputs": [],
   "source": [
    "question(Q2)"
   ]
  },
  {
   "cell_type": "markdown",
   "metadata": {},
   "source": [
    "**Exercise 1:** Below is some code in which significant whitespace has been removed. Taking into account that statements (units that represent a single action) occupy a line, and code blocks (sets of statements that must be run together) are indented, edit the cell to generate functional code. Test the code out until it has the expected effect.\n",
    "\n",
    "The code should\n",
    "1. Create a variable called count with the value 10\n",
    "2. Open a code block with a while statement.\n",
    "3. Within the block, you should have two statements. The first one will print, and the second one will change the value of the count (i.e. the script is counting down).\n",
    "5. Once this block has ended, you should have another statement that will print \"lift off!\"\n",
    "\n",
    "**Note:** if you find yourself stuck in an infinite loop, press the &#9634; button above."
   ]
  },
  {
   "cell_type": "code",
   "execution_count": null,
   "metadata": {},
   "outputs": [],
   "source": [
    "count = 10 while count > 0: print(str(count) +\"!\") count = count - 1 print(\"lift off!\")"
   ]
  },
  {
   "cell_type": "code",
   "execution_count": null,
   "metadata": {},
   "outputs": [],
   "source": [
    "solution(E1)"
   ]
  },
  {
   "cell_type": "markdown",
   "metadata": {},
   "source": [
    "# Creating Variables: Giving Objects a Label\n",
    "\n",
    ">A **variable** is a label or name that points to an instance of an object to help call (retrieve) it.\n",
    "\n",
    "You **assign** a variable to an object with a single **= sign**, placing the variable name on the left and its value on the right. \n",
    "\n",
    "```python\n",
    "variable_name = object\n",
    "```\n",
    "\n",
    "This command will not give you an output; instead, it will store the variable you created. The variable will be stored for the rest of the session, and you will be able to call it at any point by using its name.\n",
    "\n",
    "For example, we can assign the variable 'artist' to the value 'Pablo Picasso', which is a 'string' (or text) object:"
   ]
  },
  {
   "cell_type": "code",
   "execution_count": null,
   "metadata": {},
   "outputs": [],
   "source": [
    "artist = 'Pablo Picasso'\n",
    "\n",
    "# Above, we assign the text 'Pablo Picasso' to the variable 'artist'."
   ]
  },
  {
   "cell_type": "code",
   "execution_count": null,
   "metadata": {},
   "outputs": [],
   "source": [
    "#Let's check its value:\n",
    "\n",
    "artist"
   ]
  },
  {
   "cell_type": "markdown",
   "metadata": {},
   "source": [
    "Any instance of an object can be assigned to a variable. In this example, we were assigning a string (text) object to a variable. As we shall see later, string objects must always be surrounded by quotes.\n",
    "\n",
    "Variables are called 'variable' because they **can be overwritten.** Be careful: if you assign the name again, you will change the variable's value."
   ]
  },
  {
   "cell_type": "code",
   "execution_count": null,
   "metadata": {},
   "outputs": [],
   "source": [
    "#Let's call somebody else an artist:\n",
    "artist = 'Frida Kahlo'"
   ]
  },
  {
   "cell_type": "code",
   "execution_count": null,
   "metadata": {},
   "outputs": [],
   "source": [
    "#Check:\n",
    "artist"
   ]
  },
  {
   "cell_type": "markdown",
   "metadata": {},
   "source": [
    "As you can see, we have overwritten the previous value for this variable. Picasso no longer exists!\n",
    "\n",
    "To hold several pieces of text, we would have to use another object class. Many object classes for holding multiple values exist in Python; we will study them as we advance in the course. The most basic one is a list.\n",
    "\n",
    ">**List:** An ordered, changeable collection of values. \n",
    "\n",
    "Lists are denoted by **square brackets [ ]**, and its elements are separated by commas. Any object type could be a value within a list, including other lists or collections of objects (putting a list within a list is called nesting).\n",
    "\n",
    "In our example, we could save both painters' names by assigning a list to the variable artists. Remember that we put quotes around a text value."
   ]
  },
  {
   "cell_type": "code",
   "execution_count": null,
   "metadata": {},
   "outputs": [],
   "source": [
    "artists = ['Pablo Picasso', 'Frida Kahlo']"
   ]
  },
  {
   "cell_type": "code",
   "execution_count": null,
   "metadata": {},
   "outputs": [],
   "source": [
    "artists"
   ]
  },
  {
   "cell_type": "markdown",
   "metadata": {},
   "source": [
    "**Exercise 2:** We have three donut flavors, Plain-Glazed, Maple Bacon and Classic Chocolate. Use the assign statement to create **one** variable that stores all values. Choose a clear name for this variable. Make sure to run your line of code."
   ]
  },
  {
   "cell_type": "code",
   "execution_count": null,
   "metadata": {},
   "outputs": [],
   "source": []
  },
  {
   "cell_type": "markdown",
   "metadata": {},
   "source": [
    "Now check that your code created that variable by typing the variable name (and running)."
   ]
  },
  {
   "cell_type": "code",
   "execution_count": null,
   "metadata": {},
   "outputs": [],
   "source": []
  },
  {
   "cell_type": "code",
   "execution_count": null,
   "metadata": {},
   "outputs": [],
   "source": [
    "solution(E2)"
   ]
  },
  {
   "cell_type": "markdown",
   "metadata": {},
   "source": [
    "## Choosing Variable Names\n",
    "\n",
    "In Python, we give names to the instances of objects we create. Python does not interpret names, so these can be used to our advantage. Use names that are easy to understand and remember to enhance the legibility of our code. \n",
    "\n",
    "You can choose any names you would like (with a few exceptions). "
   ]
  },
  {
   "cell_type": "code",
   "execution_count": null,
   "metadata": {},
   "outputs": [],
   "source": [
    "# Let's re-assign 'Pablo Picasso' to a variable\n",
    "\n",
    "a = 'Pablo Picasso'\n",
    "artist = 'Pablo Picasso' "
   ]
  },
  {
   "cell_type": "markdown",
   "metadata": {},
   "source": [
    "Both lines of code do exactly the same thing, but which is clearer? \n",
    "The second one is easier to understand because it holds meaning that the reader can interpret.\n",
    "\n",
    "### Naming Limits:\n",
    " - You cannot start a variable name with a number\n",
    " - You cannot use whitespace or punctuation other than \\_\n",
    " - Some reserved words cannot be used (if, where, print...). \n",
    "     - These words are green in Jupyter Notebooks and Jupyter Lab.\n",
    " - Variable names are case-sensitive. (ex. artist, Artist and ArTiSt would be different objects- a bad choice).\n",
    " - Reassigning a name will overwrite the variable.\n",
    " "
   ]
  },
  {
   "cell_type": "code",
   "execution_count": null,
   "metadata": {},
   "outputs": [],
   "source": [
    "question(Q3)"
   ]
  },
  {
   "cell_type": "markdown",
   "metadata": {},
   "source": [
    "---\n",
    "# Coda: Error Messages\n",
    "\n",
    "The above discussion should give you the basic knowledge necessary to begin to read Python. \n",
    "\n",
    "If something goes wrong with your code, Python will stop executing and run an error message. Error messages are additional tool in your programming toolkit.\n",
    "\n",
    "There are two types of error messages:\n",
    "    \n",
    "- Syntax Errors: Errors that indicate that there is a mistake in the structure of your code\n",
    "- Exceptions: The code is structurally correct, but fails to execute for another reason (perhaps because of invalid input).\n",
    "\n",
    "Python will point to the line where the earliest error has occurred. The error name and message will give clues as to what went wrong.\n",
    "\n",
    "This will be helpful for troubleshooting when you start writing your own code.\n",
    "\n",
    "If you run the code below, you will encounter an error: "
   ]
  },
  {
   "cell_type": "code",
   "execution_count": null,
   "metadata": {
    "slideshow": {
     "slide_type": "-"
    }
   },
   "outputs": [],
   "source": [
    "arts = ['Painting','Architecture','Sculpture','Literature','Music','Performing','Film']\n",
    "\n",
    "print(x)"
   ]
  },
  {
   "cell_type": "markdown",
   "metadata": {},
   "source": [
    "In the last line of the error message, Python gives you information about the type of error and its cause. Here, it is a \"NameError\", and there is an issue with \"x\".  \n",
    "\n",
    "The body of the error message gives you information on the context in which the error occurred. A green arrow points to the line where Python first detected the error. It is helpful as an approximate location. It might mean that you made a mistake there, or that a mistake made earlier caused problems in that line. \n",
    "\n",
    "We never created any variable named x, so Python is complaining.\n",
    "\n",
    "**Exercise 3** How would you fix the code above? Work in the code cell above and run it to make it work."
   ]
  },
  {
   "cell_type": "code",
   "execution_count": null,
   "metadata": {},
   "outputs": [],
   "source": [
    "solution(E3)"
   ]
  },
  {
   "cell_type": "markdown",
   "metadata": {},
   "source": [
    "--- \n",
    "# Lesson Summary\n",
    "\n",
    "- The Python language is human-readable because of its clear syntax and semantics.\n",
    "- In it, you create instances of objects and then perform actions on them.\n",
    "- It can be read much like sentences with nouns (objects) and a syntactical structure, or like a recipe with ingredients (semantics) and instructions (syntax).\n",
    "\n",
    "Basic syntax:\n",
    "- Comments (#) can help explain what each line is doing.\n",
    "- Each line (enter) represents a statement: an action.\n",
    "- Each code block (indent) is a set of actions performed together.\n",
    "\n",
    "<div style=\"text-align:center\">    \n",
    "  <a href=\"OO%20Python%20and%20the%20Humanities.ipynb\">Previous Lesson: Python and the Humanities</a>|\n",
    "   <a href=\"02%20Semantics.ipynb\">Next Lesson: Reading Python Script - Semantics</a>\n",
    "</div>"
   ]
  }
 ],
 "metadata": {
  "kernelspec": {
   "display_name": "Python 3",
   "language": "python",
   "name": "python3"
  },
  "language_info": {
   "codemirror_mode": {
    "name": "ipython",
    "version": 3
   },
   "file_extension": ".py",
   "mimetype": "text/x-python",
   "name": "python",
   "nbconvert_exporter": "python",
   "pygments_lexer": "ipython3",
   "version": "3.7.6"
  }
 },
 "nbformat": 4,
 "nbformat_minor": 4
}
