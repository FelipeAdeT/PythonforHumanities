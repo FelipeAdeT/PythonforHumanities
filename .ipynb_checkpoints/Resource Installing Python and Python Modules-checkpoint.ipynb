{
 "cells": [
  {
   "cell_type": "markdown",
   "metadata": {},
   "source": [
    "**Note 2:** These instructions are intended for working on a Mac computer with a version of Anaconda installed on it. This will have installed pip as well. "
   ]
  },
  {
   "cell_type": "markdown",
   "metadata": {},
   "source": [
    "Checking for Python\n",
    "\n"
   ]
  },
  {
   "cell_type": "markdown",
   "metadata": {},
   "source": [
    "Installing Python"
   ]
  },
  {
   "cell_type": "markdown",
   "metadata": {},
   "source": [
    "Accessing Python\n",
    "\n",
    "terminal or JN/Jlab among other environments"
   ]
  },
  {
   "cell_type": "markdown",
   "metadata": {},
   "source": [
    "\n",
    "\n",
    "# Checking your modules\n",
    "\n",
    "You can check what Python modules are installed on your computer through your computer's command line interface.\n",
    "\n",
    "On Mac, you need to open a Terminal window (easily through your search bar) and run this line of code:\n",
    "\n",
    "`pip list`\n",
    "\n",
    "Which should output a list of the modules you have installed on your computer."
   ]
  },
  {
   "cell_type": "markdown",
   "metadata": {},
   "source": [
    "\n",
    "You can also do it internally within the Jupyter notebook with the following code:\n",
    "\n",
    "`help('modules')`"
   ]
  },
  {
   "cell_type": "markdown",
   "metadata": {},
   "source": [
    "# Installing a Module\n",
    "\n",
    "Once again, in a Terminal session:\n",
    "\n",
    "`pip install SomePackage`\n",
    "\n",
    "where 'SomePackage' is replaced by the name of the package you are installing."
   ]
  },
  {
   "cell_type": "markdown",
   "metadata": {},
   "source": [
    "# Installing a Module (continued)\n",
    "\n",
    "Some packages might require further steps for installation; you should look at the package documentation and at online discussion platforms such as StackExchange if you have issues. A google search goes a long way.\n",
    "\n",
    "Once a package is installed, it remains on your computer and you can call it in a Python session without re-installing it."
   ]
  },
  {
   "cell_type": "markdown",
   "metadata": {},
   "source": [
    "from a whirlwind tour of python\n",
    "\n",
    "\n",
    "Installing Python and the suite of libraries that enable scientific computing is straightforward whether you use Windows, Linux, or Mac OS X. This section will outline some of the considerations when setting up your computer.\n",
    "Python 2 versus Python 3\n",
    "This report uses the syntax of Python 3, which contains language enhancements that are not compatible with the 2.x series of Python. Though Python 3.0 was first released in 2008, adoption has been rel‐ atively slow, particularly in the scientific and web development com‐ munities. This is primarily because it took some time for many of the essential packages and toolkits to be made compatible with the new language internals. Since early 2014, however, stable releases of the most important tools in the data science ecosystem have been fully compatible with both Python 2 and 3, and so this report will use the newer Python 3 syntax. Even though that is the case, the vast majority of code snippets in this report will also work without modi‐ fication in Python 2: in cases where a Py2-incompatible syntax is used, I will make every effort to note it explicitly.\n",
    "Installation with conda\n",
    "Though there are various ways to install Python, the one I would suggest—particularly if you wish to eventually use the data science tools mentioned earlier—is via the cross-platform Anaconda distri‐ bution. There are two flavors of the Anaconda distribution:\n",
    "\n",
    "• Miniconda gives you the Python interpreter itself, along with a command-line tool called conda which operates as a cross- platform package manager geared toward Python packages, similar in spirit to the apt or yum tools that Linux users might be familiar with.\n",
    "• Anaconda includes both Python and conda, and additionally bundles a suite of other pre-installed packages geared toward scientific computing.\n",
    "Any of the packages included with Anaconda can also be installed manually on top of Miniconda; for this reason, I suggest starting with Miniconda.\n",
    "To get started, download and install the Miniconda package—make sure to choose a version with Python 3—and then install the IPython notebook package:\n",
    "    [~]$ conda install ipython-notebook\n",
    "For more information on conda, including information about creat‐ ing and using conda environments, refer to the Miniconda package documentation linked at the above page."
   ]
  }
 ],
 "metadata": {
  "kernelspec": {
   "display_name": "Python 3",
   "language": "python",
   "name": "python3"
  },
  "language_info": {
   "codemirror_mode": {
    "name": "ipython",
    "version": 3
   },
   "file_extension": ".py",
   "mimetype": "text/x-python",
   "name": "python",
   "nbconvert_exporter": "python",
   "pygments_lexer": "ipython3",
   "version": "3.7.3"
  }
 },
 "nbformat": 4,
 "nbformat_minor": 4
}
