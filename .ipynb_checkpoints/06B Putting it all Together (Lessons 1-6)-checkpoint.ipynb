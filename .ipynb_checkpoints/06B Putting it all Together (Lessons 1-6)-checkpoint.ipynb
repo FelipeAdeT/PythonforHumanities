{
 "cells": [
  {
   "cell_type": "markdown",
   "metadata": {},
   "source": [
    "### Navigation Reminder\n",
    "\n",
    "- **Grey cells** are **code cells**. Click inside them and type to edit.\n",
    "- **Run**  code cells by pressing $ \\triangleright $  in the toolbar above, or press ``` shift + enter```.\n",
    "-  **Stop** a running process by clicking &#9634; in the toolbar above.\n",
    "- You can **add new cells** by clicking to the left of a cell and pressing ```A``` (for above), or ```B``` (for below). \n",
    "- **Delete cells** by pressing ```X```.\n",
    "- Run all code cells that import objects (such as the one below) to ensure that you can follow exercises and examples.\n",
    "- Feel free to edit and experiment - you will not corrupt the original files."
   ]
  },
  {
   "cell_type": "markdown",
   "metadata": {},
   "source": [
    "# 06B Putting it all together. Simple Text Analysis (Lessons 1-6)\n",
    "\n",
    "In lessons 1-5, we learned about many of the building blocks that make Python such a powerful language, including basic data types (strings, integers, floats, lists and dictionaries), conditional structures, and loops. \n",
    "\n",
    "In this notebook, we will run through a long-form exercise that allows us to put all this knowledge together. \n",
    "\n",
    "We will be working with a corpus of sonnets by Shakespeare, counting the frequency of terms used in each individual poem and then creating a simple algorithm that measures similarity between poems using this information. In the future, such algorithms can be imported from modules created by others; but creating one is a useful way to reinforce the knowledge you obtained in the past lessons, practice working through a small project and avoid getting into the habit of 'outsourcing' algorithms without thinking about our needs and objectives, as well as what these algorithms are doing.\n",
    "\n",
    "There are several modules for text analysis that provide advanced tools for text analysis. In this lesson, however, we will use the basic building blocks of the Python language to construct simple tools for term counting and similarity analysis. \n",
    "\n",
    "Please note that there are multiple paths to the objectives we outline below. We do provide a 'solution' notebook with our approach towards this project as guidance if you get stuck, but if you find alternative solutions, it is more useful to think critically about your code and whether it achieves its goals than to try to make it conform to the sample solution.\n",
    "\n",
    "---\n",
    "\n",
    "**Lesson Objectives**\n",
    "- Practice:\n",
    "    - Using basic data structures (strings and numbers) and their operators\n",
    "    - Using collections (lists and dictionaries), and discerning when to select one or the other\n",
    "    - Creating loops\n",
    "    - Using conditional statements\n",
    "- Develop good habits for projects, including: \n",
    "    - Taking time to understand the source data and its particularities before committing to an approach\n",
    "    - Thinking critically about algorithms and problem-solving, instead of immediately delegating to solutions developed by others\n",
    "---"
   ]
  },
  {
   "cell_type": "markdown",
   "metadata": {},
   "source": [
    "**1.** The file we will be using is saved in 'Other_files/Shakespeare_sonnets.txt'.  Using the 'with xxx as file' notation, create a file handle using the open() statement and then read the file as one block of text, assigning it to the variable text. This ensures that the file is closed after we read into it. "
   ]
  },
  {
   "cell_type": "code",
   "execution_count": 4,
   "metadata": {},
   "outputs": [],
   "source": [
    "with open('Other_files/Shakespeare_sonnets.txt','r',encoding='utf=8') as file:\n",
    "    text = file.read()"
   ]
  },
  {
   "cell_type": "code",
   "execution_count": null,
   "metadata": {},
   "outputs": [],
   "source": [
    "# Alternatives: poems by Wilde, Walrus poem from Alice in Wonderland. \n",
    "# Also have the lives of Vasari and we could use John Donne's poems from Gutenberg (this could be\n",
    "# interesting if we compared the similiarity of poems by JD and WS, same time period but different authors)"
   ]
  },
  {
   "cell_type": "markdown",
   "metadata": {},
   "source": [
    "**2.** Take a first look at the text file by printing the first 1600 characters of the text file.\n",
    "\n",
    "**Hint:** the object is like a long string, so you can index into it like as you usually would a string."
   ]
  },
  {
   "cell_type": "code",
   "execution_count": 5,
   "metadata": {},
   "outputs": [
    {
     "name": "stdout",
     "output_type": "stream",
     "text": [
      "From fairest creatures we desire increase,\n",
      "That thereby beauty’s rose might never die,\n",
      "But as the riper should by time decease,\n",
      "His tender heir might bear his memory:\n",
      "But thou contracted to thine own bright eyes,\n",
      "Feed’st thy light’s flame with self-substantial fuel,\n",
      "Making a famine where abundance lies,\n",
      "Thy self thy foe, to thy sweet self too cruel:\n",
      "Thou that art now the world’s fresh ornament,\n",
      "And only herald to the gaudy spring,\n",
      "Within thine own bud buriest thy content,\n",
      "And, tender churl, mak’st waste in niggarding:\n",
      "Pity the world, or else this glutton be,\n",
      "To eat the world’s due, by the grave and thee.\n",
      "\n",
      "\n",
      "When forty winters shall besiege thy brow,\n",
      "And dig deep trenches in thy beauty’s field,\n",
      "Thy youth’s proud livery so gazed on now,\n",
      "Will be a tattered weed of small worth held:\n",
      "Then being asked, where all thy beauty lies,\n",
      "Where all the treasure of thy lusty days;\n",
      "To say, within thine own deep sunken eyes,\n",
      "Were an all-eating shame, and thriftless praise.\n",
      "How much more praise deserv’d thy beauty’s use,\n",
      "If thou couldst answer ‘This fair child of mine\n",
      "Shall sum my count, and make my old excuse,’\n",
      "Proving his beauty by succession thine.\n",
      "This were to be new made when thou art old,\n",
      "And see thy blood warm when thou feel’st it cold.\n",
      "\n",
      "\n",
      "Look in thy glass and tell the face thou viewest,\n",
      "Now is the time that face should form another,\n",
      "Whose fresh repair if now thou not renewest,\n",
      "Thou dost beguile the world, unbless some mother.\n",
      "For where is she so fair whose uneared womb\n",
      "Disdains the tillage of thy husbandry?\n",
      "Or who is he so fond will be the tomb\n",
      "Of his self-love to stop posterity?\n",
      "Thou a\n"
     ]
    }
   ],
   "source": [
    "print(text[:1600])"
   ]
  },
  {
   "cell_type": "markdown",
   "metadata": {},
   "source": [
    "**3.** It is also helpful to display the text without formatting, so we can see invisible characters such as those used for whitespace. Index into the whole text as before, but without using the print statement.\n",
    "\n",
    "Start thinking about the **characteristics of the file**. How are the sonnets separated and structured?  How might we use whitespace to divide it into individual poems, and these poems into terms (also known as 'tokens')? What actions might we have to perform in order to extract these tokens for counting?"
   ]
  },
  {
   "cell_type": "code",
   "execution_count": 6,
   "metadata": {},
   "outputs": [
    {
     "data": {
      "text/plain": [
       "'From fairest creatures we desire increase,\\nThat thereby beauty’s rose might never die,\\nBut as the riper should by time decease,\\nHis tender heir might bear his memory:\\nBut thou contracted to thine own bright eyes,\\nFeed’st thy light’s flame with self-substantial fuel,\\nMaking a famine where abundance lies,\\nThy self thy foe, to thy sweet self too cruel:\\nThou that art now the world’s fresh ornament,\\nAnd only herald to the gaudy spring,\\nWithin thine own bud buriest thy content,\\nAnd, tender churl, mak’st waste in niggarding:\\nPity the world, or else this glutton be,\\nTo eat the world’s due, by the grave and thee.\\n\\n\\nWhen forty winters shall besiege thy brow,\\nAnd dig deep trenches in thy beauty’s field,\\nThy youth’s proud livery so gazed on now,\\nWill be a tattered weed of small worth held:\\nThen being asked, where all thy beauty lies,\\nWhere all the treasure of thy lusty days;\\nTo say, within thine own deep sunken eyes,\\nWere an all-eating shame, and thriftless praise.\\nHow much more praise deserv’d thy beauty’s use,\\nIf thou couldst answer ‘This fair child of mine\\nShall sum my count, and make my old excuse,’\\nProving his beauty by succession thine.\\nThis were to be new made when thou art old,\\nAnd see thy blood warm when thou feel’st it cold.\\n\\n\\nLook in thy glass and tell the face thou viewest,\\nNow is the time that face should form another,\\nWhose fresh repair if now thou not renewest,\\nThou dost beguile the world, unbless some mother.\\nFor where is she so fair whose uneared womb\\nDisdains the tillage of thy husbandry?\\nOr who is he so fond will be the tomb\\nOf his self-love to stop posterity?\\nThou a'"
      ]
     },
     "execution_count": 6,
     "metadata": {},
     "output_type": "execute_result"
    }
   ],
   "source": [
    "text[0:1600]"
   ]
  },
  {
   "cell_type": "markdown",
   "metadata": {},
   "source": [
    "Here are some of the characteristics of the text that we see will affect our analysis.\n",
    "\n",
    "    - Each sonnet (14 lines) is separated by three instances of the newline character \\n (one to end the final line of the poem, and two to generate blank lines after).\n",
    "    - Words are separated by spaces or the newline character \\n (the last word of a line and the first of the next).\n",
    "    - Some words begin with a capital letter, others are fully lowercase.\n",
    "    - Some words have punctuation around them.\n",
    "    \n",
    "We can use the first two characteristics to split the block of text into poems, and then tokens. The other characteristics will have to be edited out to get a clean count of the tokens (to ensure, for instance, that 'Now' and 'now' or 'now.' and 'now' are counted as the same token).\n",
    "\n",
    "# 1. Text Pre-Processing\n",
    "\n",
    "How we choose to clean a text depends on our project's goal. In this case, our desired output is a list of terms in each of our poems, which we will then count and compare in our analysis.\n",
    "\n",
    "To end up with a set of clean tokens, we will have to pre-process the text in several phases:\n",
    "1. Strip the text of punctuation and cases (capitalization).\n",
    "1. Split the text into poems using triple newline characters (\\n\\n\\n).\n",
    "1. Split the text into tokens using whitespace.\n",
    "\n",
    "Note that step 1 could actually be undertaken at any point: we choose to do it first for the sake of efficiency, applying the changes to the whole text and avoiding creating loops that would otherwise have to re-iterate the step for each poem or for each token. \n",
    "\n",
    "## 1.a. Removing Punctuation and Cases\n",
    "\n",
    "In this case, we want to very simply count term frequency, so we make the decision to remove capitals and any punctuation outside of tokens. This way, words will be counted as the same term regardless of how they were capitalized or if they had any adjacent punctuation marks. \n",
    "\n",
    "In the code cell below, we are creating a string object that contains common punctuation marks. "
   ]
  },
  {
   "cell_type": "code",
   "execution_count": 10,
   "metadata": {},
   "outputs": [],
   "source": [
    "punctuation = '!\"#$%&\\'()*+,-./:;<=>?@[\\\\]^_`{|}~’‘'"
   ]
  },
  {
   "cell_type": "markdown",
   "metadata": {},
   "source": [
    "Recall that strings can be thought of as a series of characters, and a for-loop will iterate through each character in a string if used in the for-statement.\n",
    "\n",
    "1. Using variable assignment and a string method, create a variable called 'text_clean' which is an all-lowercase version of the text variable.\n",
    "2. Create a loop that iterates through the punctuation marks above and uses another string method to replace the marks from the clean_text with no character (this could be written as a string with nothing in between the quotes, or ''). Remember that string methods do not act in place, so you will have to reassign the clean_text variable within the loop."
   ]
  },
  {
   "cell_type": "code",
   "execution_count": 11,
   "metadata": {},
   "outputs": [],
   "source": [
    "text_clean = text.lower()\n",
    "for mark in punctuation:\n",
    "    text_clean = text_clean.replace(mark,'')"
   ]
  },
  {
   "cell_type": "code",
   "execution_count": 12,
   "metadata": {},
   "outputs": [
    {
     "name": "stdout",
     "output_type": "stream",
     "text": [
      "from fairest creatures we desire increase\n",
      "that thereby beautys rose might never die\n",
      "but as the riper should by time decease\n",
      "his tender heir might bear his memory\n",
      "but thou contracted to thine own bright eyes\n",
      "feedst thy lights flame with selfsubstantial fuel\n",
      "making a famine where abundance lies\n",
      "thy self thy foe to thy sweet self too cruel\n",
      "thou that art now the worlds fresh ornament\n",
      "and only herald to the gaudy spring\n",
      "within thine own bud buriest thy content\n",
      "and tender churl makst waste in niggarding\n",
      "pity the world or else this glutton be\n",
      "to eat the worlds due by the grave and thee\n",
      "\n",
      "\n",
      "when forty winters shall besiege thy brow\n",
      "and dig deep trenches in thy beautys field\n",
      "thy youths proud livery so gazed on now\n",
      "will be a tattered weed of small worth held\n",
      "then being asked where all thy beauty lies\n",
      "where all the treasure of thy lusty days\n",
      "to say within thine own deep sunken eyes\n",
      "were an alleating shame and thriftless praise\n",
      "how much more praise deservd thy beautys use\n",
      "if thou couldst answer this fair child of mine\n",
      "shall sum my count and make my old excuse\n",
      "proving his beauty by succession thine\n",
      "this were to be new made when thou art old\n",
      "and see thy blood warm when thou feelst it cold\n",
      "\n",
      "\n",
      "look in thy glass and tell the face thou viewest\n",
      "now is the time that face should form another\n",
      "whose fresh repair if now thou not renewest\n",
      "thou dost beguile the world unbless some mother\n",
      "for where is she so fair whose uneared womb\n",
      "disdains the tillage of thy husbandry\n",
      "or who is he so fond will be the tomb\n",
      "of his selflove to stop posterity\n",
      "thou art thy mothers glass and she in thee\n",
      "calls back the lovely \n"
     ]
    }
   ],
   "source": [
    "print(text_clean[0:1600])"
   ]
  },
  {
   "cell_type": "markdown",
   "metadata": {},
   "source": [
    "# 2. Splitting the Block of Text into Poems\n",
    "\n",
    "Previously, we observed that the poems in the text are separated by three newline characters (\\n). Use this information and a [string method](https://docs.python.org/2.5/lib/string-methods.html) to split the clean text into a list of poems, assigned to a variable called 'poems'."
   ]
  },
  {
   "cell_type": "code",
   "execution_count": 13,
   "metadata": {},
   "outputs": [],
   "source": [
    "poems = text_clean.split('\\n\\n\\n')"
   ]
  },
  {
   "cell_type": "markdown",
   "metadata": {},
   "source": [
    "How many poems do we have? Check the length of the list, which should be 154."
   ]
  },
  {
   "cell_type": "code",
   "execution_count": 14,
   "metadata": {},
   "outputs": [
    {
     "data": {
      "text/plain": [
       "154"
      ]
     },
     "execution_count": 14,
     "metadata": {},
     "output_type": "execute_result"
    }
   ],
   "source": [
    "len(poems)"
   ]
  },
  {
   "cell_type": "markdown",
   "metadata": {},
   "source": [
    "Finally, retrieve and print an item from the list, to examine its contents:"
   ]
  },
  {
   "cell_type": "code",
   "execution_count": 15,
   "metadata": {},
   "outputs": [
    {
     "name": "stdout",
     "output_type": "stream",
     "text": [
      "from fairest creatures we desire increase\n",
      "that thereby beautys rose might never die\n",
      "but as the riper should by time decease\n",
      "his tender heir might bear his memory\n",
      "but thou contracted to thine own bright eyes\n",
      "feedst thy lights flame with selfsubstantial fuel\n",
      "making a famine where abundance lies\n",
      "thy self thy foe to thy sweet self too cruel\n",
      "thou that art now the worlds fresh ornament\n",
      "and only herald to the gaudy spring\n",
      "within thine own bud buriest thy content\n",
      "and tender churl makst waste in niggarding\n",
      "pity the world or else this glutton be\n",
      "to eat the worlds due by the grave and thee\n"
     ]
    }
   ],
   "source": [
    "print(poems[0])"
   ]
  },
  {
   "cell_type": "markdown",
   "metadata": {},
   "source": [
    "# 3. Tokenization: Splitting each Poem into a List of Terms\n",
    "\n",
    "Thus far, we have transformed one long text file into a collection of poem objects. To count the frequency of terms in each poem, we have to split each poem into a collection of terms or tokens. \n",
    "\n",
    "> Tokenization:  The process of breaking down text document apart into individual units of meaning, most frequently words.\n",
    "\n",
    "One issue we noticed before is that some words are separated by spaces, but others might be separated by newline characters (\\n). Since we don't care about poem structure in this exercise, the simplest solution is to replace line break characters with spaces. This will allow us to use the string.split() method afterwards using spaces to divide the poems up into tokens.\n",
    "\n",
    "Note that we didn't do this in the first text-preprocessing step, where we argued we should make these changes in a way that minimized the number of iterations necessary in our code. The reason is simple: up to this point, we needed line breaks to split the text into individual poems. Now, the newline characters have served their purpose, and we can remove them before splitting further.\n",
    "\n",
    "In the code cell below, create an empty list called poems_clean. Then build a loop that iterates through each item in our poems list, replaces all \\n characters with spaces, and appends the modified poem to our poems_clean list."
   ]
  },
  {
   "cell_type": "code",
   "execution_count": 17,
   "metadata": {},
   "outputs": [],
   "source": [
    "poems_clean = []\n",
    "for poem in poems:\n",
    "    poems_clean.append(poem.replace('\\n',' '))"
   ]
  },
  {
   "cell_type": "markdown",
   "metadata": {},
   "source": [
    "Next, create an empty list called poems_tokens. Then, construct a loop that uses a string method to split each cleaned poem by spaces, and appends the results to the poems_tokens list."
   ]
  },
  {
   "cell_type": "code",
   "execution_count": 18,
   "metadata": {},
   "outputs": [],
   "source": [
    "poems_tokens = []\n",
    "for poem in poems_clean:\n",
    "    poems_tokens.append(poem.split(' '))"
   ]
  },
  {
   "cell_type": "markdown",
   "metadata": {},
   "source": [
    "Where we started with a list of poems, we further split each of those items into a list of terms. It is useful to thus bear in mind that poems_tokens is a list of lists. Each item in poems_tokens, indexable by position, is a list of the terms included in a particular poem.  \n",
    "\n",
    "In this situation, because the poems have no title or other useful ID, accessing them by position, which has been preserved in the previous transformation from individual poem to list of tokens, is sufficient for our purposes. In other cases, where we might have used other unique information as an identifier and not cared about order, a dictionary would have been a more appropriate container.\n",
    "\n",
    "Let's examine one item from our new poems_tokens list. What it should contain is a list of each of the terms in our poem. "
   ]
  },
  {
   "cell_type": "code",
   "execution_count": 20,
   "metadata": {},
   "outputs": [
    {
     "name": "stdout",
     "output_type": "stream",
     "text": [
      "['from', 'fairest', 'creatures', 'we', 'desire', 'increase', 'that', 'thereby', 'beautys', 'rose', 'might', 'never', 'die', 'but', 'as', 'the', 'riper', 'should', 'by', 'time', 'decease', 'his', 'tender', 'heir', 'might', 'bear', 'his', 'memory', 'but', 'thou', 'contracted', 'to', 'thine', 'own', 'bright', 'eyes', 'feedst', 'thy', 'lights', 'flame', 'with', 'selfsubstantial', 'fuel', 'making', 'a', 'famine', 'where', 'abundance', 'lies', 'thy', 'self', 'thy', 'foe', 'to', 'thy', 'sweet', 'self', 'too', 'cruel', 'thou', 'that', 'art', 'now', 'the', 'worlds', 'fresh', 'ornament', 'and', 'only', 'herald', 'to', 'the', 'gaudy', 'spring', 'within', 'thine', 'own', 'bud', 'buriest', 'thy', 'content', 'and', 'tender', 'churl', 'makst', 'waste', 'in', 'niggarding', 'pity', 'the', 'world', 'or', 'else', 'this', 'glutton', 'be', 'to', 'eat', 'the', 'worlds', 'due', 'by', 'the', 'grave', 'and', 'thee']\n"
     ]
    }
   ],
   "source": [
    "print(poems_tokens[0])"
   ]
  },
  {
   "cell_type": "markdown",
   "metadata": {},
   "source": [
    "At this stage, we have the raw information we need in a format appropriate for our analysis. \n",
    "\n",
    "# 4. Term Frequency Analysis. Counting Terms\n",
    "\n",
    "Next, we will count the terms in each poem. We should think about the nature of our problem. \n",
    "\n",
    "We have a data structure which is a list in which each item is a list of tokens. For each list of tokens, we will have to identify a term, and then count the number of times it appears in the list. Then we should store this information in some way. \n",
    "\n",
    "In other words, we will have a number of **unique terms** and an associated count **value** for each. This should ring some alarm bells about the best data structure. What data structure would you use?\n",
    "\n",
    "Ideally, we would want to be creating dictionaries of word counts. In each dictionary, each term would be a key, and its count would be the value. There would be one dictionary per poem. \n",
    "\n",
    "## Solving the Problem: Designing our Algorithm\n",
    "\n",
    "What we have to design now is a loop that can generate the count for each word. We can work it out for one poem, before creating a more general loop that works through the 154 sonnets."
   ]
  },
  {
   "cell_type": "markdown",
   "metadata": {},
   "source": [
    "## A loop for one poem\n",
    "\n",
    "\n",
    "First, assign the first poem in our list to the variable 'poem1'. Remember that in a list, the first position is 0. We will use this poem to think about how to work through an individual case before generalizing and applying the method to other poems."
   ]
  },
  {
   "cell_type": "code",
   "execution_count": 24,
   "metadata": {},
   "outputs": [],
   "source": [
    "poem1 =poems_tokens[0]"
   ]
  },
  {
   "cell_type": "code",
   "execution_count": 25,
   "metadata": {},
   "outputs": [
    {
     "name": "stdout",
     "output_type": "stream",
     "text": [
      "['from', 'fairest', 'creatures', 'we', 'desire', 'increase', 'that', 'thereby', 'beautys', 'rose', 'might', 'never', 'die', 'but', 'as', 'the', 'riper', 'should', 'by', 'time', 'decease', 'his', 'tender', 'heir', 'might', 'bear', 'his', 'memory', 'but', 'thou', 'contracted', 'to', 'thine', 'own', 'bright', 'eyes', 'feedst', 'thy', 'lights', 'flame', 'with', 'selfsubstantial', 'fuel', 'making', 'a', 'famine', 'where', 'abundance', 'lies', 'thy', 'self', 'thy', 'foe', 'to', 'thy', 'sweet', 'self', 'too', 'cruel', 'thou', 'that', 'art', 'now', 'the', 'worlds', 'fresh', 'ornament', 'and', 'only', 'herald', 'to', 'the', 'gaudy', 'spring', 'within', 'thine', 'own', 'bud', 'buriest', 'thy', 'content', 'and', 'tender', 'churl', 'makst', 'waste', 'in', 'niggarding', 'pity', 'the', 'world', 'or', 'else', 'this', 'glutton', 'be', 'to', 'eat', 'the', 'worlds', 'due', 'by', 'the', 'grave', 'and', 'thee']\n"
     ]
    }
   ],
   "source": [
    "print(poem1)"
   ]
  },
  {
   "cell_type": "markdown",
   "metadata": {},
   "source": [
    "Let's also create an empty dictionary titled 'term_counts' to store our terms. "
   ]
  },
  {
   "cell_type": "code",
   "execution_count": 26,
   "metadata": {},
   "outputs": [],
   "source": [
    "term_counts={}"
   ]
  },
  {
   "cell_type": "markdown",
   "metadata": {},
   "source": [
    "Within our problem, we have to think of two scenarios:\n",
    "\n",
    "For each word in our poem,\n",
    "1. If we are encountering a new word, that is, if the word is not in our data structure, create an item where the key is the token, and the value is 1. \n",
    "2. If the word already has an item in our data structure, retrieve the value and update it by adding 1 to the count.\n",
    "\n",
    "Remember how to access, create and modify information in a dictionary. To retrieve a value from a dictionary, you call the dictionary name and the key in brackets. This method also works to create a new dictionary item, or to update an item's value. Also remember that you can iterate through the keys in a dictionary as you would iterate through the items in a list.\n",
    "\n",
    "Now, construct a loop that will populate the term_counts dictionary with unique terms and the number of times each one appears in the poem.  Within the dictionary, each item will be comprised of a key (the token) and a value (the count)."
   ]
  },
  {
   "cell_type": "code",
   "execution_count": 27,
   "metadata": {},
   "outputs": [],
   "source": [
    "for token in poem1:\n",
    "    if token not in term_counts:\n",
    "        term_counts[token]=1\n",
    "    else:\n",
    "        term_counts[token]=term_counts[token]+1    "
   ]
  },
  {
   "cell_type": "code",
   "execution_count": 28,
   "metadata": {},
   "outputs": [
    {
     "data": {
      "text/plain": [
       "{'from': 1,\n",
       " 'fairest': 1,\n",
       " 'creatures': 1,\n",
       " 'we': 1,\n",
       " 'desire': 1,\n",
       " 'increase': 1,\n",
       " 'that': 2,\n",
       " 'thereby': 1,\n",
       " 'beautys': 1,\n",
       " 'rose': 1,\n",
       " 'might': 2,\n",
       " 'never': 1,\n",
       " 'die': 1,\n",
       " 'but': 2,\n",
       " 'as': 1,\n",
       " 'the': 6,\n",
       " 'riper': 1,\n",
       " 'should': 1,\n",
       " 'by': 2,\n",
       " 'time': 1,\n",
       " 'decease': 1,\n",
       " 'his': 2,\n",
       " 'tender': 2,\n",
       " 'heir': 1,\n",
       " 'bear': 1,\n",
       " 'memory': 1,\n",
       " 'thou': 2,\n",
       " 'contracted': 1,\n",
       " 'to': 4,\n",
       " 'thine': 2,\n",
       " 'own': 2,\n",
       " 'bright': 1,\n",
       " 'eyes': 1,\n",
       " 'feedst': 1,\n",
       " 'thy': 5,\n",
       " 'lights': 1,\n",
       " 'flame': 1,\n",
       " 'with': 1,\n",
       " 'selfsubstantial': 1,\n",
       " 'fuel': 1,\n",
       " 'making': 1,\n",
       " 'a': 1,\n",
       " 'famine': 1,\n",
       " 'where': 1,\n",
       " 'abundance': 1,\n",
       " 'lies': 1,\n",
       " 'self': 2,\n",
       " 'foe': 1,\n",
       " 'sweet': 1,\n",
       " 'too': 1,\n",
       " 'cruel': 1,\n",
       " 'art': 1,\n",
       " 'now': 1,\n",
       " 'worlds': 2,\n",
       " 'fresh': 1,\n",
       " 'ornament': 1,\n",
       " 'and': 3,\n",
       " 'only': 1,\n",
       " 'herald': 1,\n",
       " 'gaudy': 1,\n",
       " 'spring': 1,\n",
       " 'within': 1,\n",
       " 'bud': 1,\n",
       " 'buriest': 1,\n",
       " 'content': 1,\n",
       " 'churl': 1,\n",
       " 'makst': 1,\n",
       " 'waste': 1,\n",
       " 'in': 1,\n",
       " 'niggarding': 1,\n",
       " 'pity': 1,\n",
       " 'world': 1,\n",
       " 'or': 1,\n",
       " 'else': 1,\n",
       " 'this': 1,\n",
       " 'glutton': 1,\n",
       " 'be': 1,\n",
       " 'eat': 1,\n",
       " 'due': 1,\n",
       " 'grave': 1,\n",
       " 'thee': 1}"
      ]
     },
     "execution_count": 28,
     "metadata": {},
     "output_type": "execute_result"
    }
   ],
   "source": [
    "term_counts"
   ]
  },
  {
   "cell_type": "markdown",
   "metadata": {},
   "source": [
    "# Counting terms: Applying the loop to all our poems\n",
    "\n",
    "The loop above works well for a poem, but we have 154 poems to analyze. \n",
    "\n",
    "That means we have to create 154 dictionaries, and store them in a way that is easy to retrieve. Once again, because all we are using is position of the poem to identify them, a list (which maintains and is indexable by position) is the best data structure for this case. \n",
    "\n",
    "Create an empty list called poems_counts.  Then, construct a nested for-loop. First, the loop should iterate through each item in our poems_tokens list.  Within the loop, for each list of poem tokens, the loop should generate a dictionary of word counts. In other words, the loop you created above can be modified and nested into the new loop to work for all our poems."
   ]
  },
  {
   "cell_type": "code",
   "execution_count": 29,
   "metadata": {},
   "outputs": [],
   "source": [
    "poems_counts = []\n",
    "\n",
    "for poem in poems_tokens:\n",
    "    term_counts={}\n",
    "    for token in poem:\n",
    "        if token not in term_counts:\n",
    "            term_counts[token]=1\n",
    "        else:\n",
    "            term_counts[token]=term_counts[token]+1\n",
    "    poems_counts.append(term_counts)"
   ]
  },
  {
   "cell_type": "code",
   "execution_count": 31,
   "metadata": {
    "collapsed": true,
    "jupyter": {
     "outputs_hidden": true
    }
   },
   "outputs": [
    {
     "name": "stdout",
     "output_type": "stream",
     "text": [
      "[{'from': 1, 'fairest': 1, 'creatures': 1, 'we': 1, 'desire': 1, 'increase': 1, 'that': 2, 'thereby': 1, 'beautys': 1, 'rose': 1, 'might': 2, 'never': 1, 'die': 1, 'but': 2, 'as': 1, 'the': 6, 'riper': 1, 'should': 1, 'by': 2, 'time': 1, 'decease': 1, 'his': 2, 'tender': 2, 'heir': 1, 'bear': 1, 'memory': 1, 'thou': 2, 'contracted': 1, 'to': 4, 'thine': 2, 'own': 2, 'bright': 1, 'eyes': 1, 'feedst': 1, 'thy': 5, 'lights': 1, 'flame': 1, 'with': 1, 'selfsubstantial': 1, 'fuel': 1, 'making': 1, 'a': 1, 'famine': 1, 'where': 1, 'abundance': 1, 'lies': 1, 'self': 2, 'foe': 1, 'sweet': 1, 'too': 1, 'cruel': 1, 'art': 1, 'now': 1, 'worlds': 2, 'fresh': 1, 'ornament': 1, 'and': 3, 'only': 1, 'herald': 1, 'gaudy': 1, 'spring': 1, 'within': 1, 'bud': 1, 'buriest': 1, 'content': 1, 'churl': 1, 'makst': 1, 'waste': 1, 'in': 1, 'niggarding': 1, 'pity': 1, 'world': 1, 'or': 1, 'else': 1, 'this': 1, 'glutton': 1, 'be': 1, 'eat': 1, 'due': 1, 'grave': 1, 'thee': 1}, {'when': 3, 'forty': 1, 'winters': 1, 'shall': 2, 'besiege': 1, 'thy': 7, 'brow': 1, 'and': 4, 'dig': 1, 'deep': 2, 'trenches': 1, 'in': 1, 'beautys': 2, 'field': 1, 'youths': 1, 'proud': 1, 'livery': 1, 'so': 1, 'gazed': 1, 'on': 1, 'now': 1, 'will': 1, 'be': 2, 'a': 1, 'tattered': 1, 'weed': 1, 'of': 3, 'small': 1, 'worth': 1, 'held': 1, 'then': 1, 'being': 1, 'asked': 1, 'where': 2, 'all': 2, 'beauty': 2, 'lies': 1, 'the': 1, 'treasure': 1, 'lusty': 1, 'days': 1, 'to': 2, 'say': 1, 'within': 1, 'thine': 2, 'own': 1, 'sunken': 1, 'eyes': 1, 'were': 2, 'an': 1, 'alleating': 1, 'shame': 1, 'thriftless': 1, 'praise': 2, 'how': 1, 'much': 1, 'more': 1, 'deservd': 1, 'use': 1, 'if': 1, 'thou': 3, 'couldst': 1, 'answer': 1, 'this': 2, 'fair': 1, 'child': 1, 'mine': 1, 'sum': 1, 'my': 2, 'count': 1, 'make': 1, 'old': 2, 'excuse': 1, 'proving': 1, 'his': 1, 'by': 1, 'succession': 1, 'new': 1, 'made': 1, 'art': 1, 'see': 1, 'blood': 1, 'warm': 1, 'feelst': 1, 'it': 1, 'cold': 1}, {'look': 1, 'in': 2, 'thy': 4, 'glass': 2, 'and': 3, 'tell': 1, 'the': 6, 'face': 2, 'thou': 6, 'viewest': 1, 'now': 2, 'is': 3, 'time': 2, 'that': 1, 'should': 1, 'form': 1, 'another': 1, 'whose': 2, 'fresh': 1, 'repair': 1, 'if': 2, 'not': 2, 'renewest': 1, 'dost': 1, 'beguile': 1, 'world': 1, 'unbless': 1, 'some': 1, 'mother': 1, 'for': 1, 'where': 1, 'she': 2, 'so': 3, 'fair': 1, 'uneared': 1, 'womb': 1, 'disdains': 1, 'tillage': 1, 'of': 5, 'husbandry': 1, 'or': 1, 'who': 1, 'he': 1, 'fond': 1, 'will': 1, 'be': 2, 'tomb': 1, 'his': 1, 'selflove': 1, 'to': 2, 'stop': 1, 'posterity': 1, 'art': 1, 'mothers': 1, 'thee': 2, 'calls': 1, 'back': 1, 'lovely': 1, 'april': 1, 'her': 1, 'prime': 1, 'through': 1, 'windows': 1, 'thine': 2, 'age': 1, 'shalt': 1, 'see': 1, 'despite': 1, 'wrinkles': 1, 'this': 1, 'golden': 1, 'but': 1, 'live': 1, 'remembered': 1, 'die': 1, 'single': 1, 'image': 1, 'dies': 1, 'with': 1}, {'unthrifty': 1, 'loveliness': 1, 'why': 3, 'dost': 4, 'thou': 5, 'spend': 1, 'upon': 1, 'thy': 6, 'self': 4, 'beautys': 1, 'legacy': 1, 'natures': 1, 'bequest': 1, 'gives': 1, 'nothing': 1, 'but': 1, 'doth': 1, 'lend': 1, 'and': 1, 'being': 1, 'frank': 1, 'she': 1, 'lends': 1, 'to': 4, 'those': 1, 'are': 1, 'free': 1, 'then': 2, 'beauteous': 1, 'niggard': 1, 'abuse': 1, 'the': 1, 'bounteous': 1, 'largess': 1, 'given': 1, 'thee': 3, 'give': 1, 'profitless': 1, 'usurer': 1, 'use': 1, 'so': 1, 'great': 1, 'a': 1, 'sum': 1, 'of': 2, 'sums': 1, 'yet': 1, 'canst': 2, 'not': 1, 'live': 1, 'for': 1, 'having': 1, 'traffic': 1, 'with': 2, 'alone': 1, 'sweet': 1, 'deceive': 1, 'how': 1, 'when': 1, 'nature': 1, 'calls': 1, 'be': 3, 'gone': 1, 'what': 1, 'acceptable': 1, 'audit': 1, 'leave': 1, 'unused': 1, 'beauty': 1, 'must': 1, 'tombed': 1, 'which': 1, 'used': 1, 'lives': 1, 'th': 1, 'executor': 1}, {'those': 1, 'hours': 1, 'that': 2, 'with': 4, 'gentle': 1, 'work': 1, 'did': 1, 'frame': 1, 'the': 3, 'lovely': 1, 'gaze': 1, 'where': 2, 'every': 2, 'eye': 1, 'doth': 2, 'dwell': 1, 'will': 1, 'play': 1, 'tyrants': 1, 'to': 2, 'very': 1, 'same': 1, 'and': 4, 'unfair': 1, 'which': 1, 'fairly': 1, 'excel': 1, 'for': 1, 'neverresting': 1, 'time': 1, 'leads': 1, 'summer': 1, 'on': 1, 'hideous': 1, 'winter': 2, 'confounds': 1, 'him': 1, 'there': 1, 'sap': 1, 'checked': 1, 'frost': 1, 'lusty': 1, 'leaves': 1, 'quite': 1, 'gone': 1, 'beauty': 2, 'oersnowed': 1, 'bareness': 1, 'then': 1, 'were': 2, 'not': 1, 'summers': 1, 'distillation': 1, 'left': 1, 'a': 1, 'liquid': 1, 'prisoner': 1, 'pent': 1, 'in': 1, 'walls': 1, 'of': 1, 'glass': 1, 'beautys': 1, 'effect': 1, 'bereft': 1, 'nor': 2, 'it': 2, 'no': 1, 'remembrance': 1, 'what': 1, 'was': 1, 'but': 2, 'flowers': 1, 'distilled': 1, 'though': 1, 'they': 1, 'meet': 1, 'leese': 1, 'their': 2, 'show': 1, 'substance': 1, 'still': 1, 'lives': 1, 'sweet': 1}, {'then': 2, 'let': 1, 'not': 3, 'winters': 1, 'ragged': 1, 'hand': 1, 'deface': 1, 'in': 2, 'thee': 4, 'thy': 3, 'summer': 1, 'ere': 2, 'thou': 5, 'be': 5, 'distilled': 1, 'make': 2, 'sweet': 1, 'some': 2, 'vial': 1, 'treasure': 2, 'place': 1, 'with': 1, 'beautys': 1, 'it': 2, 'selfkilled': 1, 'that': 2, 'use': 1, 'is': 1, 'forbidden': 1, 'usury': 1, 'which': 1, 'happies': 1, 'those': 1, 'pay': 1, 'the': 1, 'willing': 1, 'loan': 1, 'thats': 1, 'for': 3, 'self': 2, 'to': 2, 'breed': 1, 'another': 1, 'or': 1, 'ten': 5, 'times': 3, 'happier': 2, 'one': 1, 'were': 1, 'than': 1, 'art': 2, 'if': 2, 'of': 1, 'thine': 2, 'refigured': 1, 'what': 1, 'could': 1, 'death': 1, 'do': 1, 'shouldst': 1, 'depart': 1, 'leaving': 1, 'living': 1, 'posterity': 1, 'selfwilled': 1, 'much': 1, 'too': 1, 'fair': 1, 'deaths': 1, 'conquest': 1, 'and': 1, 'worms': 1, 'heir': 1}, {'lo': 1, 'in': 3, 'the': 5, 'orient': 1, 'when': 2, 'gracious': 1, 'light': 1, 'lifts': 1, 'up': 1, 'his': 7, 'burning': 1, 'head': 1, 'each': 1, 'under': 1, 'eye': 1, 'doth': 1, 'homage': 1, 'to': 1, 'newappearing': 1, 'sight': 1, 'serving': 1, 'with': 2, 'looks': 2, 'sacred': 1, 'majesty': 1, 'and': 2, 'having': 1, 'climbed': 1, 'steepup': 1, 'heavenly': 1, 'hill': 1, 'resembling': 1, 'strong': 1, 'youth': 1, 'middle': 1, 'age': 2, 'yet': 1, 'mortal': 1, 'adore': 1, 'beauty': 1, 'still': 1, 'attending': 1, 'on': 2, 'golden': 1, 'pilgrimage': 1, 'but': 1, 'from': 3, 'highmost': 1, 'pitch': 1, 'weary': 1, 'car': 1, 'like': 1, 'feeble': 1, 'he': 1, 'reeleth': 1, 'day': 1, 'eyes': 1, 'fore': 1, 'duteous': 1, 'now': 1, 'converted': 1, 'are': 1, 'low': 1, 'tract': 1, 'look': 1, 'another': 1, 'way': 1, 'so': 1, 'thou': 2, 'thy': 2, 'self': 1, 'outgoing': 1, 'noon': 1, 'unlooked': 1, 'diest': 1, 'unless': 1, 'get': 1, 'a': 1, 'son': 1}, {'music': 2, 'to': 3, 'hear': 1, 'why': 2, 'hearst': 1, 'thou': 5, 'sadly': 1, 'sweets': 2, 'with': 2, 'war': 1, 'not': 2, 'joy': 2, 'delights': 1, 'in': 4, 'lovst': 1, 'that': 2, 'which': 1, 'receivst': 2, 'gladly': 1, 'or': 1, 'else': 1, 'pleasure': 1, 'thine': 2, 'annoy': 1, 'if': 1, 'the': 2, 'true': 1, 'concord': 1, 'of': 1, 'welltuned': 1, 'sounds': 1, 'by': 2, 'unions': 1, 'married': 1, 'do': 3, 'offend': 1, 'ear': 1, 'they': 1, 'but': 1, 'sweetly': 1, 'chide': 1, 'thee': 2, 'who': 2, 'confounds': 1, 'singleness': 1, 'parts': 1, 'shouldst': 1, 'bear': 1, 'mark': 1, 'how': 1, 'one': 4, 'string': 1, 'sweet': 1, 'husband': 1, 'another': 1, 'strikes': 1, 'each': 2, 'mutual': 1, 'ordering': 1, 'resembling': 1, 'sire': 1, 'and': 2, 'child': 1, 'happy': 1, 'mother': 1, 'all': 1, 'pleasing': 1, 'note': 1, 'sing': 1, 'whose': 1, 'speechless': 1, 'song': 1, 'being': 1, 'many': 1, 'seeming': 1, 'sings': 1, 'this': 1, 'single': 1, 'wilt': 1, 'prove': 1, 'none': 1}, {'is': 1, 'it': 3, 'for': 2, 'fear': 1, 'to': 2, 'wet': 1, 'a': 2, 'widows': 1, 'eye': 1, 'that': 4, 'thou': 3, 'consumst': 1, 'thy': 2, 'self': 1, 'in': 5, 'single': 1, 'life': 1, 'ah': 1, 'if': 1, 'issueless': 1, 'shalt': 1, 'hap': 1, 'die': 1, 'the': 6, 'world': 5, 'will': 2, 'wail': 1, 'thee': 2, 'like': 1, 'makeless': 1, 'wife': 1, 'be': 1, 'widow': 2, 'and': 2, 'still': 2, 'weep': 1, 'no': 2, 'form': 1, 'of': 1, 'hast': 1, 'left': 1, 'behind': 1, 'when': 1, 'every': 1, 'private': 1, 'well': 1, 'may': 1, 'keep': 1, 'by': 1, 'childrens': 1, 'eyes': 1, 'her': 1, 'husbands': 1, 'shape': 1, 'mind': 1, 'look': 1, 'what': 1, 'an': 2, 'unthrift': 1, 'doth': 1, 'spend': 1, 'shifts': 1, 'but': 2, 'his': 1, 'place': 1, 'enjoys': 1, 'beautys': 1, 'waste': 1, 'hath': 1, 'end': 1, 'kept': 1, 'unused': 1, 'user': 1, 'so': 1, 'destroys': 1, 'love': 1, 'toward': 1, 'others': 1, 'bosom': 1, 'sits': 1, 'on': 1, 'himself': 1, 'such': 1, 'murdrous': 1, 'shame': 1, 'commits': 1}, {'for': 4, 'shame': 1, 'deny': 1, 'that': 6, 'thou': 6, 'bearst': 1, 'love': 3, 'to': 5, 'any': 1, 'who': 1, 'thy': 6, 'self': 4, 'art': 3, 'so': 2, 'unprovident': 1, 'grant': 1, 'if': 1, 'wilt': 1, 'beloved': 1, 'of': 2, 'many': 1, 'but': 1, 'none': 1, 'lovst': 1, 'is': 2, 'most': 1, 'evident': 1, 'possessed': 1, 'with': 1, 'murdrous': 1, 'hate': 2, 'gainst': 1, 'stickst': 1, 'not': 1, 'conspire': 1, 'seeking': 1, 'beauteous': 1, 'roof': 1, 'ruinate': 1, 'which': 1, 'repair': 1, 'should': 1, 'be': 3, 'chief': 1, 'desire': 1, 'o': 1, 'change': 2, 'thought': 1, 'i': 1, 'may': 2, 'my': 1, 'mind': 1, 'shall': 1, 'fairer': 1, 'lodged': 1, 'than': 1, 'gentle': 1, 'as': 1, 'presence': 1, 'gracious': 1, 'and': 1, 'kind': 1, 'or': 2, 'at': 1, 'least': 1, 'kindhearted': 1, 'prove': 1, 'make': 1, 'thee': 2, 'another': 1, 'me': 1, 'beauty': 1, 'still': 1, 'live': 1, 'in': 1, 'thine': 1}, {'as': 2, 'fast': 2, 'thou': 8, 'shalt': 1, 'wane': 1, 'so': 2, 'growst': 1, 'in': 2, 'one': 1, 'of': 1, 'thine': 2, 'from': 2, 'that': 3, 'which': 3, 'departest': 1, 'and': 6, 'fresh': 1, 'blood': 1, 'youngly': 1, 'bestowst': 1, 'mayst': 1, 'call': 1, 'when': 1, 'youth': 1, 'convertest': 1, 'herein': 1, 'lives': 1, 'wisdom': 1, 'beauty': 1, 'increase': 1, 'without': 1, 'this': 1, 'folly': 1, 'age': 1, 'cold': 1, 'decay': 1, 'if': 1, 'all': 1, 'were': 1, 'minded': 1, 'the': 2, 'times': 1, 'should': 1, 'cease': 1, 'threescore': 1, 'year': 1, 'would': 1, 'make': 1, 'world': 1, 'away': 1, 'let': 2, 'those': 1, 'whom': 2, 'nature': 1, 'hath': 1, 'not': 2, 'made': 1, 'for': 2, 'store': 1, 'harsh': 1, 'featureless': 1, 'rude': 1, 'barrenly': 1, 'perish': 1, 'look': 1, 'she': 3, 'best': 1, 'endowed': 1, 'gave': 1, 'thee': 2, 'more': 2, 'bounteous': 1, 'gift': 1, 'shouldst': 2, 'bounty': 1, 'cherish': 1, 'carved': 1, 'her': 1, 'seal': 1, 'meant': 1, 'thereby': 1, 'print': 1, 'copy': 1, 'die': 1}, {'when': 4, 'i': 4, 'do': 3, 'count': 1, 'the': 7, 'clock': 1, 'that': 2, 'tells': 1, 'time': 2, 'and': 7, 'see': 3, 'brave': 2, 'day': 1, 'sunk': 1, 'in': 2, 'hideous': 1, 'night': 1, 'behold': 1, 'violet': 1, 'past': 1, 'prime': 1, 'sable': 1, 'curls': 1, 'all': 2, 'silvered': 1, 'oer': 1, 'with': 2, 'white': 2, 'lofty': 1, 'trees': 1, 'barren': 1, 'of': 3, 'leaves': 1, 'which': 1, 'erst': 1, 'from': 1, 'heat': 1, 'did': 1, 'canopy': 1, 'herd': 1, 'summers': 1, 'green': 1, 'girded': 1, 'up': 1, 'sheaves': 1, 'borne': 1, 'on': 1, 'bier': 1, 'bristly': 1, 'beard': 1, 'then': 1, 'thy': 1, 'beauty': 1, 'question': 1, 'make': 2, 'thou': 1, 'among': 1, 'wastes': 1, 'must': 1, 'go': 1, 'since': 1, 'sweets': 1, 'beauties': 1, 'themselves': 1, 'forsake': 1, 'die': 1, 'as': 2, 'fast': 1, 'they': 1, 'others': 1, 'grow': 1, 'nothing': 1, 'gainst': 1, 'times': 1, 'scythe': 1, 'can': 1, 'defence': 1, 'save': 1, 'breed': 1, 'to': 1, 'him': 1, 'he': 1, 'takes': 1, 'thee': 1, 'hence': 1}, {'o': 2, 'that': 2, 'you': 8, 'were': 2, 'your': 8, 'self': 3, 'but': 2, 'love': 2, 'are': 1, 'no': 2, 'longer': 1, 'yours': 1, 'than': 1, 'here': 1, 'live': 1, 'against': 2, 'this': 1, 'coming': 1, 'end': 1, 'should': 3, 'prepare': 1, 'and': 2, 'sweet': 3, 'semblance': 1, 'to': 2, 'some': 1, 'other': 1, 'give': 1, 'so': 3, 'beauty': 1, 'which': 2, 'hold': 1, 'in': 2, 'lease': 1, 'find': 1, 'determination': 1, 'then': 1, 'again': 1, 'after': 1, 'selfs': 1, 'decease': 1, 'when': 1, 'issue': 1, 'form': 1, 'bear': 1, 'who': 1, 'lets': 1, 'fair': 1, 'a': 2, 'house': 1, 'fall': 1, 'decay': 1, 'husbandry': 1, 'honour': 1, 'might': 1, 'uphold': 1, 'the': 1, 'stormy': 1, 'gusts': 1, 'of': 2, 'winters': 1, 'day': 1, 'barren': 1, 'rage': 1, 'deaths': 1, 'eternal': 1, 'cold': 1, 'none': 1, 'unthrifts': 1, 'dear': 1, 'my': 1, 'know': 1, 'had': 1, 'father': 1, 'let': 1, 'son': 1, 'say': 1}, {'not': 2, 'from': 3, 'the': 1, 'stars': 2, 'do': 1, 'i': 7, 'my': 2, 'judgement': 1, 'pluck': 1, 'and': 6, 'yet': 1, 'methinks': 1, 'have': 1, 'astronomy': 1, 'but': 2, 'to': 4, 'tell': 2, 'of': 4, 'good': 1, 'or': 4, 'evil': 1, 'luck': 1, 'plagues': 1, 'dearths': 1, 'seasons': 1, 'quality': 1, 'nor': 1, 'can': 1, 'fortune': 1, 'brief': 1, 'minutes': 1, 'pointing': 1, 'each': 1, 'his': 1, 'thunder': 1, 'rain': 1, 'wind': 1, 'say': 1, 'with': 1, 'princes': 1, 'if': 2, 'it': 1, 'shall': 2, 'go': 1, 'well': 1, 'by': 1, 'oft': 1, 'predict': 1, 'that': 1, 'in': 2, 'heaven': 1, 'find': 1, 'thine': 1, 'eyes': 1, 'knowledge': 1, 'derive': 1, 'constant': 1, 'them': 1, 'read': 1, 'such': 1, 'art': 1, 'as': 1, 'truth': 1, 'beauty': 1, 'together': 1, 'thrive': 1, 'thy': 2, 'self': 1, 'store': 1, 'thou': 1, 'wouldst': 1, 'convert': 1, 'else': 1, 'thee': 1, 'this': 1, 'prognosticate': 1, 'end': 1, 'is': 1, 'truths': 1, 'beautys': 1, 'doom': 1, 'date': 1}, {'when': 2, 'i': 3, 'consider': 1, 'every': 1, 'thing': 1, 'that': 3, 'grows': 1, 'holds': 1, 'in': 5, 'perfection': 1, 'but': 2, 'a': 1, 'little': 1, 'moment': 1, 'this': 2, 'huge': 1, 'stage': 1, 'presenteth': 1, 'nought': 1, 'shows': 1, 'whereon': 1, 'the': 3, 'stars': 1, 'secret': 1, 'influence': 1, 'comment': 1, 'perceive': 1, 'men': 1, 'as': 2, 'plants': 1, 'increase': 1, 'cheered': 1, 'and': 3, 'checked': 1, 'even': 1, 'by': 1, 'selfsame': 1, 'sky': 1, 'vaunt': 1, 'their': 2, 'youthful': 1, 'sap': 1, 'at': 1, 'height': 1, 'decrease': 1, 'wear': 1, 'brave': 1, 'state': 1, 'out': 1, 'of': 4, 'memory': 1, 'then': 1, 'conceit': 1, 'inconstant': 1, 'stay': 1, 'sets': 1, 'you': 4, 'most': 1, 'rich': 1, 'youth': 2, 'before': 1, 'my': 1, 'sight': 1, 'where': 1, 'wasteful': 1, 'time': 2, 'debateth': 1, 'with': 2, 'decay': 1, 'to': 2, 'change': 1, 'your': 1, 'day': 1, 'sullied': 1, 'night': 1, 'all': 1, 'war': 1, 'for': 1, 'love': 1, 'he': 1, 'takes': 1, 'from': 1, 'engraft': 1, 'new': 1}, {'but': 1, 'wherefore': 1, 'do': 1, 'not': 1, 'you': 5, 'a': 1, 'mightier': 1, 'way': 1, 'make': 2, 'war': 1, 'upon': 1, 'this': 2, 'bloody': 1, 'tyrant': 1, 'time': 1, 'and': 3, 'fortify': 1, 'your': 7, 'self': 4, 'in': 3, 'decay': 1, 'with': 2, 'means': 1, 'more': 1, 'blessed': 1, 'than': 2, 'my': 2, 'barren': 1, 'rhyme': 1, 'now': 1, 'stand': 1, 'on': 1, 'the': 2, 'top': 1, 'of': 3, 'happy': 1, 'hours': 1, 'many': 1, 'maiden': 1, 'gardens': 1, 'yet': 1, 'unset': 1, 'virtuous': 1, 'wish': 1, 'would': 1, 'bear': 1, 'living': 1, 'flowers': 1, 'much': 1, 'liker': 1, 'painted': 1, 'counterfeit': 1, 'so': 1, 'should': 1, 'lines': 1, 'life': 2, 'that': 1, 'repair': 1, 'which': 1, 'times': 1, 'pencil': 1, 'or': 1, 'pupil': 1, 'pen': 1, 'neither': 1, 'inward': 1, 'worth': 1, 'nor': 1, 'outward': 1, 'fair': 1, 'can': 1, 'live': 2, 'eyes': 1, 'men': 1, 'to': 1, 'give': 1, 'away': 1, 'keeps': 1, 'still': 1, 'must': 1, 'drawn': 1, 'by': 1, 'own': 1, 'sweet': 1, 'skill': 1}, {'who': 1, 'will': 1, 'believe': 1, 'my': 3, 'verse': 1, 'in': 4, 'time': 2, 'to': 2, 'come': 2, 'if': 2, 'it': 3, 'were': 2, 'filled': 1, 'with': 2, 'your': 6, 'most': 1, 'high': 1, 'deserts': 1, 'though': 1, 'yet': 1, 'heaven': 1, 'knows': 1, 'is': 1, 'but': 2, 'as': 1, 'a': 2, 'tomb': 1, 'which': 1, 'hides': 1, 'life': 1, 'and': 5, 'shows': 1, 'not': 1, 'half': 1, 'parts': 1, 'i': 1, 'could': 1, 'write': 1, 'the': 2, 'beauty': 1, 'of': 4, 'eyes': 1, 'fresh': 1, 'numbers': 1, 'number': 1, 'all': 1, 'graces': 1, 'age': 2, 'would': 1, 'say': 1, 'this': 1, 'poet': 1, 'lies': 1, 'such': 1, 'heavenly': 1, 'touches': 1, 'neer': 1, 'touched': 1, 'earthly': 1, 'faces': 1, 'so': 1, 'should': 2, 'papers': 1, 'yellowed': 1, 'their': 1, 'be': 2, 'scorned': 1, 'like': 1, 'old': 1, 'men': 1, 'less': 1, 'truth': 1, 'than': 1, 'tongue': 1, 'true': 1, 'rights': 1, 'termed': 1, 'poets': 1, 'rage': 1, 'stretched': 1, 'metre': 1, 'an': 1, 'antique': 1, 'song': 1, 'some': 1, 'child': 1, 'yours': 1, 'alive': 1, 'that': 1, 'you': 1, 'live': 1, 'twice': 1, 'rhyme': 1}, {'shall': 3, 'i': 1, 'compare': 1, 'thee': 2, 'to': 3, 'a': 2, 'summers': 2, 'day': 1, 'thou': 4, 'art': 1, 'more': 2, 'lovely': 1, 'and': 5, 'temperate': 1, 'rough': 1, 'winds': 1, 'do': 1, 'shake': 1, 'the': 2, 'darling': 1, 'buds': 1, 'of': 3, 'may': 1, 'lease': 1, 'hath': 1, 'all': 1, 'too': 2, 'short': 1, 'date': 1, 'sometime': 2, 'hot': 1, 'eye': 1, 'heaven': 1, 'shines': 1, 'often': 1, 'is': 1, 'his': 2, 'gold': 1, 'complexion': 1, 'dimmed': 1, 'every': 1, 'fair': 3, 'from': 1, 'declines': 1, 'by': 1, 'chance': 1, 'or': 2, 'natures': 1, 'changing': 1, 'course': 1, 'untrimmed': 1, 'but': 1, 'thy': 1, 'eternal': 2, 'summer': 1, 'not': 1, 'fade': 1, 'nor': 2, 'lose': 1, 'possession': 1, 'that': 1, 'owst': 1, 'death': 1, 'brag': 1, 'wandrest': 1, 'in': 2, 'shade': 1, 'when': 1, 'lines': 1, 'time': 1, 'growst': 1, 'so': 2, 'long': 2, 'as': 1, 'men': 1, 'can': 2, 'breathe': 1, 'eyes': 1, 'see': 1, 'lives': 1, 'this': 2, 'gives': 1, 'life': 1}, {'devouring': 1, 'time': 3, 'blunt': 1, 'thou': 3, 'the': 6, 'lions': 1, 'paws': 1, 'and': 5, 'make': 2, 'earth': 1, 'devour': 1, 'her': 3, 'own': 1, 'sweet': 1, 'brood': 1, 'pluck': 1, 'keen': 1, 'teeth': 1, 'from': 1, 'fierce': 1, 'tigers': 1, 'jaws': 1, 'burn': 1, 'longlived': 1, 'phoenix': 1, 'in': 3, 'blood': 1, 'glad': 1, 'sorry': 1, 'seasons': 1, 'as': 1, 'fleetst': 1, 'do': 3, 'whateer': 1, 'wilt': 1, 'swiftfooted': 1, 'to': 2, 'wide': 1, 'world': 1, 'all': 1, 'fading': 1, 'sweets': 1, 'but': 1, 'i': 1, 'forbid': 1, 'thee': 1, 'one': 1, 'most': 1, 'heinous': 1, 'crime': 1, 'o': 1, 'carve': 1, 'not': 1, 'with': 2, 'thy': 4, 'hours': 1, 'my': 3, 'loves': 1, 'fair': 1, 'brow': 1, 'nor': 1, 'draw': 1, 'no': 1, 'lines': 1, 'there': 1, 'thine': 1, 'antique': 1, 'pen': 1, 'him': 1, 'course': 1, 'untainted': 1, 'allow': 1, 'for': 1, 'beautys': 1, 'pattern': 1, 'succeeding': 1, 'men': 1, 'yet': 1, 'worst': 1, 'old': 1, 'despite': 1, 'wrong': 1, 'love': 1, 'shall': 1, 'verse': 1, 'ever': 1, 'live': 1, 'young': 1}, {'a': 4, 'womans': 2, 'face': 1, 'with': 2, 'natures': 1, 'own': 1, 'hand': 1, 'painted': 1, 'hast': 1, 'thou': 2, 'the': 2, 'master': 1, 'mistress': 1, 'of': 2, 'my': 2, 'passion': 1, 'gentle': 1, 'heart': 1, 'but': 2, 'not': 1, 'acquainted': 1, 'shifting': 1, 'change': 1, 'as': 2, 'is': 1, 'false': 2, 'womens': 3, 'fashion': 1, 'an': 1, 'eye': 1, 'more': 1, 'bright': 1, 'than': 1, 'theirs': 1, 'less': 1, 'in': 3, 'rolling': 1, 'gilding': 1, 'object': 1, 'whereupon': 1, 'it': 1, 'gazeth': 1, 'man': 1, 'hue': 1, 'all': 1, 'hues': 1, 'his': 1, 'controlling': 1, 'which': 1, 'steals': 1, 'mens': 1, 'eyes': 1, 'and': 4, 'souls': 1, 'amazeth': 1, 'for': 2, 'woman': 1, 'wert': 1, 'first': 1, 'created': 1, 'till': 1, 'nature': 1, 'she': 2, 'wrought': 1, 'thee': 3, 'fell': 1, 'adoting': 1, 'by': 2, 'addition': 1, 'me': 1, 'defeated': 1, 'adding': 1, 'one': 1, 'thing': 1, 'to': 1, 'purpose': 1, 'nothing': 1, 'since': 1, 'pricked': 1, 'out': 1, 'pleasure': 1, 'mine': 1, 'be': 1, 'thy': 2, 'love': 1, 'loves': 1, 'use': 1, 'their': 1, 'treasure': 1}, {'so': 2, 'is': 2, 'it': 2, 'not': 4, 'with': 6, 'me': 3, 'as': 4, 'that': 4, 'muse': 1, 'stirred': 1, 'by': 1, 'a': 2, 'painted': 1, 'beauty': 1, 'to': 2, 'his': 2, 'verse': 1, 'who': 1, 'heaven': 1, 'self': 1, 'for': 1, 'ornament': 1, 'doth': 2, 'use': 1, 'and': 5, 'every': 1, 'fair': 3, 'rehearse': 1, 'making': 1, 'couplement': 1, 'of': 2, 'proud': 1, 'compare': 1, 'sun': 1, 'moon': 1, 'earth': 1, 'seas': 1, 'rich': 1, 'gems': 1, 'aprils': 1, 'firstborn': 1, 'flowers': 1, 'all': 1, 'things': 1, 'rare': 1, 'heavens': 2, 'air': 2, 'in': 3, 'this': 1, 'huge': 1, 'rondure': 1, 'hems': 1, 'o': 1, 'let': 2, 'true': 1, 'love': 2, 'but': 1, 'truly': 1, 'write': 1, 'then': 1, 'believe': 1, 'my': 1, 'any': 1, 'mothers': 1, 'child': 1, 'though': 1, 'bright': 1, 'those': 1, 'gold': 1, 'candles': 1, 'fixed': 1, 'them': 1, 'say': 1, 'more': 1, 'like': 1, 'hearsay': 1, 'well': 1, 'i': 1, 'will': 1, 'praise': 1, 'purpose': 1, 'sell': 1}, {'my': 4, 'glass': 1, 'shall': 1, 'not': 4, 'persuade': 1, 'me': 3, 'i': 6, 'am': 1, 'old': 1, 'so': 3, 'long': 1, 'as': 4, 'youth': 1, 'and': 1, 'thou': 3, 'are': 1, 'of': 3, 'one': 1, 'date': 1, 'but': 3, 'when': 2, 'in': 3, 'thee': 3, 'times': 1, 'furrows': 1, 'behold': 1, 'then': 2, 'look': 1, 'death': 1, 'days': 1, 'should': 1, 'expiate': 1, 'for': 3, 'all': 1, 'that': 2, 'beauty': 1, 'doth': 2, 'cover': 1, 'is': 2, 'the': 1, 'seemly': 1, 'raiment': 1, 'heart': 3, 'which': 2, 'thy': 3, 'breast': 1, 'live': 1, 'thine': 2, 'how': 1, 'can': 1, 'be': 2, 'elder': 1, 'than': 1, 'art': 1, 'o': 1, 'therefore': 1, 'love': 1, 'thyself': 1, 'wary': 1, 'self': 1, 'will': 2, 'bearing': 1, 'keep': 1, 'chary': 1, 'tender': 1, 'nurse': 1, 'her': 1, 'babe': 1, 'from': 1, 'faring': 1, 'ill': 1, 'presume': 1, 'on': 1, 'mine': 1, 'slain': 1, 'gavst': 1, 'to': 1, 'give': 1, 'back': 1, 'again': 1}, {'as': 1, 'an': 1, 'unperfect': 1, 'actor': 1, 'on': 1, 'the': 3, 'stage': 1, 'who': 2, 'with': 4, 'his': 3, 'fear': 2, 'is': 1, 'put': 1, 'beside': 1, 'part': 1, 'or': 1, 'some': 1, 'fierce': 1, 'thing': 1, 'replete': 1, 'too': 1, 'much': 1, 'rage': 1, 'whose': 1, 'strengths': 1, 'abundance': 1, 'weakens': 1, 'own': 3, 'heart': 1, 'so': 1, 'i': 1, 'for': 3, 'of': 4, 'trust': 1, 'forget': 1, 'to': 5, 'say': 1, 'perfect': 1, 'ceremony': 1, 'loves': 4, 'rite': 1, 'and': 3, 'in': 1, 'mine': 2, 'strength': 1, 'seem': 1, 'decay': 1, 'oercharged': 1, 'burthen': 1, 'might': 1, 'o': 2, 'let': 1, 'my': 2, 'looks': 1, 'be': 1, 'then': 1, 'eloquence': 1, 'dumb': 1, 'presagers': 1, 'speaking': 1, 'breast': 1, 'plead': 1, 'love': 2, 'look': 1, 'recompense': 1, 'more': 3, 'than': 1, 'that': 2, 'tongue': 1, 'hath': 2, 'expressed': 1, 'learn': 1, 'read': 1, 'what': 1, 'silent': 1, 'writ': 1, 'hear': 1, 'eyes': 1, 'belongs': 1, 'fine': 1, 'wit': 1}, {'mine': 2, 'eye': 1, 'hath': 3, 'played': 1, 'the': 5, 'painter': 2, 'and': 3, 'stelled': 1, 'thy': 2, 'beautys': 1, 'form': 1, 'in': 2, 'table': 1, 'of': 1, 'my': 4, 'heart': 2, 'body': 1, 'is': 3, 'frame': 1, 'wherein': 1, 'tis': 1, 'held': 1, 'perspective': 1, 'it': 1, 'best': 1, 'painters': 1, 'art': 2, 'for': 3, 'through': 1, 'must': 1, 'you': 1, 'see': 3, 'his': 2, 'skill': 1, 'to': 5, 'find': 1, 'where': 1, 'your': 1, 'true': 1, 'image': 1, 'pictured': 1, 'lies': 1, 'which': 1, 'bosoms': 1, 'shop': 1, 'hanging': 1, 'still': 1, 'that': 1, 'windows': 2, 'glazed': 1, 'with': 1, 'thine': 2, 'eyes': 5, 'now': 1, 'what': 2, 'good': 1, 'turns': 1, 'have': 2, 'done': 1, 'drawn': 1, 'shape': 1, 'me': 1, 'are': 1, 'breast': 1, 'wherethrough': 1, 'sun': 1, 'delights': 1, 'peep': 1, 'gaze': 1, 'therein': 1, 'on': 1, 'thee': 1, 'yet': 1, 'this': 1, 'cunning': 1, 'want': 1, 'grace': 1, 'their': 1, 'they': 2, 'draw': 1, 'but': 1, 'know': 1, 'not': 1}, {'let': 1, 'those': 1, 'who': 1, 'are': 1, 'in': 4, 'favour': 1, 'with': 1, 'their': 4, 'stars': 1, 'of': 3, 'public': 1, 'honour': 3, 'and': 4, 'proud': 1, 'titles': 1, 'boast': 1, 'whilst': 1, 'i': 4, 'whom': 1, 'fortune': 1, 'such': 1, 'triumph': 1, 'bars': 1, 'unlooked': 1, 'for': 4, 'joy': 1, 'that': 2, 'most': 1, 'great': 1, 'princes': 1, 'favourites': 1, 'fair': 1, 'leaves': 1, 'spread': 1, 'but': 1, 'as': 1, 'the': 5, 'marigold': 1, 'at': 2, 'suns': 1, 'eye': 1, 'themselves': 1, 'pride': 1, 'lies': 1, 'buried': 1, 'a': 2, 'frown': 1, 'they': 1, 'glory': 1, 'die': 1, 'painful': 1, 'warrior': 1, 'famoused': 1, 'fight': 1, 'after': 1, 'thousand': 1, 'victories': 1, 'once': 1, 'foiled': 1, 'is': 1, 'from': 1, 'book': 1, 'razed': 1, 'quite': 1, 'all': 1, 'rest': 1, 'forgot': 1, 'which': 1, 'he': 1, 'toiled': 1, 'then': 1, 'happy': 1, 'love': 1, 'am': 1, 'beloved': 1, 'where': 1, 'may': 1, 'not': 1, 'remove': 1, 'nor': 1, 'be': 1, 'removed': 1}, {'lord': 1, 'of': 3, 'my': 6, 'love': 2, 'to': 7, 'whom': 1, 'in': 3, 'vassalage': 1, 'thy': 3, 'merit': 1, 'hath': 1, 'duty': 3, 'strongly': 1, 'knit': 1, 'thee': 2, 'i': 4, 'send': 1, 'this': 1, 'written': 1, 'embassage': 1, 'witness': 1, 'not': 2, 'show': 4, 'wit': 2, 'so': 2, 'great': 1, 'which': 1, 'poor': 1, 'as': 1, 'mine': 1, 'may': 2, 'make': 1, 'seem': 1, 'bare': 1, 'wanting': 1, 'words': 1, 'it': 2, 'but': 1, 'that': 2, 'hope': 1, 'some': 1, 'good': 1, 'conceit': 1, 'thine': 1, 'souls': 1, 'thought': 1, 'all': 1, 'naked': 1, 'will': 1, 'bestow': 1, 'till': 2, 'whatsoever': 1, 'star': 1, 'guides': 1, 'moving': 1, 'points': 1, 'on': 2, 'me': 3, 'graciously': 1, 'with': 1, 'fair': 1, 'aspect': 1, 'and': 1, 'puts': 1, 'apparel': 1, 'tattered': 1, 'loving': 1, 'worthy': 1, 'sweet': 1, 'respect': 1, 'then': 2, 'dare': 1, 'boast': 1, 'how': 1, 'do': 1, 'head': 1, 'where': 1, 'thou': 1, 'mayst': 1, 'prove': 1}, {'weary': 1, 'with': 2, 'toil': 1, 'i': 2, 'haste': 1, 'me': 1, 'to': 4, 'my': 10, 'bed': 1, 'the': 2, 'dear': 1, 'respose': 1, 'for': 4, 'limbs': 2, 'travel': 1, 'tired': 1, 'but': 1, 'then': 2, 'begins': 1, 'a': 3, 'journey': 1, 'in': 2, 'head': 1, 'work': 1, 'mind': 2, 'when': 1, 'bodys': 1, 'works': 1, 'expired': 1, 'thoughts': 1, 'from': 1, 'far': 1, 'where': 1, 'abide': 1, 'intend': 1, 'zealous': 1, 'pilgrimage': 1, 'thee': 2, 'and': 3, 'keep': 1, 'drooping': 1, 'eyelids': 1, 'open': 1, 'wide': 1, 'looking': 1, 'on': 1, 'darkness': 1, 'which': 2, 'blind': 1, 'do': 1, 'see': 1, 'save': 1, 'that': 1, 'souls': 1, 'imaginary': 1, 'sight': 1, 'presents': 1, 'thy': 1, 'shadow': 1, 'sightless': 1, 'view': 1, 'like': 1, 'jewel': 1, 'hung': 1, 'ghastly': 1, 'night': 3, 'makes': 1, 'black': 1, 'beauteous': 1, 'her': 1, 'old': 1, 'face': 1, 'new': 1, 'lo': 1, 'thus': 1, 'by': 2, 'day': 1, 'self': 1, 'no': 1, 'quiet': 1, 'find': 1}, {'how': 2, 'can': 1, 'i': 4, 'then': 1, 'return': 1, 'in': 2, 'happy': 1, 'plight': 1, 'that': 1, 'am': 1, 'debarred': 1, 'the': 7, 'benefit': 1, 'of': 1, 'rest': 1, 'when': 3, 'days': 1, 'oppression': 1, 'is': 1, 'not': 2, 'eased': 1, 'by': 4, 'night': 5, 'but': 2, 'day': 4, 'and': 4, 'oppressed': 1, 'each': 1, 'though': 1, 'enemies': 1, 'to': 4, 'eithers': 1, 'reign': 1, 'do': 2, 'consent': 1, 'shake': 1, 'hands': 1, 'torture': 1, 'me': 1, 'one': 1, 'toil': 2, 'other': 1, 'complain': 1, 'far': 1, 'still': 1, 'farther': 1, 'off': 1, 'from': 1, 'thee': 1, 'tell': 1, 'please': 1, 'him': 2, 'thou': 2, 'art': 1, 'bright': 1, 'dost': 1, 'grace': 1, 'clouds': 1, 'blot': 1, 'heaven': 1, 'so': 1, 'flatter': 1, 'swartcomplexioned': 1, 'sparkling': 1, 'stars': 1, 'twire': 1, 'gildst': 1, 'even': 1, 'doth': 2, 'daily': 1, 'draw': 1, 'my': 1, 'sorrows': 1, 'longer': 1, 'nightly': 1, 'make': 1, 'griefs': 1, 'length': 1, 'seem': 1, 'stronger': 1}, {'when': 1, 'in': 3, 'disgrace': 1, 'with': 5, 'fortune': 1, 'and': 6, 'mens': 1, 'eyes': 1, 'i': 4, 'all': 1, 'alone': 1, 'beweep': 1, 'my': 7, 'outcast': 1, 'state': 3, 'trouble': 1, 'deaf': 1, 'heaven': 1, 'bootless': 1, 'cries': 1, 'look': 1, 'upon': 1, 'self': 2, 'curse': 1, 'fate': 1, 'wishing': 1, 'me': 1, 'like': 4, 'to': 3, 'one': 1, 'more': 1, 'rich': 1, 'hope': 1, 'featured': 1, 'him': 2, 'friends': 1, 'possessed': 1, 'desiring': 1, 'this': 1, 'mans': 2, 'art': 1, 'that': 2, 'scope': 1, 'what': 1, 'most': 1, 'enjoy': 1, 'contented': 1, 'least': 1, 'yet': 1, 'these': 1, 'thoughts': 1, 'almost': 1, 'despising': 1, 'haply': 1, 'think': 1, 'on': 1, 'thee': 1, 'then': 2, 'the': 1, 'lark': 1, 'at': 2, 'break': 1, 'of': 1, 'day': 1, 'arising': 1, 'from': 1, 'sullen': 1, 'earth': 1, 'sings': 1, 'hymns': 1, 'heavens': 1, 'gate': 1, 'for': 1, 'thy': 1, 'sweet': 1, 'love': 1, 'remembered': 1, 'such': 1, 'wealth': 1, 'brings': 1, 'scorn': 1, 'change': 1, 'kings': 1}, {'when': 1, 'to': 3, 'the': 4, 'sessions': 1, 'of': 5, 'sweet': 1, 'silent': 1, 'thought': 1, 'i': 7, 'summon': 1, 'up': 1, 'remembrance': 1, 'things': 1, 'past': 1, 'sigh': 1, 'lack': 1, 'many': 2, 'a': 2, 'thing': 1, 'sought': 1, 'and': 5, 'with': 1, 'old': 1, 'woes': 1, 'new': 2, 'wail': 1, 'my': 1, 'dear': 2, 'times': 1, 'waste': 1, 'then': 2, 'can': 2, 'drown': 1, 'an': 1, 'eye': 1, 'unused': 1, 'flow': 1, 'for': 1, 'precious': 1, 'friends': 1, 'hid': 1, 'in': 1, 'deaths': 1, 'dateless': 1, 'night': 1, 'weep': 1, 'afresh': 1, 'loves': 1, 'long': 1, 'since': 1, 'cancelled': 1, 'woe': 3, 'moan': 2, 'th': 1, 'expense': 1, 'vanished': 1, 'sight': 1, 'grieve': 1, 'at': 1, 'grievances': 1, 'foregone': 1, 'heavily': 1, 'from': 1, 'tell': 1, 'oer': 1, 'sad': 1, 'account': 1, 'forebemoaned': 1, 'which': 1, 'pay': 1, 'as': 1, 'if': 2, 'not': 1, 'paid': 1, 'before': 1, 'but': 1, 'while': 1, 'think': 1, 'on': 1, 'thee': 1, 'friend': 1, 'all': 1, 'losses': 1, 'are': 1, 'restored': 1, 'sorrows': 1, 'end': 1}, {'thy': 1, 'bosom': 1, 'is': 2, 'endeared': 1, 'with': 2, 'all': 7, 'hearts': 1, 'which': 3, 'i': 4, 'by': 1, 'lacking': 1, 'have': 1, 'supposed': 1, 'dead': 2, 'and': 5, 'there': 1, 'reigns': 1, 'love': 3, 'loves': 1, 'loving': 1, 'parts': 2, 'those': 1, 'friends': 1, 'thought': 1, 'buried': 2, 'how': 1, 'many': 2, 'a': 1, 'holy': 1, 'obsequious': 1, 'tear': 1, 'hath': 1, 'dear': 1, 'religious': 1, 'stoln': 1, 'from': 1, 'mine': 1, 'eye': 1, 'as': 1, 'interest': 1, 'of': 5, 'the': 4, 'now': 2, 'appear': 1, 'but': 1, 'things': 1, 'removed': 1, 'that': 2, 'hidden': 1, 'in': 2, 'thee': 3, 'lie': 1, 'thou': 2, 'art': 1, 'grave': 1, 'where': 1, 'doth': 1, 'live': 1, 'hung': 1, 'trophies': 1, 'my': 1, 'lovers': 1, 'gone': 1, 'who': 1, 'their': 2, 'me': 2, 'to': 1, 'did': 1, 'give': 1, 'due': 1, 'thine': 1, 'alone': 1, 'images': 1, 'loved': 1, 'view': 1, 'they': 1, 'hast': 1}, {'if': 1, 'thou': 1, 'survive': 1, 'my': 4, 'wellcontented': 1, 'day': 1, 'when': 1, 'that': 1, 'churl': 1, 'death': 1, 'bones': 1, 'with': 3, 'dust': 1, 'shall': 1, 'cover': 1, 'and': 3, 'shalt': 1, 'by': 3, 'fortune': 1, 'once': 1, 'more': 1, 'resurvey': 1, 'these': 1, 'poor': 1, 'rude': 1, 'lines': 1, 'of': 4, 'thy': 1, 'deceased': 1, 'lover': 1, 'compare': 1, 'them': 2, 'the': 3, 'bettring': 1, 'time': 1, 'though': 1, 'they': 1, 'be': 1, 'outstripped': 1, 'every': 1, 'pen': 1, 'reserve': 1, 'for': 4, 'love': 3, 'not': 1, 'their': 2, 'rhyme': 1, 'exceeded': 1, 'height': 1, 'happier': 1, 'men': 1, 'o': 1, 'then': 1, 'vouchsafe': 1, 'me': 1, 'but': 2, 'this': 3, 'loving': 1, 'thought': 1, 'had': 2, 'friends': 1, 'muse': 1, 'grown': 1, 'growing': 1, 'age': 1, 'a': 1, 'dearer': 1, 'birth': 1, 'than': 1, 'his': 3, 'brought': 1, 'to': 1, 'march': 1, 'in': 1, 'ranks': 1, 'better': 2, 'equipage': 1, 'since': 1, 'he': 1, 'died': 1, 'poets': 1, 'prove': 1, 'theirs': 1, 'style': 1, 'ill': 1, 'read': 1}, {'full': 1, 'many': 1, 'a': 1, 'glorious': 1, 'morning': 1, 'have': 1, 'i': 1, 'seen': 1, 'flatter': 1, 'the': 6, 'mountain': 1, 'tops': 1, 'with': 6, 'sovereign': 1, 'eye': 1, 'kissing': 1, 'golden': 1, 'face': 2, 'meadows': 1, 'green': 1, 'gilding': 1, 'pale': 1, 'streams': 1, 'heavenly': 1, 'alchemy': 1, 'anon': 1, 'permit': 1, 'basest': 1, 'clouds': 1, 'to': 2, 'ride': 1, 'ugly': 1, 'rack': 1, 'on': 2, 'his': 2, 'celestial': 1, 'and': 1, 'from': 2, 'forlorn': 1, 'world': 2, 'visage': 1, 'hide': 1, 'stealing': 1, 'unseen': 1, 'west': 1, 'this': 2, 'disgrace': 1, 'even': 1, 'so': 1, 'my': 3, 'sun': 2, 'one': 2, 'early': 1, 'morn': 1, 'did': 1, 'shine': 1, 'all': 1, 'triumphant': 1, 'splendour': 1, 'brow': 1, 'but': 2, 'out': 1, 'alack': 1, 'he': 1, 'was': 1, 'hour': 1, 'mine': 1, 'region': 1, 'cloud': 1, 'hath': 1, 'masked': 1, 'him': 2, 'me': 1, 'now': 1, 'yet': 1, 'for': 1, 'love': 1, 'no': 1, 'whit': 1, 'disdaineth': 1, 'suns': 1, 'of': 1, 'may': 1, 'stain': 1, 'when': 1, 'heavens': 1, 'staineth': 1}, {'why': 1, 'didst': 1, 'thou': 3, 'promise': 1, 'such': 2, 'a': 2, 'beauteous': 1, 'day': 1, 'and': 4, 'make': 1, 'me': 2, 'travel': 1, 'forth': 1, 'without': 1, 'my': 4, 'cloak': 1, 'to': 4, 'let': 1, 'base': 1, 'clouds': 1, 'oertake': 1, 'in': 2, 'way': 1, 'hiding': 1, 'thy': 3, 'bravry': 1, 'their': 1, 'rotten': 1, 'smoke': 1, 'tis': 1, 'not': 2, 'enough': 1, 'that': 3, 'through': 1, 'the': 6, 'cloud': 1, 'break': 1, 'dry': 1, 'rain': 1, 'on': 1, 'stormbeaten': 1, 'face': 1, 'for': 1, 'no': 1, 'man': 1, 'well': 1, 'of': 1, 'salve': 1, 'can': 2, 'speak': 1, 'heals': 1, 'wound': 1, 'cures': 1, 'disgrace': 1, 'nor': 1, 'shame': 1, 'give': 1, 'physic': 1, 'grief': 1, 'though': 1, 'repent': 1, 'yet': 1, 'i': 1, 'have': 1, 'still': 1, 'loss': 1, 'th': 1, 'offenders': 1, 'sorrow': 1, 'lends': 1, 'but': 2, 'weak': 1, 'relief': 1, 'him': 1, 'bears': 1, 'strong': 1, 'offences': 1, 'cross': 1, 'ah': 1, 'those': 1, 'tears': 1, 'are': 2, 'pearl': 1, 'which': 1, 'love': 1, 'sheds': 1, 'they': 1, 'rich': 1, 'ransom': 1, 'all': 1, 'ill': 1, 'deeds': 1}, {'no': 1, 'more': 2, 'be': 2, 'grieved': 1, 'at': 1, 'that': 3, 'which': 2, 'thou': 1, 'hast': 1, 'done': 1, 'roses': 1, 'have': 1, 'thorns': 1, 'and': 7, 'silver': 1, 'fountains': 1, 'mud': 1, 'clouds': 1, 'eclipses': 1, 'stain': 1, 'both': 1, 'moon': 1, 'sun': 1, 'loathsome': 1, 'canker': 1, 'lives': 1, 'in': 4, 'sweetest': 1, 'bud': 1, 'all': 1, 'men': 1, 'make': 1, 'faults': 1, 'even': 1, 'i': 3, 'this': 1, 'authorizing': 1, 'thy': 7, 'trespass': 1, 'with': 1, 'compare': 1, 'my': 3, 'self': 2, 'corrupting': 1, 'salving': 1, 'amiss': 1, 'excusing': 1, 'sins': 2, 'than': 1, 'are': 1, 'for': 1, 'to': 2, 'sensual': 1, 'fault': 1, 'bring': 1, 'sense': 1, 'adverse': 1, 'party': 1, 'is': 2, 'advocate': 1, 'gainst': 1, 'a': 1, 'lawful': 1, 'plea': 1, 'commence': 1, 'such': 1, 'civil': 1, 'war': 1, 'love': 1, 'hate': 1, 'an': 1, 'accessary': 1, 'needs': 1, 'must': 1, 'sweet': 1, 'thief': 1, 'sourly': 1, 'robs': 1, 'from': 1, 'me': 1}, {'let': 1, 'me': 4, 'confess': 1, 'that': 3, 'we': 1, 'two': 2, 'must': 1, 'be': 2, 'twain': 1, 'although': 1, 'our': 3, 'undivided': 1, 'loves': 4, 'are': 1, 'one': 2, 'so': 2, 'shall': 1, 'those': 1, 'blots': 1, 'do': 3, 'with': 2, 'remain': 1, 'without': 1, 'thy': 3, 'help': 1, 'by': 1, 'borne': 1, 'alone': 1, 'in': 3, 'there': 1, 'is': 2, 'but': 2, 'respect': 1, 'though': 2, 'lives': 1, 'a': 1, 'separable': 1, 'spite': 1, 'which': 1, 'it': 2, 'alter': 1, 'not': 3, 'sole': 1, 'effect': 1, 'yet': 1, 'doth': 1, 'steal': 1, 'sweet': 1, 'hours': 1, 'from': 2, 'delight': 1, 'i': 2, 'may': 1, 'evermore': 1, 'acknowledge': 1, 'thee': 3, 'lest': 1, 'my': 1, 'bewailed': 1, 'guilt': 1, 'should': 1, 'shame': 1, 'nor': 1, 'thou': 3, 'public': 1, 'kindness': 1, 'honour': 2, 'unless': 1, 'take': 1, 'name': 1, 'love': 1, 'such': 1, 'sort': 1, 'as': 1, 'being': 1, 'mine': 2, 'good': 1, 'report': 1}, {'as': 1, 'a': 2, 'decrepit': 1, 'father': 1, 'takes': 1, 'delight': 1, 'to': 2, 'see': 1, 'his': 1, 'active': 1, 'child': 1, 'do': 2, 'deeds': 1, 'of': 4, 'youth': 1, 'so': 2, 'i': 6, 'made': 1, 'lame': 2, 'by': 2, 'fortunes': 1, 'dearest': 1, 'spite': 1, 'take': 1, 'all': 4, 'my': 2, 'comfort': 1, 'thy': 4, 'worth': 1, 'and': 2, 'truth': 1, 'for': 1, 'whether': 1, 'beauty': 1, 'birth': 1, 'or': 5, 'wealth': 1, 'wit': 1, 'any': 1, 'these': 1, 'more': 1, 'entitled': 1, 'in': 3, 'parts': 1, 'crowned': 1, 'sit': 1, 'make': 1, 'love': 1, 'engrafted': 1, 'this': 3, 'store': 1, 'then': 2, 'am': 2, 'not': 1, 'poor': 1, 'nor': 1, 'despised': 1, 'whilst': 1, 'that': 3, 'shadow': 1, 'doth': 1, 'such': 1, 'substance': 1, 'give': 1, 'abundance': 1, 'sufficed': 1, 'part': 1, 'glory': 1, 'live': 1, 'look': 1, 'what': 1, 'is': 1, 'best': 2, 'wish': 2, 'thee': 1, 'have': 1, 'ten': 1, 'times': 1, 'happy': 1, 'me': 1}, {'how': 1, 'can': 1, 'my': 3, 'muse': 3, 'want': 1, 'subject': 1, 'to': 4, 'invent': 1, 'while': 1, 'thou': 3, 'dost': 2, 'breathe': 1, 'that': 3, 'pourst': 1, 'into': 1, 'verse': 1, 'thine': 2, 'own': 1, 'sweet': 1, 'argument': 1, 'too': 1, 'excellent': 1, 'for': 2, 'every': 1, 'vulgar': 1, 'paper': 1, 'rehearse': 1, 'o': 1, 'give': 2, 'thy': 3, 'self': 2, 'the': 4, 'thanks': 1, 'if': 2, 'aught': 1, 'in': 2, 'me': 1, 'worthy': 1, 'perusal': 1, 'stand': 1, 'against': 1, 'sight': 1, 'whos': 1, 'so': 1, 'dumb': 1, 'cannot': 1, 'write': 1, 'thee': 2, 'when': 1, 'invention': 1, 'light': 1, 'be': 3, 'tenth': 1, 'ten': 1, 'times': 1, 'more': 1, 'worth': 1, 'than': 1, 'those': 1, 'old': 1, 'nine': 1, 'which': 1, 'rhymers': 1, 'invocate': 1, 'and': 1, 'he': 1, 'calls': 1, 'on': 1, 'let': 1, 'him': 1, 'bring': 1, 'forth': 1, 'eternal': 1, 'numbers': 1, 'outlive': 1, 'long': 1, 'date': 1, 'slight': 1, 'do': 1, 'please': 1, 'these': 1, 'curious': 1, 'days': 1, 'pain': 1, 'mine': 1, 'but': 1, 'shall': 1, 'praise': 1}, {'o': 2, 'how': 2, 'thy': 2, 'worth': 1, 'with': 2, 'manners': 1, 'may': 2, 'i': 3, 'sing': 1, 'when': 2, 'thou': 4, 'art': 1, 'all': 1, 'the': 2, 'better': 1, 'part': 1, 'of': 3, 'me': 1, 'what': 3, 'can': 1, 'mine': 3, 'own': 3, 'praise': 2, 'to': 4, 'self': 1, 'bring': 1, 'and': 4, 'ist': 1, 'but': 1, 'thee': 2, 'even': 1, 'for': 1, 'this': 2, 'let': 1, 'us': 1, 'divided': 1, 'live': 1, 'our': 1, 'dear': 1, 'love': 2, 'lose': 1, 'name': 1, 'single': 1, 'one': 2, 'that': 3, 'by': 2, 'separation': 1, 'give': 1, 'due': 1, 'which': 2, 'deservst': 1, 'alone': 1, 'absence': 1, 'a': 1, 'torment': 1, 'wouldst': 1, 'prove': 1, 'were': 1, 'it': 1, 'not': 1, 'sour': 1, 'leisure': 1, 'gave': 1, 'sweet': 1, 'leave': 1, 'entertain': 1, 'time': 2, 'thoughts': 2, 'so': 1, 'sweetly': 1, 'doth': 2, 'deceive': 1, 'teachest': 1, 'make': 1, 'twain': 1, 'praising': 1, 'him': 1, 'here': 1, 'who': 1, 'hence': 1, 'remain': 1}, {'take': 2, 'all': 5, 'my': 7, 'loves': 1, 'love': 8, 'yea': 1, 'them': 1, 'what': 2, 'hast': 1, 'thou': 8, 'then': 2, 'more': 2, 'than': 2, 'hadst': 2, 'before': 2, 'no': 1, 'that': 1, 'mayst': 1, 'true': 1, 'call': 1, 'mine': 1, 'was': 1, 'thine': 1, 'this': 1, 'if': 2, 'for': 2, 'receivest': 1, 'i': 2, 'cannot': 1, 'blame': 1, 'thee': 2, 'usest': 1, 'but': 1, 'yet': 3, 'be': 2, 'blamed': 1, 'thy': 3, 'self': 2, 'deceivest': 1, 'by': 1, 'wilful': 1, 'taste': 1, 'of': 1, 'refusest': 1, 'do': 1, 'forgive': 1, 'robbery': 1, 'gentle': 1, 'thief': 1, 'although': 1, 'steal': 1, 'poverty': 1, 'and': 1, 'knows': 1, 'it': 1, 'is': 1, 'a': 1, 'greater': 2, 'grief': 1, 'to': 1, 'bear': 1, 'wrong': 1, 'hates': 1, 'known': 1, 'injury': 1, 'lascivious': 1, 'grace': 1, 'in': 1, 'whom': 1, 'ill': 1, 'well': 1, 'shows': 1, 'kill': 1, 'me': 1, 'with': 1, 'spites': 1, 'we': 1, 'must': 1, 'not': 1, 'foes': 1}, {'those': 1, 'pretty': 1, 'wrongs': 1, 'that': 1, 'liberty': 1, 'commits': 1, 'when': 2, 'i': 1, 'am': 1, 'sometime': 1, 'absent': 1, 'from': 1, 'thy': 7, 'heart': 1, 'beauty': 4, 'and': 5, 'years': 1, 'full': 1, 'well': 1, 'befits': 1, 'for': 1, 'still': 1, 'temptation': 1, 'follows': 1, 'where': 2, 'thou': 5, 'art': 4, 'gentle': 1, 'therefore': 2, 'to': 5, 'be': 2, 'won': 1, 'beauteous': 1, 'assailed': 1, 'a': 2, 'woman': 1, 'woos': 1, 'what': 1, 'womans': 1, 'son': 1, 'will': 1, 'sourly': 1, 'leave': 1, 'her': 2, 'till': 1, 'he': 1, 'have': 1, 'prevailed': 1, 'ay': 1, 'me': 2, 'but': 1, 'yet': 1, 'mightst': 1, 'my': 1, 'seat': 1, 'forbear': 1, 'chide': 1, 'straying': 1, 'youth': 1, 'who': 1, 'lead': 1, 'thee': 2, 'in': 1, 'their': 1, 'riot': 1, 'even': 1, 'there': 1, 'forced': 1, 'break': 1, 'twofold': 1, 'truth': 1, 'hers': 1, 'by': 2, 'tempting': 1, 'thine': 1, 'being': 1, 'false': 1}, {'that': 4, 'thou': 3, 'hast': 1, 'her': 6, 'it': 2, 'is': 3, 'not': 1, 'all': 1, 'my': 10, 'grief': 1, 'and': 6, 'yet': 1, 'may': 1, 'be': 1, 'said': 1, 'i': 6, 'loved': 1, 'dearly': 1, 'she': 3, 'hath': 2, 'thee': 2, 'of': 1, 'wailing': 1, 'chief': 1, 'a': 1, 'loss': 3, 'in': 1, 'love': 3, 'touches': 1, 'me': 4, 'more': 1, 'nearly': 1, 'loving': 1, 'offenders': 1, 'thus': 1, 'will': 1, 'excuse': 1, 'ye': 1, 'dost': 1, 'because': 1, 'knowst': 1, 'for': 3, 'sake': 3, 'even': 1, 'so': 1, 'doth': 1, 'abuse': 1, 'suffring': 1, 'friend': 3, 'to': 1, 'approve': 1, 'if': 1, 'lose': 2, 'loves': 2, 'gain': 1, 'losing': 1, 'found': 1, 'both': 3, 'find': 1, 'each': 1, 'other': 1, 'twain': 1, 'lay': 1, 'on': 1, 'this': 1, 'cross': 1, 'but': 2, 'heres': 1, 'the': 1, 'joy': 1, 'are': 1, 'one': 1, 'sweet': 1, 'flattery': 1, 'then': 1, 'alone': 1}, {'when': 5, 'most': 1, 'i': 4, 'wink': 1, 'then': 2, 'do': 2, 'mine': 2, 'eyes': 4, 'best': 1, 'see': 3, 'for': 1, 'all': 2, 'the': 3, 'day': 3, 'they': 2, 'view': 1, 'things': 1, 'unrespected': 1, 'but': 1, 'sleep': 2, 'in': 4, 'dreams': 2, 'look': 1, 'on': 3, 'thee': 4, 'and': 2, 'darkly': 1, 'bright': 4, 'are': 2, 'dark': 1, 'directed': 1, 'thou': 1, 'whose': 1, 'shadow': 1, 'shadows': 2, 'doth': 2, 'make': 1, 'how': 2, 'would': 2, 'thy': 4, 'form': 2, 'happy': 1, 'show': 2, 'to': 3, 'clear': 1, 'with': 1, 'much': 1, 'clearer': 1, 'light': 1, 'unseeing': 1, 'shade': 2, 'shines': 1, 'so': 1, 'say': 1, 'be': 1, 'blessed': 1, 'made': 1, 'by': 1, 'looking': 1, 'living': 1, 'dead': 1, 'night': 1, 'fair': 1, 'imperfect': 1, 'through': 1, 'heavy': 1, 'sightless': 1, 'stay': 1, 'days': 2, 'nights': 2, 'till': 1, 'me': 1}, {'if': 1, 'the': 3, 'dull': 1, 'substance': 1, 'of': 5, 'my': 4, 'flesh': 1, 'were': 1, 'thought': 4, 'injurious': 1, 'distance': 1, 'should': 1, 'not': 2, 'stop': 1, 'way': 1, 'for': 2, 'then': 2, 'despite': 1, 'space': 1, 'i': 3, 'would': 2, 'be': 2, 'brought': 1, 'from': 2, 'limits': 1, 'far': 1, 'remote': 1, 'where': 2, 'thou': 2, 'dost': 1, 'stay': 1, 'no': 1, 'matter': 1, 'although': 1, 'foot': 1, 'did': 1, 'stand': 1, 'upon': 1, 'farthest': 1, 'earth': 2, 'removed': 1, 'thee': 1, 'nimble': 1, 'can': 1, 'jump': 1, 'both': 1, 'sea': 1, 'and': 2, 'land': 1, 'as': 2, 'soon': 1, 'think': 1, 'place': 1, 'he': 1, 'but': 3, 'ah': 1, 'kills': 1, 'me': 1, 'that': 2, 'am': 1, 'to': 1, 'leap': 1, 'large': 1, 'lengths': 1, 'miles': 1, 'when': 1, 'art': 1, 'gone': 1, 'so': 2, 'much': 1, 'water': 1, 'wrought': 1, 'must': 1, 'attend': 1, 'times': 1, 'leisure': 1, 'with': 1, 'moan': 1, 'receiving': 1, 'nought': 1, 'by': 1, 'elements': 1, 'slow': 1, 'heavy': 1, 'tears': 1, 'badges': 1, 'eithers': 1, 'woe': 1}, {'the': 3, 'other': 2, 'two': 2, 'slight': 1, 'air': 1, 'and': 2, 'purging': 1, 'fire': 1, 'are': 2, 'both': 1, 'with': 4, 'thee': 3, 'wherever': 1, 'i': 3, 'abide': 1, 'first': 1, 'my': 3, 'thought': 1, 'desire': 1, 'these': 2, 'presentabsent': 1, 'swift': 2, 'motion': 1, 'slide': 1, 'for': 1, 'when': 1, 'quicker': 1, 'elements': 1, 'gone': 1, 'in': 1, 'tender': 1, 'embassy': 1, 'of': 3, 'love': 1, 'to': 3, 'life': 1, 'being': 1, 'made': 1, 'four': 1, 'alone': 1, 'sinks': 1, 'down': 1, 'death': 1, 'oppressed': 1, 'melancholy': 1, 'until': 1, 'lifes': 1, 'composition': 1, 'be': 1, 'recured': 1, 'by': 1, 'those': 1, 'messengers': 1, 'returned': 1, 'from': 1, 'who': 1, 'even': 1, 'but': 2, 'now': 1, 'come': 1, 'back': 2, 'again': 2, 'assured': 1, 'thy': 1, 'fair': 1, 'health': 1, 'recounting': 1, 'it': 1, 'me': 1, 'this': 1, 'told': 1, 'joy': 1, 'then': 1, 'no': 1, 'longer': 1, 'glad': 1, 'send': 1, 'them': 1, 'straight': 1, 'grow': 1, 'sad': 1}, {'mine': 4, 'eye': 3, 'and': 5, 'heart': 6, 'are': 1, 'at': 1, 'a': 3, 'mortal': 1, 'war': 1, 'how': 1, 'to': 3, 'divide': 1, 'the': 6, 'conquest': 1, 'of': 4, 'thy': 5, 'sight': 2, 'my': 4, 'pictures': 1, 'would': 1, 'bar': 1, 'freedom': 1, 'that': 3, 'right': 2, 'doth': 2, 'plead': 1, 'thou': 1, 'in': 2, 'him': 2, 'dost': 1, 'lie': 1, 'closet': 1, 'never': 1, 'pierced': 1, 'with': 1, 'crystal': 1, 'eyes': 3, 'but': 1, 'defendant': 1, 'plea': 1, 'deny': 1, 'says': 1, 'fair': 1, 'appearance': 1, 'lies': 1, 'side': 1, 'this': 1, 'title': 1, 'is': 3, 'impanelled': 1, 'quest': 1, 'thoughts': 1, 'all': 1, 'tenants': 1, 'by': 1, 'their': 1, 'verdict': 1, 'determined': 1, 'clear': 1, 'moiety': 1, 'dear': 1, 'hearts': 2, 'part': 2, 'as': 1, 'thus': 1, 'due': 1, 'outward': 1, 'inward': 1, 'love': 1}, {'betwixt': 1, 'mine': 3, 'eye': 4, 'and': 7, 'heart': 4, 'a': 3, 'league': 1, 'is': 3, 'took': 1, 'each': 1, 'doth': 4, 'good': 1, 'turns': 1, 'now': 1, 'unto': 1, 'the': 2, 'other': 1, 'when': 1, 'that': 1, 'famished': 1, 'for': 2, 'look': 1, 'or': 3, 'in': 3, 'love': 3, 'with': 5, 'sighs': 1, 'himself': 1, 'smother': 1, 'my': 8, 'loves': 1, 'picture': 3, 'then': 1, 'feast': 1, 'to': 2, 'painted': 1, 'banquet': 1, 'bids': 1, 'another': 1, 'time': 1, 'hearts': 2, 'guest': 1, 'his': 1, 'thoughts': 2, 'of': 1, 'share': 1, 'part': 1, 'so': 1, 'either': 1, 'by': 1, 'thy': 3, 'self': 1, 'away': 1, 'art': 1, 'present': 1, 'still': 2, 'me': 1, 'thou': 1, 'not': 1, 'farther': 1, 'than': 1, 'canst': 1, 'move': 1, 'i': 1, 'am': 1, 'them': 1, 'they': 2, 'thee': 1, 'if': 1, 'sleep': 1, 'sight': 1, 'awakes': 1, 'eyes': 1, 'delight': 1}, {'how': 1, 'careful': 1, 'was': 1, 'i': 5, 'when': 1, 'took': 1, 'my': 5, 'way': 1, 'each': 1, 'trifle': 1, 'under': 1, 'truest': 1, 'bars': 1, 'to': 3, 'thrust': 1, 'that': 1, 'use': 1, 'it': 1, 'might': 1, 'unused': 1, 'stay': 1, 'from': 2, 'hands': 1, 'of': 5, 'falsehood': 1, 'in': 2, 'sure': 1, 'wards': 1, 'trust': 1, 'but': 1, 'thou': 6, 'whom': 1, 'jewels': 1, 'trifles': 1, 'are': 1, 'most': 1, 'worthy': 1, 'comfort': 1, 'now': 1, 'greatest': 1, 'grief': 1, 'best': 1, 'dearest': 1, 'and': 3, 'mine': 1, 'only': 1, 'care': 1, 'art': 3, 'left': 1, 'the': 2, 'prey': 1, 'every': 1, 'vulgar': 1, 'thief': 1, 'thee': 1, 'have': 1, 'not': 2, 'locked': 1, 'up': 1, 'any': 1, 'chest': 1, 'save': 1, 'where': 1, 'though': 1, 'feel': 1, 'within': 1, 'gentle': 1, 'closure': 1, 'breast': 1, 'whence': 1, 'at': 1, 'pleasure': 1, 'mayst': 1, 'come': 1, 'part': 1, 'even': 1, 'thence': 1, 'wilt': 1, 'be': 1, 'stoln': 1, 'fear': 1, 'for': 2, 'truth': 1, 'proves': 1, 'thievish': 1, 'a': 1, 'prize': 1, 'so': 1, 'dear': 1}, {'against': 4, 'that': 6, 'time': 4, 'if': 1, 'ever': 1, 'come': 1, 'when': 4, 'i': 3, 'shall': 2, 'see': 1, 'thee': 1, 'frown': 1, 'on': 2, 'my': 3, 'defects': 1, 'as': 1, 'thy': 2, 'love': 3, 'hath': 1, 'cast': 1, 'his': 1, 'utmost': 1, 'sum': 1, 'called': 1, 'to': 4, 'audit': 1, 'by': 1, 'advised': 1, 'respects': 1, 'thou': 2, 'shalt': 1, 'strangely': 1, 'pass': 1, 'and': 2, 'scarcely': 1, 'greet': 1, 'me': 3, 'with': 1, 'sun': 1, 'thine': 1, 'eye': 1, 'converted': 1, 'from': 1, 'the': 4, 'thing': 1, 'it': 1, 'was': 1, 'reasons': 2, 'find': 1, 'of': 3, 'settled': 1, 'gravity': 1, 'do': 1, 'ensconce': 1, 'here': 1, 'within': 1, 'knowledge': 1, 'mine': 1, 'own': 1, 'desert': 1, 'this': 1, 'hand': 1, 'self': 1, 'uprear': 1, 'guard': 1, 'lawful': 1, 'part': 1, 'leave': 1, 'poor': 1, 'hast': 1, 'strength': 1, 'laws': 1, 'since': 1, 'why': 1, 'can': 1, 'allege': 1, 'no': 1, 'cause': 1}, {'how': 1, 'heavy': 1, 'do': 1, 'i': 2, 'journey': 1, 'on': 3, 'the': 5, 'way': 1, 'when': 1, 'what': 1, 'seek': 1, 'my': 5, 'weary': 1, 'travels': 1, 'end': 1, 'doth': 2, 'teach': 1, 'that': 6, 'case': 1, 'and': 2, 'repose': 1, 'to': 4, 'say': 1, 'thus': 1, 'far': 1, 'miles': 1, 'are': 1, 'measured': 1, 'from': 2, 'thy': 1, 'friend': 1, 'beast': 1, 'bears': 1, 'me': 3, 'tired': 1, 'with': 2, 'woe': 1, 'plods': 1, 'dully': 1, 'bear': 1, 'weight': 1, 'in': 2, 'as': 1, 'if': 1, 'by': 1, 'some': 1, 'instinct': 1, 'wretch': 1, 'did': 1, 'know': 1, 'his': 3, 'rider': 1, 'loved': 1, 'not': 1, 'speed': 1, 'being': 1, 'made': 1, 'thee': 1, 'bloody': 1, 'spur': 1, 'cannot': 1, 'provoke': 1, 'him': 1, 'sometimes': 1, 'anger': 1, 'thrusts': 1, 'into': 1, 'hide': 1, 'which': 1, 'heavily': 1, 'he': 1, 'answers': 1, 'a': 1, 'groan': 2, 'more': 1, 'sharp': 1, 'than': 1, 'spurring': 1, 'side': 1, 'for': 1, 'same': 1, 'put': 1, 'this': 1, 'mind': 1, 'grief': 1, 'lies': 1, 'onward': 1, 'joy': 1, 'behind': 1}, {'thus': 2, 'can': 3, 'my': 5, 'love': 4, 'excuse': 3, 'the': 2, 'slow': 2, 'offence': 1, 'of': 3, 'dull': 2, 'bearer': 1, 'when': 2, 'from': 3, 'thee': 3, 'i': 5, 'speed': 2, 'where': 1, 'thou': 1, 'art': 1, 'why': 1, 'should': 2, 'haste': 1, 'me': 1, 'thence': 1, 'till': 1, 'return': 1, 'posting': 1, 'is': 1, 'no': 4, 'need': 1, 'o': 1, 'what': 1, 'will': 1, 'poor': 1, 'beast': 1, 'then': 3, 'find': 1, 'swift': 1, 'extremity': 1, 'seem': 1, 'but': 2, 'spur': 1, 'though': 1, 'mounted': 1, 'on': 1, 'wind': 1, 'in': 2, 'winged': 1, 'motion': 1, 'shall': 3, 'know': 1, 'horse': 1, 'with': 1, 'desire': 2, 'keep': 1, 'pace': 1, 'therefore': 1, 'perfectst': 1, 'being': 1, 'made': 1, 'neigh': 1, 'flesh': 1, 'his': 1, 'fiery': 1, 'race': 1, 'for': 1, 'jade': 1, 'since': 1, 'going': 1, 'he': 1, 'went': 1, 'wilfulslow': 1, 'towards': 1, 'ill': 1, 'run': 1, 'and': 1, 'give': 1, 'him': 1, 'leave': 1, 'to': 1, 'go': 1}, {'so': 4, 'am': 1, 'i': 1, 'as': 3, 'the': 7, 'rich': 1, 'whose': 2, 'blessed': 2, 'key': 1, 'can': 1, 'bring': 1, 'him': 1, 'to': 4, 'his': 2, 'sweet': 1, 'uplocked': 1, 'treasure': 1, 'which': 2, 'he': 1, 'will': 1, 'not': 1, 'every': 1, 'hour': 1, 'survey': 1, 'for': 1, 'blunting': 1, 'fine': 1, 'point': 1, 'of': 2, 'seldom': 2, 'pleasure': 1, 'therefore': 1, 'are': 3, 'feasts': 1, 'solemn': 1, 'and': 1, 'rare': 1, 'since': 1, 'coming': 1, 'in': 2, 'that': 2, 'long': 1, 'year': 1, 'set': 1, 'like': 1, 'stones': 1, 'worth': 1, 'they': 1, 'thinly': 1, 'placed': 1, 'or': 2, 'captain': 1, 'jewels': 1, 'carcanet': 1, 'is': 1, 'time': 1, 'keeps': 1, 'you': 2, 'my': 1, 'chest': 1, 'wardrobe': 1, 'robe': 1, 'doth': 1, 'hide': 1, 'make': 1, 'some': 1, 'special': 1, 'instant': 1, 'specialblest': 1, 'by': 1, 'new': 1, 'unfolding': 1, 'imprisoned': 1, 'pride': 1, 'worthiness': 1, 'gives': 1, 'scope': 1, 'being': 2, 'had': 1, 'triumph': 1, 'lacked': 1, 'hope': 1}, {'what': 1, 'is': 2, 'your': 3, 'substance': 1, 'whereof': 1, 'are': 2, 'you': 9, 'made': 1, 'that': 1, 'millions': 1, 'of': 5, 'strange': 1, 'shadows': 1, 'on': 2, 'tend': 1, 'since': 1, 'every': 4, 'one': 5, 'hath': 1, 'shade': 1, 'and': 5, 'but': 2, 'can': 1, 'shadow': 2, 'lend': 1, 'describe': 1, 'adonis': 1, 'the': 5, 'counterfeit': 1, 'poorly': 1, 'imitated': 1, 'after': 1, 'helens': 1, 'cheek': 1, 'all': 2, 'art': 1, 'beauty': 2, 'set': 1, 'in': 3, 'grecian': 1, 'tires': 1, 'painted': 1, 'new': 1, 'speak': 1, 'spring': 1, 'foison': 1, 'year': 1, 'doth': 2, 'show': 1, 'other': 1, 'as': 1, 'bounty': 1, 'appear': 1, 'blessed': 1, 'shape': 1, 'we': 1, 'know': 1, 'external': 1, 'grace': 1, 'have': 1, 'some': 1, 'part': 1, 'like': 1, 'none': 2, 'for': 1, 'constant': 1, 'heart': 1}, {'o': 1, 'how': 1, 'much': 1, 'more': 1, 'doth': 3, 'beauty': 1, 'beauteous': 2, 'seem': 1, 'by': 1, 'that': 3, 'sweet': 4, 'ornament': 1, 'which': 2, 'truth': 2, 'give': 1, 'the': 4, 'rose': 1, 'looks': 1, 'fair': 1, 'but': 2, 'fairer': 1, 'we': 1, 'it': 2, 'deem': 1, 'for': 2, 'odour': 1, 'in': 1, 'live': 2, 'canker': 1, 'blooms': 1, 'have': 1, 'full': 1, 'as': 3, 'deep': 1, 'a': 1, 'dye': 1, 'perfumed': 1, 'tincture': 1, 'of': 3, 'roses': 2, 'hang': 1, 'on': 1, 'such': 1, 'thorns': 1, 'and': 4, 'play': 1, 'wantonly': 1, 'when': 2, 'summers': 1, 'breath': 1, 'their': 4, 'masked': 1, 'buds': 1, 'discloses': 1, 'virtue': 1, 'only': 1, 'is': 1, 'show': 1, 'they': 1, 'unwooed': 1, 'unrespected': 1, 'fade': 2, 'die': 1, 'to': 1, 'themselves': 1, 'do': 1, 'not': 1, 'so': 2, 'deaths': 1, 'are': 1, 'sweetest': 1, 'odours': 1, 'made': 1, 'you': 1, 'lovely': 1, 'youth': 1, 'shall': 1, 'my': 1, 'verse': 1, 'distills': 1, 'your': 1}, {'not': 1, 'marble': 1, 'nor': 3, 'the': 6, 'gilded': 1, 'monuments': 1, 'of': 4, 'princes': 1, 'shall': 6, 'outlive': 1, 'this': 3, 'powerful': 1, 'rhyme': 1, 'but': 1, 'you': 3, 'shine': 1, 'more': 1, 'bright': 1, 'in': 4, 'these': 1, 'contents': 1, 'than': 1, 'unswept': 1, 'stone': 1, 'besmeared': 1, 'with': 1, 'sluttish': 1, 'time': 1, 'when': 1, 'wasteful': 1, 'war': 1, 'statues': 1, 'overturn': 1, 'and': 3, 'broils': 1, 'root': 1, 'out': 2, 'work': 1, 'masonry': 1, 'mars': 1, 'his': 1, 'sword': 1, 'wars': 1, 'quick': 1, 'fire': 1, 'burn': 1, 'living': 1, 'record': 1, 'your': 3, 'memory': 1, 'gainst': 1, 'death': 1, 'alloblivious': 1, 'enmity': 1, 'pace': 1, 'forth': 1, 'praise': 1, 'still': 1, 'find': 1, 'room': 1, 'even': 1, 'eyes': 2, 'all': 1, 'posterity': 1, 'that': 2, 'wear': 1, 'world': 1, 'to': 1, 'ending': 1, 'doom': 1, 'so': 1, 'till': 1, 'judgment': 1, 'self': 1, 'arise': 1, 'live': 1, 'dwell': 1, 'lovers': 1}, {'sweet': 1, 'love': 4, 'renew': 1, 'thy': 3, 'force': 1, 'be': 5, 'it': 2, 'not': 2, 'said': 1, 'edge': 1, 'should': 1, 'blunter': 1, 'than': 1, 'appetite': 1, 'which': 3, 'but': 1, 'today': 2, 'by': 1, 'feeding': 1, 'is': 1, 'allayed': 1, 'tomorrow': 2, 'sharpened': 1, 'in': 1, 'his': 1, 'former': 1, 'might': 1, 'so': 1, 'thou': 2, 'although': 1, 'fill': 1, 'hungry': 1, 'eyes': 1, 'even': 1, 'till': 1, 'they': 2, 'wink': 1, 'with': 2, 'fulness': 1, 'see': 2, 'again': 1, 'and': 1, 'do': 1, 'kill': 1, 'the': 5, 'spirit': 1, 'of': 3, 'a': 1, 'perpetual': 1, 'dulness': 1, 'let': 1, 'this': 1, 'sad': 1, 'interim': 1, 'like': 1, 'ocean': 1, 'parts': 1, 'shore': 1, 'where': 1, 'two': 1, 'contracted': 1, 'new': 1, 'come': 1, 'daily': 1, 'to': 1, 'banks': 1, 'that': 1, 'when': 1, 'return': 1, 'more': 3, 'blest': 1, 'may': 1, 'view': 1, 'or': 1, 'call': 1, 'winter': 1, 'being': 1, 'full': 1, 'care': 1, 'makes': 1, 'summers': 1, 'welcome': 1, 'thrice': 1, 'wished': 1, 'rare': 1}, {'being': 1, 'your': 5, 'slave': 2, 'what': 1, 'should': 1, 'i': 5, 'do': 3, 'but': 2, 'tend': 1, 'upon': 1, 'the': 4, 'hours': 1, 'and': 2, 'times': 1, 'of': 3, 'desire': 1, 'have': 2, 'no': 2, 'precious': 1, 'time': 1, 'at': 1, 'all': 1, 'to': 2, 'spend': 1, 'nor': 4, 'services': 1, 'till': 1, 'you': 7, 'require': 1, 'dare': 2, 'chide': 1, 'worldwithoutend': 1, 'hour': 1, 'whilst': 1, 'my': 2, 'sovereign': 1, 'watch': 1, 'clock': 1, 'for': 1, 'think': 2, 'bitterness': 1, 'absence': 1, 'sour': 1, 'when': 1, 'bid': 1, 'servant': 1, 'once': 1, 'adieu': 1, 'question': 1, 'with': 1, 'jealous': 1, 'thought': 1, 'where': 2, 'may': 1, 'be': 1, 'or': 1, 'affairs': 1, 'suppose': 1, 'like': 1, 'a': 2, 'sad': 1, 'stay': 1, 'nought': 1, 'save': 1, 'are': 1, 'how': 1, 'happy': 1, 'make': 1, 'those': 1, 'so': 1, 'true': 1, 'fool': 1, 'is': 1, 'love': 1, 'that': 1, 'in': 1, 'will': 1, 'though': 1, 'any': 1, 'thing': 1, 'he': 1, 'thinks': 1, 'ill': 1}, {'that': 3, 'god': 1, 'forbid': 1, 'made': 1, 'me': 2, 'first': 1, 'your': 12, 'slave': 1, 'i': 2, 'should': 1, 'in': 1, 'thought': 1, 'control': 1, 'times': 1, 'of': 5, 'pleasure': 2, 'or': 2, 'at': 2, 'hand': 1, 'th': 2, 'account': 1, 'hours': 1, 'to': 7, 'crave': 1, 'being': 2, 'vassal': 1, 'bound': 1, 'stay': 1, 'leisure': 1, 'o': 1, 'let': 1, 'suffer': 1, 'beck': 1, 'imprisoned': 1, 'absence': 1, 'liberty': 1, 'and': 1, 'patience': 1, 'tame': 1, 'sufferance': 1, 'bide': 1, 'each': 1, 'check': 1, 'without': 1, 'accusing': 1, 'you': 5, 'injury': 1, 'be': 3, 'where': 1, 'list': 1, 'charter': 1, 'is': 1, 'so': 2, 'strong': 1, 'self': 2, 'may': 1, 'privilage': 1, 'time': 1, 'what': 1, 'will': 1, 'it': 2, 'doth': 1, 'belong': 1, 'pardon': 1, 'selfdoing': 1, 'crime': 1, 'am': 1, 'wait': 1, 'though': 1, 'waiting': 1, 'hell': 1, 'not': 1, 'blame': 1, 'ill': 1, 'well': 1}, {'if': 1, 'there': 1, 'be': 2, 'nothing': 1, 'new': 1, 'but': 1, 'that': 3, 'which': 2, 'is': 1, 'hath': 1, 'been': 1, 'before': 1, 'how': 1, 'are': 2, 'our': 1, 'brains': 1, 'beguiled': 1, 'labouring': 1, 'for': 1, 'invention': 1, 'bear': 1, 'amis': 1, 'the': 5, 'second': 1, 'burthen': 1, 'of': 5, 'a': 2, 'former': 2, 'child': 1, 'o': 2, 'record': 1, 'could': 2, 'with': 1, 'backward': 1, 'look': 1, 'even': 1, 'five': 1, 'hundred': 1, 'courses': 1, 'sun': 1, 'show': 1, 'me': 1, 'your': 2, 'image': 1, 'in': 2, 'some': 1, 'antique': 1, 'book': 1, 'since': 1, 'mind': 1, 'at': 1, 'first': 1, 'character': 1, 'was': 1, 'done': 1, 'i': 2, 'might': 1, 'see': 1, 'what': 1, 'old': 1, 'world': 1, 'say': 1, 'to': 2, 'this': 1, 'composed': 1, 'wonder': 1, 'frame': 1, 'whether': 3, 'we': 1, 'mended': 1, 'or': 2, 'better': 1, 'they': 1, 'revolution': 1, 'same': 1, 'sure': 1, 'am': 1, 'wits': 1, 'days': 1, 'subjects': 1, 'worse': 1, 'have': 1, 'given': 1, 'admiring': 1, 'praise': 1}, {'like': 1, 'as': 1, 'the': 6, 'waves': 1, 'make': 1, 'towards': 1, 'pebbled': 1, 'shore': 1, 'so': 1, 'do': 2, 'our': 1, 'minutes': 1, 'hasten': 1, 'to': 4, 'their': 1, 'end': 1, 'each': 1, 'changing': 1, 'place': 1, 'with': 1, 'that': 2, 'which': 1, 'goes': 1, 'before': 1, 'in': 4, 'sequent': 1, 'toil': 1, 'all': 1, 'forwards': 1, 'contend': 1, 'nativity': 1, 'once': 1, 'main': 1, 'of': 2, 'light': 1, 'crawls': 1, 'maturity': 1, 'wherewith': 1, 'being': 1, 'crowned': 1, 'crooked': 1, 'eclipses': 1, 'gainst': 1, 'his': 4, 'glory': 1, 'fight': 1, 'and': 4, 'time': 2, 'gave': 1, 'doth': 2, 'now': 1, 'gift': 1, 'confound': 1, 'transfix': 1, 'flourish': 1, 'set': 1, 'on': 2, 'youth': 1, 'delves': 1, 'parallels': 1, 'beautys': 1, 'brow': 1, 'feeds': 1, 'rarities': 1, 'natures': 1, 'truth': 1, 'nothing': 1, 'stands': 1, 'but': 1, 'for': 1, 'scythe': 1, 'mow': 1, 'yet': 1, 'times': 1, 'hope': 1, 'my': 1, 'verse': 1, 'shall': 1, 'stand': 1, 'praising': 1, 'thy': 1, 'worth': 1, 'despite': 1, 'cruel': 1, 'hand': 1}, {'is': 4, 'it': 3, 'thy': 6, 'will': 1, 'image': 1, 'should': 2, 'keep': 1, 'open': 1, 'my': 6, 'heavy': 1, 'eyelids': 1, 'to': 5, 'the': 3, 'weary': 1, 'night': 1, 'dost': 2, 'thou': 3, 'desire': 1, 'slumbers': 1, 'be': 1, 'broken': 1, 'while': 1, 'shadows': 1, 'like': 1, 'thee': 3, 'do': 1, 'mock': 1, 'sight': 1, 'spirit': 1, 'that': 3, 'sendst': 1, 'from': 3, 'so': 2, 'far': 2, 'home': 1, 'into': 1, 'deeds': 1, 'pry': 1, 'find': 1, 'out': 1, 'shames': 1, 'and': 2, 'idle': 1, 'hours': 1, 'in': 1, 'me': 2, 'scope': 1, 'tenure': 1, 'of': 1, 'jealousy': 1, 'o': 1, 'no': 1, 'love': 3, 'though': 1, 'much': 1, 'not': 1, 'great': 1, 'keeps': 1, 'mine': 2, 'eye': 1, 'awake': 1, 'own': 1, 'true': 1, 'doth': 1, 'rest': 1, 'defeat': 1, 'play': 1, 'watchman': 1, 'ever': 1, 'for': 2, 'sake': 1, 'watch': 1, 'i': 1, 'whilst': 1, 'wake': 1, 'elsewhere': 1, 'off': 1, 'with': 1, 'others': 1, 'all': 1, 'too': 1, 'near': 1}, {'sin': 2, 'of': 3, 'selflove': 2, 'possesseth': 1, 'all': 5, 'mine': 4, 'eye': 1, 'and': 5, 'my': 9, 'soul': 1, 'every': 1, 'part': 1, 'for': 3, 'this': 1, 'there': 1, 'is': 3, 'no': 4, 'remedy': 1, 'it': 1, 'so': 4, 'grounded': 1, 'inward': 1, 'in': 2, 'heart': 1, 'methinks': 1, 'face': 1, 'gracious': 1, 'as': 2, 'shape': 1, 'true': 1, 'truth': 1, 'such': 1, 'account': 1, 'self': 5, 'own': 2, 'worth': 1, 'do': 1, 'define': 1, 'i': 3, 'other': 1, 'worths': 1, 'surmount': 1, 'but': 1, 'when': 1, 'glass': 1, 'shows': 1, 'me': 1, 'indeed': 1, 'beated': 1, 'chopt': 1, 'with': 2, 'tanned': 1, 'antiquity': 1, 'quite': 1, 'contrary': 1, 'read': 1, 'selfloving': 1, 'were': 1, 'iniquity': 1, 'tis': 1, 'thee': 1, 'that': 1, 'praise': 1, 'painting': 1, 'age': 1, 'beauty': 1, 'thy': 1, 'days': 1}, {'against': 2, 'my': 3, 'love': 1, 'shall': 4, 'be': 2, 'as': 1, 'i': 2, 'am': 1, 'now': 3, 'with': 2, 'times': 1, 'injurious': 1, 'hand': 1, 'crushed': 1, 'and': 6, 'oerworn': 1, 'when': 2, 'hours': 1, 'have': 1, 'drained': 1, 'his': 5, 'blood': 1, 'filled': 1, 'brow': 1, 'lines': 2, 'wrinkles': 1, 'youthful': 1, 'morn': 1, 'hath': 1, 'travelled': 1, 'on': 1, 'to': 1, 'ages': 2, 'steepy': 1, 'night': 1, 'all': 1, 'those': 1, 'beauties': 1, 'whereof': 1, 'hes': 1, 'king': 1, 'are': 1, 'vanishing': 1, 'or': 1, 'vanished': 1, 'out': 1, 'of': 2, 'sight': 1, 'stealing': 1, 'away': 1, 'the': 1, 'treasure': 1, 'spring': 1, 'for': 1, 'such': 1, 'a': 1, 'time': 1, 'do': 1, 'fortify': 1, 'confounding': 1, 'cruel': 1, 'knife': 1, 'that': 1, 'he': 2, 'never': 1, 'cut': 1, 'from': 1, 'memory': 1, 'sweet': 1, 'loves': 1, 'beauty': 2, 'though': 1, 'lovers': 1, 'life': 1, 'in': 2, 'these': 1, 'black': 1, 'seen': 1, 'they': 1, 'live': 1, 'them': 1, 'still': 1, 'green': 1}, {'when': 4, 'i': 4, 'have': 4, 'seen': 3, 'by': 1, 'times': 1, 'fell': 1, 'hand': 1, 'defaced': 1, 'the': 6, 'richproud': 1, 'cost': 1, 'of': 4, 'outworn': 1, 'buried': 1, 'age': 1, 'sometime': 1, 'lofty': 1, 'towers': 1, 'see': 1, 'downrased': 1, 'and': 4, 'brass': 1, 'eternal': 1, 'slave': 1, 'to': 5, 'mortal': 1, 'rage': 1, 'hungry': 1, 'ocean': 1, 'gain': 1, 'advantage': 1, 'on': 1, 'kingdom': 1, 'shore': 1, 'firm': 1, 'soil': 1, 'win': 1, 'watery': 1, 'main': 1, 'increasing': 1, 'store': 2, 'with': 2, 'loss': 2, 'such': 1, 'interchange': 1, 'state': 2, 'or': 1, 'it': 2, 'self': 1, 'confounded': 1, 'decay': 1, 'ruin': 1, 'hath': 1, 'taught': 1, 'me': 1, 'thus': 1, 'ruminate': 1, 'that': 2, 'time': 1, 'will': 1, 'come': 1, 'take': 1, 'my': 1, 'love': 1, 'away': 1, 'this': 1, 'thought': 1, 'is': 1, 'as': 1, 'a': 1, 'death': 1, 'which': 2, 'cannot': 1, 'choose': 1, 'but': 1, 'weep': 1, 'fears': 1, 'lose': 1}, {'since': 1, 'brass': 1, 'nor': 4, 'stone': 1, 'earth': 1, 'boundless': 1, 'sea': 1, 'but': 2, 'sad': 1, 'mortality': 1, 'oersways': 1, 'their': 1, 'power': 1, 'how': 2, 'with': 1, 'this': 2, 'rage': 1, 'shall': 3, 'beauty': 2, 'hold': 3, 'a': 2, 'plea': 1, 'whose': 1, 'action': 1, 'is': 1, 'no': 1, 'stronger': 1, 'than': 1, 'flower': 1, 'o': 3, 'summers': 1, 'honey': 1, 'breath': 1, 'out': 1, 'against': 1, 'the': 1, 'wrackful': 1, 'siege': 1, 'of': 3, 'battring': 1, 'days': 1, 'when': 1, 'rocks': 1, 'impregnable': 1, 'are': 1, 'not': 1, 'so': 2, 'stout': 1, 'gates': 1, 'steel': 1, 'strong': 2, 'time': 1, 'decays': 1, 'fearful': 1, 'meditation': 1, 'where': 1, 'alack': 1, 'times': 2, 'best': 1, 'jewel': 1, 'from': 1, 'chest': 1, 'lie': 1, 'hid': 1, 'or': 2, 'what': 1, 'hand': 1, 'can': 2, 'his': 2, 'swift': 1, 'foot': 1, 'back': 1, 'who': 1, 'spoil': 1, 'forbid': 1, 'none': 1, 'unless': 1, 'miracle': 1, 'have': 1, 'might': 1, 'that': 1, 'in': 1, 'black': 1, 'ink': 1, 'my': 1, 'love': 1, 'may': 1, 'still': 1, 'shine': 1, 'bright': 1}, {'tired': 2, 'with': 2, 'all': 2, 'these': 3, 'for': 1, 'restful': 1, 'death': 1, 'i': 3, 'cry': 1, 'as': 1, 'to': 2, 'behold': 1, 'desert': 1, 'a': 1, 'beggar': 1, 'born': 1, 'and': 10, 'needy': 1, 'nothing': 1, 'trimmed': 1, 'in': 1, 'jollity': 1, 'purest': 1, 'faith': 1, 'unhappily': 1, 'forsworn': 1, 'gilded': 1, 'honour': 1, 'shamefully': 1, 'misplaced': 1, 'maiden': 1, 'virtue': 1, 'rudely': 1, 'strumpeted': 1, 'right': 1, 'perfection': 1, 'wrongfully': 1, 'disgraced': 1, 'strength': 1, 'by': 2, 'limping': 1, 'sway': 1, 'disabled': 1, 'art': 1, 'made': 1, 'tonguetied': 1, 'authority': 1, 'folly': 1, 'doctorlike': 1, 'controlling': 1, 'skill': 1, 'simple': 1, 'truth': 1, 'miscalled': 1, 'simplicity': 1, 'captive': 1, 'good': 1, 'attending': 1, 'captain': 1, 'ill': 1, 'from': 1, 'would': 1, 'be': 1, 'gone': 1, 'save': 1, 'that': 1, 'die': 1, 'leave': 1, 'my': 1, 'love': 1, 'alone': 1}, {'ah': 1, 'wherefore': 1, 'with': 3, 'infection': 1, 'should': 5, 'he': 2, 'live': 2, 'and': 4, 'his': 7, 'presence': 1, 'grace': 1, 'impiety': 1, 'that': 1, 'sin': 1, 'by': 1, 'him': 2, 'advantage': 1, 'achieve': 1, 'lace': 1, 'it': 1, 'self': 1, 'society': 1, 'why': 3, 'false': 1, 'painting': 1, 'imitate': 1, 'cheek': 1, 'steal': 1, 'dead': 1, 'seeming': 1, 'of': 4, 'living': 1, 'hue': 1, 'poor': 1, 'beauty': 1, 'indirectly': 1, 'seek': 1, 'roses': 1, 'shadow': 1, 'since': 2, 'rose': 1, 'is': 2, 'true': 1, 'now': 2, 'nature': 1, 'bankrupt': 1, 'beggared': 1, 'blood': 1, 'to': 2, 'blush': 1, 'through': 1, 'lively': 1, 'veins': 1, 'for': 1, 'she': 3, 'hath': 1, 'no': 1, 'exchequer': 1, 'but': 1, 'proud': 1, 'many': 1, 'lives': 1, 'upon': 1, 'gains': 1, 'o': 1, 'stores': 1, 'show': 1, 'what': 1, 'wealth': 1, 'had': 1, 'in': 1, 'days': 1, 'long': 1, 'before': 1, 'these': 1, 'last': 1, 'so': 1, 'bad': 1}, {'thus': 1, 'is': 1, 'his': 2, 'cheek': 1, 'the': 4, 'map': 2, 'of': 6, 'days': 1, 'outworn': 1, 'when': 1, 'beauty': 3, 'lived': 1, 'and': 3, 'died': 1, 'as': 2, 'flowers': 1, 'do': 1, 'now': 1, 'before': 2, 'these': 1, 'bastard': 1, 'signs': 1, 'fair': 1, 'were': 2, 'born': 1, 'or': 1, 'durst': 1, 'inhabit': 1, 'on': 2, 'a': 3, 'living': 1, 'brow': 1, 'golden': 1, 'tresses': 1, 'dead': 2, 'right': 1, 'sepulchres': 1, 'shorn': 1, 'away': 1, 'to': 3, 'live': 1, 'second': 2, 'life': 1, 'head': 1, 'ere': 1, 'beautys': 1, 'fleece': 1, 'made': 1, 'another': 1, 'gay': 1, 'in': 1, 'him': 2, 'those': 1, 'holy': 1, 'antique': 1, 'hours': 1, 'are': 1, 'seen': 1, 'without': 1, 'all': 1, 'ornament': 1, 'it': 1, 'self': 1, 'true': 1, 'making': 1, 'no': 2, 'summer': 1, 'anothers': 1, 'green': 1, 'robbing': 1, 'old': 1, 'dress': 1, 'new': 1, 'for': 1, 'doth': 1, 'nature': 1, 'store': 1, 'show': 1, 'false': 1, 'art': 1, 'what': 1, 'was': 1, 'yore': 1}, {'those': 2, 'parts': 1, 'of': 5, 'thee': 3, 'that': 6, 'the': 7, 'worlds': 1, 'eye': 2, 'doth': 1, 'view': 1, 'want': 1, 'nothing': 1, 'thought': 1, 'hearts': 1, 'can': 1, 'mend': 1, 'all': 1, 'tongues': 2, 'voice': 1, 'souls': 1, 'give': 2, 'due': 1, 'uttering': 1, 'bare': 1, 'truth': 1, 'even': 1, 'so': 2, 'as': 1, 'foes': 1, 'commend': 1, 'thy': 6, 'outward': 2, 'thus': 1, 'with': 1, 'praise': 2, 'is': 2, 'crowned': 1, 'but': 2, 'same': 1, 'thine': 1, 'own': 1, 'in': 2, 'other': 1, 'accents': 1, 'do': 1, 'this': 2, 'confound': 1, 'by': 2, 'seeing': 1, 'farther': 1, 'than': 1, 'hath': 1, 'shown': 1, 'they': 2, 'look': 1, 'into': 1, 'beauty': 1, 'mind': 1, 'and': 1, 'guess': 1, 'measure': 1, 'deeds': 1, 'then': 1, 'churls': 1, 'their': 2, 'thoughts': 1, 'although': 1, 'eyes': 1, 'were': 1, 'kind': 1, 'to': 1, 'fair': 1, 'flower': 1, 'add': 1, 'rank': 1, 'smell': 1, 'weeds': 1, 'why': 1, 'odour': 1, 'matcheth': 1, 'not': 1, 'show': 1, 'soil': 1, 'thou': 1, 'dost': 1, 'common': 1, 'grow': 1}, {'that': 2, 'thou': 5, 'art': 1, 'blamed': 1, 'shall': 1, 'not': 3, 'be': 3, 'thy': 5, 'defect': 1, 'for': 2, 'slanders': 1, 'mark': 1, 'was': 1, 'ever': 1, 'yet': 2, 'the': 5, 'fair': 1, 'ornament': 1, 'of': 5, 'beauty': 1, 'is': 1, 'suspect': 2, 'a': 2, 'crow': 1, 'flies': 1, 'in': 1, 'heavens': 1, 'sweetest': 2, 'air': 1, 'so': 2, 'good': 1, 'slander': 1, 'doth': 2, 'but': 1, 'approve': 1, 'worth': 1, 'greater': 1, 'being': 2, 'wooed': 1, 'time': 1, 'canker': 1, 'vice': 1, 'buds': 1, 'love': 1, 'and': 1, 'presentst': 1, 'pure': 1, 'unstained': 1, 'prime': 1, 'hast': 1, 'passed': 1, 'by': 1, 'ambush': 1, 'young': 1, 'days': 1, 'either': 1, 'assailed': 1, 'or': 1, 'victor': 1, 'charged': 1, 'this': 1, 'praise': 2, 'cannot': 1, 'to': 1, 'tie': 1, 'up': 1, 'envy': 1, 'evermore': 1, 'enlarged': 1, 'if': 1, 'some': 1, 'ill': 1, 'masked': 1, 'show': 1, 'then': 1, 'alone': 1, 'kingdoms': 1, 'hearts': 1, 'shouldst': 1, 'owe': 1}, {'no': 1, 'longer': 1, 'mourn': 1, 'for': 2, 'me': 3, 'when': 2, 'i': 7, 'am': 4, 'dead': 1, 'than': 1, 'you': 6, 'shall': 1, 'hear': 1, 'the': 4, 'surly': 1, 'sullen': 1, 'bell': 1, 'give': 1, 'warning': 1, 'to': 2, 'world': 3, 'that': 3, 'fled': 1, 'from': 1, 'this': 3, 'vile': 1, 'with': 4, 'vilest': 1, 'worms': 1, 'dwell': 1, 'nay': 1, 'if': 3, 'read': 1, 'line': 1, 'remember': 1, 'not': 2, 'hand': 1, 'writ': 1, 'it': 1, 'love': 2, 'so': 2, 'in': 1, 'your': 3, 'sweet': 1, 'thoughts': 1, 'would': 1, 'be': 1, 'forgot': 1, 'thinking': 1, 'on': 1, 'then': 1, 'should': 2, 'make': 1, 'woe': 1, 'o': 1, 'say': 1, 'look': 2, 'upon': 1, 'verse': 1, 'perhaps': 1, 'compounded': 1, 'clay': 1, 'do': 1, 'much': 1, 'as': 1, 'my': 2, 'poor': 1, 'name': 1, 'rehearse': 1, 'but': 1, 'let': 1, 'even': 1, 'life': 1, 'decay': 1, 'lest': 1, 'wise': 1, 'into': 1, 'moan': 1, 'and': 1, 'mock': 1, 'after': 1, 'gone': 1}, {'o': 2, 'lest': 2, 'the': 1, 'world': 1, 'should': 3, 'task': 1, 'you': 7, 'to': 4, 'recite': 1, 'what': 1, 'merit': 1, 'lived': 1, 'in': 3, 'me': 6, 'that': 3, 'love': 5, 'after': 1, 'my': 3, 'death': 1, 'dear': 1, 'forget': 1, 'quite': 1, 'for': 4, 'can': 1, 'nothing': 2, 'worthy': 1, 'prove': 1, 'unless': 1, 'would': 2, 'devise': 1, 'some': 1, 'virtuous': 1, 'lie': 1, 'do': 1, 'more': 3, 'than': 2, 'mine': 1, 'own': 1, 'desert': 1, 'and': 3, 'hang': 1, 'praise': 1, 'upon': 1, 'deceased': 1, 'i': 3, 'niggard': 1, 'truth': 1, 'willingly': 1, 'impart': 1, 'your': 1, 'true': 1, 'may': 1, 'seem': 1, 'false': 1, 'this': 1, 'speak': 1, 'well': 1, 'of': 1, 'untrue': 1, 'name': 1, 'be': 1, 'buried': 1, 'where': 1, 'body': 1, 'is': 1, 'live': 1, 'no': 1, 'shame': 1, 'nor': 2, 'am': 1, 'shamed': 1, 'by': 1, 'which': 1, 'bring': 1, 'forth': 1, 'so': 1, 'things': 1, 'worth': 1}, {'that': 5, 'time': 1, 'of': 4, 'year': 1, 'thou': 5, 'mayst': 1, 'in': 5, 'me': 3, 'behold': 1, 'when': 1, 'yellow': 1, 'leaves': 1, 'or': 2, 'none': 1, 'few': 1, 'do': 1, 'hang': 1, 'upon': 1, 'those': 1, 'boughs': 1, 'which': 5, 'shake': 1, 'against': 1, 'the': 7, 'cold': 1, 'bare': 1, 'ruined': 1, 'choirs': 1, 'where': 1, 'late': 1, 'sweet': 1, 'birds': 1, 'sang': 1, 'seest': 2, 'twilight': 1, 'such': 2, 'day': 1, 'as': 2, 'after': 1, 'sunset': 1, 'fadeth': 1, 'west': 1, 'by': 3, 'and': 1, 'black': 1, 'night': 1, 'doth': 2, 'take': 1, 'away': 1, 'deaths': 1, 'second': 1, 'self': 1, 'seals': 1, 'up': 1, 'all': 1, 'rest': 1, 'glowing': 1, 'fire': 1, 'on': 1, 'ashes': 1, 'his': 1, 'youth': 1, 'lie': 1, 'deathbed': 1, 'whereon': 1, 'it': 2, 'must': 2, 'expire': 1, 'consumed': 1, 'with': 1, 'was': 1, 'nourished': 1, 'this': 1, 'perceivst': 1, 'makes': 1, 'thy': 1, 'love': 2, 'more': 1, 'strong': 1, 'to': 1, 'well': 1, 'leave': 1, 'ere': 1, 'long': 1}, {'but': 3, 'be': 2, 'contented': 1, 'when': 2, 'that': 4, 'fell': 1, 'arrest': 1, 'without': 1, 'all': 1, 'bail': 1, 'shall': 2, 'carry': 1, 'me': 2, 'away': 1, 'my': 3, 'life': 2, 'hath': 1, 'in': 1, 'this': 4, 'line': 1, 'some': 1, 'interest': 1, 'which': 3, 'for': 1, 'memorial': 1, 'still': 1, 'with': 2, 'thee': 4, 'stay': 1, 'thou': 3, 'reviewest': 1, 'dost': 1, 'review': 1, 'the': 7, 'very': 1, 'part': 2, 'was': 1, 'consecrate': 1, 'to': 2, 'earth': 2, 'can': 1, 'have': 1, 'is': 4, 'his': 1, 'due': 1, 'spirit': 1, 'thine': 1, 'better': 1, 'of': 6, 'so': 1, 'then': 1, 'hast': 1, 'lost': 1, 'dregs': 1, 'prey': 1, 'worms': 1, 'body': 1, 'being': 1, 'dead': 1, 'coward': 1, 'conquest': 1, 'a': 1, 'wretchs': 1, 'knife': 1, 'too': 1, 'base': 1, 'remembered': 1, 'worth': 1, 'it': 1, 'contains': 1, 'and': 2, 'remains': 1}, {'so': 1, 'are': 2, 'you': 4, 'to': 4, 'my': 2, 'thoughts': 1, 'as': 4, 'food': 1, 'life': 1, 'or': 5, 'sweetseasoned': 1, 'showers': 1, 'the': 4, 'ground': 1, 'and': 6, 'for': 2, 'peace': 1, 'of': 1, 'i': 2, 'hold': 1, 'such': 1, 'strife': 1, 'twixt': 1, 'a': 2, 'miser': 1, 'his': 2, 'wealth': 1, 'is': 2, 'found': 1, 'now': 2, 'proud': 1, 'an': 1, 'enjoyer': 1, 'anon': 1, 'doubting': 1, 'filching': 1, 'age': 1, 'will': 1, 'steal': 1, 'treasure': 1, 'counting': 1, 'best': 1, 'be': 2, 'with': 2, 'alone': 1, 'then': 1, 'bettered': 1, 'that': 1, 'world': 1, 'may': 1, 'see': 1, 'pleasure': 1, 'sometime': 1, 'all': 3, 'full': 1, 'feasting': 1, 'on': 2, 'your': 1, 'sight': 1, 'by': 3, 'clean': 1, 'starved': 1, 'look': 1, 'possessing': 1, 'pursuing': 1, 'no': 1, 'delight': 1, 'save': 1, 'what': 1, 'had': 1, 'must': 1, 'from': 1, 'took': 1, 'thus': 1, 'do': 1, 'pine': 1, 'surfeit': 1, 'day': 2, 'gluttoning': 1, 'away': 1}, {'why': 3, 'is': 6, 'my': 5, 'verse': 1, 'so': 4, 'barren': 1, 'of': 2, 'new': 3, 'pride': 1, 'far': 1, 'from': 1, 'variation': 1, 'or': 1, 'quick': 1, 'change': 1, 'with': 1, 'the': 3, 'time': 1, 'do': 1, 'i': 3, 'not': 1, 'glance': 1, 'aside': 1, 'to': 2, 'newfound': 1, 'methods': 1, 'and': 6, 'compounds': 1, 'strange': 1, 'write': 2, 'still': 3, 'all': 2, 'one': 1, 'ever': 1, 'same': 1, 'keep': 1, 'invention': 1, 'in': 1, 'a': 1, 'noted': 1, 'weed': 1, 'that': 1, 'every': 1, 'word': 1, 'doth': 1, 'almost': 1, 'tell': 1, 'name': 1, 'showing': 1, 'their': 1, 'birth': 1, 'where': 1, 'they': 1, 'did': 1, 'proceed': 1, 'o': 1, 'know': 1, 'sweet': 1, 'love': 3, 'always': 1, 'you': 2, 'are': 1, 'argument': 1, 'best': 1, 'dressing': 1, 'old': 2, 'words': 1, 'spending': 1, 'again': 1, 'what': 2, 'already': 1, 'spent': 1, 'for': 1, 'as': 1, 'sun': 1, 'daily': 1, 'telling': 1, 'told': 1}, {'thy': 11, 'glass': 2, 'will': 4, 'show': 2, 'thee': 3, 'how': 2, 'beauties': 1, 'wear': 1, 'dial': 1, 'precious': 1, 'minutes': 1, 'waste': 2, 'these': 3, 'vacant': 1, 'leaves': 1, 'minds': 1, 'imprint': 1, 'bear': 1, 'and': 3, 'of': 3, 'this': 2, 'book': 2, 'learning': 1, 'mayst': 2, 'thou': 4, 'taste': 1, 'the': 1, 'wrinkles': 1, 'which': 1, 'truly': 1, 'mouthed': 1, 'graves': 1, 'give': 1, 'memory': 2, 'by': 1, 'dials': 1, 'shady': 1, 'stealth': 1, 'know': 1, 'times': 1, 'thievish': 1, 'progress': 1, 'to': 3, 'eternity': 1, 'look': 2, 'what': 1, 'cannot': 1, 'contain': 1, 'commit': 1, 'blanks': 1, 'shalt': 1, 'find': 1, 'those': 1, 'children': 1, 'nursed': 1, 'delivered': 1, 'from': 1, 'brain': 1, 'take': 1, 'a': 1, 'new': 1, 'acquaintance': 1, 'mind': 1, 'offices': 1, 'so': 1, 'oft': 1, 'as': 1, 'wilt': 1, 'shall': 1, 'profit': 1, 'much': 1, 'enrich': 1}, {'so': 1, 'oft': 1, 'have': 2, 'i': 2, 'invoked': 1, 'thee': 3, 'for': 1, 'my': 5, 'muse': 1, 'and': 7, 'found': 1, 'such': 1, 'fair': 1, 'assistance': 1, 'in': 2, 'verse': 1, 'as': 3, 'every': 1, 'alien': 1, 'pen': 1, 'hath': 1, 'got': 1, 'use': 1, 'under': 1, 'their': 1, 'poesy': 1, 'disperse': 1, 'thine': 2, 'eyes': 1, 'that': 2, 'taught': 1, 'the': 3, 'dumb': 1, 'on': 1, 'high': 2, 'to': 3, 'sing': 1, 'heavy': 1, 'ignorance': 2, 'aloft': 1, 'fly': 1, 'added': 1, 'feathers': 1, 'learneds': 1, 'wing': 1, 'given': 1, 'grace': 1, 'a': 1, 'double': 1, 'majesty': 1, 'yet': 1, 'be': 2, 'most': 1, 'proud': 1, 'of': 2, 'which': 1, 'compile': 1, 'whose': 1, 'influence': 1, 'is': 1, 'born': 1, 'others': 1, 'works': 1, 'thou': 2, 'dost': 2, 'but': 2, 'mend': 1, 'style': 1, 'arts': 1, 'with': 1, 'thy': 1, 'sweet': 1, 'graces': 1, 'graced': 1, 'art': 2, 'all': 1, 'advance': 1, 'learning': 1, 'rude': 1}, {'whilst': 1, 'i': 2, 'alone': 2, 'did': 1, 'call': 1, 'upon': 1, 'thy': 7, 'aid': 1, 'my': 3, 'verse': 1, 'had': 1, 'all': 1, 'gentle': 1, 'grace': 1, 'but': 2, 'now': 1, 'gracious': 1, 'numbers': 1, 'are': 1, 'decayed': 1, 'and': 4, 'sick': 1, 'muse': 1, 'doth': 5, 'give': 2, 'an': 1, 'other': 1, 'place': 1, 'grant': 1, 'sweet': 1, 'love': 1, 'lovely': 1, 'argument': 1, 'deserves': 1, 'the': 1, 'travail': 1, 'of': 3, 'a': 1, 'worthier': 1, 'pen': 1, 'yet': 1, 'what': 3, 'thee': 7, 'poet': 1, 'invent': 1, 'he': 7, 'robs': 1, 'pays': 1, 'it': 2, 'again': 1, 'lends': 1, 'virtue': 1, 'stole': 1, 'that': 2, 'word': 1, 'from': 1, 'behaviour': 1, 'beauty': 1, 'found': 1, 'in': 2, 'cheek': 1, 'can': 1, 'afford': 1, 'no': 1, 'praise': 1, 'to': 1, 'live': 1, 'then': 1, 'thank': 1, 'him': 1, 'not': 1, 'for': 1, 'which': 1, 'say': 1, 'since': 1, 'owes': 1, 'thou': 1, 'self': 1, 'dost': 1, 'pay': 1}, {'o': 1, 'how': 1, 'i': 4, 'faint': 1, 'when': 1, 'of': 4, 'you': 1, 'do': 1, 'write': 1, 'knowing': 1, 'a': 2, 'better': 1, 'spirit': 1, 'doth': 4, 'use': 1, 'your': 6, 'name': 1, 'and': 3, 'in': 1, 'the': 5, 'praise': 1, 'thereof': 1, 'spends': 1, 'all': 1, 'his': 2, 'might': 1, 'to': 2, 'make': 1, 'me': 2, 'tonguetied': 1, 'speaking': 1, 'fame': 1, 'but': 1, 'since': 1, 'worth': 1, 'wide': 1, 'as': 2, 'ocean': 1, 'is': 1, 'humble': 1, 'proudest': 1, 'sail': 1, 'bear': 1, 'my': 3, 'saucy': 1, 'bark': 1, 'inferior': 1, 'far': 1, 'on': 1, 'broad': 1, 'main': 1, 'wilfully': 1, 'appear': 1, 'shallowest': 1, 'help': 1, 'will': 1, 'hold': 1, 'up': 1, 'afloat': 1, 'whilst': 1, 'he': 3, 'upon': 1, 'soundless': 1, 'deep': 1, 'ride': 1, 'or': 1, 'being': 1, 'wrecked': 1, 'am': 1, 'worthless': 1, 'boat': 1, 'tall': 1, 'building': 1, 'goodly': 1, 'pride': 1, 'then': 1, 'if': 1, 'thrive': 1, 'be': 1, 'cast': 1, 'away': 1, 'worst': 1, 'was': 2, 'this': 1, 'love': 1, 'decay': 1}, {'or': 2, 'i': 3, 'shall': 7, 'live': 2, 'your': 5, 'epitaph': 1, 'to': 3, 'make': 1, 'you': 3, 'survive': 1, 'when': 3, 'in': 4, 'earth': 2, 'am': 1, 'rotten': 1, 'from': 2, 'hence': 2, 'memory': 1, 'death': 1, 'cannot': 1, 'take': 1, 'although': 1, 'me': 2, 'each': 1, 'part': 1, 'will': 1, 'be': 3, 'forgotten': 1, 'name': 1, 'immortal': 1, 'life': 1, 'have': 1, 'though': 1, 'once': 1, 'gone': 1, 'all': 2, 'the': 4, 'world': 2, 'must': 1, 'die': 1, 'can': 1, 'yield': 1, 'but': 1, 'a': 1, 'common': 1, 'grave': 1, 'entombed': 1, 'mens': 1, 'eyes': 2, 'lie': 1, 'monument': 1, 'my': 2, 'gentle': 1, 'verse': 1, 'which': 1, 'not': 1, 'yet': 1, 'created': 1, 'oerread': 1, 'and': 1, 'tongues': 1, 'being': 1, 'rehearse': 1, 'breathers': 1, 'of': 2, 'this': 1, 'are': 1, 'dead': 1, 'still': 1, 'such': 1, 'virtue': 1, 'hath': 1, 'pen': 1, 'where': 1, 'breath': 1, 'most': 1, 'breathes': 1, 'even': 1, 'mouths': 1, 'men': 1}, {'i': 1, 'grant': 1, 'thou': 3, 'wert': 2, 'not': 1, 'married': 1, 'to': 2, 'my': 2, 'muse': 1, 'and': 4, 'therefore': 2, 'mayst': 1, 'without': 1, 'attaint': 1, 'oerlook': 1, 'the': 2, 'dedicated': 1, 'words': 2, 'which': 1, 'writers': 1, 'use': 1, 'of': 2, 'their': 2, 'fair': 3, 'subject': 1, 'blessing': 1, 'every': 1, 'book': 1, 'art': 2, 'as': 2, 'in': 4, 'knowledge': 1, 'hue': 1, 'finding': 1, 'thy': 2, 'worth': 1, 'a': 1, 'limit': 1, 'past': 1, 'praise': 1, 'enforced': 1, 'seek': 1, 'anew': 1, 'some': 1, 'fresher': 1, 'stamp': 1, 'timebettering': 1, 'days': 1, 'do': 1, 'so': 1, 'love': 1, 'yet': 1, 'when': 1, 'they': 1, 'have': 1, 'devised': 1, 'what': 1, 'strained': 1, 'touches': 1, 'rhetoric': 1, 'can': 1, 'lend': 1, 'truly': 2, 'sympathized': 1, 'true': 1, 'plain': 1, 'by': 1, 'truetelling': 1, 'friend': 1, 'gross': 1, 'painting': 1, 'might': 1, 'be': 1, 'better': 1, 'used': 1, 'where': 1, 'cheeks': 1, 'need': 1, 'blood': 1, 'thee': 1, 'it': 1, 'is': 1, 'abused': 1}, {'i': 5, 'never': 1, 'saw': 1, 'that': 3, 'you': 5, 'did': 3, 'painting': 2, 'need': 1, 'and': 3, 'therefore': 2, 'to': 1, 'your': 5, 'fair': 2, 'no': 1, 'set': 1, 'found': 2, 'or': 1, 'thought': 1, 'exceed': 1, 'barren': 1, 'tender': 1, 'of': 3, 'a': 3, 'poets': 2, 'debt': 1, 'have': 1, 'slept': 1, 'in': 4, 'report': 1, 'self': 1, 'being': 3, 'extant': 1, 'well': 1, 'might': 1, 'show': 1, 'how': 1, 'far': 1, 'modern': 1, 'quill': 1, 'doth': 2, 'come': 1, 'too': 1, 'short': 1, 'speaking': 1, 'worth': 2, 'what': 1, 'grow': 1, 'this': 1, 'silence': 1, 'for': 2, 'my': 2, 'sin': 1, 'impute': 1, 'which': 1, 'shall': 1, 'be': 1, 'most': 1, 'glory': 1, 'dumb': 1, 'impair': 1, 'not': 1, 'beauty': 1, 'mute': 1, 'when': 1, 'others': 1, 'would': 1, 'give': 1, 'life': 2, 'bring': 1, 'tomb': 1, 'there': 1, 'lives': 1, 'more': 1, 'one': 1, 'eyes': 1, 'than': 1, 'both': 1, 'can': 1, 'praise': 1, 'devise': 1}, {'who': 1, 'is': 3, 'it': 1, 'that': 6, 'says': 1, 'most': 1, 'which': 3, 'can': 2, 'say': 1, 'more': 1, 'than': 1, 'this': 1, 'rich': 1, 'praise': 2, 'you': 7, 'alone': 1, 'are': 2, 'in': 2, 'whose': 1, 'confine': 1, 'immured': 1, 'the': 1, 'store': 1, 'should': 1, 'example': 1, 'where': 2, 'your': 3, 'equal': 1, 'grew': 1, 'lean': 1, 'penury': 1, 'within': 1, 'pen': 1, 'doth': 1, 'dwell': 1, 'to': 2, 'his': 4, 'subject': 1, 'lends': 1, 'not': 2, 'some': 1, 'small': 1, 'glory': 1, 'but': 2, 'he': 2, 'writes': 1, 'of': 1, 'if': 1, 'tell': 1, 'so': 2, 'dignifies': 1, 'story': 1, 'let': 1, 'him': 1, 'copy': 1, 'what': 2, 'writ': 1, 'making': 2, 'worse': 2, 'nature': 1, 'made': 1, 'clear': 1, 'and': 1, 'such': 1, 'a': 2, 'counterpart': 1, 'shall': 1, 'fame': 1, 'wit': 1, 'style': 1, 'admired': 1, 'every': 1, 'beauteous': 1, 'blessings': 1, 'add': 1, 'curse': 1, 'being': 1, 'fond': 1, 'on': 1, 'makes': 1, 'praises': 1}, {'my': 3, 'tonguetied': 1, 'muse': 1, 'in': 4, 'manners': 1, 'holds': 2, 'her': 1, 'still': 2, 'while': 1, 'comments': 1, 'of': 4, 'your': 1, 'praise': 2, 'richly': 1, 'compiled': 1, 'reserve': 1, 'their': 1, 'character': 1, 'with': 1, 'golden': 1, 'quill': 1, 'and': 3, 'precious': 1, 'phrase': 1, 'by': 1, 'all': 1, 'the': 3, 'muses': 1, 'filed': 1, 'i': 2, 'think': 1, 'good': 2, 'thoughts': 2, 'whilst': 1, 'other': 1, 'write': 1, 'words': 3, 'like': 1, 'unlettered': 1, 'clerk': 1, 'cry': 1, 'amen': 1, 'to': 3, 'every': 1, 'hymn': 1, 'that': 2, 'able': 1, 'spirit': 1, 'affords': 1, 'polished': 1, 'form': 1, 'well': 1, 'refined': 1, 'pen': 1, 'hearing': 1, 'you': 2, 'praised': 1, 'say': 1, 'tis': 2, 'so': 1, 'true': 1, 'most': 1, 'add': 1, 'something': 1, 'more': 1, 'but': 1, 'is': 1, 'thought': 1, 'whose': 1, 'love': 1, 'though': 1, 'come': 1, 'hindmost': 1, 'his': 1, 'rank': 1, 'before': 1, 'then': 1, 'others': 1, 'for': 2, 'breath': 1, 'respect': 1, 'me': 1, 'dumb': 1, 'speaking': 1, 'effect': 1}, {'was': 3, 'it': 2, 'the': 3, 'proud': 1, 'full': 1, 'sail': 1, 'of': 4, 'his': 4, 'great': 1, 'verse': 2, 'bound': 1, 'for': 1, 'prize': 1, 'all': 1, 'too': 1, 'precious': 1, 'you': 1, 'that': 4, 'did': 1, 'my': 4, 'ripe': 1, 'thoughts': 1, 'in': 1, 'brain': 1, 'inhearse': 1, 'making': 1, 'their': 1, 'tomb': 1, 'womb': 1, 'wherein': 1, 'they': 1, 'grew': 1, 'spirit': 1, 'by': 2, 'spirits': 1, 'taught': 1, 'to': 1, 'write': 1, 'above': 1, 'a': 1, 'mortal': 1, 'pitch': 1, 'struck': 1, 'me': 1, 'dead': 1, 'no': 1, 'neither': 1, 'he': 2, 'nor': 2, 'compeers': 1, 'night': 1, 'giving': 1, 'him': 2, 'aid': 1, 'astonished': 1, 'affable': 1, 'familiar': 1, 'ghost': 1, 'which': 1, 'nightly': 1, 'gulls': 1, 'with': 1, 'intelligence': 1, 'as': 1, 'victors': 1, 'silence': 1, 'cannot': 1, 'boast': 1, 'i': 2, 'not': 1, 'sick': 1, 'any': 1, 'fear': 1, 'from': 1, 'thence': 1, 'but': 1, 'when': 1, 'your': 1, 'countenance': 1, 'filled': 1, 'up': 1, 'line': 1, 'then': 1, 'lacked': 1, 'matter': 1, 'enfeebled': 1, 'mine': 1}, {'farewell': 1, 'thou': 4, 'art': 1, 'too': 1, 'dear': 1, 'for': 3, 'my': 4, 'possessing': 1, 'and': 3, 'like': 1, 'enough': 1, 'knowst': 1, 'thy': 6, 'estimate': 1, 'the': 2, 'charter': 1, 'of': 2, 'worth': 2, 'gives': 1, 'thee': 4, 'releasing': 1, 'bonds': 1, 'in': 3, 'are': 1, 'all': 1, 'determinate': 1, 'how': 1, 'do': 1, 'i': 2, 'hold': 1, 'but': 2, 'by': 1, 'granting': 1, 'that': 1, 'riches': 1, 'where': 1, 'is': 3, 'deserving': 1, 'cause': 1, 'this': 1, 'fair': 1, 'gift': 2, 'me': 2, 'wanting': 1, 'so': 2, 'patent': 1, 'back': 1, 'again': 2, 'swerving': 1, 'self': 1, 'gavst': 2, 'own': 1, 'then': 1, 'not': 1, 'knowing': 1, 'or': 1, 'to': 1, 'whom': 1, 'it': 1, 'else': 1, 'mistaking': 1, 'great': 1, 'upon': 1, 'misprision': 1, 'growing': 1, 'comes': 1, 'home': 1, 'on': 1, 'better': 1, 'judgement': 1, 'making': 1, 'thus': 1, 'have': 1, 'had': 1, 'as': 1, 'a': 2, 'dream': 1, 'doth': 1, 'flatter': 1, 'sleep': 1, 'king': 1, 'waking': 1, 'no': 1, 'such': 1, 'matter': 1}, {'when': 1, 'thou': 3, 'shalt': 2, 'be': 2, 'disposed': 1, 'to': 3, 'set': 2, 'me': 3, 'light': 1, 'and': 3, 'place': 1, 'my': 6, 'merit': 1, 'in': 2, 'the': 2, 'eye': 1, 'of': 2, 'scorn': 1, 'upon': 2, 'thy': 3, 'side': 1, 'against': 1, 'self': 3, 'ill': 1, 'fight': 1, 'prove': 1, 'thee': 4, 'virtuous': 1, 'though': 1, 'art': 1, 'forsworn': 1, 'with': 1, 'mine': 1, 'own': 1, 'weakness': 1, 'being': 1, 'best': 1, 'acquainted': 1, 'part': 1, 'i': 5, 'can': 1, 'down': 1, 'a': 2, 'story': 1, 'faults': 1, 'concealed': 1, 'wherein': 1, 'am': 1, 'attainted': 1, 'that': 3, 'losing': 1, 'win': 1, 'much': 1, 'glory': 1, 'by': 1, 'this': 1, 'will': 2, 'gainer': 1, 'too': 1, 'for': 2, 'bending': 1, 'all': 2, 'loving': 1, 'thoughts': 1, 'on': 1, 'injuries': 1, 'do': 1, 'doing': 1, 'vantage': 1, 'doublevantage': 1, 'such': 1, 'is': 1, 'love': 1, 'so': 1, 'belong': 1, 'right': 1, 'bear': 1, 'wrong': 1}, {'say': 1, 'that': 2, 'thou': 3, 'didst': 1, 'forsake': 1, 'me': 2, 'for': 3, 'some': 1, 'fault': 1, 'and': 5, 'i': 5, 'will': 4, 'comment': 1, 'upon': 2, 'offence': 1, 'speak': 1, 'of': 2, 'my': 4, 'lameness': 1, 'straight': 1, 'halt': 1, 'against': 2, 'thy': 4, 'reasons': 1, 'making': 1, 'no': 2, 'defence': 1, 'canst': 1, 'not': 1, 'love': 2, 'disgrace': 2, 'half': 1, 'so': 1, 'ill': 3, 'to': 1, 'set': 1, 'a': 1, 'form': 1, 'desired': 1, 'change': 1, 'as': 1, 'self': 2, 'knowing': 1, 'acquaintance': 2, 'strangle': 1, 'look': 1, 'strange': 1, 'be': 1, 'absent': 1, 'from': 1, 'walks': 1, 'in': 1, 'tongue': 1, 'sweet': 1, 'beloved': 1, 'name': 1, 'more': 1, 'shall': 1, 'dwell': 1, 'lest': 1, 'too': 1, 'much': 1, 'profane': 1, 'should': 1, 'do': 1, 'it': 1, 'wronk': 1, 'haply': 1, 'our': 1, 'old': 1, 'tell': 1, 'thee': 1, 'vow': 1, 'debate': 1, 'must': 1, 'neer': 1, 'him': 1, 'whom': 1, 'dost': 1, 'hate': 1}, {'then': 1, 'hate': 1, 'me': 4, 'when': 3, 'thou': 2, 'wilt': 2, 'if': 2, 'ever': 1, 'now': 3, 'while': 1, 'the': 5, 'world': 1, 'is': 1, 'bent': 1, 'my': 2, 'deeds': 1, 'to': 2, 'cross': 1, 'join': 1, 'with': 2, 'spite': 2, 'of': 5, 'fortune': 1, 'make': 1, 'bow': 1, 'and': 2, 'do': 3, 'not': 5, 'drop': 1, 'in': 3, 'for': 1, 'an': 1, 'afterloss': 1, 'ah': 1, 'heart': 1, 'hath': 1, 'scaped': 1, 'this': 1, 'sorrow': 1, 'come': 2, 'rearward': 1, 'a': 4, 'conquered': 1, 'woe': 3, 'give': 1, 'windy': 1, 'night': 1, 'rainy': 1, 'morrow': 1, 'linger': 1, 'out': 1, 'purposed': 1, 'overthrow': 1, 'leave': 2, 'last': 1, 'other': 2, 'petty': 1, 'griefs': 1, 'have': 1, 'done': 1, 'their': 1, 'but': 1, 'onset': 1, 'so': 2, 'shall': 1, 'i': 1, 'taste': 1, 'at': 1, 'first': 1, 'very': 1, 'worst': 1, 'fortunes': 1, 'might': 1, 'strains': 1, 'which': 1, 'seem': 2, 'compared': 1, 'loss': 1, 'thee': 1, 'will': 1}, {'some': 7, 'glory': 1, 'in': 9, 'their': 7, 'birth': 2, 'skill': 1, 'wealth': 2, 'bodys': 1, 'force': 1, 'garments': 2, 'though': 1, 'newfangled': 1, 'ill': 1, 'hawks': 2, 'and': 5, 'hounds': 1, 'horse': 1, 'every': 1, 'humour': 1, 'hath': 1, 'his': 1, 'adjunct': 1, 'pleasure': 1, 'wherein': 1, 'it': 1, 'finds': 1, 'a': 1, 'joy': 1, 'above': 1, 'the': 1, 'rest': 1, 'but': 1, 'these': 2, 'particulars': 1, 'are': 1, 'not': 1, 'my': 1, 'measure': 1, 'all': 3, 'i': 2, 'better': 2, 'one': 1, 'general': 1, 'best': 1, 'thy': 1, 'love': 1, 'is': 1, 'than': 4, 'high': 1, 'to': 1, 'me': 2, 'richer': 1, 'prouder': 1, 'costs': 1, 'of': 2, 'more': 1, 'delight': 1, 'horses': 1, 'be': 1, 'having': 1, 'thee': 1, 'mens': 1, 'pride': 1, 'boast': 1, 'wretched': 1, 'this': 2, 'alone': 1, 'that': 1, 'thou': 1, 'mayst': 1, 'take': 1, 'away': 1, 'most': 1, 'wretchcd': 1, 'make': 1}, {'but': 2, 'do': 2, 'thy': 6, 'worst': 2, 'to': 5, 'steal': 1, 'self': 1, 'away': 1, 'for': 2, 'term': 1, 'of': 4, 'life': 4, 'thou': 3, 'art': 1, 'assured': 1, 'mine': 1, 'and': 2, 'no': 2, 'longer': 1, 'than': 2, 'love': 3, 'will': 1, 'stay': 1, 'it': 2, 'depends': 1, 'upon': 1, 'that': 4, 'thine': 1, 'then': 1, 'need': 1, 'i': 4, 'not': 3, 'fear': 1, 'the': 2, 'wrongs': 1, 'when': 1, 'in': 1, 'least': 1, 'them': 1, 'my': 2, 'hath': 1, 'end': 1, 'see': 1, 'a': 2, 'better': 1, 'state': 1, 'me': 2, 'belongs': 1, 'which': 1, 'on': 2, 'humour': 1, 'doth': 2, 'depend': 1, 'canst': 1, 'vex': 1, 'with': 1, 'inconstant': 1, 'mind': 1, 'since': 1, 'revolt': 1, 'lie': 1, 'o': 1, 'what': 1, 'happy': 3, 'title': 1, 'find': 1, 'have': 1, 'die': 1, 'whats': 1, 'so': 1, 'blessedfair': 1, 'fears': 1, 'blot': 1, 'mayst': 1, 'be': 1, 'false': 1, 'yet': 1, 'know': 1}, {'so': 2, 'shall': 1, 'i': 2, 'live': 2, 'supposing': 1, 'thou': 1, 'art': 1, 'true': 1, 'like': 2, 'a': 1, 'deceived': 1, 'husband': 1, 'loves': 1, 'face': 2, 'may': 1, 'still': 1, 'seem': 1, 'love': 2, 'to': 1, 'me': 2, 'though': 1, 'altered': 1, 'new': 1, 'thy': 11, 'looks': 3, 'with': 1, 'heart': 1, 'in': 7, 'other': 1, 'place': 1, 'for': 1, 'there': 1, 'can': 1, 'no': 1, 'hatred': 1, 'thine': 1, 'eye': 1, 'therefore': 1, 'that': 2, 'cannot': 1, 'know': 1, 'change': 1, 'manys': 1, 'the': 1, 'false': 1, 'hearts': 2, 'history': 1, 'is': 1, 'writ': 1, 'moods': 1, 'and': 2, 'frowns': 1, 'wrinkles': 1, 'strange': 1, 'but': 2, 'heaven': 1, 'creation': 1, 'did': 1, 'decree': 1, 'sweet': 2, 'should': 2, 'ever': 1, 'dwell': 1, 'whateer': 1, 'thoughts': 1, 'or': 1, 'workings': 1, 'be': 1, 'nothing': 1, 'thence': 1, 'sweetness': 1, 'tell': 1, 'how': 1, 'eves': 1, 'apple': 1, 'doth': 1, 'beauty': 1, 'grow': 1, 'if': 1, 'virtue': 1, 'answer': 1, 'not': 1, 'show': 1}, {'they': 3, 'that': 4, 'have': 1, 'power': 1, 'to': 4, 'hurt': 1, 'and': 5, 'will': 1, 'do': 5, 'none': 1, 'not': 1, 'the': 5, 'thing': 1, 'most': 1, 'show': 1, 'who': 1, 'moving': 1, 'others': 2, 'are': 2, 'themselves': 1, 'as': 1, 'stone': 1, 'unmoved': 1, 'cold': 1, 'temptation': 1, 'slow': 1, 'rightly': 1, 'inherit': 1, 'heavens': 1, 'graces': 1, 'husband': 1, 'natures': 1, 'riches': 1, 'from': 1, 'expense': 1, 'tibey': 1, 'lords': 1, 'owners': 1, 'of': 2, 'their': 3, 'faces': 1, 'but': 2, 'stewards': 1, 'excellence': 1, 'summers': 1, 'flower': 2, 'is': 1, 'summer': 1, 'sweet': 1, 'though': 1, 'it': 2, 'self': 1, 'only': 1, 'live': 1, 'die': 1, 'if': 1, 'with': 1, 'base': 1, 'infection': 1, 'meet': 1, 'basest': 1, 'weed': 1, 'outbraves': 1, 'his': 1, 'dignity': 1, 'for': 1, 'sweetest': 1, 'things': 1, 'turn': 1, 'sourest': 1, 'by': 1, 'deeds': 1, 'lilies': 1, 'fester': 1, 'smell': 1, 'far': 1, 'worse': 1, 'than': 1, 'weeds': 1}, {'how': 1, 'sweet': 1, 'and': 2, 'lovely': 1, 'dost': 2, 'thou': 2, 'make': 1, 'the': 5, 'shame': 1, 'which': 2, 'like': 1, 'a': 3, 'canker': 1, 'in': 3, 'fragrant': 1, 'rose': 1, 'doth': 3, 'spot': 1, 'beauty': 1, 'of': 4, 'thy': 5, 'budding': 1, 'name': 2, 'o': 2, 'what': 2, 'sweets': 1, 'sins': 1, 'enclose': 1, 'that': 3, 'tongue': 1, 'tells': 1, 'story': 1, 'days': 1, 'making': 1, 'lascivious': 1, 'comments': 1, 'on': 1, 'sport': 1, 'cannot': 1, 'dispraise': 1, 'but': 1, 'kind': 1, 'praise': 1, 'naming': 1, 'blesses': 1, 'an': 1, 'ill': 1, 'report': 1, 'mansion': 1, 'have': 1, 'those': 1, 'vices': 1, 'got': 1, 'for': 1, 'their': 1, 'habitation': 1, 'chose': 1, 'out': 1, 'thee': 1, 'where': 1, 'beautys': 1, 'veil': 1, 'cover': 1, 'every': 1, 'blot': 1, 'all': 1, 'things': 1, 'turns': 1, 'to': 1, 'fair': 1, 'eyes': 1, 'can': 1, 'see': 1, 'take': 1, 'heed': 1, 'dear': 1, 'heart': 1, 'this': 1, 'large': 1, 'privilege': 1, 'hardest': 1, 'knife': 1, 'illused': 1, 'lose': 1, 'his': 1, 'edge': 1}, {'some': 3, 'say': 2, 'thy': 4, 'fault': 1, 'is': 3, 'youth': 2, 'wantonness': 1, 'grace': 2, 'and': 4, 'gentle': 1, 'sport': 1, 'both': 1, 'faults': 2, 'are': 3, 'loved': 1, 'of': 3, 'more': 1, 'less': 1, 'thou': 4, 'makst': 1, 'graces': 1, 'that': 2, 'to': 2, 'thee': 3, 'resort': 1, 'as': 2, 'on': 1, 'the': 4, 'finger': 1, 'a': 2, 'throned': 1, 'queen': 1, 'basest': 1, 'jewel': 1, 'will': 1, 'be': 1, 'well': 1, 'esteemed': 1, 'so': 2, 'those': 1, 'errors': 1, 'in': 2, 'seen': 1, 'truths': 1, 'translated': 1, 'for': 1, 'true': 1, 'things': 1, 'deemed': 1, 'how': 2, 'many': 2, 'lambs': 1, 'might': 1, 'stern': 1, 'wolf': 1, 'betray': 1, 'if': 2, 'like': 1, 'lamb': 1, 'he': 1, 'could': 1, 'his': 1, 'looks': 1, 'translate': 1, 'gazers': 1, 'mightst': 1, 'lead': 1, 'away': 1, 'wouldst': 1, 'use': 1, 'strength': 1, 'all': 1, 'state': 1, 'but': 1, 'do': 1, 'not': 1, 'i': 1, 'love': 1, 'such': 1, 'sort': 1, 'being': 1, 'mine': 2, 'good': 1, 'report': 1}, {'how': 1, 'like': 2, 'a': 2, 'winter': 1, 'hath': 1, 'my': 1, 'absence': 1, 'been': 1, 'from': 1, 'thee': 2, 'the': 7, 'pleasure': 1, 'of': 3, 'fleeting': 1, 'year': 1, 'what': 3, 'freezings': 1, 'have': 1, 'i': 1, 'felt': 1, 'dark': 1, 'days': 1, 'seen': 1, 'old': 1, 'decembers': 1, 'bareness': 1, 'everywhere': 1, 'and': 4, 'yet': 2, 'this': 2, 'time': 2, 'removed': 1, 'was': 1, 'summers': 1, 'teeming': 1, 'autumn': 1, 'big': 1, 'with': 2, 'rich': 1, 'increase': 1, 'bearing': 1, 'wanton': 1, 'burden': 1, 'prime': 1, 'widowed': 1, 'wombs': 1, 'after': 1, 'their': 1, 'lords': 1, 'decease': 1, 'abundant': 1, 'issue': 1, 'seemed': 1, 'to': 1, 'me': 1, 'but': 1, 'hope': 1, 'orphans': 1, 'unfathered': 1, 'fruit': 1, 'for': 1, 'summer': 1, 'his': 1, 'pleasures': 1, 'wait': 1, 'on': 1, 'thou': 1, 'away': 1, 'very': 1, 'birds': 1, 'are': 1, 'mute': 1, 'or': 1, 'if': 1, 'they': 1, 'sing': 1, 'tis': 1, 'so': 1, 'dull': 1, 'cheer': 1, 'that': 1, 'leaves': 1, 'look': 1, 'pale': 1, 'dreading': 1, 'winters': 1, 'near': 1}, {'from': 2, 'you': 4, 'have': 1, 'i': 3, 'been': 1, 'absent': 1, 'in': 6, 'the': 6, 'spring': 1, 'when': 1, 'proudpied': 1, 'april': 1, 'dressed': 1, 'all': 2, 'his': 1, 'trim': 1, 'hath': 1, 'put': 1, 'a': 1, 'spirit': 1, 'of': 5, 'youth': 1, 'every': 1, 'thing': 1, 'that': 1, 'heavy': 1, 'saturn': 1, 'laughed': 1, 'and': 3, 'leaped': 1, 'with': 3, 'him': 1, 'yet': 2, 'nor': 4, 'lays': 1, 'birds': 1, 'sweet': 2, 'smell': 1, 'different': 1, 'flowers': 1, 'odour': 1, 'hue': 1, 'could': 1, 'make': 1, 'me': 1, 'any': 1, 'summers': 1, 'story': 1, 'tell': 1, 'or': 1, 'their': 1, 'proud': 1, 'lap': 1, 'pluck': 1, 'them': 1, 'where': 1, 'they': 2, 'grew': 1, 'did': 2, 'wonder': 1, 'at': 1, 'lilys': 1, 'white': 1, 'praise': 1, 'deep': 1, 'vermilion': 1, 'rose': 1, 'were': 1, 'but': 2, 'figures': 1, 'delight': 1, 'drawn': 1, 'after': 1, 'pattern': 1, 'those': 1, 'seemed': 1, 'it': 1, 'winter': 1, 'still': 1, 'away': 1, 'as': 1, 'your': 1, 'shadow': 1, 'these': 1, 'play': 1}, {'the': 4, 'forward': 1, 'violet': 1, 'thus': 1, 'did': 2, 'i': 4, 'chide': 1, 'sweet': 3, 'thief': 1, 'whence': 1, 'didst': 1, 'thou': 2, 'steal': 1, 'thy': 5, 'that': 1, 'smells': 1, 'if': 1, 'not': 1, 'from': 2, 'my': 2, 'loves': 2, 'breath': 2, 'purple': 1, 'pride': 2, 'which': 1, 'on': 2, 'soft': 1, 'check': 1, 'for': 3, 'complexion': 1, 'dwells': 1, 'in': 2, 'veins': 1, 'hast': 1, 'too': 1, 'grossly': 1, 'dyed': 1, 'lily': 1, 'condemned': 1, 'hand': 1, 'and': 2, 'buds': 1, 'of': 3, 'marjoram': 1, 'had': 4, 'stoln': 3, 'hair': 1, 'roses': 1, 'fearfully': 1, 'thorns': 1, 'stand': 1, 'one': 1, 'blushing': 1, 'shame': 1, 'another': 1, 'white': 2, 'despair': 1, 'a': 2, 'third': 1, 'nor': 2, 'red': 1, 'both': 1, 'to': 2, 'his': 3, 'robbery': 1, 'annexed': 1, 'but': 2, 'theft': 1, 'all': 1, 'growth': 1, 'vengeful': 1, 'canker': 1, 'eat': 1, 'him': 1, 'up': 1, 'death': 1, 'more': 1, 'flowers': 1, 'noted': 1, 'yet': 1, 'none': 1, 'could': 1, 'see': 1, 'or': 1, 'colour': 1, 'it': 1, 'thee': 1}, {'where': 1, 'art': 1, 'thou': 4, 'muse': 3, 'that': 3, 'forgetst': 1, 'so': 3, 'long': 1, 'to': 4, 'speak': 1, 'of': 1, 'which': 1, 'gives': 2, 'thee': 1, 'all': 1, 'thy': 5, 'might': 1, 'spendst': 1, 'fury': 1, 'on': 1, 'some': 1, 'worthless': 1, 'song': 1, 'darkening': 1, 'power': 1, 'lend': 1, 'base': 1, 'subjects': 1, 'light': 1, 'return': 1, 'forgetful': 1, 'and': 5, 'straight': 1, 'redeem': 1, 'in': 1, 'gentle': 1, 'numbers': 1, 'time': 3, 'idly': 1, 'spent': 1, 'sing': 1, 'the': 1, 'ear': 1, 'doth': 1, 'lays': 1, 'esteem': 1, 'pen': 1, 'both': 1, 'skill': 1, 'argument': 1, 'rise': 1, 'resty': 1, 'my': 2, 'loves': 1, 'sweet': 1, 'face': 1, 'survey': 1, 'if': 2, 'have': 1, 'any': 2, 'wrinkle': 1, 'graven': 1, 'there': 1, 'be': 1, 'a': 1, 'satire': 1, 'decay': 1, 'make': 1, 'times': 1, 'spoils': 1, 'despised': 1, 'everywhere': 1, 'give': 1, 'love': 1, 'fame': 1, 'faster': 1, 'than': 1, 'wastes': 1, 'life': 1, 'preventst': 1, 'his': 1, 'scythe': 1, 'crooked': 1, 'knife': 1}, {'o': 1, 'truant': 1, 'muse': 3, 'what': 1, 'shall': 1, 'be': 4, 'thy': 3, 'amends': 1, 'for': 1, 'neglect': 1, 'of': 2, 'truth': 4, 'in': 2, 'beauty': 3, 'dyed': 1, 'both': 1, 'and': 3, 'on': 1, 'my': 1, 'love': 1, 'depends': 1, 'so': 2, 'dost': 1, 'thou': 3, 'too': 1, 'therein': 1, 'dignified': 1, 'make': 3, 'answer': 1, 'wilt': 2, 'not': 2, 'haply': 1, 'say': 1, 'needs': 2, 'no': 3, 'colour': 2, 'with': 1, 'his': 1, 'fixed': 1, 'pencil': 1, 'beautys': 1, 'to': 5, 'lay': 1, 'but': 1, 'best': 2, 'is': 1, 'if': 1, 'never': 1, 'intermixed': 1, 'because': 1, 'he': 2, 'praise': 1, 'dumb': 1, 'excuse': 1, 'silence': 1, 'fort': 1, 'lies': 1, 'thee': 2, 'him': 2, 'much': 1, 'outlive': 1, 'a': 1, 'gilded': 1, 'tomb': 1, 'praised': 1, 'ages': 1, 'yet': 1, 'then': 1, 'do': 1, 'office': 1, 'i': 1, 'teach': 1, 'how': 1, 'seem': 1, 'long': 1, 'hence': 1, 'as': 1, 'shows': 1, 'now': 1}, {'my': 4, 'love': 4, 'is': 3, 'strengthened': 1, 'though': 2, 'more': 1, 'weak': 1, 'in': 4, 'seeming': 1, 'i': 4, 'not': 3, 'less': 3, 'the': 5, 'show': 1, 'appear': 1, 'that': 3, 'merchandized': 1, 'whose': 1, 'rich': 1, 'esteeming': 1, 'owners': 1, 'tongue': 2, 'doth': 2, 'publish': 1, 'every': 2, 'where': 1, 'our': 1, 'was': 2, 'new': 1, 'and': 3, 'then': 1, 'but': 2, 'spring': 1, 'when': 2, 'wont': 1, 'to': 1, 'greet': 1, 'it': 1, 'with': 2, 'lays': 1, 'as': 1, 'philomel': 1, 'summers': 1, 'front': 1, 'sing': 1, 'stops': 1, 'her': 3, 'pipe': 1, 'growth': 1, 'of': 1, 'riper': 1, 'days': 1, 'summer': 1, 'pleasant': 1, 'now': 1, 'than': 1, 'mournful': 1, 'hymns': 1, 'did': 1, 'hush': 1, 'night': 1, 'wild': 1, 'music': 1, 'burthens': 1, 'bough': 1, 'sweets': 1, 'grown': 1, 'common': 1, 'lose': 1, 'their': 1, 'dear': 1, 'delight': 1, 'therefore': 1, 'like': 1, 'sometime': 1, 'hold': 1, 'because': 1, 'would': 1, 'dull': 1, 'you': 1, 'song': 1}, {'alack': 1, 'what': 1, 'poverty': 1, 'my': 6, 'muse': 1, 'brings': 1, 'forth': 1, 'that': 3, 'having': 1, 'such': 1, 'a': 2, 'scope': 1, 'to': 5, 'show': 1, 'her': 1, 'pride': 1, 'the': 2, 'argument': 1, 'all': 1, 'bare': 1, 'is': 1, 'of': 2, 'more': 4, 'worth': 1, 'than': 3, 'when': 2, 'it': 3, 'hath': 1, 'added': 1, 'praise': 1, 'beside': 1, 'o': 1, 'blame': 1, 'me': 2, 'not': 2, 'if': 1, 'i': 1, 'no': 2, 'can': 2, 'write': 1, 'look': 2, 'in': 3, 'your': 4, 'glass': 2, 'and': 4, 'there': 1, 'appears': 1, 'face': 1, 'overgoes': 1, 'blunt': 1, 'invention': 1, 'quite': 1, 'dulling': 1, 'lines': 1, 'doing': 1, 'disgrace': 1, 'were': 1, 'sinful': 1, 'then': 1, 'striving': 1, 'mend': 1, 'mar': 1, 'subject': 1, 'before': 1, 'was': 1, 'well': 1, 'for': 1, 'other': 1, 'pass': 1, 'verses': 1, 'tend': 1, 'graces': 1, 'gifts': 1, 'tell': 1, 'much': 1, 'verse': 1, 'sit': 1, 'own': 1, 'shows': 1, 'you': 2}, {'to': 2, 'me': 1, 'fair': 1, 'friend': 1, 'you': 4, 'never': 1, 'can': 1, 'be': 2, 'old': 1, 'for': 2, 'as': 1, 'were': 2, 'when': 1, 'first': 2, 'your': 3, 'eye': 2, 'i': 3, 'eyed': 1, 'such': 1, 'seems': 1, 'beauty': 2, 'still': 2, 'three': 5, 'winters': 1, 'cold': 1, 'have': 2, 'from': 2, 'the': 2, 'forests': 1, 'shook': 1, 'summers': 1, 'pride': 1, 'beauteous': 1, 'springs': 1, 'yellow': 1, 'autumn': 1, 'turned': 1, 'in': 2, 'process': 1, 'of': 2, 'seasons': 1, 'seen': 1, 'april': 1, 'perfumes': 1, 'hot': 1, 'junes': 1, 'burned': 1, 'since': 1, 'saw': 1, 'fresh': 1, 'which': 3, 'yet': 2, 'are': 1, 'green': 1, 'ah': 1, 'doth': 2, 'like': 1, 'a': 1, 'dial': 1, 'hand': 1, 'steal': 1, 'his': 1, 'figure': 1, 'and': 2, 'no': 1, 'pace': 1, 'perceived': 1, 'so': 1, 'sweet': 1, 'hue': 1, 'methinks': 1, 'stand': 1, 'hath': 1, 'motion': 1, 'mine': 1, 'may': 1, 'deceived': 1, 'fear': 1, 'hear': 1, 'this': 1, 'thou': 1, 'age': 1, 'unbred': 1, 'ere': 1, 'born': 1, 'was': 1, 'beautys': 1, 'summer': 1, 'dead': 1}, {'let': 1, 'not': 1, 'my': 7, 'love': 2, 'be': 2, 'called': 1, 'idolatry': 1, 'nor': 1, 'beloved': 1, 'as': 1, 'an': 1, 'idol': 1, 'show': 1, 'since': 1, 'all': 2, 'alike': 1, 'songs': 1, 'and': 6, 'praises': 1, 'to': 3, 'one': 5, 'of': 1, 'still': 2, 'such': 1, 'ever': 1, 'so': 1, 'kind': 5, 'is': 3, 'today': 1, 'tomorrow': 1, 'constant': 1, 'in': 4, 'a': 1, 'wondrous': 2, 'excellence': 1, 'therefore': 1, 'verse': 1, 'constancy': 1, 'confined': 1, 'thing': 1, 'expressing': 1, 'leaves': 1, 'out': 1, 'difference': 1, 'fair': 3, 'true': 3, 'argument': 1, 'varying': 1, 'other': 1, 'words': 1, 'this': 1, 'change': 1, 'invention': 1, 'spent': 1, 'three': 2, 'themes': 1, 'which': 2, 'scope': 1, 'affords': 1, 'have': 1, 'often': 1, 'lived': 1, 'alone': 1, 'till': 1, 'now': 1, 'never': 1, 'kept': 1, 'seat': 1}, {'when': 1, 'in': 3, 'the': 3, 'chronicle': 1, 'of': 10, 'wasted': 1, 'time': 2, 'i': 2, 'see': 2, 'descriptions': 1, 'fairest': 1, 'wights': 1, 'and': 3, 'beauty': 2, 'making': 1, 'beautiful': 1, 'old': 1, 'rhyme': 1, 'praise': 2, 'ladies': 1, 'dead': 1, 'lovely': 1, 'knights': 1, 'then': 1, 'blazon': 1, 'sweet': 1, 'beautys': 1, 'best': 1, 'hand': 1, 'foot': 1, 'lip': 1, 'eye': 1, 'brow': 1, 'their': 2, 'antique': 1, 'pen': 1, 'would': 1, 'have': 2, 'expressed': 1, 'even': 1, 'such': 1, 'a': 1, 'as': 1, 'you': 2, 'master': 1, 'now': 2, 'so': 1, 'all': 2, 'praises': 1, 'are': 1, 'but': 3, 'prophecies': 1, 'this': 1, 'our': 1, 'prefiguring': 1, 'for': 2, 'they': 2, 'looked': 1, 'with': 1, 'divining': 1, 'eyes': 2, 'had': 1, 'not': 1, 'skill': 1, 'enough': 1, 'your': 1, 'worth': 1, 'to': 3, 'sing': 1, 'we': 1, 'which': 1, 'behold': 1, 'these': 1, 'present': 1, 'days': 1, 'wonder': 1, 'lack': 1, 'tongues': 1}, {'not': 1, 'mine': 1, 'own': 2, 'fears': 1, 'nor': 1, 'the': 6, 'prophetic': 1, 'soul': 1, 'of': 6, 'wide': 1, 'world': 1, 'dreaming': 1, 'on': 1, 'things': 1, 'to': 3, 'come': 1, 'can': 1, 'yet': 1, 'lease': 1, 'my': 2, 'true': 1, 'love': 2, 'control': 1, 'supposed': 1, 'as': 1, 'forfeit': 1, 'a': 1, 'confined': 1, 'doom': 1, 'mortal': 1, 'moon': 1, 'hath': 1, 'her': 1, 'eclipse': 1, 'endured': 1, 'and': 6, 'sad': 1, 'augurs': 1, 'mock': 1, 'their': 1, 'presage': 1, 'incertainties': 1, 'now': 2, 'crown': 1, 'themselves': 1, 'assured': 1, 'peace': 1, 'proclaims': 1, 'olives': 1, 'endless': 1, 'age': 1, 'with': 1, 'drops': 1, 'this': 3, 'most': 1, 'balmy': 1, 'time': 1, 'looks': 1, 'fresh': 1, 'death': 1, 'me': 1, 'subscribes': 1, 'since': 1, 'spite': 1, 'him': 1, 'ill': 1, 'live': 1, 'in': 2, 'poor': 1, 'rhyme': 1, 'while': 1, 'he': 1, 'insults': 1, 'oer': 1, 'dull': 1, 'speechless': 1, 'tribes': 1, 'thou': 1, 'shalt': 1, 'find': 1, 'thy': 1, 'monument': 1, 'when': 1, 'tyrants': 1, 'crests': 1, 'tombs': 1, 'brass': 1, 'are': 1, 'spent': 1}, {'whats': 2, 'in': 2, 'the': 4, 'brain': 1, 'that': 3, 'ink': 1, 'may': 2, 'character': 1, 'which': 1, 'hath': 1, 'not': 2, 'figured': 1, 'to': 4, 'thee': 1, 'my': 2, 'true': 1, 'spirit': 1, 'new': 1, 'speak': 1, 'what': 1, 'now': 1, 'register': 1, 'express': 1, 'love': 3, 'or': 1, 'thy': 2, 'dear': 1, 'merit': 1, 'nothing': 1, 'sweet': 1, 'boy': 1, 'but': 2, 'yet': 1, 'like': 1, 'prayers': 1, 'divine': 1, 'i': 3, 'must': 1, 'each': 1, 'day': 1, 'say': 1, 'oer': 1, 'very': 1, 'same': 1, 'counting': 1, 'no': 1, 'old': 2, 'thing': 1, 'thou': 1, 'mine': 1, 'thine': 1, 'even': 1, 'as': 1, 'when': 1, 'first': 2, 'hallowed': 1, 'fair': 1, 'name': 1, 'so': 1, 'eternal': 1, 'loves': 1, 'fresh': 1, 'case': 1, 'weighs': 1, 'dust': 1, 'and': 2, 'injury': 1, 'of': 2, 'age': 1, 'nor': 1, 'gives': 1, 'necessary': 1, 'wrinkles': 1, 'place': 1, 'makes': 1, 'antiquity': 1, 'for': 1, 'aye': 1, 'his': 1, 'page': 1, 'finding': 1, 'conceit': 1, 'there': 1, 'bred': 1, 'where': 1, 'time': 1, 'outward': 1, 'form': 1, 'would': 1, 'show': 1, 'it': 1, 'dead': 1}, {'o': 1, 'never': 2, 'say': 1, 'that': 6, 'i': 5, 'was': 1, 'false': 1, 'of': 4, 'heart': 1, 'though': 2, 'absence': 1, 'seemed': 1, 'my': 9, 'flame': 1, 'to': 3, 'qualify': 1, 'as': 2, 'easy': 1, 'might': 1, 'from': 2, 'self': 2, 'depart': 1, 'soul': 1, 'which': 1, 'in': 3, 'thy': 2, 'breast': 1, 'doth': 1, 'lie': 1, 'is': 1, 'home': 1, 'love': 1, 'if': 1, 'have': 1, 'ranged': 1, 'like': 1, 'him': 1, 'travels': 1, 'return': 1, 'again': 1, 'just': 1, 'the': 2, 'time': 2, 'not': 1, 'with': 1, 'exchanged': 1, 'so': 2, 'bring': 1, 'water': 1, 'for': 3, 'stain': 1, 'believe': 1, 'nature': 1, 'reigned': 1, 'all': 4, 'frailties': 1, 'besiege': 1, 'kinds': 1, 'blood': 1, 'it': 2, 'could': 1, 'preposterously': 1, 'be': 1, 'stained': 1, 'leave': 1, 'nothing': 2, 'sum': 1, 'good': 1, 'this': 1, 'wide': 1, 'universe': 1, 'call': 1, 'save': 1, 'thou': 2, 'rose': 1, 'art': 1}, {'alas': 1, 'tis': 1, 'true': 2, 'i': 4, 'have': 4, 'gone': 1, 'here': 1, 'and': 5, 'there': 1, 'made': 2, 'my': 4, 'self': 1, 'a': 2, 'motley': 1, 'to': 4, 'the': 2, 'view': 1, 'gored': 1, 'mine': 2, 'own': 1, 'thoughts': 1, 'sold': 1, 'cheap': 1, 'what': 2, 'is': 3, 'most': 4, 'dear': 1, 'old': 1, 'offences': 1, 'of': 2, 'affections': 1, 'new': 1, 'it': 1, 'that': 1, 'looked': 1, 'on': 2, 'truth': 1, 'askance': 1, 'strangely': 1, 'but': 1, 'by': 1, 'all': 2, 'above': 1, 'these': 1, 'blenches': 1, 'gave': 1, 'heart': 1, 'another': 1, 'youth': 1, 'worse': 1, 'essays': 1, 'proved': 1, 'thee': 1, 'best': 2, 'love': 2, 'now': 1, 'done': 1, 'shall': 1, 'no': 1, 'end': 1, 'appetite': 1, 'never': 1, 'more': 1, 'will': 1, 'grind': 1, 'newer': 1, 'proof': 1, 'try': 1, 'an': 1, 'older': 1, 'friend': 1, 'god': 1, 'in': 1, 'whom': 1, 'am': 1, 'confined': 1, 'then': 1, 'give': 1, 'me': 1, 'welcome': 1, 'next': 1, 'heaven': 1, 'even': 1, 'thy': 1, 'pure': 1, 'loving': 1, 'breast': 1}, {'o': 1, 'for': 2, 'my': 6, 'sake': 1, 'do': 1, 'you': 1, 'with': 1, 'fortune': 1, 'chide': 1, 'the': 2, 'guilty': 1, 'goddess': 1, 'of': 2, 'harmful': 1, 'deeds': 1, 'that': 4, 'did': 1, 'not': 1, 'better': 1, 'life': 1, 'provide': 1, 'than': 1, 'public': 2, 'means': 1, 'which': 1, 'manners': 1, 'breeds': 1, 'thence': 2, 'comes': 1, 'it': 2, 'name': 1, 'receives': 1, 'a': 2, 'brand': 1, 'and': 3, 'almost': 1, 'nature': 1, 'is': 2, 'subdued': 1, 'to': 3, 'what': 1, 'works': 1, 'in': 1, 'like': 2, 'dyers': 1, 'hand': 1, 'pity': 3, 'me': 3, 'then': 2, 'wish': 1, 'i': 4, 'were': 1, 'renewed': 1, 'whilst': 1, 'willing': 1, 'patient': 1, 'will': 2, 'drink': 1, 'potions': 1, 'eisel': 1, 'gainst': 1, 'strong': 1, 'infection': 1, 'no': 1, 'bitterness': 1, 'bitter': 1, 'think': 1, 'nor': 1, 'double': 1, 'penance': 1, 'correct': 1, 'correction': 1, 'dear': 1, 'friend': 1, 'assure': 1, 'ye': 1, 'even': 1, 'your': 1, 'enough': 1, 'cure': 1}, {'your': 2, 'love': 1, 'and': 4, 'pity': 1, 'doth': 1, 'th': 1, 'impression': 1, 'fill': 1, 'which': 1, 'vulgar': 1, 'scandal': 1, 'stamped': 1, 'upon': 1, 'my': 9, 'brow': 1, 'for': 1, 'what': 1, 'care': 2, 'i': 5, 'who': 1, 'calls': 1, 'me': 2, 'well': 1, 'or': 3, 'ill': 1, 'so': 3, 'you': 3, 'oergreen': 1, 'bad': 1, 'good': 1, 'allow': 1, 'are': 4, 'all': 3, 'the': 2, 'world': 2, 'must': 1, 'strive': 1, 'to': 5, 'know': 1, 'shames': 1, 'praises': 1, 'from': 1, 'tongue': 1, 'none': 2, 'else': 1, 'nor': 1, 'alive': 1, 'that': 3, 'steeled': 1, 'sense': 2, 'changes': 1, 'right': 1, 'wrong': 1, 'in': 2, 'profound': 1, 'abysm': 1, 'throw': 1, 'of': 1, 'others': 1, 'voices': 1, 'adders': 1, 'critic': 1, 'flatterer': 1, 'stopped': 1, 'mark': 1, 'how': 1, 'with': 1, 'neglect': 1, 'do': 1, 'dispense': 1, 'strongly': 1, 'purpose': 1, 'bred': 1, 'besides': 1, 'methinks': 1, 'dead': 1}, {'since': 1, 'i': 1, 'left': 1, 'you': 2, 'mine': 2, 'eye': 1, 'is': 3, 'in': 1, 'my': 2, 'mind': 3, 'and': 2, 'that': 1, 'which': 2, 'governs': 1, 'me': 1, 'to': 3, 'go': 1, 'about': 1, 'doth': 3, 'part': 2, 'his': 3, 'function': 1, 'partly': 1, 'blind': 1, 'seems': 1, 'seeing': 1, 'but': 1, 'effectually': 1, 'out': 1, 'for': 2, 'it': 5, 'no': 2, 'form': 1, 'delivers': 1, 'the': 8, 'heart': 1, 'of': 4, 'bird': 1, 'flower': 1, 'or': 6, 'shape': 1, 'latch': 1, 'quick': 1, 'objects': 1, 'hath': 1, 'nor': 1, 'own': 1, 'vision': 1, 'holds': 1, 'what': 1, 'catch': 1, 'if': 1, 'see': 1, 'rudst': 1, 'gentlest': 1, 'sight': 1, 'most': 2, 'sweet': 1, 'favour': 1, 'deformedst': 1, 'creature': 1, 'mountain': 1, 'sea': 1, 'day': 1, 'night': 1, 'crow': 1, 'dove': 1, 'shapes': 1, 'them': 1, 'your': 1, 'feature': 1, 'incapable': 1, 'more': 1, 'replete': 1, 'with': 1, 'true': 1, 'thus': 1, 'maketh': 1, 'untrue': 1}, {'or': 2, 'whether': 2, 'doth': 3, 'my': 3, 'mind': 2, 'being': 1, 'crowned': 1, 'with': 2, 'you': 1, 'drink': 1, 'up': 2, 'the': 4, 'monarchs': 1, 'plague': 1, 'this': 2, 'flattery': 2, 'shall': 1, 'i': 1, 'say': 1, 'mine': 3, 'eye': 3, 'saith': 1, 'true': 1, 'and': 5, 'that': 2, 'your': 2, 'love': 1, 'taught': 1, 'it': 4, 'alchemy': 1, 'to': 3, 'make': 1, 'of': 1, 'monsters': 1, 'things': 1, 'indigest': 1, 'such': 1, 'cherubins': 1, 'as': 3, 'sweet': 1, 'self': 1, 'resemble': 1, 'creating': 1, 'every': 1, 'bad': 1, 'a': 1, 'perfect': 1, 'best': 1, 'fast': 1, 'objects': 1, 'his': 3, 'beams': 1, 'assemble': 1, 'o': 1, 'tis': 3, 'first': 2, 'in': 1, 'seeing': 1, 'great': 1, 'most': 1, 'kingly': 1, 'drinks': 1, 'well': 1, 'knows': 1, 'what': 1, 'gust': 1, 'is': 1, 'greeing': 1, 'palate': 1, 'prepare': 1, 'cup': 1, 'if': 1, 'be': 1, 'poisoned': 1, 'lesser': 1, 'sin': 1, 'loves': 1, 'begin': 1}, {'those': 2, 'lines': 1, 'that': 3, 'i': 6, 'before': 1, 'have': 1, 'writ': 1, 'do': 1, 'lie': 1, 'even': 1, 'said': 1, 'could': 1, 'not': 3, 'love': 3, 'you': 2, 'dearer': 1, 'yet': 1, 'then': 3, 'my': 2, 'judgment': 1, 'knew': 1, 'no': 1, 'reason': 1, 'why': 2, 'most': 1, 'full': 2, 'flame': 1, 'should': 1, 'afterwards': 1, 'burn': 1, 'clearer': 1, 'but': 1, 'reckoning': 1, 'time': 1, 'whose': 1, 'millioned': 1, 'accidents': 1, 'creep': 1, 'in': 1, 'twixt': 1, 'vows': 1, 'and': 1, 'change': 1, 'decrees': 1, 'of': 4, 'kings': 1, 'tan': 1, 'sacred': 1, 'beauty': 1, 'blunt': 1, 'the': 4, 'sharpst': 1, 'intents': 1, 'divert': 1, 'strong': 1, 'minds': 1, 'to': 3, 'course': 1, 'altring': 1, 'things': 1, 'alas': 1, 'fearing': 1, 'times': 1, 'tyranny': 1, 'might': 2, 'say': 2, 'now': 1, 'best': 1, 'when': 1, 'was': 1, 'certain': 1, 'oer': 1, 'incertainty': 1, 'crowning': 1, 'present': 1, 'doubting': 1, 'rest': 1, 'is': 1, 'a': 1, 'babe': 1, 'so': 1, 'give': 1, 'growth': 1, 'which': 1, 'still': 1, 'doth': 1, 'grow': 1}, {'let': 1, 'me': 2, 'not': 4, 'to': 4, 'the': 4, 'marriage': 1, 'of': 2, 'true': 1, 'minds': 1, 'admit': 1, 'impediments': 1, 'love': 3, 'is': 4, 'which': 1, 'alters': 2, 'when': 1, 'it': 4, 'alteration': 1, 'finds': 1, 'or': 1, 'bends': 1, 'with': 2, 'remover': 1, 'remove': 1, 'o': 1, 'no': 2, 'an': 1, 'everfixed': 1, 'mark': 1, 'that': 1, 'looks': 1, 'on': 1, 'tempests': 1, 'and': 4, 'never': 2, 'shaken': 1, 'star': 1, 'every': 1, 'wandring': 1, 'bark': 1, 'whose': 1, 'worths': 1, 'unknown': 1, 'although': 1, 'his': 3, 'height': 1, 'be': 2, 'taken': 1, 'loves': 1, 'times': 1, 'fool': 1, 'though': 1, 'rosy': 1, 'lips': 1, 'cheeks': 1, 'within': 1, 'bending': 1, 'sickles': 1, 'compass': 1, 'come': 1, 'brief': 1, 'hours': 1, 'weeks': 1, 'but': 1, 'bears': 1, 'out': 1, 'even': 1, 'edge': 1, 'doom': 1, 'if': 1, 'this': 1, 'error': 1, 'upon': 1, 'proved': 1, 'i': 1, 'writ': 1, 'nor': 1, 'man': 1, 'ever': 1, 'loved': 1}, {'accuse': 1, 'me': 5, 'thus': 1, 'that': 3, 'i': 5, 'have': 3, 'scanted': 1, 'all': 3, 'wherein': 1, 'should': 2, 'your': 7, 'great': 1, 'deserts': 1, 'repay': 1, 'forgot': 1, 'upon': 1, 'dearest': 1, 'love': 2, 'to': 4, 'call': 1, 'whereto': 1, 'bonds': 1, 'do': 1, 'tie': 1, 'day': 2, 'by': 1, 'frequent': 1, 'been': 1, 'with': 1, 'unknown': 1, 'minds': 1, 'and': 4, 'given': 1, 'time': 1, 'own': 1, 'dearpurchased': 1, 'right': 1, 'hoisted': 1, 'sail': 1, 'the': 3, 'winds': 1, 'which': 1, 'transport': 1, 'farthest': 1, 'from': 1, 'sight': 1, 'book': 1, 'both': 1, 'my': 2, 'wilfulness': 1, 'errors': 1, 'down': 1, 'on': 1, 'just': 1, 'proof': 1, 'surmise': 1, 'accumulate': 1, 'bring': 1, 'within': 1, 'level': 1, 'of': 2, 'frown': 1, 'but': 1, 'shoot': 1, 'not': 1, 'at': 1, 'in': 1, 'wakened': 1, 'hate': 1, 'since': 1, 'appeal': 1, 'says': 1, 'did': 1, 'strive': 1, 'prove': 1, 'constancy': 1, 'virtue': 1}, {'like': 1, 'as': 2, 'to': 7, 'make': 1, 'our': 3, 'appetite': 1, 'more': 1, 'keen': 1, 'with': 1, 'eager': 1, 'compounds': 1, 'we': 3, 'palate': 1, 'urge': 1, 'prevent': 1, 'maladies': 1, 'unseen': 1, 'sicken': 1, 'shun': 1, 'sickness': 1, 'when': 1, 'purge': 1, 'even': 1, 'so': 2, 'being': 1, 'full': 1, 'of': 5, 'your': 1, 'neercloying': 1, 'sweetness': 1, 'bitter': 1, 'sauces': 1, 'did': 1, 'i': 2, 'frame': 1, 'my': 1, 'feeding': 1, 'and': 3, 'sick': 2, 'welfare': 1, 'found': 1, 'a': 2, 'kind': 1, 'meetness': 1, 'be': 2, 'diseased': 1, 'ere': 1, 'that': 3, 'there': 1, 'was': 1, 'true': 2, 'needing': 1, 'thus': 1, 'policy': 1, 'in': 1, 'love': 1, 't': 1, 'anticipate': 1, 'the': 2, 'ills': 1, 'were': 1, 'not': 1, 'grew': 1, 'faults': 1, 'assured': 1, 'brought': 1, 'medicine': 1, 'healthful': 1, 'state': 1, 'which': 1, 'rank': 1, 'goodness': 1, 'would': 1, 'by': 1, 'ill': 1, 'cured': 1, 'but': 1, 'thence': 1, 'learn': 1, 'find': 1, 'lesson': 1, 'drugs': 1, 'poison': 1, 'him': 1, 'feil': 1, 'you': 1}, {'what': 2, 'potions': 1, 'have': 3, 'i': 5, 'drunk': 1, 'of': 4, 'siren': 1, 'tears': 1, 'distilled': 1, 'from': 1, 'limbecks': 1, 'foul': 1, 'as': 1, 'hell': 1, 'within': 1, 'applying': 1, 'fears': 2, 'to': 4, 'hopes': 2, 'and': 3, 'still': 2, 'losing': 1, 'when': 2, 'saw': 1, 'my': 3, 'self': 2, 'win': 1, 'wretched': 1, 'errors': 1, 'hath': 2, 'heart': 1, 'committed': 1, 'whilst': 1, 'it': 3, 'thought': 1, 'so': 2, 'blessed': 1, 'never': 1, 'how': 1, 'mine': 1, 'eyes': 1, 'out': 1, 'their': 1, 'spheres': 1, 'been': 1, 'fitted': 1, 'in': 1, 'the': 1, 'distraction': 1, 'this': 1, 'madding': 1, 'fever': 1, 'o': 1, 'benefit': 1, 'ill': 1, 'now': 1, 'find': 1, 'true': 1, 'that': 1, 'better': 2, 'is': 2, 'by': 2, 'evil': 1, 'made': 1, 'ruined': 1, 'love': 1, 'built': 1, 'anew': 1, 'grows': 1, 'fairer': 1, 'than': 2, 'at': 1, 'first': 1, 'more': 2, 'strong': 1, 'far': 1, 'greater': 1, 'return': 1, 'rebuked': 1, 'content': 1, 'gain': 1, 'ills': 1, 'thrice': 1, 'spent': 1}, {'that': 4, 'you': 4, 'were': 3, 'once': 2, 'unkind': 1, 'befriends': 1, 'me': 3, 'now': 2, 'and': 4, 'for': 2, 'sorrow': 2, 'which': 2, 'i': 5, 'then': 2, 'did': 1, 'feel': 1, 'needs': 1, 'must': 2, 'under': 1, 'my': 4, 'transgression': 1, 'bow': 1, 'unless': 1, 'nerves': 1, 'brass': 1, 'or': 1, 'hammered': 1, 'steel': 1, 'if': 1, 'by': 2, 'unkindness': 1, 'shaken': 1, 'as': 2, 'yours': 3, 'yhave': 1, 'passed': 1, 'a': 3, 'hell': 1, 'of': 2, 'time': 1, 'tyrant': 1, 'have': 2, 'no': 1, 'leisure': 1, 'taken': 1, 'to': 3, 'weigh': 1, 'how': 2, 'suffered': 1, 'in': 1, 'your': 2, 'crime': 1, 'o': 1, 'our': 1, 'night': 1, 'woe': 1, 'might': 1, 'remembered': 1, 'deepest': 1, 'sense': 1, 'hard': 1, 'true': 1, 'hits': 1, 'soon': 1, 'tendered': 1, 'the': 1, 'humble': 1, 'salve': 1, 'wounded': 1, 'bosoms': 1, 'fits': 1, 'but': 1, 'trespass': 1, 'becomes': 1, 'fee': 1, 'mine': 1, 'ransoms': 1, 'ransom': 1}, {'tis': 1, 'better': 1, 'to': 3, 'be': 5, 'vile': 2, 'than': 1, 'esteemed': 1, 'when': 1, 'not': 3, 'receives': 1, 'reproach': 1, 'of': 1, 'being': 1, 'and': 3, 'the': 1, 'just': 1, 'pleasure': 1, 'lost': 1, 'which': 2, 'is': 1, 'so': 1, 'deemed': 1, 'by': 3, 'our': 1, 'feeling': 1, 'but': 1, 'others': 2, 'seeing': 1, 'for': 1, 'why': 2, 'should': 1, 'false': 1, 'adulterate': 1, 'eyes': 1, 'give': 1, 'salutation': 1, 'my': 4, 'sportive': 1, 'blood': 1, 'or': 1, 'on': 1, 'frailties': 1, 'are': 2, 'frailer': 1, 'spies': 1, 'in': 2, 'their': 4, 'wills': 1, 'count': 1, 'bad': 2, 'what': 1, 'i': 4, 'think': 1, 'good': 1, 'no': 1, 'am': 2, 'that': 2, 'they': 3, 'level': 1, 'at': 1, 'abuses': 1, 'reckon': 1, 'up': 1, 'own': 1, 'may': 1, 'straight': 1, 'though': 1, 'themselves': 1, 'bevel': 1, 'rank': 1, 'thoughts': 1, 'deeds': 1, 'must': 1, 'shown': 1, 'unless': 1, 'this': 1, 'general': 1, 'evil': 1, 'maintain': 1, 'all': 1, 'men': 1, 'badness': 1, 'reign': 1}, {'thy': 4, 'gift': 1, 'tables': 2, 'are': 1, 'within': 1, 'my': 1, 'brain': 2, 'full': 1, 'charactered': 1, 'with': 1, 'lasting': 1, 'memory': 1, 'which': 1, 'shall': 1, 'above': 1, 'that': 3, 'idle': 1, 'rank': 1, 'remain': 1, 'beyond': 1, 'all': 1, 'date': 1, 'even': 1, 'to': 9, 'eternity': 1, 'or': 1, 'at': 1, 'the': 1, 'least': 1, 'so': 2, 'long': 1, 'as': 1, 'and': 1, 'heart': 1, 'have': 1, 'faculty': 1, 'by': 1, 'nature': 1, 'subsist': 1, 'till': 1, 'each': 1, 'razed': 1, 'oblivion': 1, 'yield': 1, 'his': 1, 'part': 1, 'of': 1, 'thee': 3, 'record': 1, 'never': 1, 'can': 1, 'be': 1, 'missed': 1, 'poor': 1, 'retention': 1, 'could': 1, 'not': 1, 'much': 1, 'hold': 1, 'nor': 1, 'need': 1, 'i': 2, 'tallies': 1, 'dear': 1, 'love': 1, 'score': 1, 'therefore': 1, 'give': 1, 'them': 1, 'from': 1, 'me': 2, 'was': 1, 'bold': 1, 'trust': 1, 'those': 1, 'receive': 1, 'more': 1, 'keep': 1, 'an': 1, 'adjunct': 1, 'remember': 1, 'were': 1, 'import': 1, 'forgetfulness': 1, 'in': 1}, {'no': 1, 'time': 1, 'thou': 2, 'shalt': 1, 'not': 2, 'boast': 1, 'that': 3, 'i': 4, 'do': 2, 'change': 1, 'thy': 5, 'pyramids': 1, 'built': 1, 'up': 1, 'with': 1, 'newer': 1, 'might': 1, 'to': 2, 'me': 1, 'are': 3, 'nothing': 2, 'novel': 1, 'strange': 1, 'they': 1, 'but': 1, 'dressings': 1, 'of': 1, 'a': 1, 'former': 1, 'sight': 1, 'our': 2, 'dates': 1, 'brief': 1, 'and': 6, 'therefore': 1, 'we': 3, 'admire': 1, 'what': 2, 'dost': 1, 'foist': 1, 'upon': 1, 'us': 1, 'is': 1, 'old': 1, 'rather': 1, 'make': 1, 'them': 2, 'born': 1, 'desire': 1, 'than': 1, 'think': 1, 'before': 1, 'have': 1, 'heard': 1, 'told': 1, 'registers': 1, 'thee': 2, 'both': 1, 'defy': 1, 'wondring': 1, 'at': 1, 'the': 2, 'present': 1, 'nor': 1, 'past': 1, 'for': 1, 'records': 1, 'see': 1, 'doth': 1, 'lie': 1, 'made': 1, 'more': 1, 'or': 1, 'less': 1, 'by': 1, 'continual': 1, 'haste': 1, 'this': 2, 'vow': 1, 'shall': 1, 'ever': 1, 'be': 2, 'will': 1, 'true': 1, 'despite': 1, 'scythe': 1}, {'if': 1, 'my': 1, 'dear': 1, 'love': 2, 'were': 1, 'but': 2, 'the': 3, 'child': 1, 'of': 4, 'state': 1, 'it': 5, 'might': 1, 'for': 3, 'fortunes': 1, 'bastard': 1, 'be': 1, 'unfathered': 1, 'as': 1, 'subject': 1, 'to': 3, 'times': 2, 'or': 2, 'hate': 1, 'weeds': 2, 'among': 1, 'flowers': 2, 'with': 3, 'gathered': 1, 'no': 1, 'was': 1, 'builded': 1, 'far': 1, 'from': 1, 'accident': 1, 'suffers': 1, 'not': 2, 'in': 1, 'smiling': 1, 'pomp': 1, 'nor': 3, 'falls': 1, 'under': 1, 'blow': 1, 'thralled': 1, 'discontent': 1, 'whereto': 1, 'th': 1, 'inviting': 1, 'time': 2, 'our': 1, 'fashion': 1, 'calls': 1, 'fears': 1, 'policy': 1, 'that': 2, 'heretic': 1, 'which': 2, 'works': 1, 'on': 1, 'leases': 1, 'shortnumbered': 1, 'hours': 1, 'all': 1, 'alone': 1, 'stands': 1, 'hugely': 1, 'politic': 1, 'grows': 1, 'heat': 1, 'drowns': 1, 'showers': 1, 'this': 1, 'i': 1, 'witness': 1, 'call': 1, 'fools': 1, 'die': 1, 'goodness': 1, 'who': 1, 'have': 1, 'lived': 1, 'crime': 1}, {'weret': 1, 'aught': 1, 'to': 1, 'me': 3, 'i': 2, 'bore': 1, 'the': 2, 'canopy': 1, 'with': 2, 'my': 2, 'extern': 1, 'outward': 1, 'honouring': 1, 'or': 2, 'laid': 1, 'great': 1, 'bases': 1, 'for': 3, 'eternity': 1, 'which': 2, 'proves': 1, 'more': 2, 'short': 1, 'than': 1, 'waste': 1, 'ruining': 1, 'have': 1, 'not': 2, 'seen': 1, 'dwellers': 1, 'on': 1, 'form': 1, 'and': 3, 'favour': 1, 'lose': 1, 'all': 1, 'by': 1, 'paying': 1, 'too': 1, 'much': 1, 'rent': 1, 'compound': 1, 'sweet': 1, 'forgoing': 1, 'simple': 1, 'savour': 1, 'pitiful': 1, 'thrivers': 1, 'in': 3, 'their': 1, 'gazing': 1, 'spent': 1, 'no': 2, 'let': 1, 'be': 1, 'obsequious': 1, 'thy': 2, 'heart': 1, 'take': 1, 'thou': 2, 'oblation': 1, 'poor': 1, 'but': 2, 'free': 1, 'is': 1, 'mixed': 1, 'seconds': 1, 'knows': 1, 'art': 1, 'mutual': 1, 'render': 1, 'only': 1, 'thee': 1, 'hence': 1, 'suborned': 1, 'informer': 1, 'a': 1, 'true': 1, 'soul': 1, 'when': 1, 'most': 1, 'impeached': 1, 'stands': 1, 'least': 1, 'control': 1}, {'o': 2, 'thou': 3, 'my': 1, 'lovely': 1, 'boy': 1, 'who': 2, 'in': 1, 'thy': 3, 'power': 1, 'dost': 1, 'hold': 1, 'times': 1, 'fickle': 2, 'glass': 1, 'his': 1, 'hour': 1, 'hast': 1, 'by': 1, 'waning': 1, 'grown': 1, 'and': 3, 'therein': 1, 'showst': 1, 'lovers': 1, 'withering': 1, 'as': 2, 'sweet': 1, 'self': 1, 'growst': 1, 'if': 1, 'nature': 1, 'sovereign': 1, 'mistress': 1, 'over': 1, 'wrack': 1, 'goest': 1, 'onwards': 1, 'still': 2, 'will': 1, 'pluck': 1, 'thee': 3, 'back': 1, 'she': 2, 'keeps': 1, 'to': 2, 'this': 1, 'purpose': 1, 'that': 1, 'her': 6, 'skill': 1, 'may': 2, 'time': 1, 'disgrace': 1, 'wretched': 1, 'minutes': 1, 'kill': 1, 'yet': 1, 'fear': 1, 'minion': 1, 'of': 1, 'pleasure': 1, 'detain': 1, 'but': 1, 'not': 1, 'keep': 1, 'treasure': 1, 'audit': 1, 'though': 1, 'delayed': 1, 'answered': 1, 'must': 1, 'be': 1, 'quietus': 1, 'is': 1, 'render': 1}, {'in': 2, 'the': 2, 'old': 1, 'age': 1, 'black': 3, 'was': 1, 'not': 4, 'counted': 1, 'fair': 2, 'or': 1, 'if': 2, 'it': 2, 'were': 1, 'bore': 1, 'beautys': 2, 'name': 2, 'but': 2, 'now': 1, 'is': 2, 'successive': 1, 'heir': 1, 'and': 2, 'beauty': 4, 'slandered': 1, 'with': 3, 'a': 2, 'bastard': 1, 'shame': 1, 'for': 1, 'since': 1, 'each': 1, 'hand': 1, 'hath': 2, 'put': 1, 'on': 1, 'natures': 1, 'power': 1, 'fairing': 1, 'foul': 1, 'arts': 1, 'false': 2, 'borrowed': 1, 'face': 1, 'sweet': 1, 'no': 3, 'holy': 1, 'bower': 1, 'profaned': 1, 'lives': 1, 'disgrace': 1, 'therefore': 1, 'my': 1, 'mistress': 1, 'eyes': 2, 'are': 1, 'raven': 1, 'her': 1, 'so': 3, 'suited': 1, 'they': 2, 'mourners': 1, 'seem': 1, 'at': 1, 'such': 1, 'who': 1, 'born': 1, 'lack': 1, 'slandering': 1, 'creation': 1, 'esteem': 1, 'yet': 1, 'mourn': 1, 'becoming': 1, 'of': 1, 'their': 1, 'woe': 1, 'that': 1, 'every': 1, 'tongue': 1, 'says': 1, 'should': 1, 'look': 1}, {'how': 1, 'oft': 1, 'when': 2, 'thou': 2, 'my': 2, 'music': 2, 'playst': 1, 'upon': 1, 'that': 4, 'blessed': 1, 'wood': 2, 'whose': 1, 'motion': 1, 'sounds': 1, 'with': 3, 'thy': 5, 'sweet': 1, 'fingers': 3, 'gently': 1, 'swayst': 1, 'the': 3, 'wiry': 1, 'concord': 1, 'mine': 1, 'ear': 1, 'confounds': 1, 'do': 1, 'i': 1, 'envy': 1, 'those': 2, 'jacks': 2, 'nimble': 1, 'leap': 1, 'to': 3, 'kiss': 2, 'tender': 1, 'inward': 1, 'of': 1, 'hand': 1, 'whilst': 1, 'poor': 1, 'lips': 3, 'which': 1, 'should': 1, 'harvest': 1, 'reap': 1, 'at': 1, 'woods': 1, 'boldness': 1, 'by': 1, 'thee': 1, 'blushing': 1, 'stand': 1, 'be': 1, 'so': 2, 'tickled': 1, 'they': 1, 'would': 1, 'change': 1, 'their': 1, 'state': 1, 'and': 1, 'situation': 1, 'dancing': 1, 'chips': 1, 'oer': 1, 'whom': 1, 'walk': 1, 'gentle': 1, 'gait': 1, 'making': 1, 'dead': 1, 'more': 1, 'blest': 1, 'than': 1, 'living': 1, 'since': 1, 'saucy': 1, 'happy': 1, 'are': 1, 'in': 1, 'this': 1, 'give': 1, 'them': 1, 'me': 1}, {'th': 1, 'expense': 1, 'of': 3, 'spirit': 1, 'in': 6, 'a': 6, 'waste': 1, 'shame': 1, 'is': 2, 'lust': 2, 'action': 2, 'and': 5, 'till': 1, 'perjured': 1, 'murdrous': 1, 'bloody': 1, 'full': 1, 'blame': 1, 'savage': 1, 'extreme': 2, 'rude': 1, 'cruel': 1, 'not': 1, 'to': 5, 'trust': 1, 'enjoyed': 1, 'no': 2, 'sooner': 2, 'but': 1, 'despised': 1, 'straight': 1, 'past': 2, 'reason': 2, 'hunted': 1, 'had': 2, 'hated': 1, 'as': 1, 'swallowed': 1, 'bait': 1, 'on': 1, 'purpose': 1, 'laid': 1, 'make': 1, 'the': 3, 'taker': 1, 'mad': 2, 'pursuit': 1, 'possession': 1, 'so': 1, 'having': 1, 'quest': 1, 'have': 1, 'bliss': 1, 'proof': 1, 'proved': 1, 'very': 1, 'woe': 1, 'before': 1, 'joy': 1, 'proposed': 1, 'behind': 1, 'dream': 1, 'all': 1, 'this': 2, 'world': 1, 'well': 2, 'knows': 2, 'yet': 1, 'none': 1, 'shun': 1, 'heaven': 1, 'that': 1, 'leads': 1, 'men': 1, 'hell': 1}, {'my': 4, 'mistress': 3, 'eyes': 1, 'are': 2, 'nothing': 1, 'like': 1, 'the': 3, 'sun': 1, 'coral': 1, 'is': 2, 'far': 2, 'more': 3, 'red': 3, 'than': 2, 'her': 5, 'lips': 1, 'if': 2, 'snow': 1, 'be': 2, 'white': 2, 'why': 1, 'then': 1, 'breasts': 1, 'dun': 1, 'hairs': 1, 'wires': 2, 'black': 1, 'grow': 1, 'on': 2, 'head': 1, 'i': 7, 'have': 1, 'seen': 1, 'roses': 2, 'damasked': 1, 'and': 3, 'but': 1, 'no': 1, 'such': 1, 'see': 1, 'in': 3, 'cheeks': 1, 'some': 1, 'perfumes': 1, 'there': 1, 'delight': 1, 'breath': 1, 'that': 2, 'from': 1, 'reeks': 1, 'love': 2, 'to': 1, 'hear': 1, 'speak': 1, 'yet': 2, 'well': 1, 'know': 1, 'music': 1, 'hath': 1, 'a': 2, 'pleasing': 1, 'sound': 1, 'grant': 1, 'never': 1, 'saw': 1, 'goddess': 1, 'go': 1, 'when': 1, 'she': 2, 'walks': 1, 'treads': 1, 'ground': 1, 'by': 1, 'heaven': 1, 'think': 1, 'as': 2, 'rare': 1, 'any': 1, 'belied': 1, 'with': 1, 'false': 1, 'compare': 1}, {'thou': 5, 'art': 4, 'as': 4, 'tyrannous': 1, 'so': 2, 'those': 1, 'whose': 1, 'beauties': 1, 'proudly': 1, 'make': 2, 'them': 1, 'cruel': 1, 'for': 1, 'well': 1, 'knowst': 1, 'to': 5, 'my': 3, 'dear': 1, 'doting': 1, 'heart': 1, 'the': 2, 'fairest': 2, 'and': 3, 'most': 1, 'precious': 1, 'jewel': 1, 'yet': 1, 'in': 4, 'good': 1, 'faith': 1, 'some': 1, 'say': 2, 'that': 2, 'thee': 1, 'behold': 1, 'thy': 4, 'face': 2, 'hath': 1, 'not': 3, 'power': 1, 'love': 1, 'groan': 1, 'they': 1, 'err': 1, 'i': 4, 'dare': 1, 'be': 2, 'bold': 1, 'although': 1, 'swear': 2, 'it': 1, 'self': 1, 'alone': 1, 'sure': 1, 'is': 2, 'false': 1, 'a': 1, 'thousand': 1, 'groans': 1, 'but': 1, 'thinking': 1, 'on': 2, 'one': 1, 'anothers': 1, 'neck': 1, 'do': 1, 'witness': 1, 'bear': 1, 'black': 2, 'judgments': 1, 'place': 1, 'nothing': 1, 'save': 1, 'deeds': 1, 'thence': 1, 'this': 1, 'slander': 1, 'think': 1, 'proceeds': 1}, {'thine': 1, 'eyes': 2, 'i': 2, 'love': 1, 'and': 5, 'they': 2, 'as': 3, 'pitying': 1, 'me': 3, 'knowing': 1, 'thy': 5, 'heart': 2, 'torment': 1, 'with': 2, 'disdain': 1, 'have': 1, 'put': 1, 'on': 1, 'black': 2, 'loving': 1, 'mourners': 1, 'be': 1, 'looking': 1, 'pretty': 1, 'ruth': 1, 'upon': 1, 'my': 1, 'pain': 1, 'truly': 1, 'not': 1, 'the': 5, 'morning': 1, 'sun': 1, 'of': 2, 'heaven': 1, 'better': 1, 'becomes': 1, 'grey': 1, 'cheeks': 1, 'east': 1, 'nor': 1, 'that': 4, 'full': 1, 'star': 1, 'ushers': 1, 'in': 2, 'even': 1, 'doth': 2, 'half': 1, 'glory': 1, 'to': 2, 'sober': 1, 'west': 1, 'those': 1, 'two': 1, 'mourning': 2, 'become': 1, 'face': 1, 'o': 1, 'let': 1, 'it': 1, 'then': 2, 'well': 1, 'beseem': 1, 'mourn': 1, 'for': 1, 'since': 1, 'thee': 1, 'grace': 1, 'suit': 1, 'pity': 1, 'like': 1, 'every': 1, 'part': 1, 'will': 1, 'swear': 1, 'beauty': 1, 'herself': 1, 'is': 1, 'all': 1, 'foul': 1, 'complexion': 1, 'lack': 1}, {'beshrew': 1, 'that': 4, 'heart': 6, 'makes': 1, 'my': 11, 'to': 4, 'groan': 1, 'for': 2, 'deep': 1, 'wound': 1, 'it': 1, 'gives': 1, 'friend': 2, 'and': 5, 'me': 5, 'ist': 1, 'not': 2, 'enough': 1, 'torture': 1, 'alone': 1, 'but': 2, 'slave': 1, 'slavery': 1, 'sweetst': 1, 'must': 1, 'be': 3, 'from': 1, 'self': 3, 'thy': 2, 'cruel': 1, 'eye': 1, 'hath': 1, 'taken': 1, 'next': 1, 'thou': 3, 'harder': 1, 'hast': 1, 'engrossed': 1, 'of': 1, 'him': 1, 'thee': 2, 'i': 2, 'am': 2, 'forsaken': 1, 'a': 1, 'torment': 1, 'thrice': 1, 'threefold': 1, 'thus': 1, 'crossed': 1, 'prison': 1, 'in': 4, 'steel': 1, 'bosoms': 1, 'ward': 1, 'then': 2, 'friends': 1, 'let': 2, 'poor': 1, 'bail': 1, 'whoeer': 1, 'keeps': 1, 'his': 1, 'guard': 1, 'canst': 1, 'use': 1, 'rigour': 1, 'gaol': 1, 'yet': 1, 'wilt': 1, 'being': 1, 'pent': 1, 'perforce': 1, 'thine': 1, 'all': 1, 'is': 1}, {'so': 3, 'now': 1, 'i': 5, 'have': 2, 'confessed': 1, 'that': 5, 'he': 5, 'is': 2, 'thine': 1, 'and': 5, 'my': 5, 'self': 2, 'am': 2, 'mortgaged': 1, 'to': 4, 'thy': 2, 'will': 2, 'ill': 1, 'forfeit': 1, 'other': 1, 'mine': 1, 'thou': 6, 'wilt': 3, 'restore': 1, 'be': 2, 'comfort': 1, 'still': 1, 'but': 2, 'not': 3, 'nor': 1, 'free': 2, 'for': 3, 'art': 1, 'covetous': 1, 'kind': 1, 'learned': 1, 'suretylike': 1, 'write': 1, 'me': 2, 'under': 1, 'bond': 1, 'him': 4, 'as': 1, 'fist': 1, 'doth': 1, 'bind': 1, 'the': 2, 'statute': 1, 'of': 1, 'beauty': 1, 'take': 1, 'usurer': 1, 'putst': 1, 'forth': 1, 'all': 1, 'use': 1, 'sue': 1, 'a': 1, 'friend': 1, 'came': 1, 'debtor': 1, 'sake': 1, 'lose': 1, 'through': 1, 'unkind': 1, 'abuse': 1, 'lost': 1, 'hast': 1, 'both': 1, 'pays': 1, 'whole': 1, 'yet': 1}, {'whoever': 1, 'hath': 1, 'her': 1, 'wish': 1, 'thou': 3, 'hast': 1, 'thy': 4, 'will': 13, 'and': 6, 'to': 6, 'boot': 1, 'in': 7, 'overplus': 1, 'more': 2, 'than': 1, 'enough': 1, 'am': 1, 'i': 1, 'that': 2, 'vex': 1, 'thee': 1, 'still': 2, 'sweet': 1, 'making': 1, 'addition': 1, 'thus': 1, 'wilt': 1, 'whose': 1, 'is': 1, 'large': 2, 'spacious': 1, 'not': 1, 'once': 1, 'vouchsafe': 1, 'hide': 1, 'my': 2, 'thine': 1, 'shall': 1, 'others': 1, 'seem': 1, 'right': 1, 'gracious': 1, 'no': 3, 'fair': 2, 'acceptance': 1, 'shine': 1, 'the': 1, 'sea': 1, 'all': 2, 'water': 1, 'yet': 1, 'receives': 1, 'rain': 1, 'abundance': 1, 'addeth': 1, 'his': 1, 'store': 1, 'so': 1, 'being': 1, 'rich': 1, 'add': 1, 'one': 3, 'of': 1, 'mine': 1, 'make': 1, 'let': 1, 'unkind': 1, 'beseechers': 1, 'kill': 1, 'think': 1, 'but': 1, 'me': 1}, {'if': 1, 'thy': 7, 'soul': 3, 'check': 1, 'thee': 3, 'that': 4, 'i': 3, 'come': 1, 'so': 2, 'near': 1, 'swear': 1, 'to': 2, 'blind': 1, 'was': 1, 'will': 6, 'and': 4, 'knows': 1, 'is': 3, 'admitted': 1, 'there': 1, 'thus': 1, 'far': 1, 'for': 3, 'love': 4, 'my': 4, 'lovesuit': 1, 'sweet': 2, 'fulfil': 2, 'the': 2, 'treasure': 1, 'of': 2, 'ay': 1, 'fill': 1, 'it': 2, 'full': 1, 'with': 2, 'wills': 1, 'one': 3, 'in': 3, 'things': 1, 'great': 1, 'receipt': 1, 'case': 1, 'we': 1, 'prove': 1, 'among': 1, 'a': 2, 'number': 2, 'reckoned': 1, 'none': 1, 'then': 2, 'let': 1, 'me': 4, 'pass': 1, 'untold': 1, 'though': 1, 'stores': 1, 'account': 1, 'must': 1, 'be': 1, 'nothing': 2, 'hold': 2, 'please': 1, 'something': 1, 'make': 1, 'but': 1, 'name': 2, 'still': 1, 'thou': 1, 'lovst': 1}, {'thou': 3, 'blind': 1, 'fool': 1, 'love': 1, 'what': 4, 'dost': 1, 'to': 4, 'mine': 2, 'eyes': 5, 'that': 2, 'they': 4, 'behold': 1, 'and': 3, 'see': 3, 'not': 2, 'know': 1, 'beauty': 1, 'is': 4, 'where': 2, 'it': 1, 'lies': 1, 'yet': 1, 'the': 5, 'best': 1, 'take': 1, 'worst': 1, 'be': 2, 'if': 1, 'corrupt': 1, 'by': 1, 'overpartial': 1, 'looks': 1, 'anchored': 1, 'in': 2, 'bay': 1, 'all': 1, 'men': 1, 'ride': 1, 'why': 2, 'of': 2, 'falsehood': 1, 'hast': 1, 'forged': 1, 'hooks': 1, 'whereto': 1, 'judgment': 1, 'my': 4, 'heart': 4, 'tied': 1, 'should': 1, 'think': 1, 'a': 2, 'several': 1, 'plot': 1, 'which': 1, 'knows': 1, 'wide': 1, 'worlds': 1, 'common': 1, 'place': 1, 'or': 1, 'seeing': 1, 'this': 3, 'say': 1, 'put': 1, 'fair': 1, 'truth': 1, 'upon': 1, 'so': 1, 'foul': 1, 'face': 1, 'things': 1, 'right': 1, 'true': 1, 'have': 1, 'erred': 1, 'false': 1, 'plague': 1, 'are': 1, 'now': 1, 'transferred': 1}, {'when': 1, 'my': 2, 'love': 2, 'swears': 1, 'that': 4, 'she': 8, 'is': 4, 'made': 1, 'of': 1, 'truth': 2, 'i': 6, 'do': 1, 'believe': 1, 'her': 3, 'though': 1, 'know': 1, 'lies': 2, 'might': 1, 'think': 1, 'me': 3, 'some': 1, 'untutored': 1, 'youth': 1, 'unlearned': 1, 'in': 4, 'the': 2, 'worlds': 1, 'false': 1, 'subtleties': 1, 'thus': 2, 'vainly': 1, 'thinking': 1, 'thinks': 1, 'young': 1, 'although': 1, 'knows': 1, 'days': 1, 'are': 1, 'past': 1, 'best': 2, 'simply': 1, 'credit': 1, 'falsespeaking': 1, 'tongue': 1, 'on': 1, 'both': 1, 'sides': 1, 'simple': 1, 'suppressed': 1, 'but': 1, 'wherefore': 2, 'says': 1, 'not': 3, 'unjust': 1, 'and': 4, 'say': 1, 'am': 1, 'old': 1, 'o': 1, 'loves': 2, 'habit': 1, 'seeming': 1, 'trust': 1, 'age': 1, 'to': 1, 'have': 1, 'years': 1, 'told': 1, 'therefore': 1, 'lie': 1, 'with': 2, 'our': 1, 'faults': 1, 'by': 1, 'we': 1, 'flattered': 1, 'be': 1}, {'o': 1, 'call': 1, 'not': 4, 'me': 6, 'to': 2, 'justify': 1, 'the': 1, 'wrong': 1, 'that': 2, 'thy': 3, 'unkindness': 1, 'lays': 1, 'upon': 1, 'my': 7, 'heart': 2, 'wound': 2, 'with': 5, 'thine': 2, 'eye': 2, 'but': 3, 'tongue': 1, 'use': 1, 'power': 2, 'and': 3, 'slay': 1, 'by': 1, 'art': 1, 'tell': 1, 'thou': 2, 'lovst': 1, 'elsewhere': 2, 'in': 1, 'sight': 1, 'dear': 1, 'forbear': 1, 'glance': 1, 'aside': 1, 'what': 1, 'needst': 1, 'cunning': 1, 'when': 1, 'might': 2, 'is': 1, 'more': 1, 'than': 1, 'oerpressed': 1, 'defence': 1, 'can': 1, 'bide': 1, 'let': 1, 'excuse': 1, 'thee': 1, 'ah': 1, 'love': 1, 'well': 1, 'knows': 1, 'her': 1, 'pretty': 1, 'looks': 2, 'have': 1, 'been': 1, 'mine': 1, 'enemies': 1, 'therefore': 1, 'from': 1, 'face': 1, 'she': 1, 'turns': 1, 'foes': 1, 'they': 1, 'dart': 1, 'their': 1, 'injuries': 1, 'yet': 1, 'do': 1, 'so': 1, 'since': 1, 'i': 1, 'am': 1, 'near': 1, 'slain': 1, 'kill': 1, 'outright': 1, 'rid': 1, 'pain': 1}, {'be': 4, 'wise': 1, 'as': 2, 'thou': 2, 'art': 1, 'cruel': 1, 'do': 1, 'not': 3, 'press': 1, 'my': 3, 'tonguetied': 1, 'patience': 1, 'with': 1, 'too': 1, 'much': 1, 'disdain': 1, 'lest': 1, 'sorrow': 1, 'lend': 1, 'me': 2, 'words': 2, 'and': 2, 'express': 1, 'the': 1, 'manner': 1, 'of': 2, 'pitywanting': 1, 'pain': 1, 'if': 2, 'i': 4, 'might': 2, 'teach': 1, 'thee': 2, 'wit': 1, 'better': 1, 'it': 1, 'were': 1, 'though': 2, 'to': 2, 'love': 2, 'yet': 1, 'tell': 1, 'so': 3, 'testy': 1, 'sick': 1, 'men': 1, 'when': 1, 'their': 2, 'deaths': 1, 'near': 1, 'no': 1, 'news': 1, 'but': 1, 'health': 1, 'from': 1, 'physicians': 1, 'know': 1, 'for': 1, 'should': 2, 'despair': 1, 'grow': 1, 'mad': 3, 'in': 1, 'madness': 1, 'speak': 1, 'ill': 1, 'now': 1, 'this': 1, 'illwresting': 1, 'world': 1, 'is': 1, 'grown': 1, 'bad': 1, 'slanderers': 1, 'by': 1, 'ears': 1, 'believed': 1, 'that': 1, 'may': 1, 'nor': 1, 'belied': 1, 'bear': 1, 'thine': 1, 'eyes': 1, 'straight': 1, 'thy': 1, 'proud': 1, 'heart': 1, 'go': 1, 'wide': 1}, {'in': 3, 'faith': 1, 'i': 2, 'do': 1, 'not': 1, 'love': 1, 'thee': 4, 'with': 3, 'mine': 2, 'eyes': 1, 'for': 1, 'they': 2, 'a': 2, 'thousand': 1, 'errors': 1, 'note': 1, 'but': 2, 'tis': 1, 'my': 5, 'heart': 2, 'that': 3, 'loves': 1, 'what': 1, 'despise': 1, 'who': 2, 'despite': 1, 'of': 2, 'view': 1, 'is': 1, 'pleased': 1, 'to': 5, 'dote': 1, 'nor': 5, 'are': 1, 'cars': 1, 'thy': 2, 'tongues': 1, 'tune': 1, 'delighted': 1, 'tender': 1, 'feeling': 1, 'base': 1, 'touches': 1, 'prone': 1, 'taste': 1, 'smell': 1, 'desire': 1, 'be': 2, 'invited': 1, 'any': 1, 'sensual': 1, 'feast': 1, 'alone': 1, 'five': 2, 'wits': 1, 'senses': 1, 'can': 1, 'dissuade': 1, 'one': 1, 'foolish': 1, 'from': 1, 'serving': 1, 'leaves': 1, 'unswayed': 1, 'the': 1, 'likeness': 1, 'man': 1, 'proud': 1, 'hearts': 1, 'slave': 1, 'and': 1, 'vassal': 1, 'wretch': 1, 'only': 1, 'plague': 1, 'thus': 1, 'far': 1, 'count': 1, 'gain': 1, 'she': 1, 'makes': 1, 'me': 2, 'sin': 1, 'awards': 1, 'pain': 1}, {'love': 3, 'is': 1, 'my': 2, 'sin': 2, 'and': 3, 'thy': 3, 'dear': 1, 'virtue': 1, 'hate': 2, 'of': 4, 'grounded': 1, 'on': 1, 'sinful': 1, 'loving': 1, 'o': 1, 'but': 1, 'with': 1, 'mine': 3, 'compare': 1, 'thou': 6, 'thine': 3, 'own': 1, 'state': 1, 'shalt': 1, 'find': 1, 'it': 4, 'merits': 1, 'not': 2, 'reproving': 1, 'or': 1, 'if': 2, 'do': 1, 'from': 1, 'those': 2, 'lips': 1, 'that': 2, 'have': 2, 'profaned': 1, 'their': 2, 'scarlet': 1, 'ornaments': 1, 'sealed': 1, 'false': 1, 'bonds': 1, 'as': 4, 'oft': 1, 'robbed': 1, 'others': 1, 'beds': 1, 'revenues': 1, 'rents': 1, 'be': 3, 'lawful': 1, 'i': 1, 'thee': 2, 'lovst': 1, 'whom': 1, 'eyes': 1, 'woo': 1, 'importune': 1, 'root': 1, 'pity': 2, 'in': 1, 'heart': 1, 'when': 1, 'grows': 1, 'may': 1, 'deserve': 1, 'to': 2, 'pitied': 1, 'dost': 2, 'seek': 1, 'what': 1, 'hide': 1, 'by': 1, 'selfexample': 1, 'mayst': 1, 'denied': 1}, {'lo': 1, 'as': 1, 'a': 1, 'careful': 1, 'huswife': 1, 'runs': 1, 'to': 4, 'catch': 3, 'one': 1, 'of': 2, 'her': 7, 'feathered': 1, 'creatures': 1, 'broke': 1, 'away': 1, 'sets': 1, 'down': 1, 'babe': 2, 'and': 3, 'makes': 1, 'all': 1, 'swift': 1, 'dispatch': 1, 'in': 2, 'pursuit': 1, 'the': 2, 'thing': 1, 'she': 1, 'would': 1, 'have': 2, 'stay': 1, 'whilst': 2, 'neglected': 1, 'child': 1, 'holds': 1, 'chase': 2, 'cries': 1, 'whose': 1, 'busy': 1, 'care': 1, 'is': 1, 'bent': 1, 'follow': 1, 'that': 3, 'which': 2, 'flies': 2, 'before': 1, 'face': 1, 'not': 1, 'prizing': 1, 'poor': 1, 'infants': 1, 'discontent': 1, 'so': 2, 'runst': 1, 'thou': 4, 'after': 1, 'from': 1, 'thee': 2, 'i': 2, 'thy': 3, 'afar': 1, 'behind': 1, 'but': 1, 'if': 2, 'hope': 1, 'turn': 2, 'back': 2, 'me': 2, 'play': 1, 'mothers': 1, 'part': 1, 'kiss': 1, 'be': 1, 'kind': 1, 'will': 2, 'pray': 1, 'mayst': 1, 'my': 1, 'loud': 1, 'crying': 1, 'still': 1}, {'two': 2, 'loves': 1, 'i': 4, 'have': 1, 'of': 1, 'comfort': 1, 'and': 3, 'despair': 1, 'which': 1, 'like': 1, 'spirits': 1, 'do': 1, 'suggest': 1, 'me': 3, 'still': 1, 'the': 2, 'better': 2, 'angel': 5, 'is': 1, 'a': 3, 'man': 1, 'right': 1, 'fair': 1, 'worser': 1, 'spirit': 1, 'woman': 1, 'coloured': 1, 'ill': 1, 'to': 4, 'win': 1, 'soon': 1, 'hell': 2, 'my': 7, 'female': 1, 'evil': 1, 'tempteth': 1, 'from': 2, 'side': 1, 'would': 1, 'corrupt': 1, 'saint': 1, 'be': 2, 'devil': 1, 'wooing': 1, 'his': 1, 'purity': 1, 'with': 1, 'her': 1, 'foul': 1, 'pride': 1, 'whether': 1, 'that': 1, 'turned': 1, 'fiend': 1, 'suspect': 1, 'may': 1, 'yet': 2, 'not': 1, 'directly': 1, 'tell': 1, 'but': 2, 'being': 1, 'both': 2, 'each': 1, 'friend': 1, 'guess': 1, 'one': 2, 'in': 2, 'anothers': 1, 'this': 1, 'shall': 1, 'neer': 1, 'know': 1, 'live': 1, 'doubt': 1, 'till': 1, 'bad': 1, 'fire': 1, 'good': 1, 'out': 1}, {'those': 1, 'lips': 1, 'that': 6, 'loves': 1, 'own': 1, 'hand': 1, 'did': 2, 'make': 1, 'breathed': 1, 'forth': 1, 'the': 1, 'sound': 1, 'said': 1, 'i': 3, 'hate': 4, 'to': 3, 'me': 1, 'languished': 1, 'for': 1, 'her': 2, 'sake': 1, 'but': 1, 'when': 1, 'she': 3, 'saw': 1, 'my': 2, 'woeful': 1, 'state': 1, 'straight': 1, 'in': 2, 'heart': 1, 'mercy': 1, 'come': 1, 'chiding': 1, 'tongue': 1, 'ever': 1, 'sweet': 1, 'was': 1, 'used': 1, 'giving': 1, 'gentle': 2, 'doom': 1, 'and': 2, 'taught': 1, 'it': 2, 'thus': 1, 'anew': 1, 'greet': 1, 'altered': 1, 'with': 1, 'an': 1, 'end': 1, 'followed': 1, 'as': 1, 'day': 1, 'doth': 1, 'follow': 1, 'night': 1, 'who': 1, 'like': 1, 'a': 1, 'fiend': 1, 'from': 2, 'heaven': 1, 'hell': 1, 'is': 1, 'flown': 1, 'away': 2, 'threw': 1, 'saved': 1, 'life': 1, 'saying': 1, 'not': 1, 'you': 1}, {'poor': 1, 'soul': 2, 'the': 1, 'centre': 1, 'of': 3, 'my': 2, 'sinful': 2, 'earth': 2, 'these': 1, 'rebel': 1, 'powers': 1, 'array': 1, 'why': 2, 'dost': 2, 'thou': 4, 'pine': 2, 'within': 2, 'and': 3, 'suffer': 1, 'dearth': 1, 'painting': 1, 'thy': 6, 'outward': 1, 'walls': 1, 'so': 4, 'costly': 1, 'gay': 1, 'large': 1, 'cost': 1, 'having': 1, 'short': 1, 'a': 1, 'lease': 1, 'upon': 2, 'fading': 1, 'mansion': 1, 'spend': 1, 'shall': 2, 'worms': 1, 'inheritors': 1, 'this': 2, 'excess': 1, 'eat': 1, 'up': 1, 'charge': 1, 'is': 1, 'bodys': 1, 'end': 1, 'then': 2, 'live': 1, 'servants': 1, 'loss': 1, 'let': 1, 'that': 2, 'to': 1, 'aggravate': 1, 'store': 1, 'buy': 1, 'terms': 1, 'divine': 1, 'in': 1, 'selling': 1, 'hours': 1, 'dross': 1, 'be': 2, 'fed': 1, 'without': 1, 'rich': 1, 'no': 2, 'more': 2, 'feed': 1, 'on': 2, 'death': 2, 'feeds': 1, 'men': 1, 'once': 1, 'dead': 1, 'theres': 1, 'dying': 1}, {'my': 5, 'love': 2, 'is': 3, 'as': 6, 'a': 1, 'fever': 1, 'longing': 1, 'still': 1, 'for': 2, 'that': 3, 'which': 3, 'longer': 1, 'nurseth': 1, 'the': 4, 'disease': 1, 'feeding': 1, 'on': 1, 'doth': 1, 'preserve': 1, 'ill': 1, 'th': 1, 'uncertain': 1, 'sickly': 1, 'appetite': 1, 'to': 2, 'please': 1, 'reason': 2, 'physician': 1, 'angry': 1, 'his': 1, 'prescriptions': 1, 'are': 2, 'not': 1, 'kept': 1, 'hath': 1, 'left': 1, 'me': 1, 'and': 4, 'i': 3, 'desperate': 1, 'now': 2, 'approve': 1, 'desire': 1, 'death': 1, 'physic': 1, 'did': 1, 'except': 1, 'past': 2, 'cure': 1, 'am': 1, 'care': 1, 'franticmad': 1, 'with': 1, 'evermore': 1, 'unrest': 1, 'thoughts': 1, 'discourse': 1, 'mad': 1, 'mens': 1, 'at': 1, 'random': 1, 'from': 1, 'truth': 1, 'vainly': 1, 'expressed': 1, 'have': 1, 'sworn': 1, 'thee': 2, 'fair': 1, 'thought': 1, 'bright': 1, 'who': 1, 'art': 1, 'black': 1, 'hell': 1, 'dark': 1, 'night': 1}, {'o': 3, 'me': 2, 'what': 3, 'eyes': 3, 'hath': 1, 'love': 3, 'put': 1, 'in': 1, 'my': 4, 'head': 1, 'which': 1, 'have': 2, 'no': 3, 'correspondence': 1, 'with': 4, 'true': 3, 'sight': 1, 'or': 1, 'if': 3, 'they': 2, 'where': 1, 'is': 4, 'judgment': 1, 'fled': 1, 'that': 3, 'censures': 1, 'falsely': 1, 'see': 1, 'aright': 1, 'be': 3, 'fair': 1, 'whereon': 1, 'false': 1, 'dote': 1, 'means': 1, 'the': 2, 'world': 1, 'to': 1, 'say': 1, 'it': 4, 'not': 4, 'so': 3, 'then': 2, 'doth': 1, 'well': 1, 'denote': 1, 'loves': 2, 'eye': 2, 'as': 1, 'all': 1, 'mens': 1, 'how': 2, 'can': 2, 'vexed': 1, 'watching': 1, 'and': 1, 'tears': 2, 'marvel': 1, 'though': 1, 'i': 1, 'mistake': 1, 'view': 1, 'sun': 1, 'self': 1, 'sees': 1, 'till': 1, 'heaven': 1, 'clears': 1, 'cunning': 1, 'thou': 1, 'keepst': 1, 'blind': 1, 'lest': 1, 'wellseeing': 1, 'thy': 1, 'foul': 1, 'faults': 1, 'should': 1, 'find': 1}, {'canst': 1, 'thou': 4, 'o': 1, 'cruel': 1, 'say': 1, 'i': 10, 'love': 2, 'thee': 4, 'not': 3, 'when': 3, 'against': 1, 'my': 6, 'self': 4, 'with': 2, 'partake': 1, 'do': 5, 'think': 1, 'on': 4, 'forgot': 1, 'am': 2, 'of': 2, 'alltyrant': 1, 'for': 2, 'thy': 4, 'sake': 1, 'who': 1, 'hateth': 1, 'that': 4, 'call': 1, 'friend': 1, 'whom': 1, 'frownst': 1, 'fawn': 1, 'upon': 2, 'nay': 1, 'if': 1, 'lourst': 1, 'me': 1, 'spend': 1, 'revenge': 1, 'present': 1, 'moan': 1, 'what': 1, 'merit': 1, 'in': 1, 'respect': 1, 'is': 1, 'so': 1, 'proud': 1, 'service': 1, 'to': 1, 'despise': 1, 'all': 1, 'best': 1, 'doth': 1, 'worship': 1, 'defect': 1, 'commanded': 1, 'by': 1, 'the': 1, 'motion': 1, 'thine': 1, 'eyes': 1, 'but': 1, 'hate': 1, 'now': 1, 'know': 1, 'mind': 1, 'those': 1, 'can': 1, 'see': 1, 'lovst': 1, 'and': 1, 'blind': 1}, {'o': 2, 'from': 1, 'what': 2, 'power': 1, 'hast': 2, 'thou': 3, 'this': 2, 'powerful': 1, 'might': 1, 'with': 2, 'insufficiency': 1, 'my': 4, 'heart': 1, 'to': 5, 'sway': 1, 'make': 2, 'me': 3, 'give': 1, 'the': 4, 'lie': 1, 'true': 1, 'sight': 1, 'and': 3, 'swear': 1, 'that': 3, 'brightness': 1, 'doth': 1, 'not': 2, 'grace': 1, 'day': 1, 'whence': 1, 'becoming': 1, 'of': 5, 'things': 1, 'ill': 1, 'in': 3, 'very': 1, 'refuse': 1, 'thy': 3, 'deeds': 1, 'there': 1, 'is': 1, 'such': 1, 'strength': 1, 'warrantise': 1, 'skill': 1, 'mind': 1, 'worst': 1, 'all': 1, 'best': 1, 'exceeds': 1, 'who': 1, 'taught': 1, 'thee': 3, 'how': 1, 'love': 3, 'more': 3, 'i': 3, 'hear': 1, 'see': 1, 'just': 1, 'cause': 1, 'hate': 1, 'though': 1, 'others': 2, 'do': 1, 'abhor': 2, 'shouldst': 1, 'state': 1, 'if': 1, 'unworthiness': 1, 'raised': 1, 'worthy': 1, 'be': 1, 'beloved': 1}, {'love': 5, 'is': 4, 'too': 1, 'young': 1, 'to': 4, 'know': 1, 'what': 1, 'conscience': 3, 'yet': 1, 'who': 1, 'knows': 1, 'not': 2, 'born': 1, 'of': 4, 'then': 1, 'gentle': 1, 'cheater': 1, 'urge': 1, 'my': 6, 'amiss': 1, 'lest': 1, 'guilty': 1, 'faults': 1, 'thy': 5, 'sweet': 1, 'self': 1, 'prove': 1, 'for': 2, 'thou': 1, 'betraying': 1, 'me': 1, 'i': 3, 'do': 1, 'betray': 1, 'nobler': 1, 'part': 1, 'gross': 1, 'bodys': 1, 'treason': 1, 'soul': 1, 'doth': 2, 'tell': 1, 'body': 1, 'that': 2, 'he': 2, 'may': 1, 'triumph': 1, 'in': 2, 'flesh': 1, 'stays': 1, 'no': 2, 'farther': 1, 'reason': 1, 'but': 1, 'rising': 1, 'at': 1, 'name': 1, 'point': 1, 'out': 1, 'thee': 1, 'as': 1, 'his': 1, 'triumphant': 1, 'prize': 1, 'proud': 1, 'this': 1, 'pride': 1, 'contented': 1, 'poor': 1, 'drudge': 1, 'be': 1, 'stand': 1, 'affairs': 1, 'fall': 2, 'by': 1, 'side': 1, 'want': 1, 'hold': 1, 'it': 1, 'call': 1, 'her': 1, 'whose': 1, 'dear': 1, 'rise': 1, 'and': 1}, {'in': 4, 'loving': 1, 'thee': 6, 'thou': 2, 'knowst': 1, 'i': 7, 'am': 2, 'forsworn': 2, 'but': 3, 'art': 1, 'twice': 1, 'to': 5, 'me': 1, 'love': 3, 'swearing': 1, 'act': 1, 'thy': 5, 'bedvow': 1, 'broke': 1, 'and': 3, 'new': 3, 'faith': 2, 'torn': 1, 'vowing': 1, 'hate': 1, 'after': 1, 'bearing': 1, 'why': 1, 'of': 3, 'two': 1, 'oaths': 4, 'breach': 1, 'do': 1, 'accuse': 1, 'when': 1, 'break': 1, 'twenty': 1, 'perjured': 2, 'most': 1, 'for': 3, 'all': 2, 'my': 2, 'vows': 1, 'are': 1, 'misuse': 1, 'honest': 1, 'is': 1, 'lost': 1, 'have': 2, 'sworn': 2, 'deep': 2, 'kindness': 1, 'truth': 2, 'constancy': 1, 'enlighten': 1, 'gave': 1, 'eyes': 1, 'blindness': 1, 'or': 1, 'made': 1, 'them': 1, 'swear': 2, 'against': 2, 'the': 2, 'thing': 1, 'they': 1, 'see': 1, 'fair': 1, 'more': 1, 'so': 1, 'foul': 1, 'a': 1, 'be': 1}, {'cupid': 2, 'laid': 1, 'by': 1, 'his': 2, 'brand': 2, 'and': 4, 'fell': 1, 'asleep': 1, 'a': 6, 'maid': 1, 'of': 4, 'dians': 1, 'this': 2, 'advantage': 1, 'found': 2, 'lovekindling': 1, 'fire': 3, 'did': 1, 'quickly': 1, 'steep': 1, 'in': 1, 'cold': 1, 'valleyfountain': 1, 'that': 1, 'ground': 1, 'which': 2, 'borrowed': 1, 'from': 1, 'holy': 1, 'love': 1, 'dateless': 1, 'lively': 1, 'heat': 1, 'still': 1, 'to': 1, 'endure': 1, 'grew': 1, 'seeting': 1, 'bath': 3, 'yet': 1, 'men': 1, 'prove': 1, 'against': 1, 'strange': 1, 'maladies': 1, 'sovereign': 1, 'cure': 2, 'but': 2, 'at': 1, 'my': 4, 'mistress': 2, 'eye': 1, 'loves': 1, 'newfired': 1, 'the': 3, 'boy': 1, 'for': 2, 'trial': 1, 'needs': 1, 'would': 1, 'touch': 1, 'breast': 1, 'i': 1, 'sick': 1, 'withal': 1, 'help': 2, 'desired': 1, 'thither': 1, 'hied': 1, 'sad': 1, 'distempered': 1, 'guest': 1, 'no': 1, 'lies': 1, 'where': 1, 'got': 1, 'new': 1, 'eyes': 1}, {'the': 3, 'little': 1, 'lovegod': 1, 'lying': 1, 'once': 1, 'asleep': 1, 'laid': 1, 'by': 5, 'his': 2, 'side': 1, 'heartinflaming': 1, 'brand': 2, 'whilst': 1, 'many': 2, 'nymphs': 1, 'that': 3, 'vowed': 1, 'chaste': 1, 'life': 1, 'to': 1, 'keep': 1, 'came': 2, 'tripping': 1, 'but': 2, 'in': 2, 'her': 1, 'maiden': 1, 'hand': 2, 'fairest': 1, 'votary': 1, 'took': 2, 'up': 1, 'fire': 3, 'which': 2, 'legions': 1, 'of': 2, 'true': 1, 'hearts': 1, 'had': 1, 'warmed': 1, 'and': 3, 'so': 1, 'general': 1, 'hot': 1, 'desire': 1, 'was': 1, 'sleeping': 1, 'a': 3, 'virgin': 1, 'disarmed': 1, 'this': 2, 'she': 1, 'quenched': 1, 'cool': 1, 'well': 1, 'from': 1, 'loves': 2, 'heat': 1, 'perpetual': 1, 'growing': 1, 'bath': 1, 'healthful': 1, 'remedy': 1, 'for': 2, 'men': 1, 'discased': 1, 'i': 2, 'my': 1, 'mistress': 1, 'thrall': 1, 'there': 1, 'cure': 1, 'prove': 1, 'heats': 1, 'water': 2, 'cools': 1, 'not': 1, 'love': 1}]\n"
     ]
    }
   ],
   "source": [
    "print(poems_counts)"
   ]
  },
  {
   "cell_type": "markdown",
   "metadata": {},
   "source": [
    "# Visualization 1: Most common terms in Shakespearean Sonnets"
   ]
  },
  {
   "cell_type": "markdown",
   "metadata": {},
   "source": [
    "Before we proceed with comparing similarity of poems, we can already do some cool 'distant reading' of Shakespearean sonnets. For instance, we could visualize the most common terms in the corpus."
   ]
  },
  {
   "cell_type": "markdown",
   "metadata": {},
   "source": [
    "# Creating a similarity score between two sonnets\n",
    "\n",
    "We will now create a simple algorithm for comparing how similar two sonnets are to one another. Using the term counts, we will compare the number of times a token appears in both sonnets.\n",
    "\n",
    "With our approach, two poems that are exactly the same should have a value of 100.\n",
    "Terms that appear in both poems the same number of times are taken to be equal, so do not discount from the value.\n",
    "Terms that appear in one poem but not the other contribute to dissimilarity. b"
   ]
  },
  {
   "cell_type": "code",
   "execution_count": 33,
   "metadata": {},
   "outputs": [],
   "source": [
    "poem1 = poems_counts[0]"
   ]
  },
  {
   "cell_type": "code",
   "execution_count": null,
   "metadata": {},
   "outputs": [],
   "source": [
    "poem1"
   ]
  },
  {
   "cell_type": "code",
   "execution_count": 34,
   "metadata": {},
   "outputs": [],
   "source": [
    "poem2 = poems_counts[1]"
   ]
  },
  {
   "cell_type": "code",
   "execution_count": null,
   "metadata": {},
   "outputs": [],
   "source": [
    "#poem1.keys"
   ]
  },
  {
   "cell_type": "code",
   "execution_count": 35,
   "metadata": {},
   "outputs": [],
   "source": [
    "tokens = set(poem1)|set(poem2) # create a list of all tokens in both poems"
   ]
  },
  {
   "cell_type": "code",
   "execution_count": null,
   "metadata": {},
   "outputs": [],
   "source": [
    "#tokens"
   ]
  },
  {
   "cell_type": "code",
   "execution_count": null,
   "metadata": {},
   "outputs": [],
   "source": [
    "# similarity = 1\n",
    "# dif = 0\n",
    "# for token in tokens:\n",
    " #   try:\n",
    "  #      a=poem1[token]/sum(poem1.values())\n",
    "#    except: \n",
    " #       a=0\n",
    " #   try:\n",
    "  #      b= poem2[token]/sum(poem2.values())\n",
    "#    except:\n",
    " #       b=0\n",
    "#    dis = abs(a-b)\n",
    " #   dif = dif + dis"
   ]
  },
  {
   "cell_type": "code",
   "execution_count": null,
   "metadata": {},
   "outputs": [],
   "source": [
    "#similarity"
   ]
  },
  {
   "cell_type": "code",
   "execution_count": null,
   "metadata": {},
   "outputs": [],
   "source": [
    "# dif"
   ]
  },
  {
   "cell_type": "code",
   "execution_count": null,
   "metadata": {},
   "outputs": [],
   "source": [
    "# poem1.values"
   ]
  },
  {
   "cell_type": "markdown",
   "metadata": {},
   "source": [
    "# Euclidean Distance Loop (2 Poems)"
   ]
  },
  {
   "cell_type": "code",
   "execution_count": 36,
   "metadata": {},
   "outputs": [],
   "source": [
    "termsum=0\n",
    "tokens = set(poem1)|set(poem2) # create a list of all tokens in both poems\n",
    "for token in tokens:\n",
    "    if token in poem1:\n",
    "        a=poem1[token]\n",
    "    else:\n",
    "        a=0\n",
    "    if token in poem2:\n",
    "        b= poem2[token]\n",
    "    else:\n",
    "        b=0\n",
    "    term = (a-b)**2\n",
    "    termsum= termsum+term\n",
    "euc_similarity = termsum**0.5"
   ]
  },
  {
   "cell_type": "code",
   "execution_count": 37,
   "metadata": {},
   "outputs": [
    {
     "data": {
      "text/plain": [
       "15.066519173319364"
      ]
     },
     "execution_count": 37,
     "metadata": {},
     "output_type": "execute_result"
    }
   ],
   "source": [
    "euc_similarity"
   ]
  },
  {
   "cell_type": "markdown",
   "metadata": {},
   "source": [
    "# Cosine Similarity Loop (2 poems)"
   ]
  },
  {
   "cell_type": "code",
   "execution_count": 38,
   "metadata": {},
   "outputs": [],
   "source": [
    "termsum=0\n",
    "for token in tokens:\n",
    "    \n",
    "    if token in poem1:\n",
    "        a=poem1[token]\n",
    "    else:\n",
    "        a=0\n",
    "    if token in poem2:\n",
    "        b= poem2[token]\n",
    "    else:\n",
    "        b=0\n",
    "    term = a*b\n",
    "    termsum= termsum+term\n",
    "p1sum =0\n",
    "for key, value in poem1.items():\n",
    "    sq = value**2\n",
    "    p1sum= p1sum+sq\n",
    "p1 = p1sum**0.5\n",
    "p2sum=0\n",
    "for key, value in poem2.items():\n",
    "    sq = value**2\n",
    "    p2sum= p2sum+sq\n",
    "p2 = p2sum**0.5\n",
    "\n",
    "cos_similarity = termsum/(p1*p2)"
   ]
  },
  {
   "cell_type": "code",
   "execution_count": 39,
   "metadata": {},
   "outputs": [
    {
     "data": {
      "text/plain": [
       "0.4481677087948826"
      ]
     },
     "execution_count": 39,
     "metadata": {},
     "output_type": "execute_result"
    }
   ],
   "source": [
    "cos_similarity"
   ]
  },
  {
   "cell_type": "markdown",
   "metadata": {},
   "source": [
    "# Euclidean Distance - Comparing Poem 1 to all other poems"
   ]
  },
  {
   "cell_type": "code",
   "execution_count": 45,
   "metadata": {},
   "outputs": [
    {
     "name": "stdout",
     "output_type": "stream",
     "text": [
      "[0.0, 15.067, 14.799, 15.492, 15.492, 16.852, 14.866, 16.062, 15.033, 16.462, 17.378, 16.733, 19.287, 16.583, 16.217, 17.436, 17.607, 15.492, 14.318, 15.362, 17.944, 18.138, 16.31, 15.748, 16.733, 18.166, 18.276, 16.432, 18.221, 17.607, 17.407, 16.248, 16.0, 14.765, 16.0, 17.521, 17.776, 14.283, 15.524, 20.298, 15.556, 22.136, 17.776, 17.0, 15.588, 16.401, 19.105, 17.349, 16.062, 15.811, 18.894, 15.652, 19.519, 16.432, 16.643, 15.362, 18.547, 21.354, 16.093, 14.353, 16.279, 20.469, 16.852, 16.371, 17.493, 17.059, 17.692, 16.279, 15.46, 15.362, 19.0, 19.57, 16.823, 16.763, 16.401, 18.493, 16.583, 15.556, 18.439, 17.321, 18.083, 15.264, 19.105, 18.358, 16.523, 16.673, 15.556, 16.34, 17.234, 17.972, 20.494, 16.523, 17.205, 15.524, 14.56, 15.362, 14.933, 17.493, 15.906, 14.9, 16.673, 17.464, 18.193, 17.607, 19.519, 18.055, 15.524, 14.526, 18.841, 17.176, 17.607, 19.287, 17.464, 16.432, 17.176, 16.155, 17.776, 16.432, 17.464, 18.028, 17.635, 15.264, 15.166, 16.763, 15.133, 15.684, 17.464, 14.799, 17.146, 18.894, 16.062, 14.765, 20.298, 18.33, 20.591, 18.33, 17.205, 19.416, 17.833, 16.31, 17.029, 17.0, 16.882, 17.972, 16.583, 16.432, 16.793, 18.974, 20.149, 16.371, 17.804, 18.385, 17.117, 15.906]\n"
     ]
    }
   ],
   "source": [
    "c0 = poems_counts[0]\n",
    "c0_sims = []\n",
    "\n",
    "for c1 in poems_counts:\n",
    "    tokens = set(c0)|set(c1) # create a list of all tokens in both poems\n",
    "    termsum=0\n",
    "    for token in tokens:\n",
    "        if token in c0:\n",
    "            a=c0[token]\n",
    "        else:\n",
    "            a=0\n",
    "        if token in c1:\n",
    "            b= c1[token]\n",
    "        else:\n",
    "            b=0\n",
    "        term = (a-b)**2\n",
    "        termsum= termsum+term\n",
    "    euc_similarity = termsum**0.5\n",
    "    c0_sims.append(round(euc_similarity,3))\n",
    "print(c0_sims)"
   ]
  },
  {
   "cell_type": "code",
   "execution_count": 47,
   "metadata": {},
   "outputs": [
    {
     "data": {
      "text/plain": [
       "22.136"
      ]
     },
     "execution_count": 47,
     "metadata": {},
     "output_type": "execute_result"
    }
   ],
   "source": [
    "max(c0_sims)"
   ]
  },
  {
   "cell_type": "code",
   "execution_count": 48,
   "metadata": {},
   "outputs": [
    {
     "data": {
      "text/plain": [
       "0.0"
      ]
     },
     "execution_count": 48,
     "metadata": {},
     "output_type": "execute_result"
    }
   ],
   "source": [
    "min(c0_sims)"
   ]
  },
  {
   "cell_type": "code",
   "execution_count": null,
   "metadata": {},
   "outputs": [],
   "source": [
    "# One reason we might want to store this info as a dictionary: \n",
    "# if we sort on value, we lose order and therefore reference to the original poem"
   ]
  },
  {
   "cell_type": "code",
   "execution_count": 49,
   "metadata": {},
   "outputs": [],
   "source": [
    "c0_sims.sort()"
   ]
  },
  {
   "cell_type": "code",
   "execution_count": 50,
   "metadata": {
    "collapsed": true,
    "jupyter": {
     "outputs_hidden": true
    }
   },
   "outputs": [
    {
     "data": {
      "text/plain": [
       "[0.0,\n",
       " 14.283,\n",
       " 14.318,\n",
       " 14.353,\n",
       " 14.526,\n",
       " 14.56,\n",
       " 14.765,\n",
       " 14.765,\n",
       " 14.799,\n",
       " 14.799,\n",
       " 14.866,\n",
       " 14.9,\n",
       " 14.933,\n",
       " 15.033,\n",
       " 15.067,\n",
       " 15.133,\n",
       " 15.166,\n",
       " 15.264,\n",
       " 15.264,\n",
       " 15.362,\n",
       " 15.362,\n",
       " 15.362,\n",
       " 15.362,\n",
       " 15.46,\n",
       " 15.492,\n",
       " 15.492,\n",
       " 15.492,\n",
       " 15.524,\n",
       " 15.524,\n",
       " 15.524,\n",
       " 15.556,\n",
       " 15.556,\n",
       " 15.556,\n",
       " 15.588,\n",
       " 15.652,\n",
       " 15.684,\n",
       " 15.748,\n",
       " 15.811,\n",
       " 15.906,\n",
       " 15.906,\n",
       " 16.0,\n",
       " 16.0,\n",
       " 16.062,\n",
       " 16.062,\n",
       " 16.062,\n",
       " 16.093,\n",
       " 16.155,\n",
       " 16.217,\n",
       " 16.248,\n",
       " 16.279,\n",
       " 16.279,\n",
       " 16.31,\n",
       " 16.31,\n",
       " 16.34,\n",
       " 16.371,\n",
       " 16.371,\n",
       " 16.401,\n",
       " 16.401,\n",
       " 16.432,\n",
       " 16.432,\n",
       " 16.432,\n",
       " 16.432,\n",
       " 16.432,\n",
       " 16.462,\n",
       " 16.523,\n",
       " 16.523,\n",
       " 16.583,\n",
       " 16.583,\n",
       " 16.583,\n",
       " 16.643,\n",
       " 16.673,\n",
       " 16.673,\n",
       " 16.733,\n",
       " 16.733,\n",
       " 16.763,\n",
       " 16.763,\n",
       " 16.793,\n",
       " 16.823,\n",
       " 16.852,\n",
       " 16.852,\n",
       " 16.882,\n",
       " 17.0,\n",
       " 17.0,\n",
       " 17.029,\n",
       " 17.059,\n",
       " 17.117,\n",
       " 17.146,\n",
       " 17.176,\n",
       " 17.176,\n",
       " 17.205,\n",
       " 17.205,\n",
       " 17.234,\n",
       " 17.321,\n",
       " 17.349,\n",
       " 17.378,\n",
       " 17.407,\n",
       " 17.436,\n",
       " 17.464,\n",
       " 17.464,\n",
       " 17.464,\n",
       " 17.464,\n",
       " 17.493,\n",
       " 17.493,\n",
       " 17.521,\n",
       " 17.607,\n",
       " 17.607,\n",
       " 17.607,\n",
       " 17.607,\n",
       " 17.635,\n",
       " 17.692,\n",
       " 17.776,\n",
       " 17.776,\n",
       " 17.776,\n",
       " 17.804,\n",
       " 17.833,\n",
       " 17.944,\n",
       " 17.972,\n",
       " 17.972,\n",
       " 18.028,\n",
       " 18.055,\n",
       " 18.083,\n",
       " 18.138,\n",
       " 18.166,\n",
       " 18.193,\n",
       " 18.221,\n",
       " 18.276,\n",
       " 18.33,\n",
       " 18.33,\n",
       " 18.358,\n",
       " 18.385,\n",
       " 18.439,\n",
       " 18.493,\n",
       " 18.547,\n",
       " 18.841,\n",
       " 18.894,\n",
       " 18.894,\n",
       " 18.974,\n",
       " 19.0,\n",
       " 19.105,\n",
       " 19.105,\n",
       " 19.287,\n",
       " 19.287,\n",
       " 19.416,\n",
       " 19.519,\n",
       " 19.519,\n",
       " 19.57,\n",
       " 20.149,\n",
       " 20.298,\n",
       " 20.298,\n",
       " 20.469,\n",
       " 20.494,\n",
       " 20.591,\n",
       " 21.354,\n",
       " 22.136]"
      ]
     },
     "execution_count": 50,
     "metadata": {},
     "output_type": "execute_result"
    }
   ],
   "source": [
    "c0_sims"
   ]
  },
  {
   "cell_type": "code",
   "execution_count": null,
   "metadata": {},
   "outputs": [],
   "source": [
    "## I think up to here, with some sort of visualization (word cloud? ugh) Would be good for the first review lesson.\n",
    "## After the other lessons, we could bring in functions and pandas and look at refactoring and applying this to all the texts."
   ]
  },
  {
   "cell_type": "markdown",
   "metadata": {},
   "source": [
    "# Visually looking at the most similar & most dissimilar poems"
   ]
  },
  {
   "cell_type": "code",
   "execution_count": null,
   "metadata": {},
   "outputs": [],
   "source": [
    "print(poems[0])"
   ]
  },
  {
   "cell_type": "code",
   "execution_count": null,
   "metadata": {},
   "outputs": [],
   "source": [
    "print(poems[59])"
   ]
  },
  {
   "cell_type": "code",
   "execution_count": null,
   "metadata": {},
   "outputs": [],
   "source": [
    "print(poems[41])"
   ]
  },
  {
   "cell_type": "markdown",
   "metadata": {},
   "source": [
    "# Comparing Overlapping Words in Two Most Similar Poems"
   ]
  },
  {
   "cell_type": "code",
   "execution_count": null,
   "metadata": {},
   "outputs": [],
   "source": [
    "# Eric's Code\n",
    "def overlap_terms(index_a, index_b):\n",
    "    c_a = counts_nonstop_list[index_a]\n",
    "    c_b = counts_nonstop_list[index_b]\n",
    "    only_a = []\n",
    "    only_b = []\n",
    "    both_ab = []\n",
    "    for term,count in c_a.items():\n",
    "        if term in c_b:\n",
    "            both_ab.append(((term,count),(term,c_b[term])))\n",
    "        else:\n",
    "            only_a.append((term,count))\n",
    "    for term,count in c_b.items():\n",
    "        if term not in c_a:\n",
    "            only_b.append((term,count))\n",
    "    # sorting overlapped terms by the sum of the frequencies\n",
    "    both_sorted = sorted(both_ab, key=lambda x:x[0][1]+x[1][1], reverse=True)\n",
    "    a_sorted = sorted(only_a, key=lambda x:x[1], reverse=True)\n",
    "    b_sorted = sorted(only_b, key=lambda x:x[1], reverse=True)\n",
    "    # Just returning the first 15 of each non-overlap list\n",
    "    return [('a','b')] + both_sorted + [('a','b')] + list(zip(a_sorted,b_sorted))[:15]"
   ]
  },
  {
   "cell_type": "code",
   "execution_count": null,
   "metadata": {},
   "outputs": [],
   "source": [
    "# Using Sets\n",
    "\n",
    "overlap = set(poem_counts[0].keys()) & set(poem_counts[59].keys())\n",
    "only_a = set(poem_counts[0])-set(poem_counts[59])\n",
    "only_b = set(poem_counts[59])-set(poem_counts[0])"
   ]
  },
  {
   "cell_type": "code",
   "execution_count": null,
   "metadata": {},
   "outputs": [],
   "source": [
    "for item in overlap:\n",
    "    print(item, poem_counts[0][item],poem_counts[59][item])"
   ]
  },
  {
   "cell_type": "code",
   "execution_count": null,
   "metadata": {},
   "outputs": [],
   "source": [
    "for item in only_a:\n",
    "    print(item, poem_counts[0][item])"
   ]
  },
  {
   "cell_type": "code",
   "execution_count": null,
   "metadata": {},
   "outputs": [],
   "source": [
    "for item in only_b:\n",
    "    print(item, poem_counts[59][item])"
   ]
  },
  {
   "cell_type": "code",
   "execution_count": null,
   "metadata": {},
   "outputs": [],
   "source": [
    "# Below I am playing with the two algorithms. I like the simplicity of the code for Euclidean distance, \n",
    "# but it gives low numerical results and thus is hard to graph. The cosine distance graphs much more nicely,\n",
    "# but I think it will be harder to prompt the students to get there. "
   ]
  },
  {
   "cell_type": "markdown",
   "metadata": {},
   "source": [
    "# For all pairs"
   ]
  },
  {
   "cell_type": "code",
   "execution_count": null,
   "metadata": {},
   "outputs": [],
   "source": [
    "c0 = poem_counts[0]\n",
    "c0_sims = {}\n",
    "\n",
    "for poem, c1 in poem_counts.items():\n",
    "    tokens = set(c0)|set(c1) # create a list of all tokens in both poems\n",
    "    termsum=0\n",
    "    for token in tokens:\n",
    "        if token in c0:\n",
    "            a=c0[token]\n",
    "        else:\n",
    "            a=0\n",
    "        if token in c1:\n",
    "            b= c1[token]\n",
    "        else:\n",
    "            b=0\n",
    "        term = (a-b)**2\n",
    "        termsum= termsum+term\n",
    "    euc_similarity = 1/(1+termsum**0.5)\n",
    "    key= '0'+'-'+str(poem)\n",
    "    c0_sims[key]= round(euc_similarity,3)\n",
    "print(c0_sims)"
   ]
  },
  {
   "cell_type": "code",
   "execution_count": null,
   "metadata": {},
   "outputs": [],
   "source": [
    "def similarity_matrix(all_counts_dict):\n",
    "    all_sims_list = []\n",
    "    for text, c0 in all_counts_dict.items():\n",
    "        sims_list = []\n",
    "        for text, tc in all_counts_dict.items():\n",
    "            tokens = set(c0)|set(tc)\n",
    "            termsum = 0\n",
    "            for token in tokens:\n",
    "                if token in c0:\n",
    "                    a=c0[token]\n",
    "                else:\n",
    "                    a=0\n",
    "                if token in tc:\n",
    "                    b= tc[token]\n",
    "                else:\n",
    "                    b=0\n",
    "                term = (a-b)**2\n",
    "                termsum =termsum+term\n",
    "            euc_similarity = termsum**0.5\n",
    "            sims_list.append(euc_similarity)\n",
    "        # max_sim = max(sims_list)\n",
    "        norm_sims_id_list = [round(xx,3) for xx in sims_list]\n",
    "        all_sims_list.append(norm_sims_id_list)\n",
    "    return all_sims_list"
   ]
  },
  {
   "cell_type": "code",
   "execution_count": null,
   "metadata": {},
   "outputs": [],
   "source": [
    "only_sims_list = similarity_matrix(poem_counts)"
   ]
  },
  {
   "cell_type": "code",
   "execution_count": null,
   "metadata": {},
   "outputs": [],
   "source": [
    "only_sims_list"
   ]
  },
  {
   "cell_type": "code",
   "execution_count": null,
   "metadata": {},
   "outputs": [],
   "source": [
    "import numpy as np\n",
    "import seaborn as sns\n",
    "import matplotlib.pyplot as plt"
   ]
  },
  {
   "cell_type": "code",
   "execution_count": null,
   "metadata": {},
   "outputs": [],
   "source": [
    "sim_ns_array = np.array(only_sims_list)"
   ]
  },
  {
   "cell_type": "code",
   "execution_count": null,
   "metadata": {},
   "outputs": [],
   "source": [
    "f, ax = plt.subplots(figsize=(8,8))\n",
    "ax = sns.heatmap(sim_ns_array, square=True)"
   ]
  },
  {
   "cell_type": "code",
   "execution_count": null,
   "metadata": {},
   "outputs": [],
   "source": [
    "g = sns.clustermap(sim_ns_array)"
   ]
  },
  {
   "cell_type": "markdown",
   "metadata": {},
   "source": [
    "# Using Cosine Similarity"
   ]
  },
  {
   "cell_type": "code",
   "execution_count": null,
   "metadata": {},
   "outputs": [],
   "source": [
    "termsum=0\n",
    "for token in tokens:\n",
    "    \n",
    "    if token in poem1:\n",
    "        a=poem1[token]\n",
    "    else:\n",
    "        a=0\n",
    "    if token in poem2:\n",
    "        b= poem2[token]\n",
    "    else:\n",
    "        b=0\n",
    "    term = a*b\n",
    "    termsum= termsum+term\n",
    "p1sum =0\n",
    "for key, value in poem1.items():\n",
    "    sq = value**2\n",
    "    p1sum= p1sum+sq\n",
    "p1 = p1sum**0.5\n",
    "p2sum=0\n",
    "for key, value in poem2.items():\n",
    "    sq = value**2\n",
    "    p2sum= p2sum+sq\n",
    "p2 = p2sum**0.5\n",
    "\n",
    "cos_similarity = termsum/(p1*p2)"
   ]
  },
  {
   "cell_type": "code",
   "execution_count": null,
   "metadata": {},
   "outputs": [],
   "source": [
    "def similarity_matrix(all_counts_dict):\n",
    "    all_sims_list = []\n",
    "    for text, c0 in all_counts_dict.items():\n",
    "        sims_list = []\n",
    "        for text, tc in all_counts_dict.items():\n",
    "            tokens = set(c0)|set(tc)\n",
    "            termsum = 0\n",
    "            for token in tokens:\n",
    "                if token in c0:\n",
    "                    a=c0[token]\n",
    "                else:\n",
    "                    a=0\n",
    "                if token in tc:\n",
    "                    b= tc[token]\n",
    "                else:\n",
    "                    b=0\n",
    "                term = a*b\n",
    "                termsum= termsum+term\n",
    "            p1sum =0\n",
    "            for key, value in c0.items():\n",
    "                sq = value**2\n",
    "                p1sum= p1sum+sq\n",
    "            p1 = p1sum**0.5\n",
    "            p2sum=0\n",
    "            for key, value in tc.items():\n",
    "                sq = value**2\n",
    "                p2sum= p2sum+sq\n",
    "            p2 = p2sum**0.5\n",
    "            cos_similarity = termsum/(p1*p2)\n",
    "            sims_list.append(cos_similarity)\n",
    "        # max_sim = max(sims_list)\n",
    "        norm_sims_id_list = [round(xx,3) for xx in sims_list]\n",
    "        all_sims_list.append(norm_sims_id_list)\n",
    "    return all_sims_list"
   ]
  },
  {
   "cell_type": "code",
   "execution_count": null,
   "metadata": {},
   "outputs": [],
   "source": [
    "only_sims_list = similarity_matrix(poem_counts)"
   ]
  },
  {
   "cell_type": "code",
   "execution_count": null,
   "metadata": {},
   "outputs": [],
   "source": [
    "only_sims_list"
   ]
  },
  {
   "cell_type": "code",
   "execution_count": null,
   "metadata": {},
   "outputs": [],
   "source": [
    "import numpy as np\n",
    "import seaborn as sns\n",
    "import matplotlib.pyplot as plt"
   ]
  },
  {
   "cell_type": "code",
   "execution_count": null,
   "metadata": {},
   "outputs": [],
   "source": [
    "sim_ns_array = np.array(only_sims_list)"
   ]
  },
  {
   "cell_type": "code",
   "execution_count": null,
   "metadata": {},
   "outputs": [],
   "source": [
    "f, ax = plt.subplots(figsize=(8,8))\n",
    "ax = sns.heatmap(sim_ns_array, square=True)"
   ]
  },
  {
   "cell_type": "code",
   "execution_count": null,
   "metadata": {},
   "outputs": [],
   "source": [
    "g = sns.clustermap(sim_ns_array)"
   ]
  },
  {
   "cell_type": "markdown",
   "metadata": {},
   "source": [
    "<div style=\"text-align:center\">    \n",
    "  <a href=\"06%20Loops.ipynb\">Previous Lesson: Loops</a>|\n",
    "   <a href=\"07%20Accessing%20Files.ipynb\">Next Lesson: Accessing Files</a>\n",
    "</div>"
   ]
  }
 ],
 "metadata": {
  "kernelspec": {
   "display_name": "Python 3",
   "language": "python",
   "name": "python3"
  },
  "language_info": {
   "codemirror_mode": {
    "name": "ipython",
    "version": 3
   },
   "file_extension": ".py",
   "mimetype": "text/x-python",
   "name": "python",
   "nbconvert_exporter": "python",
   "pygments_lexer": "ipython3",
   "version": "3.7.6"
  }
 },
 "nbformat": 4,
 "nbformat_minor": 4
}
