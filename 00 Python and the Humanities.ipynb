{
 "cells": [
  {
   "cell_type": "markdown",
   "metadata": {},
   "source": [
    "### Navigation Reminder\n",
    "\n",
    "- **Grey cells** are **code cells**. Click inside them and type to edit.\n",
    "- **Run**  code cells by pressing $ \\triangleright $  in the toolbar above, or press ``` shift + enter```.\n",
    "-  **Stop** a running process by clicking &#9634; in the toolbar above.\n",
    "- You can **add new cells** by clicking to the left of a cell and pressing ```A``` (for above), or ```B``` (for below). \n",
    "- **Delete cells** by pressing ```X```.\n",
    "- Run all code cells that import objects (such as the one below) to ensure that you can follow exercises and examples.\n",
    "- Feel free to edit and experiment - you will not corrupt the original files."
   ]
  },
  {
   "cell_type": "markdown",
   "metadata": {},
   "source": [
    "# Lesson 00: Python and the Humanities\n",
    "\n",
    "This resource is intended for humanists interested in learning the programming language Python. \n",
    "\n",
    "You might be coming in with a clear purpose for using Python, or you might be wondering how Python is useful to you. This chapter aims to illustrate how Python is useful in the humanities.\n",
    "\n",
    "---\n",
    "## Lesson Goals:\n",
    "\n",
    "- Define Python\n",
    "- Show uses of Python in the Humanities\n",
    "- State course objectives\n",
    "- Demonstrate use of Jupyterlab environment & course navigation\n",
    "\n",
    "---\n",
    "## What is Python? \n",
    "\n",
    "Python is a popular programming language that is...\n",
    "\n",
    "> **General purpose:** It has a wide variety of applications\n",
    "\n",
    "> **Open source:** Code is freely available, not requiring payment\n",
    "\n",
    "> **Extensible:** The language can be built upon and expanded, resulting in new functionalities \n",
    "\n",
    "> **Object-oriented:** Everything in Python is an object that you perform actions upon.\n",
    "    \n",
    "> **High-level or Human-Readable:** High level languages abstract from the details of machine language, resulting in code that is very easy for a human to read and interpret.', \n",
    "\n",
    ">**Popular:** It is widely used, a sustainable way to develop and share a project.\n",
    "\n",
    "These characteristics of Python (open source, object-oriented, high-level, human-readable, popular) make it a great choice for people with little or no prior coding knowledge. \n",
    "\n",
    "Python is easy to read and understand, and a lot of code is readily available, which you can reuse and adapt to solve your own problems. \n",
    "\n",
    "---\n",
    "## Python Programming and the Humanities\n",
    "\n",
    "The Digital Humanities have spurred an interest in using technology for humanistic inquiry, but many digital humanities projects can be done with out-of-the-box software which requires little programming knowledge. So why learn to code?\n",
    "\n",
    "You might want to learn to program if you want to:\n",
    "- **Expand** the functionalities of preexisting digital tools\n",
    "- **Create** new digital tools\n",
    "- **Automate** repetitive tasks in a large project\n",
    "- **Document** steps in a digital project\n",
    "\n",
    "Python in particular has many potential uses for the humanities, some of which are illustrated here with examples. \n",
    "\n",
    "---\n",
    "### Use 1: Text Analysis\n",
    "\n",
    "'Distant reading', or the search for patterns in large amounts of text, was one of the first areas of development in the digital humanities. Many tools within Python can be used for the purpose of text analysis. \n",
    "\n",
    "With Python, we can manipulate texts into formats that are legible by computer, as well as apply different models made for studying the human language, from anything as simple as word frequencies to sophisticated natural language processing techniques such as sentiment analysis.\n",
    "\n",
    "These models can be used for analyzing text viewed as an end goal, or for developing datasets from textual information.\n",
    "\n",
    "**Example: Gothic Colors**\n",
    "\n",
    "Scholars have, for instance, challenged the 'gloomy' reputation of Gothic literature (19th century, think Frankenstein and Dracula) by analyzing and visualizing the uses of color within a corpus of 134 works within the genre. \n",
    "\n",
    "This project required splitting novels into tokens (single words), identifying which words represented colors by analyzing context, and then counting word frequencies to produce the final visualizations (click on the link below to learn more). \n",
    "\n",
    "<img src=\"Other_files/Gothiccolors.png\" width=\"400\" >\n",
    "\n",
    "Source: https://kite.com/blog/python/python-digital-humanities-gothic-literature-nltk\n",
    "\n",
    "(These same scholars analyzed [gender bias in the Harry Potter series using Python.](https://medium.com/agatha-codes/a-bossy-sort-of-voice-3c3a18de3093))\n",
    "\n",
    "---\n",
    "### Use 2: Data Gathering, Cleaning, Analysis and Visualization\n",
    "\n",
    "Python is a powerful tool for data gathering. As alluded to before, several tools within Python can be used to transform texts into data. The geoprocessing tools described below can be also used to create spatial data. What is more, Python can be used for **Web Scraping**, to extract information from online sources. It can be used to iterate through documents or records, to edit and clean data. And finally, it provides powerful modules for the analysis and visualization of this data.\n",
    "\n",
    "**Example 1: Extracting Illustrated Pages from Digital Libraries with Python**\n",
    "\n",
    "In [one example](https://programminghistorian.org/en/lessons/extracting-illustrated-pages) from _The Programming Historian_, Python was used to identify and download pages with images from collections of books from HathiTrust and the Internet Archive.\n",
    "\n",
    "So they wrote code that took them from this, on a website:\n",
    "\n",
    "<img src=https://programminghistorian.org/images/extracting-illustrated-pages/parley-full-thumbnails.png width=\"400\" >\n",
    "\n",
    "To this, on their personal computer:\n",
    "\n",
    "<img src=https://programminghistorian.org/images/extracting-illustrated-pages/file-explorer-example.png width=\"400\" >\n",
    "\n",
    "In just a few lines of code, instead of hours of tedious, repetitive (and error-prone) clicking through pages. \n",
    "    \n",
    "**Example 2: Visualizing WWII Data with Bokeh**\n",
    "\n",
    "Bokeh is one of several modules for data visualization in Python. Another Programming Historian lesson used Bokeh to visualize tabular information on bombings during World War II.\n",
    "\n",
    "\n",
    "<img src=\"Other_files/WWII.png\" width=\"400\" >\n",
    "\n",
    "(**Note:** [_The Programming Historian_](http://programminghistorian.org) is a great repository of practical lessons on using tools for the digital humanities. There are many walkthroughs for processes using Python, as well as other tools.)\n",
    "\n",
    "---\n",
    "### Use 3: Python and Mapping \n",
    "\n",
    "The Python language offers several tools that can propel mapping projects.\n",
    "\n",
    "**Geopy** is a Python tool for geocoding with popular services such as Google Maps, Bing, MapBox, and ArcGIS, among others. It can be used to locate the coordinates of addresses, cities, countries, and landmarks across the globe. \n",
    "\n",
    "**Geotext** is a tool for extracting geographical names from text data.\n",
    "\n",
    "Finally, Python is the scripting language of choice for **ArcGIS Pro**. This application has a native Python window for writing and running scripts. And ESRI has made available **ArcPy**, a module for using ArcGIS' functionalities directly within Python. Through Python, you can automate repetitive workflows, as well as customize ArcGIS tools.\n",
    "\n",
    "<img src=https://developers.arcgis.com/assets/img/python-graphics/spat-temp-image.png width=\"400\" >\n",
    "\n",
    "Visit this [link](https://developers.arcgis.com/python/) for multiple example notebooks that show the power of combining ArcGIS with Python.\n",
    "\n",
    "See more: https://www.esri.com/arcgis-blog/products/arcgis-pro/uncategorized/beginners-guide-to-python-in-arcgis-pro-part-1-why/ \n",
    "\n",
    "---\n",
    "### Use 4: Generative Art\n",
    "\n",
    "Artists also use Python to create generative art, or art that is created (at least partially) by an autonomous system. In these cases, code that incorporates a random element or user interactions can be used to create self-generating art pieces.\n",
    "\n",
    "**Processing** is a popular open-source project for coding and the visual arts. While originally released with a Java-based syntax, it now has released a Python mode for making artwork in this language. The examples below illustrate the possibilities of Processing.\n",
    "\n",
    "**Example: Jared Tarbell, _Substrate_ (2003)**\n",
    "\n",
    "Here, the artist (also founder of Etsy) has developed an algorithm that creates randomized, city-like structures and infuses them with color."
   ]
  },
  {
   "cell_type": "code",
   "execution_count": null,
   "metadata": {
    "slideshow": {
     "slide_type": "-"
    }
   },
   "outputs": [],
   "source": [
    "# Run this cell\n",
    "from IPython.display import IFrame\n",
    "display(IFrame(\"https://player.vimeo.com/video/208903786\", width=480, height=270))"
   ]
  },
  {
   "cell_type": "markdown",
   "metadata": {
    "slideshow": {
     "slide_type": "-"
    }
   },
   "source": [
    "Source: https://vimeo.com/208903786 , http://www.complexification.net/gallery/machines/substrate/index.php"
   ]
  },
  {
   "cell_type": "markdown",
   "metadata": {},
   "source": [
    "**Example 2: Kultur Design, _Dead Presidents_ (2013)**\n",
    "\n",
    "This studio created an algorithm that recreates U.S. presidential portraits by creating triangles based on mouse position and sampling color from an underlying image."
   ]
  },
  {
   "cell_type": "code",
   "execution_count": null,
   "metadata": {},
   "outputs": [],
   "source": [
    "# Run this cell\n",
    "from IPython.display import IFrame\n",
    "display(IFrame(\"https://player.vimeo.com/video/102926773\", width=480, height=270))"
   ]
  },
  {
   "cell_type": "markdown",
   "metadata": {},
   "source": [
    "Source: http://www.kultur.design/portfolio/dead-presidents/"
   ]
  },
  {
   "cell_type": "markdown",
   "metadata": {},
   "source": [
    "---\n",
    "In sum, with hundreds of modules in the Python standard library as well as thousands of third-party components available for download, the ever-growing language opens many possibities for humanities projects. \n",
    "\n",
    "The examples given above are just a few illustrations. Other solutions might stem from your own creative coding, as well as from searching online. Often, a Google search will provide useful code that is adaptable to a project. Particularly, keep an eye out for similar questions on Stackexchange and GitHub, as well as the official documentation for packages and functions."
   ]
  },
  {
   "cell_type": "markdown",
   "metadata": {},
   "source": [
    "<div style=\"text-align:center\">    \n",
    "   <a href=\"01%Syntax.ipynb\">Next Lesson: Reading Python Script - Syntax</a>\n",
    "</div>"
   ]
  }
 ],
 "metadata": {
  "kernelspec": {
   "display_name": "Python 3",
   "language": "python",
   "name": "python3"
  },
  "language_info": {
   "codemirror_mode": {
    "name": "ipython",
    "version": 3
   },
   "file_extension": ".py",
   "mimetype": "text/x-python",
   "name": "python",
   "nbconvert_exporter": "python",
   "pygments_lexer": "ipython3",
   "version": "3.7.6"
  }
 },
 "nbformat": 4,
 "nbformat_minor": 4
}
