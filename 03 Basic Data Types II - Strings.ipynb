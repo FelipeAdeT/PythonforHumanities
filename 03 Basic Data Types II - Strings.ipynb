{
 "cells": [
  {
   "cell_type": "markdown",
   "metadata": {},
   "source": [
    "### Navigation Reminder\n",
    "\n",
    "- **Grey cells** are **code cells**. Click inside them and type to edit.\n",
    "- **Run**  code cells by pressing $ \\triangleright $  in the toolbar above, or press ``` shift + enter```.\n",
    "-  **Stop** a running process by clicking $\\Box$ in the toolbar above.\n",
    "- You can **add new cells** by clicking to the left of a cell and pressing ```A``` (for above), or```B``` (for below). \n",
    "- **Delete cells** by pressing```X```.\n",
    "- Run all code cells that import objects (such as the one below) to ensure that you can follow exercises and examples.\n",
    "- Feel free to edit and experiment - you will not corrupt the original files."
   ]
  },
  {
   "cell_type": "markdown",
   "metadata": {},
   "source": [
    "# Basic Python Data Types: Text Values\n",
    "\n",
    "We defined **strings** previously in the lesson on basic data types.\n",
    "\n",
    "> **Strings** are text data, distinguished by being surrounded by single or double quotes.\n",
    "\n",
    "In this lesson, we will learn more about strings, including how to operate on them, how to access parts of strings (substrings and single characters) and useful methods included with the string object type.\n",
    "\n",
    "---\n",
    "Questions and exercises are distributed throughout this lesson. Please run the code cell below to import them before starting the lesson. The code will not produce any visible output, but exercises and questions will be loaded for later use."
   ]
  },
  {
   "cell_type": "code",
   "execution_count": null,
   "metadata": {},
   "outputs": [],
   "source": [
    "# Run this cell to import lesson exercises\n",
    "from QuestionsStrings import Q1,Q2,Q3,Q4,Q5,Q6,Q7, question, solution"
   ]
  },
  {
   "cell_type": "markdown",
   "metadata": {},
   "source": [
    "---\n",
    "## Lesson Goals\n",
    "- String operators (+, *, in, not in)\n",
    "- String indexing (fetching characters)\n",
    "- String slicing (fetching parts of strings)\n",
    "- Useful string methods\n",
    "\n",
    "**Key Concepts** concatenation, string indexing, string slicing, string methods"
   ]
  },
  {
   "cell_type": "markdown",
   "metadata": {},
   "source": [
    "---\n",
    "# Working with Strings\n",
    "\n",
    "**Strings** are text data, and are expressed inside single or double quotes. That is, these are equivalent in Python and you can choose between which to use.\n",
    "\n",
    "```python\n",
    "x = 'text'\n",
    "y = \"text\"\n",
    "```\n",
    "\n",
    "Above, both variables have the same content.\n",
    "\n",
    "A few rules derive from the demarcation of strings with quotes. \n",
    "\n",
    "Occasionally you will have text that includes quotes within the string. If you choose to surround your string with double quotes, you can include single quotes within it, and vice versa:\n",
    "\n",
    "```python\n",
    "x = \"Chicago O'Hare\"\n",
    "```\n",
    "\n",
    "Quotes (and other special characters) can also be **escaped** by preceding them with the backslash (\\\\) character.\n",
    "\n",
    "```python\n",
    "x = 'Chicago O\\'Hare'\n",
    "```\n",
    "\n",
    "Alternatively, if you have a string with backslashes in it (for example, a file directory), you can convert the string into a 'raw string' and void the escape function by preceding the string with the letter r, as shown here:\n",
    "```python\n",
    "r'\\string'\n",
    "```\n",
    "\n",
    "Finally, if a string has several lines in it, you must enclose it in triple quotes:\n",
    "```python\n",
    "x = '''this\n",
    "is\n",
    "one\n",
    "string'''\n",
    "```\n",
    "\n",
    "**Exercise 1** Store the following strings as variables. I assigned them the variables a, b, c, but you can give any name you'd like."
   ]
  },
  {
   "cell_type": "code",
   "execution_count": null,
   "metadata": {},
   "outputs": [],
   "source": [
    "a = Scarlett O'Hara"
   ]
  },
  {
   "cell_type": "code",
   "execution_count": null,
   "metadata": {},
   "outputs": [],
   "source": [
    "b = “The time has come,\" the walrus said, \"to talk of many things”"
   ]
  },
  {
   "cell_type": "code",
   "execution_count": null,
   "metadata": {},
   "outputs": [],
   "source": [
    "c = “But wait a bit,” the Oysters cried,\n",
    "      “Before we have our chat;\n",
    "     For some of us are out of breath,\n",
    "      And all of us are fat!”"
   ]
  },
  {
   "cell_type": "code",
   "execution_count": null,
   "metadata": {},
   "outputs": [],
   "source": [
    "solution(Q1)"
   ]
  },
  {
   "cell_type": "markdown",
   "metadata": {},
   "source": [
    "---\n",
    "## String Operators\n",
    "\n",
    "As with numerical values, we can also conduct operations with strings, but the operators have different meanings: \n",
    "\n",
    "|symbol| operation|\n",
    "|--|--|\n",
    "|+| concatenate|\n",
    "|*| repeat|\n",
    "|in |checks whether a substring is in the string|\n",
    "|not in| checks whether a substring is not in the string|\n",
    "\n",
    "**Note:** Comparison operators (see lesson 05) can also be used on strings, but remember that they sort according to the order of your character set.\n",
    "\n",
    "When concatenating separate words, concatenate (+) requires that you add spaces into strings, it will not do so automatically.\n",
    "\n",
    "For example, we can concatenate the artist name with other terms to form a sentence:"
   ]
  },
  {
   "cell_type": "code",
   "execution_count": null,
   "metadata": {},
   "outputs": [],
   "source": [
    "artist = 'Frida Kahlo'"
   ]
  },
  {
   "cell_type": "code",
   "execution_count": null,
   "metadata": {},
   "outputs": [],
   "source": [
    "print( artist + \"was a painter\")"
   ]
  },
  {
   "cell_type": "markdown",
   "metadata": {},
   "source": [
    "Note that we can concatenate a string variable with a string we are specifying in place. But also note that the program did not include a space between the name and the start of the second string. We have to include that ourselves, in the new string."
   ]
  },
  {
   "cell_type": "code",
   "execution_count": null,
   "metadata": {},
   "outputs": [],
   "source": [
    "print( artist + \" was a painter\") # included a space"
   ]
  },
  {
   "cell_type": "markdown",
   "metadata": {},
   "source": [
    "Trying to concatenate strings with other data types will not work."
   ]
  },
  {
   "cell_type": "code",
   "execution_count": null,
   "metadata": {},
   "outputs": [],
   "source": [
    "print(artist + 'was born in' + 1907) # will output an error"
   ]
  },
  {
   "cell_type": "markdown",
   "metadata": {},
   "source": [
    "To concatenate these, you would have to convert the integer into a string using the str() function, as we saw in the previous lesson.\n",
    "\n",
    "**Exercise 2: Use concatenation to print the artist and her life span in the conventional way, i.e. Artist Name (Birth-Death).** \n",
    "\n",
    "This is tricky. Remember to take spaces into account, and to write any new strings in between single or double quotes. Also remember to consider variables' data types. \n",
    "\n",
    "You can use the empty code cell below. Run your cell to check your output, and iterate as necessary. You will probably need to experiment a little! \n",
    "\n",
    "When you are ready, you can also check the correct answer below. The cell's output should be Frida Kahlo (1907-1954)."
   ]
  },
  {
   "cell_type": "code",
   "execution_count": null,
   "metadata": {},
   "outputs": [],
   "source": [
    "year_of_birth = 1907\n",
    "year_of_death = 1954"
   ]
  },
  {
   "cell_type": "code",
   "execution_count": null,
   "metadata": {},
   "outputs": [],
   "source": []
  },
  {
   "cell_type": "code",
   "execution_count": null,
   "metadata": {},
   "outputs": [],
   "source": [
    "solution(Q2)"
   ]
  },
  {
   "cell_type": "markdown",
   "metadata": {},
   "source": [
    "Finally, we can also multiply a string by an integer, which will just repeat the instance of that string a number of times."
   ]
  },
  {
   "cell_type": "code",
   "execution_count": null,
   "metadata": {},
   "outputs": [],
   "source": [
    "artist*10"
   ]
  },
  {
   "cell_type": "markdown",
   "metadata": {},
   "source": [
    "---\n",
    "## String Indexing and Slicing\n",
    "\n",
    "In Python,strings are in essence sequences of characters. We can access parts of strings by referencing their position within a string.\n",
    "\n",
    "<br>\n",
    "<div>\n",
    "<img src=\"Other_files/string2.png\" width=\"300\"/>\n",
    "</div>\n",
    "<br>\n",
    "\n",
    "We can access characters  in strings by giving the name of the string followed by square brackets. Each character is **indexed** by their position in the string, starting at **0**. \n",
    "\n",
    "This can be a bit confusing! In the diagram, **string[0]** would return the first character 's', for example.\n",
    "\n",
    "**Exercise 3** Retrieve the second character of the artist variable."
   ]
  },
  {
   "cell_type": "code",
   "execution_count": null,
   "metadata": {},
   "outputs": [],
   "source": []
  },
  {
   "cell_type": "code",
   "execution_count": null,
   "metadata": {},
   "outputs": [],
   "source": [
    "solution(Q3)"
   ]
  },
  {
   "cell_type": "markdown",
   "metadata": {},
   "source": [
    "**Exercise 4** Determine the positions of our artist's initials, extract and concatenate them. Note that whitespace characters also take up a position."
   ]
  },
  {
   "cell_type": "code",
   "execution_count": null,
   "metadata": {},
   "outputs": [],
   "source": [
    "f_init = artist[_]\n",
    "l_init = artist[_]\n",
    "\n",
    "print(f_init + \".\" + l_init + \".\")"
   ]
  },
  {
   "cell_type": "code",
   "execution_count": null,
   "metadata": {},
   "outputs": [],
   "source": [
    "question(Q4)"
   ]
  },
  {
   "cell_type": "markdown",
   "metadata": {},
   "source": [
    "We can also access characters starting from the end of the string, which is done with negative indexes:\n",
    "\n",
    "<br>\n",
    "<div>\n",
    "<img src=\"Other_files/string3.png\" width=\"300\"/>\n",
    "</div>"
   ]
  },
  {
   "cell_type": "markdown",
   "metadata": {},
   "source": [
    "---\n",
    "# Getting Parts of Strings: String slicing\n",
    "\n",
    "We can also access a range within the string (a substring), which is called **string slicing**. \n",
    "\n",
    "To do so, we call the string name, followed by the first position, a colon, and the last position of the characters we want, in square brackets. \n",
    "\n",
    "Slicing will pick everything **up to, but not including**, a position. In other words, the second number is not inclusive, meaning that it gives the position of the character given, - 1. \n",
    "\n",
    "That is, to get part of a string, we can use:\n",
    "\n",
    "**string_name[first_position : last_position + 1].**"
   ]
  },
  {
   "cell_type": "markdown",
   "metadata": {},
   "source": [
    "**string[0:2]** would return the first and second characters, despite position 2 being that of the third character (confusing, I know!).\n",
    "\n",
    "It might help to think about the indexes being 'in-between' characters. And repeat **up to, but not including** as a mantra.\n",
    "\n",
    "<br>\n",
    "<div>\n",
    "<img src=\"Other_files/string.png\" width=\"300\"/>\n",
    "</div>\n",
    "\n",
    "**Exercise 5** Retrieve the substring that includes our artist's name from her first initial to (and including) her second initial. That is, the output should be 'Frida K'."
   ]
  },
  {
   "cell_type": "code",
   "execution_count": null,
   "metadata": {},
   "outputs": [],
   "source": [
    "artist[___]"
   ]
  },
  {
   "cell_type": "code",
   "execution_count": null,
   "metadata": {},
   "outputs": [],
   "source": [
    "question(Q5)"
   ]
  },
  {
   "cell_type": "markdown",
   "metadata": {},
   "source": [
    "When slicing, we can **omit the start or end characters.** Instead of defining ```string[a:b]```, we could:\n",
    "\n",
    "```string[:b]``` Omit the start position. This would take every character from the beginning of the string up to (but not including) the end position. \n",
    "\n",
    "```string[a:]``` Omit the end position. This would take every character from the beginning position up to the end of the string. \n",
    "\n",
    "```string[:]``` Omitting both would extract the whole string.\n",
    "\n",
    "For instance, we could extract the first name of our artist either by specifying the full range or just by giving an end position:"
   ]
  },
  {
   "cell_type": "code",
   "execution_count": null,
   "metadata": {},
   "outputs": [],
   "source": [
    "# We could slice the string using both start and end numbers\n",
    "print(artist[0:5])"
   ]
  },
  {
   "cell_type": "code",
   "execution_count": null,
   "metadata": {},
   "outputs": [],
   "source": [
    "#This is equivalent to:\n",
    "print(artist[:5])"
   ]
  },
  {
   "cell_type": "markdown",
   "metadata": {},
   "source": [
    "**Exercise 6:** In the empty code cell below, slice into our artist string and extract the artist's last name. "
   ]
  },
  {
   "cell_type": "code",
   "execution_count": null,
   "metadata": {},
   "outputs": [],
   "source": []
  },
  {
   "cell_type": "code",
   "execution_count": null,
   "metadata": {},
   "outputs": [],
   "source": [
    "question(Q6)"
   ]
  },
  {
   "cell_type": "markdown",
   "metadata": {},
   "source": [
    "---\n",
    "#  Useful String Methods \n",
    "\n",
    "The string object comes with [multiple methods](https://docs.python.org/2.5/lib/string-methods.html) that are extremely useful when working with text data. These can be used to create lists of words, clean whitespace and fix capitalization, among other useful actions. \n",
    "\n",
    "|**Method**| Action |\n",
    "|---|---|\n",
    "|**string.lower()**| makes string lowercase|\n",
    "|**string.upper()**| makes string uppercase|\n",
    "|**string.split('separator')**| returns a list of substrings, split by a separator (space, if blank)|\n",
    "|**string.find('substring')**| gives you first position of a substring in a string|\n",
    "|**string.replace('old','new')**| replaces all occurences of search string with the new string.|\n",
    "|**string.lstrip()**| removes whitespace on left|\n",
    "|**string.rstrip()**| removes whitespace on right|\n",
    "|**string.strip()**| removes whitespace on both sides|\n",
    "|**line.startswith('substring')**| asks whether string starts with substring, giving true/false response|\n",
    "\n",
    "Also remember the built-in len() function, which can be useful with strings. You call it by using len(string).\n",
    "\n",
    "String methods will not act on the original string, so we have to reassign our variable to save the modification. \n",
    "\n",
    "For example, if we attempt to lowercase our artist:"
   ]
  },
  {
   "cell_type": "code",
   "execution_count": null,
   "metadata": {},
   "outputs": [],
   "source": [
    "artist.lower()"
   ]
  },
  {
   "cell_type": "markdown",
   "metadata": {},
   "source": [
    "If we check our variable, we see that its value has not changed: "
   ]
  },
  {
   "cell_type": "code",
   "execution_count": null,
   "metadata": {},
   "outputs": [],
   "source": [
    "artist"
   ]
  },
  {
   "cell_type": "markdown",
   "metadata": {},
   "source": [
    "Instead, we must reassign our variable (or, if we want to preserve its value, create a new one)."
   ]
  },
  {
   "cell_type": "code",
   "execution_count": null,
   "metadata": {},
   "outputs": [],
   "source": [
    "artist = artist.lower()"
   ]
  },
  {
   "cell_type": "code",
   "execution_count": null,
   "metadata": {},
   "outputs": [],
   "source": [
    "artist"
   ]
  },
  {
   "cell_type": "markdown",
   "metadata": {},
   "source": [
    "**Exercise 7:** Below, we have a string of many artists' names with incorrect formatting and errors. Using string methods, make the following changes. \n",
    "\n",
    "1. Replace underscores with spaces\n",
    "1. Replace zeroes with o's\n",
    "1. Fix capitalization to make it titlecase (you will have to research the [strings documentation](https://docs.python.org/2.5/lib/string-methods.html) for this one).\n",
    "1. This variable is a string. Transform it into a list of individual artists' names by separating on the comma character , \n",
    "\n",
    "Remember that the methods themselves will not be applied to the original string directly.\n",
    "\n",
    "The final output should be a list of artists names, correctly spelled and capitalized.\n",
    "\n",
    "If you would like to work in multiple cells, you can add cells by clicking to the left of a cell and pressing A or B (to add above or below)."
   ]
  },
  {
   "cell_type": "code",
   "execution_count": null,
   "metadata": {},
   "outputs": [],
   "source": [
    "artists ='PaBl0_Picass0,HeNri_MatiSse,Ed0uard_MaNet,S0f0nisba_AnGUiss0la,MaRie_CaSsAtt'"
   ]
  },
  {
   "cell_type": "code",
   "execution_count": null,
   "metadata": {},
   "outputs": [],
   "source": []
  },
  {
   "cell_type": "code",
   "execution_count": null,
   "metadata": {},
   "outputs": [],
   "source": [
    "artists"
   ]
  },
  {
   "cell_type": "code",
   "execution_count": null,
   "metadata": {},
   "outputs": [],
   "source": [
    "solution(Q7)"
   ]
  },
  {
   "cell_type": "markdown",
   "metadata": {},
   "source": [
    "--- \n",
    "# Lesson Summary\n",
    "\n",
    "- Strings are designated by \"\" or ''\n",
    "- Further specifications might result from strings containing quotes, multiple lines or special characters\n",
    "- \\+ and * can be used to concatenate and repeat strings\n",
    "- String[a]: Strings can be indexed by position, starting at 0\n",
    "- Strings[a:b] Strings can be sliced, up to but not including position b.\n",
    "- String methods provide powerful actions for string manipulation.\n",
    "\n",
    "<div style=\"text-align:center\">    \n",
    "  <a href=\"02%20Basic%20Data%20Types%20I%20-%20Numbers.ipynb\"> Previous Lesson: Basic Data Types I: Numbers & Numerical Operators</a>|\n",
    "   <a href=\"04%20Conditionals.ipynb\">Next Lesson: Conditionals</a>\n",
    "</div>\n",
    "\n",
    "--- \n",
    "# Further Resources\n",
    "\n",
    "[Python Programming for the Humanities - course centered on text analysis](https://www.karsdorp.io/python-course/)\n",
    "\n",
    "[NLTK: Natural Language Processing with Python](http://www.nltk.org/book/)\n",
    "\n",
    "[Cleaning text for Machine Learning](https://machinelearningmastery.com/clean-text-machine-learning-python/)"
   ]
  }
 ],
 "metadata": {
  "kernelspec": {
   "display_name": "Python 3",
   "language": "python",
   "name": "python3"
  },
  "language_info": {
   "codemirror_mode": {
    "name": "ipython",
    "version": 3
   },
   "file_extension": ".py",
   "mimetype": "text/x-python",
   "name": "python",
   "nbconvert_exporter": "python",
   "pygments_lexer": "ipython3",
   "version": "3.7.6"
  }
 },
 "nbformat": 4,
 "nbformat_minor": 4
}
