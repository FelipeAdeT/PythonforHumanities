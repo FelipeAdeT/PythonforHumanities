{
 "cells": [
  {
   "cell_type": "markdown",
   "metadata": {},
   "source": [
    "### Navigation Reminder\n",
    "\n",
    "- **Grey cells** are **code cells**. Click inside them and type to edit.\n",
    "- **Run**  code cells by pressing $ \\triangleright $  in the toolbar above, or press ``` shift + enter```.\n",
    "-  **Stop** a running process by clicking &#9634; in the toolbar above.\n",
    "- You can **add new cells** by clicking to the left of a cell and pressing ```A``` (for above), or ```B``` (for below). \n",
    "- **Delete cells** by pressing ```X```.\n",
    "- Run all code cells that import objects (such as the one below) to ensure that you can follow exercises and examples.\n",
    "- Feel free to edit and experiment - you will not corrupt the original files."
   ]
  },
  {
   "cell_type": "markdown",
   "metadata": {},
   "source": [
    "# Lesson 02. Reading Python Script: Semantics\n",
    "\n",
    "In this lesson, we will look at basic issues of **semantics** (meaning) in Python. In Python, code revolves around **objects**. We will introduce key object types including basic data structures, modules and functions. We will also introduce how to import files into the workspace.\n",
    "\n",
    "---\n",
    "Questions and exercises are distributed throughout this lesson. Please run the code cell below to import them before starting the lesson. The code will not produce any visible output, but exercises and questions will be loaded for later use."
   ]
  },
  {
   "cell_type": "code",
   "execution_count": null,
   "metadata": {},
   "outputs": [],
   "source": [
    "#Run this cell to import questions!\n",
    "\n",
    "from QuestionsSemantics import Q1,  Q2, Q3, Q4, E1, E2, E3, E4, question, solution"
   ]
  },
  {
   "cell_type": "markdown",
   "metadata": {},
   "source": [
    "---\n",
    "## Lesson Goals:\n",
    "\n",
    "\n",
    "- Import modules\n",
    "- Access files within Python\n",
    "- Manipulate files within Python\n",
    "- Open .csv files with Pandas\n",
    "- Write output to file\n",
    "\n",
    "**Key Concepts:** object-oriented, class, attribute, method, variable, function, module, open(), read(), write(), pandas.read_csv(), file handle\n"
   ]
  },
  {
   "cell_type": "markdown",
   "metadata": {},
   "source": [
    "---\n",
    "# Everything in Python is an Object\n",
    "\n",
    "Python is an **object-oriented programming (OOP) language**. That is, it is a coding language that is based on the creation and then manipulation of objects.\n",
    "\n",
    "> **Object:** An entity that contains data along with associated metadata and/or functionalities. \n",
    "\n",
    "Objects can contain data in fields, as well as code. That is, objects have **attributes** (metadata) and **methods** (functions that 'belong' to, and act upon, an object). An object's  **class**, or type, determines its attributes and methods. \n",
    "\n",
    "The definition of objects is naturally abstract; \n",
    "\n",
    "Python comes with many predefined object classes, but users can also create their own. Over the course, we will get familiarized with built-in object classes for storing single values, such as **strings, integers and floats.** We will also learn about different types of **compound data types (lists, tuples, dictionaries, sequences)**, for storing multiple values. Other important objects include **functions** and **modules**.\n",
    "\n",
    "---"
   ]
  },
  {
   "cell_type": "markdown",
   "metadata": {},
   "source": [
    "# Storing Data: Basic and Compound Built-In Data Types (A Note)\n",
    "\n",
    "Python provides several built-in object types that are useful for storing data of different forms. In the previous lesson, we briefly used strings (text objects) and lists. \n",
    "\n",
    "Several data types exist for storing single values. Strings can be used to store text. Other types include numerical types such as integers (full numbers) and floats (numbers with decimal points), as well as other types of collections for storing multiple values such as dictionaries and tuples. \n",
    "\n",
    ">A **string** is a piece of text, a sequence of characters.\n",
    "    \n",
    ">An **integer** is a whole number.\n",
    "\n",
    ">A **float (floating point)** is a number with a decimal point.\n",
    "\n",
    ">A **boolean** is a True or False, 0 or 1, value.\n",
    "\n",
    "\n",
    "As an example, we can assign objects of different types to a variable that reflects its nature. \n",
    "\n",
    "For instance, we could create a variable for a text value (here the word 'string'). As we stated before, in Python, strings are surrounded by quotes."
   ]
  },
  {
   "cell_type": "code",
   "execution_count": null,
   "metadata": {},
   "outputs": [],
   "source": [
    "text = 'string'"
   ]
  },
  {
   "cell_type": "markdown",
   "metadata": {},
   "source": [
    "Regarding numbers, Python will automatically identify whether a number is a whole number (an integer) or has a decimal (is a 'float' number)."
   ]
  },
  {
   "cell_type": "code",
   "execution_count": null,
   "metadata": {},
   "outputs": [],
   "source": [
    "whole_number = 1\n",
    "\n",
    "decimal = 1.1"
   ]
  },
  {
   "cell_type": "markdown",
   "metadata": {},
   "source": [
    "Other object classes exist for holding multiple values (for example, several strings or numbers, or a combination of types). We already saw lists, but other important ones are **dictionaries**. We will look at these basic data types in detail in upcoming lessons; for now it suffices to know that they exist."
   ]
  },
  {
   "cell_type": "markdown",
   "metadata": {},
   "source": [
    "question(Q1)"
   ]
  },
  {
   "cell_type": "markdown",
   "metadata": {},
   "source": [
    "# Functions & Methods: Giving Code a Name\n",
    "\n",
    "Even pieces of code can be stored as objects in Python.\n",
    "\n",
    ">**Function:** A function is piece of code for performing an action that has been given a name. \n",
    "\n",
    "A function is called by its name, followed by parenthesis:\n",
    "\n",
    "```python\n",
    "function()\n",
    "```\n",
    "\n",
    "The function's action can be modified by inserting arguments into the parentheses. Functions will accept or require arguments depending on how they were defined.\n",
    "\n",
    "We have already used some functions. **print()** displays text as an output, the string we are printing is the one necessary argument for the function."
   ]
  },
  {
   "cell_type": "code",
   "execution_count": null,
   "metadata": {},
   "outputs": [],
   "source": [
    "#Here, the print function prints the input text, 'Hello World'\n",
    "print('Hello World')"
   ]
  },
  {
   "cell_type": "markdown",
   "metadata": {},
   "source": [
    "There are several [built-in Python functions](https://docs.python.org/3/library/functions.html) and many more in modules that can be imported into Python. You can also create **functions** yourself to avoid rewriting code multiple times in the same session. We will learn to do this in later lessons."
   ]
  },
  {
   "cell_type": "markdown",
   "metadata": {},
   "source": [
    "**Exercise** Using some common built-in functions. \n",
    "\n",
    "In the cell below, we have created an object that stores the names of artists and the years they were born. "
   ]
  },
  {
   "cell_type": "code",
   "execution_count": null,
   "metadata": {},
   "outputs": [],
   "source": [
    "artist_births = {'Frida Kahlo':1907, 'Pablo Picasso':1881, 'Andy Warhol':1928}"
   ]
  },
  {
   "cell_type": "markdown",
   "metadata": {},
   "source": [
    "You might have noticed that we haven't yet seen an object structured like this. In the cell below, use the built-in function **type()** to ascertain what type of object we have created."
   ]
  },
  {
   "cell_type": "code",
   "execution_count": null,
   "metadata": {},
   "outputs": [],
   "source": []
  },
  {
   "cell_type": "markdown",
   "metadata": {},
   "source": [
    "Next, using the documentation on [built-in functions](https://docs.python.org/3/library/functions.html) if necessary, try to find and use two functions in the cells below. One should sort the entries of our object alphabetically. The other should calculate the length of the  object.  "
   ]
  },
  {
   "cell_type": "code",
   "execution_count": null,
   "metadata": {},
   "outputs": [],
   "source": []
  },
  {
   "cell_type": "code",
   "execution_count": null,
   "metadata": {},
   "outputs": [],
   "source": []
  },
  {
   "cell_type": "code",
   "execution_count": null,
   "metadata": {},
   "outputs": [],
   "source": [
    "Solution(E1)"
   ]
  },
  {
   "cell_type": "markdown",
   "metadata": {},
   "source": [
    "## Methods: Object-specific Functions\n",
    "\n",
    "**Methods** are functions that are specific to an object class. When an object of a certain class is created, it comes with any methods associated to that class. They are applied to the object.\n",
    "\n",
    "Methods are called by giving the name of the object followed by a period and the name of the method: \n",
    "\n",
    "```object.method()```  \n",
    "\n",
    "For instance, let's create a variable containing the text 'humanities'. As we saw before, texts are string objects, and string objects come with their own [methods](https://docs.python.org/2.5/lib/string-methods.html). \n",
    "\n",
    "For instance, we could use the built-in upper() method of the string object class to make the text all caps."
   ]
  },
  {
   "cell_type": "code",
   "execution_count": null,
   "metadata": {},
   "outputs": [],
   "source": [
    "text = 'humanities'\n",
    "text.upper()"
   ]
  },
  {
   "cell_type": "markdown",
   "metadata": {},
   "source": [
    "You can consult an object class' methods and attributes with the **type( )** and **help( )** functions, by first using type() to find out the object type and then getting further information on said type."
   ]
  },
  {
   "cell_type": "code",
   "execution_count": null,
   "metadata": {},
   "outputs": [],
   "source": [
    "type(text)"
   ]
  },
  {
   "cell_type": "code",
   "execution_count": null,
   "metadata": {},
   "outputs": [],
   "source": [
    "help(__)"
   ]
  },
  {
   "cell_type": "code",
   "execution_count": null,
   "metadata": {},
   "outputs": [],
   "source": [
    "question(Q2)"
   ]
  },
  {
   "cell_type": "code",
   "execution_count": null,
   "metadata": {},
   "outputs": [],
   "source": [
    "question(Q3)"
   ]
  },
  {
   "cell_type": "markdown",
   "metadata": {},
   "source": [
    "**Tip** In Jupyter, you can also use ```shift + tab``` when typing the name of Python objects that are built in or imported from modules. This will cause a tooltip with information to display above the cell."
   ]
  },
  {
   "cell_type": "markdown",
   "metadata": {},
   "source": [
    "---\n",
    "## Functions and Methods in Action: Accessing and Creating Text Files with open(), file.read() and write()\n",
    "\n",
    "There are several ways to open a file which will vary in the way they use memory and the way code is structured, and the file type. We will look at the built-in **open** and **read** functions and using **Pandas** to handle .csv files (spreadsheets).\n",
    "\n",
    "### Opening text files with the open() function\n",
    "\n",
    "Python's **open()** function uses a filepath to create a \"file handle\", a point of access to a file.\n",
    "\n",
    "It does nothing else-- not even read it. It creates a variable that you can later use to read the file. \n",
    "\n",
    "```python\n",
    "myfile= open('filename.txt', 'mode')\n",
    "```\n",
    "\n",
    "As with any variable, you can choose which name to assign (here, 'myfile').\n",
    "\n",
    "You must give a string with the filename and filetype, ex. 'filename.txt'. If the file is in another directory, you have to specify a filepath, starting at the current working directory.\n",
    "\n",
    "And you can optionally give a mode for opening the file. 'r' will read an existing file. 'w' allows you to write it (create a new file if one with that name does not exist, or write onto an existing file). 'a' allows you to append data to an existing file as new lines. You can also dictate whether a the file is not text but binary format by following the mode with the letter 'b'.\n",
    "\n",
    "---\n",
    "\n",
    "Let's open a file. TheRaven.txt is a file saved to a subfolder in our current working directory. "
   ]
  },
  {
   "cell_type": "code",
   "execution_count": null,
   "metadata": {},
   "outputs": [],
   "source": [
    "theRaven = open('Other_files/TheRaven.txt', mode='r')"
   ]
  },
  {
   "cell_type": "markdown",
   "metadata": {},
   "source": [
    "As can be seen, this line does not output any visible code. Instead, it has created an object called 'theRaven' that points to the file. This becomes clear if we use ```print()```."
   ]
  },
  {
   "cell_type": "code",
   "execution_count": null,
   "metadata": {},
   "outputs": [],
   "source": [
    "print(theRaven)"
   ]
  },
  {
   "cell_type": "markdown",
   "metadata": {},
   "source": [
    "What we are seeing is some information on our file handle, the object that points to our file. \n",
    "\n",
    "### file.read() and file.close()\n",
    "\n",
    "The **file handle** is a type of object with several methods. **```filehandle.read()```** and **```filehandle.close()```** can be used in tandem to extract data from a file and then close the filehandle. Though files you open will eventually close on their own, there are [several reasons](https://stackoverflow.com/questions/25070854/why-should-i-close-files-in-python) it is good practice to close your files. \n",
    "\n",
    "```.read()``` can be used in several ways. The simplest option is to create a file handle with ```open()```, then use the ```.read()``` method, and finally close the file: \n",
    "\n",
    "```python\n",
    "myfile= open('filename or path', 'mode')\n",
    "data= myfile.read()\n",
    "myfile.close()\n",
    "```\n",
    "This option will bring in the whole file as a block of text, and you will later have to find ways to subdivide the file. \n",
    "\n",
    "Let's try it:"
   ]
  },
  {
   "cell_type": "code",
   "execution_count": null,
   "metadata": {},
   "outputs": [],
   "source": [
    "file = open('Other_files/TheRaven.txt','r')\n",
    "Raventext = file.read()\n",
    "file.close()"
   ]
  },
  {
   "cell_type": "markdown",
   "metadata": {},
   "source": [
    "As you can see, this also has not printed the content of the file. Instead, we have created an object that reads the content of the file. We can now print it:"
   ]
  },
  {
   "cell_type": "code",
   "execution_count": null,
   "metadata": {},
   "outputs": [],
   "source": [
    "print(Raventext)"
   ]
  },
  {
   "cell_type": "markdown",
   "metadata": {},
   "source": [
    "**Exercise 2** We have prepared a file called TheWalrusandtheCarpenter.txt in our Other_files folder. Create a file handle with the name \"file\", read the data as the variable \"walrus\" and print the contents of the file. Remember to close the file handle after reading the data."
   ]
  },
  {
   "cell_type": "code",
   "execution_count": null,
   "metadata": {},
   "outputs": [],
   "source": []
  },
  {
   "cell_type": "code",
   "execution_count": null,
   "metadata": {},
   "outputs": [],
   "source": [
    "solution(E2)"
   ]
  },
  {
   "cell_type": "markdown",
   "metadata": {},
   "source": [
    "### Variations using open() and read():\n",
    "\n",
    "**```with:```** To ensure that we don't forget to close a file, a common way of opening a file is to use a 'with' statement:\n",
    "\n",
    "```python\n",
    "with open('file path', 'a') as myfile:\n",
    "   data = myfile.read()\n",
    "```\n",
    "\n",
    "This is equivalent to the code using **open()**, **read()**, and **close()** as discussed before. The difference is that with 'with', we are opening a code block. Anything you want to do to the data will have to remain in the indented block that follows. Once we exit the code block, we will also stop accessing the file, so we do not need to use file.close(). Note that as soon as you leave the indented block, you cannot do anything to the file.\n",
    "\n",
    "In our case, we might open our file like this:"
   ]
  },
  {
   "cell_type": "code",
   "execution_count": null,
   "metadata": {},
   "outputs": [],
   "source": [
    "with open('Other_files/TheRaven.txt','r') as theRaven:\n",
    "    Raventext = theRaven.read()\n",
    "print(Raventext)"
   ]
  },
  {
   "cell_type": "markdown",
   "metadata": {},
   "source": [
    "**for line in file:** The options above loaded the file as a block of text. To continue working with it as data, you would have to use functions and methods to split it or manipulate it in different ways.  Another option is to create a file handle and then do something to the data, line by line .\n",
    "\n",
    "```python\n",
    "myfile= open('filename', 'mode')\n",
    "for line in myfile:\n",
    "    print(line)\n",
    "```  \n",
    "The code block could also include be loops and conditionals  (which we will learn about later) to select and manipulate specific lines from the file.\n",
    "\n",
    "In our example, we might want to open the file in question and print only the lines that mention the raven:"
   ]
  },
  {
   "cell_type": "code",
   "execution_count": null,
   "metadata": {},
   "outputs": [],
   "source": [
    "theRaven=open('Other_files/TheRaven.txt','r')\n",
    "\n",
    "for line in theRaven:\n",
    "    if ' raven' in line:\n",
    "        print(line)"
   ]
  },
  {
   "cell_type": "markdown",
   "metadata": {},
   "source": [
    "**Exercise 3:** Use the for line in file syntax to print the Walrus and the Carpenter poem line by line:"
   ]
  },
  {
   "cell_type": "code",
   "execution_count": null,
   "metadata": {},
   "outputs": [],
   "source": []
  },
  {
   "cell_type": "code",
   "execution_count": null,
   "metadata": {},
   "outputs": [],
   "source": [
    "solution(E3)"
   ]
  },
  {
   "cell_type": "markdown",
   "metadata": {},
   "source": [
    "# file.write()\n",
    "\n",
    "Just as you can use .read() to read files, you can also export content to a file with the **write()** method. Like ```read()```, **```.write()```** is a method of a file object. Thus, you can use open() with write() similarly to the ways described above to save data to a file created in the current directory or the specified file path. The file path does not have to point to an existing document- it can be used to create new files.\n",
    "\n",
    "Let's create a file to record the number of lines in \"The Raven\", which we calculated with the code above. The number of lines in the poem is held in the variable 'count'. We will export the information into a new text document in the Other_files folder."
   ]
  },
  {
   "cell_type": "code",
   "execution_count": null,
   "metadata": {},
   "outputs": [],
   "source": [
    "with open('Other_files/Ravencount.txt','w') as file:\n",
    "    file.write(str(count))"
   ]
  },
  {
   "cell_type": "code",
   "execution_count": null,
   "metadata": {},
   "outputs": [],
   "source": [
    "question(Q4)"
   ]
  },
  {
   "cell_type": "markdown",
   "metadata": {},
   "source": [
    "---\n",
    "## Modules: Using Code Developed by Others\n",
    "\n",
    "An advantage of Python is that it is an extensible language, meaning that you can add new features and expand Python's possibilities. Programmers have developed many extensions of Python, saved as **modules.** They can be thought of as libraries of Python code. By packaging code into a module, developers save it into a file that can be accessed later or by other people. \n",
    "\n",
    ">**Module:** A module is a file containing Python code. You can import modules to access functions, object classes and variables created by others. (You can also create your own, but we will not be learning to this). \n",
    "\n",
    "Because modules are files, they have to be installed on your system before being imported into your Python session in Jupyter. Modules can then be imported into the main environment. When you do this, you have access to functions, classes, variables and runnable code designed by others. You can thus use their definitions in your own projects.\n",
    "\n",
    "**Note:** If you are doing this tutorial online (on Binder), you are using an online environment where all necessary packages have been made available. **You do not need to install anything right now.** If you would like to install modules, we have made instructions available in the \"Installing Python and its Modules\" Lesson resource of the course.\n",
    "\n",
    "## Importing Modules\n",
    "\n",
    "To use a module once it is installed, you must access it in your Jupyter session. This is done with the **```import```* command. If you will be using a module within a notebook, you must import it. You will have to do this in every new file and every time you start a new session, otherwise you will get an error stating that the name of your module is not defined."
   ]
  },
  {
   "cell_type": "markdown",
   "metadata": {},
   "source": [
    "When you see something like this:"
   ]
  },
  {
   "cell_type": "code",
   "execution_count": null,
   "metadata": {},
   "outputs": [],
   "source": [
    "import pandas"
   ]
  },
  {
   "cell_type": "markdown",
   "metadata": {},
   "source": [
    "We are importing a module, which gathers code created by somebody else. \n",
    "\n",
    "It gives us access to functions and other statements that somebody else has designed.\n",
    "\n",
    "Pandas is a module for handling tabular data (we will learn about it in depth in further lessons). We could perhaps use it to import data about the art collections in the National Gallery."
   ]
  },
  {
   "cell_type": "code",
   "execution_count": null,
   "metadata": {},
   "outputs": [],
   "source": [
    "#Here we use the .read_csv method of pandas to import an excel file\n",
    "NGAData = pandas.read_excel(\"Other_files/NGADataSample.xlsx\") "
   ]
  },
  {
   "cell_type": "markdown",
   "metadata": {},
   "source": [
    "We can preview the contents of the file with the ```.head()``` method provided by Pandas:"
   ]
  },
  {
   "cell_type": "code",
   "execution_count": null,
   "metadata": {},
   "outputs": [],
   "source": [
    "# .head() allows us to see the first rows of our table\n",
    "NGAData.head()"
   ]
  },
  {
   "cell_type": "markdown",
   "metadata": {},
   "source": [
    "And then perhaps create some basic data visualizations. The file has a column called 'beginyear', giving the year the object was started. Perhaps we could visualize objects' years of creation over time."
   ]
  },
  {
   "cell_type": "code",
   "execution_count": null,
   "metadata": {},
   "outputs": [],
   "source": [
    "# .plot() is a method for plotting our data; and .hist specifies the type of graph (a histogram)\n",
    "NGAData['beginyear'].plot.hist(xlim=(1600,2000), bins=20)"
   ]
  },
  {
   "cell_type": "markdown",
   "metadata": {},
   "source": [
    "These are just illustrations of the possibilities opened up by a modules. The Python standard library includes over 200 modules that we can import into our workspace, and third-party developers have created thousands more that address a wide variety of needs. \n",
    "\n",
    "## Variations on the Import Command\n",
    "\n",
    "The **import command** has a few variations which have an effect on how you can call its objects to start using them.\n",
    "\n",
    "You can import a whole module and optionally assign it an alias. When calling an object from the module, you will have to specify the name  of the module (or alias, if you assigned one) as well as that of the object, separated by a period sign:\n",
    "\n",
    "```python\n",
    "import module as md\n",
    "myobject = md.object #create our own object of the imported object type\n",
    "```\n",
    "\n",
    "You can also import an object or objects from within a module. If you import the object alone, you can just call the object without specifying the module:\n",
    "\n",
    "```python\n",
    "from module import object\n",
    "myobject = object #create our own object of the imported object type\n",
    "```\n",
    "To import multiple objects, just separate them with a comma or call the import command in different rows. \n",
    "\n",
    "Occasionally, you might encounter this structure in other peoples' code:\n",
    "\n",
    "```python\n",
    "from module import *\n",
    "```\n",
    "The above imports all objects from a module. It is not recommendable to blindly import all objects from modules in this manner, because names from different modules might clash and overwrite existing objects such as functions or classes.\n",
    "\n",
    "**Exercise 4** In the cell below, import the module called emoji using the alias em. This module allows you to use emojis within python."
   ]
  },
  {
   "cell_type": "code",
   "execution_count": null,
   "metadata": {},
   "outputs": [],
   "source": []
  },
  {
   "cell_type": "markdown",
   "metadata": {},
   "source": [
    "Next, call the function emojize() from the imported module using the string 'Python is :thumbs_up:' as an argument. "
   ]
  },
  {
   "cell_type": "code",
   "execution_count": null,
   "metadata": {},
   "outputs": [],
   "source": []
  },
  {
   "cell_type": "code",
   "execution_count": null,
   "metadata": {},
   "outputs": [],
   "source": [
    "Solution(E4)"
   ]
  },
  {
   "cell_type": "markdown",
   "metadata": {},
   "source": [
    "--- \n",
    "# Lesson Summary\n",
    "- Python is an object-oriented programming language. That is, the language is centered around creating and manipulating objects.\n",
    "- Objects in Python have attributes and methods.\n",
    "- Functions are pieces of code with a name that run an action. (Methods are a special type of function).\n",
    "- Modules are files that give access to functions, objects and variables created by others.\n",
    "\n",
    "<div style=\"text-align:center\">    \n",
    "  <a href=\"O1%20Semantics.ipynb\">Previous Lesson: Reading Python Script - Semantics</a>|\n",
    "   <a href=\"03%20Basic%20Data%20Types%20I%20-%20Numbers.ipynb\">Next Lesson: Basic Data Types I. Numbers and Numerical Operators</a>\n",
    "</div>"
   ]
  }
 ],
 "metadata": {
  "kernelspec": {
   "display_name": "Python 3",
   "language": "python",
   "name": "python3"
  },
  "language_info": {
   "codemirror_mode": {
    "name": "ipython",
    "version": 3
   },
   "file_extension": ".py",
   "mimetype": "text/x-python",
   "name": "python",
   "nbconvert_exporter": "python",
   "pygments_lexer": "ipython3",
   "version": "3.7.6"
  }
 },
 "nbformat": 4,
 "nbformat_minor": 4
}
