{
 "cells": [
  {
   "cell_type": "markdown",
   "metadata": {},
   "source": [
    "# Lesson 1. Syntax & Semantics. Reading Python Script\n",
    "\n",
    "Much of your work as a humanist will be to read and understand others' code, so you can reuse  what has already been done by other or collaborate with programmers. \n",
    "\n",
    "Let's get you comfortable with reading Python code. In this lesson, we will look at some basic issues of **syntax** (form) and **semantics** (meaning)."
   ]
  },
  {
   "cell_type": "code",
   "execution_count": null,
   "metadata": {},
   "outputs": [],
   "source": [
    "#Run this cell to import questions!\n",
    "\n",
    "from QuestionsRPS import Q1, Q2, Q3, Q4, Q5, question"
   ]
  },
  {
   "cell_type": "markdown",
   "metadata": {},
   "source": [
    "---\n",
    "## Lesson Goals:\n",
    "\n",
    "- Recognize overarching Python syntax (statements, codeblocks, variables, objects and functions)\n",
    "- Assign variables with =\n",
    "- Know naming rules\n",
    "- Import modules\n",
    "- Interpret error messages \n",
    "\n",
    "**Key Concepts:** algorithm, pseudocode, statement, code block, object-oriented, class, attribute, method, variable, function, module, error message\n",
    "\n",
    "---\n",
    "# A recipe for a task\n",
    "\n",
    "Though code might seem imposing, it is only a language: one that allows humans to speak to computers.\n",
    "\n",
    "Most simply, code is a set of instructions we give to a computer. It is a recipe we hand to the computer to solve a particular problem.\n",
    "\n",
    "In this course, we will come to understand the ingredients and instructions that go into that recipe. This lesson is a primer. \n",
    "\n",
    ">**Algorithm:** a general procedure for solving a problem in a finite number of steps.\n",
    "\n",
    ">**Program:** A set of instructions that can be executed by a computer.\n",
    "\n",
    "When faced with a programming language, translating lines of code into plain English is a useful strategy.\n",
    "\n",
    ">**Pseudocode:** A detailed description of what a program or algorithm must do, expressed in a natural language rather than a programming language.\n",
    "\n",
    "For instance, say we want to create a simple program. You are an art lover, and love all sorts of cultural production (a true Renaissance person!). Perhaps you want to write a piece of code to announce your passion.\n",
    "\n",
    "First, let's describe everything we want the code to do. We could:\n",
    "\n",
    "1. Create a list of seven arts, including 'Painting', 'Architecture', 'Sculpture', 'Literature', 'Music', 'Performing Art', 'Film'\n",
    "\n",
    "2. For each art in the list, \n",
    "    print \"This art is one of the seven arts\",\n",
    "    and then print \"I love this art\".\n",
    "    \n",
    "3. When done with all arts, print \"But what about photography?\"\n",
    "\n",
    "That is what the code below does. You might not fully be aware of the details of the structure, but you can begin to read it: "
   ]
  },
  {
   "cell_type": "code",
   "execution_count": null,
   "metadata": {},
   "outputs": [],
   "source": [
    "SevenArts = ['Painting','Architecture','Sculpture','Literature','Music','Performing Art','Film'] \n",
    "\n",
    "for art in SevenArts:     \n",
    "    print(art, \"is one of the seven arts\") \n",
    "    print(\"I love\", art)                    \n",
    "print(\"But what about photography?\") \n",
    "\n",
    "#(Run me!)"
   ]
  },
  {
   "cell_type": "markdown",
   "metadata": {},
   "source": [
    "This silly piece of code hopefully illustrates that it helps to try to translate code into a human language to figure out its meaning, or plan our approach to a problem.\n",
    "\n",
    "We will use **pseudocode** as the course advances to give prompts and aid in code interpretation. Through pseudocode, we can put the steps that we want to happen in an algorithm into words. We can also translate code into written English, a good exercise for decyphering code that is already written. \n",
    "\n",
    "---\n",
    "# Syntax and Semantics \n",
    "\n",
    ">**Syntax** refers to the structures of a language, whereas **semantics** refers to meaning. \n",
    "\n",
    "They would be our recipe's instructions and ingredients.\n",
    "\n",
    "In this lesson, we will look at the general structure of Python and its basic semantic units. Throughout the course, we will explore essential syntactical and semanticals components more deeply.\n",
    "\n",
    "## Syntax: Reading Code\n",
    "\n",
    "Python is a high-level programming language that prioritizes human readability. Python's syntactic structure makes it very easy for humans to read. \n",
    "\n",
    "### 1. Comments\n",
    "\n",
    "Comments can be added following a **#**, so you can add explanatory notes for yourself and others as you write your code. Anything written after a # in the same line will not run. \n",
    "\n",
    "Comments can be added on separate lines or inline, after any active code. They do not affect indentation.\n",
    "\n",
    "You will also find that people use hashtags to \"comment out\" code that they don't want to run, but might want to keep for other reasons."
   ]
  },
  {
   "cell_type": "code",
   "execution_count": null,
   "metadata": {},
   "outputs": [],
   "source": [
    "# Don't forget to read these when they appear in a cell! "
   ]
  },
  {
   "cell_type": "code",
   "execution_count": null,
   "metadata": {},
   "outputs": [],
   "source": [
    "question(Q1)"
   ]
  },
  {
   "cell_type": "markdown",
   "metadata": {},
   "source": [
    "### 2. Reading Whitespace\n",
    "\n",
    "> **Whitespace:** Characters that do not represent visible marks, but fill space.\n",
    "\n",
    "While other languages ignore whitespace, Python uses line breaks and indentations to structure code. This makes code easy to follow because it minimizes the number of brackets, braces and other punctuation in the code.\n",
    "\n",
    "Compare our code written in Python witht the same example written in Java, another popular language (that ignores whitespace).\n",
    "\n",
    "**Python:**\n",
    "```python\n",
    "arts = ['Painting','Architecture','Sculpture','Literature','Music','Performing Art','Film']\n",
    "for art in arts:\n",
    "    print(art)\n",
    "```\n",
    "\n",
    "**Java:**\n",
    "```java\n",
    "public class Test {\n",
    "    public static void main(String args[]) {\n",
    "        String array[] = {\"Painting\",\"Architecture\",\"Sculpture\",\"Literature\",\"Music\",\"Performing Art\",\"Film\"};\n",
    "        for (String i : array) {\n",
    "          System.out.println(i);\n",
    "        }\n",
    "    }\n",
    "}\n",
    "```\n",
    "\n",
    "As we can see, Python is more intuitive, and minimizes the chances that we will forget to close brackets, parentheses, or make other syntactical mistakes.\n",
    "\n",
    "Let's look at Python's rules for using whitespace.\n",
    "\n",
    "### Line Breaks make Statements \n",
    "\n",
    "In Python, each **line** represents a **statement**. Each line break starts a new statement.\n",
    "\n",
    ">**Statement:** A syntactic unit that expresses one action to be carried out.\n",
    "\n",
    "You can override this rule and continue an expression on a new line by ending with **\\** or if using parentheses. You can also optionally include multiple statements in one line by using **;** to separate statements.\n",
    "\n",
    "\n",
    "### Indents create Codeblocks\n",
    "\n",
    "**Indentation** creates **code blocks**.\n",
    "\n",
    ">**Code block:** A set of statements that are executed together.\n",
    "\n",
    "A code block starts with a statement ending in a colon, **:**. Statements within the code block are indented. Anything at the same level of indentation belongs to the same block of code. \n",
    "\n",
    "Reducing the indentation back to the previous level ends a code block.\n",
    "\n",
    "For example, in the code we saw previously:"
   ]
  },
  {
   "cell_type": "code",
   "execution_count": null,
   "metadata": {
    "slideshow": {
     "slide_type": "-"
    }
   },
   "outputs": [],
   "source": [
    "#Below is a statement\n",
    "SevenArts = ['Painting','Architecture','Sculpture','Literature','Music','Performing','Film'] \n",
    "\n",
    "#  Below is a set of three statements.\n",
    "# Everything that is indented is in the same block.\n",
    "# They will finish running on every element in our list before proceeding with other code.\n",
    "\n",
    "for art in SevenArts:     \n",
    "    print(art, \"is one of the seven arts\")  \n",
    "    print(\"I love\", art)                    \n",
    "    \n",
    "# Because the next line is not indented, we have exited that block of code. \n",
    "# It will run once the block above is finished.     \n",
    "print(\"But what about photography?\")  "
   ]
  },
  {
   "cell_type": "markdown",
   "metadata": {},
   "source": [
    "Blocks can be **nested**. That is, code blocks can be inserted into other code blocks. This is done by indenting further (four more spaces). \n",
    "\n",
    "### Extra whitespace is not a problem\n",
    "\n",
    "Python is flexible with including additional **whitespace**. It is not picky with spaces within lines and allows you to add blank lines.\n",
    "\n",
    "Blank lines will not affect code blocks. Use these for clarity.\n",
    "\n",
    "What Python is strict about is indentation. Always use **four spaces** to indent code. Do not use tabs. Oftentimes, unexpected errors are due to issues with indentation."
   ]
  },
  {
   "cell_type": "code",
   "execution_count": null,
   "metadata": {},
   "outputs": [],
   "source": [
    "SevenArts = ['Painting','Architecture','Sculpture','Literature','Music','Performing','Film']\n",
    "      \n",
    "#Python does not mind blank lines or extra spaces, use them for clarity\n",
    "    \n",
    "for art in SevenArts:     \n",
    "    print(art, \"is one of the seven arts\") \n",
    "\n",
    "# They won't affect indentation (so the lines above and below\n",
    "# this comment will still be read as part of the same block)\n",
    "\n",
    "    print(\"I love\", art)                    \n",
    "print(\"But what about photography?\")"
   ]
  },
  {
   "cell_type": "code",
   "execution_count": null,
   "metadata": {},
   "outputs": [],
   "source": [
    "question(Q2)"
   ]
  },
  {
   "cell_type": "markdown",
   "metadata": {},
   "source": [
    "---\n",
    "# 2.2 Semantics: Objects, Variables, Functions and Modules\n",
    "\n",
    "Python is an **object-oriented programming language**, meaning that most things within Python are objects you can manipulate.\n",
    "\n",
    "> **Object:** An entity that contains data along with associated metadata and/or functionalities.  \n",
    "\n",
    "Objects have **attributes** (metadata) and **methods** (functions that 'belong' to, and act upon, an object).\n",
    "\n",
    "Object **classes** are types of objects. They share common attributes and methods. Some are predefined (we will study the most important ones in subsequent lessons).\n",
    "\n",
    "Over the course, we will get familiarized with default object classes such as strings, integers and floats, and different types of compound data types (lists, tuples, dictionaries, sequences).\n",
    "\n",
    "---\n",
    "# A. Variables: Giving Objects a Label\n",
    "\n",
    ">A **variable** is a label or name that points to an instance of an object to help call (retrieve) it.\n",
    "\n",
    "You **assign** an object to a variable with a single **= sign**, placing the variable name on the left and its value on the right. \n",
    "\n",
    "For example: "
   ]
  },
  {
   "cell_type": "code",
   "execution_count": null,
   "metadata": {},
   "outputs": [],
   "source": [
    "artist = 'Pablo Picasso'\n",
    "\n",
    "# Here, we assign the text 'Pablo Picasso' to the variable 'artist'."
   ]
  },
  {
   "cell_type": "code",
   "execution_count": null,
   "metadata": {},
   "outputs": [],
   "source": [
    "#Let's check its value:\n",
    "\n",
    "artist"
   ]
  },
  {
   "cell_type": "markdown",
   "metadata": {},
   "source": [
    "Any instance of an object can be assigned to a variable.\n",
    "\n",
    "It is called a variable because it **can be overwritten.** Be careful: if you assign the name again, you will change its value."
   ]
  },
  {
   "cell_type": "code",
   "execution_count": null,
   "metadata": {},
   "outputs": [],
   "source": [
    "#Let's call somebody else an artist:\n",
    "artist = 'Frida Kahlo'"
   ]
  },
  {
   "cell_type": "code",
   "execution_count": null,
   "metadata": {},
   "outputs": [],
   "source": [
    "#Check:\n",
    "artist"
   ]
  },
  {
   "cell_type": "markdown",
   "metadata": {},
   "source": [
    "As you can see, we have overwritten the previous value for this variable. Picasso no longer exists!\n",
    "\n",
    "In this example, we were assigning a string (text) object to a variable. To hold several pieces of text, we would have to use another object class. Many object classes for holding multiple values exist in Python; we will study them as we advance in the course. The most basic one is a list.\n",
    "\n",
    ">**List:** An ordered, changeable collection of values. \n",
    "\n",
    "Lists are denoted by **square brackets []**, and its elements are separated by commas. Any object type could be a value within a list, including other lists or collections of objects (putting a list within a list is called nesting).\n",
    "\n",
    "In our example, we could save both painters' names by assigning a list to the variable artists:"
   ]
  },
  {
   "cell_type": "code",
   "execution_count": null,
   "metadata": {},
   "outputs": [],
   "source": [
    "artists = ['Pablo Picasso', 'Frida Kahlo']"
   ]
  },
  {
   "cell_type": "code",
   "execution_count": null,
   "metadata": {},
   "outputs": [],
   "source": [
    "artists"
   ]
  },
  {
   "cell_type": "markdown",
   "metadata": {},
   "source": [
    "---\n",
    "## Naming\n",
    "\n",
    "In Python, we give names to the instances of objects we create. Python does not interpret names, so these can be used to our advantage. Use names that are easy to understand and remember to enhance the legibility of our code. \n",
    "\n",
    "You can choose any names you would like (with a few exceptions). "
   ]
  },
  {
   "cell_type": "code",
   "execution_count": null,
   "metadata": {},
   "outputs": [],
   "source": [
    "# Let's re-assign 'Pablo Picasso' to a variable\n",
    "\n",
    "a = 'Pablo Picasso'\n",
    "artist = 'Pablo Picasso' \n",
    "\n",
    "# Both snippets of code do exactly the same thing, but which is clearer? \n",
    "# The second one is easier to understand because it holds meaning."
   ]
  },
  {
   "cell_type": "markdown",
   "metadata": {},
   "source": [
    "### Naming Limits:\n",
    " - You cannot start a variable name with a number\n",
    " - You cannot use whitespace or punctuation other than \\_\n",
    " - Some reserved words cannot be used (if, where, print...). \n",
    "     - These words are green in Jupyter Notebooks and Jupyter Lab.\n",
    " - Variable names are case-sensitive. (ex. artist, Artist and ArTiSt would be different objects- a bad choice).\n",
    " - Reassigning a name will overwrite the variable.\n",
    " "
   ]
  },
  {
   "cell_type": "code",
   "execution_count": null,
   "metadata": {},
   "outputs": [],
   "source": [
    "question(Q3)"
   ]
  },
  {
   "cell_type": "markdown",
   "metadata": {},
   "source": [
    "---\n",
    "# B. Storing Code: Functions & Methods\n",
    "\n",
    "Even pieces of code can be assigned a name in Python. You can create **functions** to avoid rewriting code multiple times in the same session.\n",
    "\n",
    ">**Function:** A function is a block of code for performing an action that has been given a name. \n",
    "\n",
    "Functions can be called (used). A function is called by its name, followed by parenthesis:\n",
    "\n",
    "```python\n",
    "function(argument)\n",
    "```\n",
    "\n",
    "The function's action can be modified by inserting an argument into the parentheses. Functions will accept or require arguments depending on how they were defined.\n",
    "\n",
    "There are several built-in functions on Python and many more in Python modules. \n",
    "\n",
    "You can also define (create) your own functions. \n",
    "\n",
    "We have already used some functions:"
   ]
  },
  {
   "cell_type": "code",
   "execution_count": null,
   "metadata": {},
   "outputs": [],
   "source": [
    "print('Hello World')\n",
    "\n",
    "#Here, the print function prints the input text, 'Hello World'\n"
   ]
  },
  {
   "cell_type": "markdown",
   "metadata": {},
   "source": [
    "There are several built-in functions in Python, but as you will see in another lesson, you can also create your own.\n",
    "\n",
    "#### Methods: Object-specific Functions\n",
    "\n",
    "Objects often include their own functions, called **methods**.\n",
    "\n",
    "Methods are called by giving the name of the object followed by a period and the name of the method: \n",
    "\n",
    "```object.method()```  \n",
    "\n",
    "They are applied to the object.\n",
    "\n",
    "Methods are defined for an object's class. When an object of a certain class is created, it comes with any methods associated to that class. There are several built-in Python methods, and you can also create your own."
   ]
  },
  {
   "cell_type": "code",
   "execution_count": null,
   "metadata": {},
   "outputs": [],
   "source": [
    "text = 'humanities'\n",
    "text.upper()"
   ]
  },
  {
   "cell_type": "markdown",
   "metadata": {},
   "source": [
    "Above, we created a variable containing the text 'humanities', a string object. We used the built-in upper() method to make the text all caps. upper() is a method of the 'string' object class.\n",
    "\n",
    "You can consult an object class' methods and attributes with the **type()** and **help()** functions."
   ]
  },
  {
   "cell_type": "code",
   "execution_count": null,
   "metadata": {},
   "outputs": [],
   "source": [
    "type(text)"
   ]
  },
  {
   "cell_type": "code",
   "execution_count": null,
   "metadata": {},
   "outputs": [],
   "source": [
    "question(Q4)"
   ]
  },
  {
   "cell_type": "code",
   "execution_count": null,
   "metadata": {},
   "outputs": [],
   "source": [
    "question(Q5)"
   ]
  },
  {
   "cell_type": "markdown",
   "metadata": {},
   "source": [
    "---\n",
    "# C. Modules\n",
    "\n",
    "An advantage of Python is that it is an extensible language, meaning that you can add new features and expand Python's possibilities. Programmers have developed many extensions of Python, saved as **modules.** They can be thought of as libraries of Python code.\n",
    "\n",
    ">**Module:** A module is a file containing Python code. You can import modules to access functions, object classes and variables created by others. (You can also create your own, but we will not be learning to this). \n",
    "\n",
    "You can import **modules** to use code developed elsewhere.\n",
    "\n",
    "When you see something like this:"
   ]
  },
  {
   "cell_type": "code",
   "execution_count": 1,
   "metadata": {},
   "outputs": [],
   "source": [
    "import pandas"
   ]
  },
  {
   "cell_type": "markdown",
   "metadata": {},
   "source": [
    "We are importing a module, which gathers code created by somebody else. \n",
    "\n",
    "It gives us access to functions and other statements that somebody else has designed.\n",
    "\n",
    "Pandas is a module for handling tabular data (we will learn about it in depth in further lessons. We could perhaps use it to import data about the art collections in the Met Museum: "
   ]
  },
  {
   "cell_type": "code",
   "execution_count": 2,
   "metadata": {},
   "outputs": [],
   "source": [
    "MetArt = pandas.read_csv(\"Other_files/MetArt.csv\")"
   ]
  },
  {
   "cell_type": "markdown",
   "metadata": {},
   "source": [
    "View some summary statistics:"
   ]
  },
  {
   "cell_type": "code",
   "execution_count": 5,
   "metadata": {},
   "outputs": [
    {
     "data": {
      "text/html": [
       "<div>\n",
       "<style scoped>\n",
       "    .dataframe tbody tr th:only-of-type {\n",
       "        vertical-align: middle;\n",
       "    }\n",
       "\n",
       "    .dataframe tbody tr th {\n",
       "        vertical-align: top;\n",
       "    }\n",
       "\n",
       "    .dataframe thead th {\n",
       "        text-align: right;\n",
       "    }\n",
       "</style>\n",
       "<table border=\"1\" class=\"dataframe\">\n",
       "  <thead>\n",
       "    <tr style=\"text-align: right;\">\n",
       "      <th></th>\n",
       "      <th>Object ID</th>\n",
       "      <th>AccessionYear</th>\n",
       "      <th>Object Begin Date</th>\n",
       "      <th>Object End Date</th>\n",
       "    </tr>\n",
       "  </thead>\n",
       "  <tbody>\n",
       "    <tr>\n",
       "      <th>count</th>\n",
       "      <td>18564.000000</td>\n",
       "      <td>18113.000000</td>\n",
       "      <td>18563.000000</td>\n",
       "      <td>18563.000000</td>\n",
       "    </tr>\n",
       "    <tr>\n",
       "      <th>mean</th>\n",
       "      <td>10406.000162</td>\n",
       "      <td>1949.745045</td>\n",
       "      <td>1804.822012</td>\n",
       "      <td>1834.423154</td>\n",
       "    </tr>\n",
       "    <tr>\n",
       "      <th>std</th>\n",
       "      <td>6407.861828</td>\n",
       "      <td>32.703485</td>\n",
       "      <td>211.885901</td>\n",
       "      <td>132.111504</td>\n",
       "    </tr>\n",
       "    <tr>\n",
       "      <th>min</th>\n",
       "      <td>1.000000</td>\n",
       "      <td>1872.000000</td>\n",
       "      <td>-12500.000000</td>\n",
       "      <td>-850.000000</td>\n",
       "    </tr>\n",
       "    <tr>\n",
       "      <th>25%</th>\n",
       "      <td>5003.750000</td>\n",
       "      <td>1925.000000</td>\n",
       "      <td>1787.000000</td>\n",
       "      <td>1805.000000</td>\n",
       "    </tr>\n",
       "    <tr>\n",
       "      <th>50%</th>\n",
       "      <td>10005.500000</td>\n",
       "      <td>1947.000000</td>\n",
       "      <td>1830.000000</td>\n",
       "      <td>1859.000000</td>\n",
       "    </tr>\n",
       "    <tr>\n",
       "      <th>75%</th>\n",
       "      <td>15127.250000</td>\n",
       "      <td>1972.000000</td>\n",
       "      <td>1876.000000</td>\n",
       "      <td>1893.000000</td>\n",
       "    </tr>\n",
       "    <tr>\n",
       "      <th>max</th>\n",
       "      <td>23154.000000</td>\n",
       "      <td>2019.000000</td>\n",
       "      <td>1976.000000</td>\n",
       "      <td>2000.000000</td>\n",
       "    </tr>\n",
       "  </tbody>\n",
       "</table>\n",
       "</div>"
      ],
      "text/plain": [
       "          Object ID  AccessionYear  Object Begin Date  Object End Date\n",
       "count  18564.000000   18113.000000       18563.000000     18563.000000\n",
       "mean   10406.000162    1949.745045        1804.822012      1834.423154\n",
       "std     6407.861828      32.703485         211.885901       132.111504\n",
       "min        1.000000    1872.000000      -12500.000000      -850.000000\n",
       "25%     5003.750000    1925.000000        1787.000000      1805.000000\n",
       "50%    10005.500000    1947.000000        1830.000000      1859.000000\n",
       "75%    15127.250000    1972.000000        1876.000000      1893.000000\n",
       "max    23154.000000    2019.000000        1976.000000      2000.000000"
      ]
     },
     "execution_count": 5,
     "metadata": {},
     "output_type": "execute_result"
    }
   ],
   "source": [
    "MetArt.describe()"
   ]
  },
  {
   "cell_type": "markdown",
   "metadata": {},
   "source": [
    "And then perhaps create some basic data visualizations. Perhaps we could visualize the museum's number of acquisitions over time:"
   ]
  },
  {
   "cell_type": "code",
   "execution_count": 15,
   "metadata": {},
   "outputs": [
    {
     "data": {
      "text/plain": [
       "<matplotlib.axes._subplots.AxesSubplot at 0x12488da90>"
      ]
     },
     "execution_count": 15,
     "metadata": {},
     "output_type": "execute_result"
    },
    {
     "data": {
      "image/png": "[encoded data removed]",
      "text/plain": [
       "<Figure size 432x288 with 1 Axes>"
      ]
     },
     "metadata": {
      "needs_background": "light"
     },
     "output_type": "display_data"
    }
   ],
   "source": [
    "MetArt['AccessionYear'].plot.hist(xlim=(1850,2000), bins=20)"
   ]
  },
  {
   "cell_type": "markdown",
   "metadata": {},
   "source": [
    "Of c\n",
    "\n",
    "---\n",
    "# 2.3. Coda: Error Messages\n",
    "\n",
    "The above discussion should give you the basic knowledge necessary to begin to read Python. \n",
    "\n",
    "If something goes wrong with your code, Python will stop executing and run an error message. Error messages are additional tool in your programming toolkit.\n",
    "\n",
    "There are two types of error messages:\n",
    "    \n",
    "- Syntax Errors: Errors that indicate that there is a mistake in the structure of your code\n",
    "-Exceptions: The code is structurally correct, but fails to execute for another reason (perhaps because of invalid input).\n",
    "\n",
    "Python will point to the line where the earliest error has occurred. The error name and message will give clues as to what went wrong.\n",
    "\n",
    "This will be helpful for troubleshooting when you start writing your own code.\n",
    "\n",
    "If you run the code below, you will encounter an error: "
   ]
  },
  {
   "cell_type": "code",
   "execution_count": null,
   "metadata": {
    "slideshow": {
     "slide_type": "-"
    }
   },
   "outputs": [],
   "source": [
    "SevenArts = ['Painting','Architecture','Sculpture','Literature','Music','Performing','Film']\n",
    "\n",
    "for art in SevenArts:\n",
    "    print(x, \"is one of the seven arts\")"
   ]
  },
  {
   "cell_type": "markdown",
   "metadata": {},
   "source": [
    "In the last line of the error message, Python gives you information about the type of error and its cause. Here, it is a \"NameError\", and there is an issue with \"x\".  We never created any variable named x, so Python is complaining.\n",
    "\n",
    "The body of the error message gives you information on the context in which the error occurred. A green arrow points to the line where Python first detected the error. It is helpful as an approximate location. It might mean that you made a mistake there, or that a mistake made earlier caused problems in that line. \n",
    "\n",
    "--- \n",
    "# 5. Lesson Summary\n",
    "\n",
    "- The Python language is human-readable because of its clear syntax and semantics.\n",
    "- In it, you create instances of objects and then perform actions on them.\n",
    "- It can be read much like sentences with nouns (objects) and a syntactical structure, or like a recipe with ingredients (semantics) and instructions (syntax).\n",
    "\n",
    "Basic syntax:\n",
    "- Comments (#) can help explain what each line is doing.\n",
    "- Each line (enter) represents a statement: an action.\n",
    "- Each code block (indent) is a set of actions performed together.\n",
    "\n",
    "Basic semantics:\n",
    "- Objects in Python have attributes and methods.\n",
    "- Variables assign a name to instances of objects.\n",
    "- Functions are pieces of code with a name that run an action. (Methods are a special type of function).\n",
    "- Modules are files that give access to functions, objects and variables created by others.\n",
    "    \n",
    "- Finally, error messages give insight into how to correct your code, including what caused the error and where it occurred.\n",
    "\n",
    "---\n",
    "# Further Resources:\n",
    "    \n",
    "For a similar, but more detailed approach: [Jake Vanderplas, _A Whirlwind Tour of Python_](https://jakevdp.github.io/WhirlwindTourOfPython/)"
   ]
  }
 ],
 "metadata": {
  "celltoolbar": "Slideshow",
  "kernelspec": {
   "display_name": "Python 3",
   "language": "python",
   "name": "python3"
  },
  "language_info": {
   "codemirror_mode": {
    "name": "ipython",
    "version": 3
   },
   "file_extension": ".py",
   "mimetype": "text/x-python",
   "name": "python",
   "nbconvert_exporter": "python",
   "pygments_lexer": "ipython3",
   "version": "3.7.6"
  }
 },
 "nbformat": 4,
 "nbformat_minor": 4
}
