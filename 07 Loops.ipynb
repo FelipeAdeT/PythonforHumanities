{
 "cells": [
  {
   "cell_type": "markdown",
   "metadata": {},
   "source": [
    "### Navigation Reminder\n",
    "\n",
    "- **Grey cells** are **code cells**. Click inside them and type to edit.\n",
    "- **Run**  code cells by pressing $ \\triangleright $  in the toolbar above, or press ``` shift + enter```.\n",
    "-  **Stop** a running process by clicking &#9634; in the toolbar above.\n",
    "- You can **add new cells** by clicking to the left of a cell and pressing ```A``` (for above), or ```B``` (for below). \n",
    "- **Delete cells** by pressing ```X```.\n",
    "- Run all code cells that import objects (such as the one below) to ensure that you can follow exercises and examples.\n",
    "- Feel free to edit and experiment - you will not corrupt the original files."
   ]
  },
  {
   "cell_type": "markdown",
   "metadata": {},
   "source": [
    "# Lesson 06: Loops\n",
    "\n",
    "**Loops** are repeated steps within code. They are blocks of code that allow us to begin automating work within a program. In this lesson, we will learn the syntax for **while-loops** and **for-loops**, as well as useful statements for stopping loops and skipping iterations, like break, else, continue and pass.\n",
    "\n",
    "---\n",
    "Questions and exercises are distributed throughout this lesson. Please run the code cell below to import them before starting the lesson. The code will not produce any visible output, but exercises and questions will be loaded for later use."
   ]
  },
  {
   "cell_type": "code",
   "execution_count": null,
   "metadata": {},
   "outputs": [],
   "source": [
    "from QuestionsLoops import E1,E2,E3,E4,E5,E6, question, solution"
   ]
  },
  {
   "cell_type": "markdown",
   "metadata": {},
   "source": [
    "---\n",
    "## Lesson Goals:\n",
    "- Understand the concepts of looping and iterations\n",
    "- Construct a while loop (indefinite) with an iterator variable\n",
    "- Construct a for loop (definite) through a set or range\n",
    "- Use break or continue to exit a loop or iteration\n",
    "\n",
    "**Key Concepts:** loop, iteration, indefinite loop, iterator variable, definite loop, while, for,break, continue, range() \n",
    "\n",
    "---\n",
    "# Indefinite and Definite Loops\n",
    "\n",
    ">**Loops** run several times, repeating a step within the code. This is called **iterating**, which is done over a variable. A loop goes through several iterations until it is exited. \n",
    "\n",
    ">**Indefinite loops** will go through an undefined number of iterations. **While-loops** are indefinite loops that run as long as a condition is true. \n",
    "\n",
    ">**Definite loops** have a defined length, looping over a finite set of things. **For-loops** are definite loops.\n",
    "\n",
    "---\n",
    "## While loops (Indefinite)\n",
    "\n",
    "Like an if-statement, the **while** statement evaluates a condition. But instead of going through to the next statement in the code, the loop will re-run as long as that condition remains true. This means that we have to program ways for the condition to eventually result in a 'False' output. \n",
    "\n",
    "We will do this through an **iteration variable**, a variable that changes value as the loop progresses and determines the number of iterations in the loop. These often go through a sequence of numbers.\n",
    "\n",
    "## While Loop Syntax\n",
    "```python\n",
    "i = 5\n",
    "\n",
    "while <condition based on i>:\n",
    "    code\n",
    "    i= i-1\n",
    "    \n",
    "other code...\n",
    "```\n",
    "\n",
    "### Which means...\n",
    "\n",
    "1. assign a name to an iterator variable\n",
    "\n",
    "2. while the condition is true,\n",
    "\n",
    "    perform some lines of code\n",
    "    \n",
    "3. give the iterator a new value\n",
    "\n",
    "4. and continue with other code.\n",
    "\n",
    "In this example, we have carefully constructed the iterator variable to change as the loop performs iterations. We do this to avoid the loop being infinite: at some point, as the variable changes, the condition will become false and the loop will stop. "
   ]
  },
  {
   "cell_type": "code",
   "execution_count": null,
   "metadata": {},
   "outputs": [],
   "source": [
    "count = 10\n",
    "\n",
    "while count > 0:\n",
    "    print(str(count) +\"!\")\n",
    "    count = count - 1\n",
    "print(\"lift off!\")"
   ]
  },
  {
   "cell_type": "markdown",
   "metadata": {},
   "source": [
    "**Exercise 1:** Create a while loop that performs 6 iterations. Combine it with an if statement so that when the iterator is even, the code prints \"tick,\" and when it is odd, it prints \"tock\". Finally, have it print \"Ring!!\"\n",
    "\n",
    "Clue: To figure out whether a number is even, you can check whether count %2  is equal to 0.  % is the remainder operator; if this condition is true, the number is perfectly divisible by two and thus even.\n",
    "\n",
    "If you get stuck in an infinite loop, you can stop the run with the square stop button in the ribbon above."
   ]
  },
  {
   "cell_type": "code",
   "execution_count": null,
   "metadata": {},
   "outputs": [],
   "source": []
  },
  {
   "cell_type": "code",
   "execution_count": null,
   "metadata": {},
   "outputs": [],
   "source": [
    "solution(E1)"
   ]
  },
  {
   "cell_type": "markdown",
   "metadata": {},
   "source": [
    "**Exercise 2:**  Duck duck goose is a children's game. With people sitting around in a circle, the person who is 'it' goes around the room, patting each person's head. If he says 'duck', you are safe. But if he says 'goose' you have to run so he does not catch you.  Let's create a version of this game in code.\n",
    "\n",
    "The code below is an infinite loop. The condition is based on the first item in the list 'game' (game[0]). Because it is equal to 'duck', it will run infintely. If you try it, you can stop it by using the stop (square) button in the ribbon above.\n",
    "\n",
    "Using the statement ```shuffle(game)```,  find a way to escape the loop by thinking of game as an iterator variable that has to change value (in this case, order) with each iteration.\n",
    "\n",
    "The output should be a code that prints 'safe' a random number of times before finally printing 'Run!'"
   ]
  },
  {
   "cell_type": "code",
   "execution_count": null,
   "metadata": {},
   "outputs": [],
   "source": [
    "from random import shuffle # here we import the shuffle function from the random module\n",
    "\n",
    "game = ['duck', 'duck', 'duck', 'goose', 'duck'] # here we create a list\n",
    "\n",
    "while game[0]=='duck':\n",
    "    print('safe')\n",
    "    \n",
    "print('Run!')"
   ]
  },
  {
   "cell_type": "code",
   "execution_count": null,
   "metadata": {},
   "outputs": [],
   "source": [
    "solution(E2)"
   ]
  },
  {
   "cell_type": "markdown",
   "metadata": {},
   "source": [
    "## The duration of a while loop\n",
    "\n",
    "While loops will only run if the condition is True. Like an if-statement, they are not  guaranteed to run at all (if the condition starts out as false). \n",
    "\n",
    "Additionally, if the iterator is not carefully constructed, they could also run infinitely. \n",
    "\n",
    "This could be done purposefully if we use 'True' instead of a conditional statement. Because True is always true, this will be an infinte loop.  \n",
    "\n",
    "```python \n",
    "while True:\n",
    "``` \n",
    "\n",
    "Different statements can help us break a loop before it is done running. \n",
    "\n",
    "---\n",
    "\n",
    "## Break and Continue \n",
    "\n",
    ">**Break** is an executable statement that exits a running loop and moves on to the next line of code after the loop.\n",
    "\n",
    "It can be combined with an if statement to provide a reason to terminate a loop. \n",
    "\n",
    ">**Continue** exits an iteration of a loop, skipping the rest of the code below in that iteration. It returns to the top of the loop to start the next iteration.\n",
    "\n",
    "Continue will exit an iteration of a loop, but not the loop itself.\n",
    "\n",
    "For instance, in this example, the loop will let us input text until we type the word 'done'. When we type done, it finishes the loop."
   ]
  },
  {
   "cell_type": "code",
   "execution_count": null,
   "metadata": {},
   "outputs": [],
   "source": [
    "while True:\n",
    "    line = input('Type here: ')\n",
    "    if line == 'done':\n",
    "        break\n",
    "    print(line)\n",
    "print('Done!')"
   ]
  },
  {
   "cell_type": "markdown",
   "metadata": {},
   "source": [
    "**Exercise 3:** Below is an infinite loop. Use a second if statement (without an else statement) and break to print only even values and end the loop when the value reaches 20."
   ]
  },
  {
   "cell_type": "code",
   "execution_count": null,
   "metadata": {},
   "outputs": [],
   "source": [
    "value = 0\n",
    "\n",
    "while True:\n",
    "    if value%2==0:\n",
    "        print(value)\n",
    "    value = value+1"
   ]
  },
  {
   "cell_type": "code",
   "execution_count": null,
   "metadata": {},
   "outputs": [],
   "source": [
    "solution(E3)"
   ]
  },
  {
   "cell_type": "markdown",
   "metadata": {},
   "source": [
    "**Exercise 4:** Restructure the previous loop to achieve the same results without the break statement, using the value variable in the while clause's condition."
   ]
  },
  {
   "cell_type": "code",
   "execution_count": null,
   "metadata": {},
   "outputs": [],
   "source": []
  },
  {
   "cell_type": "code",
   "execution_count": null,
   "metadata": {},
   "outputs": [],
   "source": [
    "solution(E4)"
   ]
  },
  {
   "cell_type": "markdown",
   "metadata": {},
   "source": [
    "---\n",
    "# For-Loops (Definite)\n",
    "\n",
    "For loops are a looping structure that allows us to define a determined number of iterations. With for loops, you don't run the risk of creating an infinite loop and collapsing your computer.\n",
    "\n",
    "The iteration variable is defined in the for statement and reassigned to the next element in the set each time we go through the loop.\n",
    "\n",
    "This set could be a range of numbers to define a specific number of iterations. It could also be the elements of an existing list, meaning that the code in the loop will be applied to each of its elements. Other objects (such as dictionaries) can also be iterated through. \n",
    "\n",
    "### For-loop Syntax\n",
    "\n",
    "```python\n",
    "for i in <set>:\n",
    "    \n",
    "    code\n",
    "\n",
    "other code   \n",
    "```\n",
    "\n",
    "### What this means...\n",
    "\n",
    "for each item _i_ in a set,\n",
    "\n",
    "    perform this code\n",
    "    \n",
    "continue with other code\n",
    "\n",
    "The letter i (standing for 'item') is a conventional way to refer to the iterator, but Python does not interpret it. We can choose any other word if it makes our code clearer. Equally conventional is the use of an intelligible noun that references what we are iterating over.  For instance, we could say for 'item' in list, or use a word that helps us refer to the semantical content of a list. For instance, for artist in artists; for art in arts, etc. \n",
    "\n",
    "The first example we saw in our lessons was in fact a for loop. In the code below, we created a finite list of arts; and then specified a loop that iterated over each element in the list, printing something about them."
   ]
  },
  {
   "cell_type": "code",
   "execution_count": null,
   "metadata": {},
   "outputs": [],
   "source": [
    "SevenArts = ['Painting','Architecture','Sculpture','Literature','Music','Performing Art','Film'] \n",
    "\n",
    "for art in SevenArts:     \n",
    "    print(art, \"is one of the seven arts\") \n",
    "    print(\"I love\", art)                    \n",
    "print(\"But what about photography?\") "
   ]
  },
  {
   "cell_type": "markdown",
   "metadata": {},
   "source": [
    "**Exercise 5:** Create a loop that iterates through the list of donuts at Monuts and prints only those with the word 'Glaze' in their name."
   ]
  },
  {
   "cell_type": "code",
   "execution_count": null,
   "metadata": {},
   "outputs": [],
   "source": [
    "MonutsDonuts = ['Classic Chocolate','Strawberry','Maple-Bacon','Plain Glazed', 'Raspberry','Lemon Glaze']\n",
    "\n",
    "for ___  in  ____:\n",
    "    if 'Glaze' in ____:\n",
    "        print(___)"
   ]
  },
  {
   "cell_type": "code",
   "execution_count": null,
   "metadata": {},
   "outputs": [],
   "source": [
    "solution(E5)"
   ]
  },
  {
   "cell_type": "markdown",
   "metadata": {},
   "source": [
    "Loops can also be used to iterate through dictionaries, although because of their structure this is a bit more complicated than iterating through lists. \n",
    "\n",
    "To iterate through a dictionary, we have to use dictionary methods to access the contents of a dictionary. \n",
    "\n",
    "If we are creating a loop in which we want to access both keys and values, **dictionary.items()** will allow us to access both.\n",
    "\n",
    "```python\n",
    "for k,v in dictionary.items()\n",
    "    dictionary[k]= v + 1\n",
    "```\n",
    "\n",
    "Above, we see that we are calling the dictionary item as k,v. That is, we are using a tuple to call the key and value separately. We can then conveniently use these within the loop.\n",
    "\n",
    "Other methods allow us to iterate through dictionary keys (dictionary.iter() or dict.keys()) or values (dictionary.values).\n",
    "\n",
    "**Note** When working with lists, we can use ```for index, item in enumerate(list)``` to a similar effect as in the loop above. This would allow us to access both the item index and the item itself. "
   ]
  },
  {
   "cell_type": "markdown",
   "metadata": {},
   "source": [
    "**Exercise 6:** In the code cell below, we create a dictionary. Keys are spelled-out names for numbers, while their values are the number itself. \n",
    "\n",
    "We want to create a new dictionary with the entries flipped: that is, we want to have the integers be the keys, and the strings be the values.\n",
    "\n",
    "In the blank code cell below, create an empty dictionary called dict2.  Then, create a loop that iterates through the items in dict1 and creates the corresponding key-value pair in dict2. Print dict 2 to review your results. "
   ]
  },
  {
   "cell_type": "code",
   "execution_count": 5,
   "metadata": {},
   "outputs": [],
   "source": [
    "dict1 = {'one': 1, 'two': 2, 'thee': 3, 'four': 4}"
   ]
  },
  {
   "cell_type": "code",
   "execution_count": 6,
   "metadata": {},
   "outputs": [
    {
     "name": "stdout",
     "output_type": "stream",
     "text": [
      "{1: 'one', 2: 'two', 3: 'thee', 4: 'four'}\n"
     ]
    }
   ],
   "source": []
  },
  {
   "cell_type": "code",
   "execution_count": null,
   "metadata": {},
   "outputs": [],
   "source": [
    "Solution(E6)"
   ]
  },
  {
   "cell_type": "markdown",
   "metadata": {},
   "source": [
    "# The range() function\n",
    "\n",
    "**range()** is a useful function for creating a determined number of iterations in a for-loop without going through an existing object. \n",
    "\n",
    "This function creates a sequence of numbers, where you define the starting number, the final number, and its increments. \n",
    "\n",
    "```python\n",
    "range(start, stop, step)\n",
    "```\n",
    "\n",
    "By default, the starting number is 0 and the increment is 1, meaning that if you only give one number, it will produce a range of numbers up to that digit. \n",
    "\n",
    "It can be used in a for-loop to specify the number of iterations.\n",
    "\n",
    "```python\n",
    "for i in range(5):\n",
    "    code\n",
    "```"
   ]
  },
  {
   "cell_type": "markdown",
   "metadata": {},
   "source": [
    "This can be useful if we want to repeat a loop a certain number of times, or need to match it exactly to the length of an object, for which we can use ```range(len(object))```.\n",
    "\n",
    "The function below accomplishes the same goal as the one in exercise 5, by indexing into the list by item position.\n",
    "\n",
    "Recall that ```len()``` returns the length of an object; in our case, it gives the number of items in the MonutsDonuts list (6).\n",
    "\n",
    "The ```range()``` function then returns a range of numbers up to the number of items in our list (0-6)."
   ]
  },
  {
   "cell_type": "code",
   "execution_count": null,
   "metadata": {},
   "outputs": [],
   "source": [
    "for i  in  range(len(MonutsDonuts)):\n",
    "    if 'Glaze' in MonutsDonuts[i]:\n",
    "        print(MonutsDonuts[i])"
   ]
  },
  {
   "cell_type": "markdown",
   "metadata": {},
   "source": [
    "---\n",
    "## Lesson Summary\n",
    "\n",
    "- Loops repeat steps in an algorithm\n",
    "- Indefinite loops are constructed with while, and don't have an explicit duration. They must include an iterator variable to be finite.\n",
    "- Definite loops are constructed with for, and iterate through a finite set such as a list or a range defined by the coder.\n",
    "- 'Break' exits a running loop, 'Continue' exits an iteration of a loop.\n",
    "\n",
    "<div style=\"text-align:center\">    \n",
    "  <a href=\"06%20Conditionals.ipynb\">Previous Lesson: Conditionals</a>|\n",
    "   <a href=\"07B%20Putting%20it%20all%20Together.ipynb\">Next Lesson: Putting it all together (Lessons 1-7)</a>\n",
    "</div>\n"
   ]
  }
 ],
 "metadata": {
  "kernelspec": {
   "display_name": "Python 3",
   "language": "python",
   "name": "python3"
  },
  "language_info": {
   "codemirror_mode": {
    "name": "ipython",
    "version": 3
   },
   "file_extension": ".py",
   "mimetype": "text/x-python",
   "name": "python",
   "nbconvert_exporter": "python",
   "pygments_lexer": "ipython3",
   "version": "3.7.6"
  }
 },
 "nbformat": 4,
 "nbformat_minor": 4
}
