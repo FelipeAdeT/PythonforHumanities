{
 "cells": [
  {
   "cell_type": "markdown",
   "metadata": {},
   "source": [
    "### Navigation Reminder\n",
    "\n",
    "- **Grey cells** are **code cells**. Click inside them and type to edit.\n",
    "- **Run**  code cells by pressing $ \\triangleright $  in the toolbar above, or press ``` shift + enter```.\n",
    "-  **Stop** a running process by clicking &#9634; in the toolbar above.\n",
    "- You can **add new cells** by clicking to the left of a cell and pressing ```A``` (for above), or ```B``` (for below). \n",
    "- **Delete cells** by pressing ```X```.\n",
    "- Run all code cells that import objects (such as the one below) to ensure that you can follow exercises and examples.\n",
    "- Feel free to edit and experiment - you will not corrupt the original files."
   ]
  },
  {
   "cell_type": "markdown",
   "metadata": {},
   "source": [
    "# 07B Putting it all together. Simple Text Analysis (Lessons 1-7)\n",
    "\n",
    "In lessons 1-7, we learned about many of the building blocks that make Python a powerful language, including basic data types (strings, integers, floats, lists and dictionaries), conditional structures, and loops. \n",
    "\n",
    "In this notebook, we will run through a long-form exercise that allows us to put all this knowledge together while simulating the typical process for a project using computation in the humanities. We will be working with a corpus of fairy tales by the brothers Grimm. In the first part of the notebook, we will **pre-process** or **clean** the text for text analysis. Then, we conduct an **exploratory analysis** of the corpus to become familiarized with the text and identify potential research questions. In the second part, we take a research question and perform a simple text analysis that uses the concepts we have learned in previous lessons. \n",
    "\n",
    "There are several modules for text analysis that provide advanced tools for text analysis. In this lesson, however, we will use the basic building blocks of the Python language to construct simple tools for term counting and similarity analysis. \n",
    "\n",
    "Please note that there are multiple paths to the objectives we outline below. We do provide a 'solution' notebook with our approach towards this project as guidance if you get stuck, but if you find alternative solutions, it is more useful to think critically about your code and whether it achieves its goals than to try to make it conform to the sample solution.\n",
    "\n",
    "---\n",
    "\n",
    "**Lesson Objectives**\n",
    "- Practice:\n",
    "    - Using basic data structures (strings and numbers) and their operators\n",
    "    - Creating, populating and retrieving information from collections (lists and dictionaries)\n",
    "    - Discerning when to choose one type of collection or another\n",
    "    - Creating loops\n",
    "    - Using conditional statements\n",
    "- Develop good habits for projects, including: \n",
    "    - Taking time to understand the source data and its particularities before committing to an approach\n",
    "    - Thinking critically about algorithms and problem-solving, instead of immediately delegating to solutions developed by others\n",
    "---"
   ]
  },
  {
   "cell_type": "markdown",
   "metadata": {},
   "source": [
    "# 1. Load the Text\n",
    "\n",
    "The file we will be using is saved in 'Other_files/GrimmsFairyTales.txt'.  Using the 'with xxx as file' notation, create a file handle using the open() statement and then read the file as one block of text, assigning it to the variable text. This ensures that the file is closed after we read into it. "
   ]
  },
  {
   "cell_type": "code",
   "execution_count": 24,
   "metadata": {},
   "outputs": [],
   "source": [
    "with open('Other_files/GrimmsFairyTales.txt','r',encoding='utf=8') as file:\n",
    "    text = file.read()"
   ]
  },
  {
   "cell_type": "markdown",
   "metadata": {},
   "source": [
    "Text taken from [Project Gutenberg](http://www.gutenberg.org/files/5314/5314-0.txt)\n",
    "\n",
    "# 2. Examine a Sample\n",
    "\n",
    "Take a first look at the text file by printing characters 7,000 to 8,000 of the text file.\n",
    "\n",
    "**Hint:** the object is like a long string, so you can index into it like as you usually would a string."
   ]
  },
  {
   "cell_type": "code",
   "execution_count": null,
   "metadata": {},
   "outputs": [],
   "source": [
    "print(text[7000:8000])"
   ]
  },
  {
   "cell_type": "markdown",
   "metadata": {},
   "source": [
    "**3.** It is also helpful to display the text without formatting, so we can see invisible characters such as spaces or new lines (otherwise known as **whitespace**). Index into the whole text as before, but without using the print statement.\n",
    "\n",
    "Start thinking about the **characteristics of the file**. How are the stories separated and structured?  How might we use whitespace to divide it into individual stories, and these stories into terms (also known as 'tokens')? What actions might we have to perform in order to extract these tokens for counting?"
   ]
  },
  {
   "cell_type": "code",
   "execution_count": null,
   "metadata": {},
   "outputs": [],
   "source": [
    "text[7000:8000]"
   ]
  },
  {
   "cell_type": "markdown",
   "metadata": {},
   "source": [
    "**We have observed these characteristics of the text that we see will affect our approach.**\n",
    "\n",
    "- Stories are separated by four instances of the newline character ```\\n``` (one to end the final line of the poem, and two to generate blank lines after).\n",
    "- Words are separated by spaces or one or more instances the newline characte` ```\\n``` (between the last word of a line and the first of the next).\n",
    "- Some words begin with a capital letter, others are fully lowercase.\n",
    "- Some words have punctuation around them.\n",
    "    \n",
    "We can use the first two characteristics to split the block of text into stories and further into terms or tokens. The other characteristics will have to be edited out to get a clean count of the tokens (to ensure, for instance, that 'Now' and 'now' or 'now.' and 'now' are counted as the same token).\n",
    "\n",
    "# 3. Text Pre-Processing\n",
    "\n",
    "How we choose to clean a text depends on our project's goal. We want to analyze term frequencies, meaning that our goal is to separate the text into discrete terms. The volume is a collection of stories, so it would also be useful to separate the text into story units.\n",
    "\n",
    "To end up with a set of clean tokens, we will have to pre-process the text in several phases:\n",
    "1. Strip the text of punctuation \n",
    "1. Strip the text of cases (capitalization).\n",
    "1. Split the text into tokens using whitespace.\n",
    "\n",
    "Note that text cleaning could actually be undertaken at any point: we choose to do it first for the sake of efficiency, applying the changes to the whole text and avoiding creating loops that would otherwise have to re-iterate the step for each poem or for each token. \n",
    "\n",
    "## Removing Punctuation and Cases\n",
    "\n",
    "In this case, we want to very simply count term frequency, so we make the decision to remove capitals and any punctuation outside of tokens. This way, words will be counted as the same term regardless of how they were capitalized or if they had any adjacent punctuation marks. \n",
    "\n",
    "In the code cell below, we create a string object that contains common punctuation marks. "
   ]
  },
  {
   "cell_type": "code",
   "execution_count": 25,
   "metadata": {},
   "outputs": [],
   "source": [
    "punctuation = '!\"#$%&\\'()*+,-./:;<=>?@[\\\\]^_`{|}~’‘“”'"
   ]
  },
  {
   "cell_type": "markdown",
   "metadata": {},
   "source": [
    "Recall that strings can be thought of as a series of characters, and a for-loop will iterate through each character in a string if used in the for-statement.\n",
    "\n",
    "1. Using variable assignment and a string method, create a variable called 'text_clean' which is an all-lowercase version of the text variable.\n",
    "1. Create a loop that iterates through the punctuation marks above and uses another string method to replace the marks from the clean_text with no character (this could be written as a string with nothing in between the quotes, or ''). Remember that string methods do not act in place, so you will have to reassign the clean_text variable within the loop."
   ]
  },
  {
   "cell_type": "code",
   "execution_count": 26,
   "metadata": {},
   "outputs": [],
   "source": [
    "text_clean = text.lower()\n",
    "for mark in punctuation:\n",
    "    text_clean = text_clean.replace(mark,'')"
   ]
  },
  {
   "cell_type": "code",
   "execution_count": 27,
   "metadata": {},
   "outputs": [
    {
     "name": "stdout",
     "output_type": "stream",
     "text": [
      "t free and was happy\n",
      "\n",
      "\n",
      "\n",
      "a certain cat had made the acquaintance of a mouse and had said so\n",
      "much to her about the great love and friendship she felt for her that\n",
      "at length the mouse agreed that they should live and keep house\n",
      "together but we must make a provision for winter or else we shall\n",
      "suffer from hunger said the cat and you little mouse cannot\n",
      "venture everywhere or you will be caught in a trap some day the good\n",
      "advice was followed and a pot of fat was bought but they did not know\n",
      "where to put it at length after much consideration the cat said i\n",
      "know no place where it will be better stored up than in the church for\n",
      "no one dares take anything away from there we will set it beneath the\n",
      "altar and not touch it until we are really in need of it so the pot\n",
      "was placed in safety but it was not long before the cat had a great\n",
      "yearning for it and said to the mouse i want to tell you something\n",
      "little mouse my cousin has brought a little son into the world and\n",
      "has asked me to be godmother he i\n"
     ]
    }
   ],
   "source": [
    "print(text_clean[7000:8000])"
   ]
  },
  {
   "cell_type": "markdown",
   "metadata": {},
   "source": [
    "# 4. Exploratory Analysis. Finding the Most Common Words in the Corpus."
   ]
  },
  {
   "cell_type": "markdown",
   "metadata": {},
   "source": [
    "Before analyzing individual stories, let's have a look at the overall frequency of terms in the collection of Grimms Fairy Tales as a whole. This will allow us to view larger trends and think of potential research questions. To achieve this, we have to split the corpus into a collection of tokens. \n",
    "\n",
    "> **Token**: An individual unit of meaning (most frequently, a word).\n",
    "\n",
    "We will use the word 'token' interchangeably with 'term' or 'word' throughout this exercise. \n",
    "\n",
    "> **Tokenization**:  The process of breaking down text document apart into tokens.\n",
    "\n",
    "One issue we noticed before is that some words are separated by spaces, but others might be separated by newline characters (\\n). Since we don't care about story structure in this exercise, the simplest solution is to replace line break characters with spaces. This will allow us to use the string.split() method afterwards using spaces to divide the stories up into tokens.\n",
    "\n",
    "First, create a list called corpus_tokens by using two string methods: one to replace any line break characters in text_clean and one to then split the file by spaces. Do not overwrite text_clean, as we will be using it later to divide the text by stories. "
   ]
  },
  {
   "cell_type": "code",
   "execution_count": 28,
   "metadata": {},
   "outputs": [],
   "source": [
    "corpus_tokens = text_clean.replace('\\n',' ').split()"
   ]
  },
  {
   "cell_type": "code",
   "execution_count": 29,
   "metadata": {},
   "outputs": [
    {
     "name": "stdout",
     "output_type": "stream",
     "text": [
      "['in', 'old', 'times', 'when', 'wishing', 'still', 'helped', 'one', 'there', 'lived', 'a', 'king', 'whose', 'daughters', 'were', 'all', 'beautiful', 'but', 'the', 'youngest', 'was', 'so', 'beautiful', 'that', 'the', 'sun', 'itself', 'which', 'has', 'seen', 'so', 'much', 'was', 'astonished', 'whenever', 'it', 'shone', 'in', 'her', 'face', 'close', 'by', 'the', 'kings', 'castle', 'lay', 'a', 'great', 'dark', 'forest', 'and', 'under', 'an', 'old', 'limetree', 'in', 'the', 'forest', 'was', 'a', 'well', 'and', 'when', 'the', 'day', 'was', 'very', 'warm', 'the', 'kings', 'child', 'went', 'out', 'into', 'the', 'forest', 'and', 'sat', 'down', 'by', 'the', 'side', 'of', 'the', 'cool', 'fountain', 'and', 'when', 'she', 'was', 'dull', 'she', 'took', 'a', 'golden', 'ball', 'and', 'threw', 'it', 'up']\n"
     ]
    }
   ],
   "source": [
    "print(corpus_tokens[:100])"
   ]
  },
  {
   "cell_type": "markdown",
   "metadata": {},
   "source": [
    "Now that the text is split into tokens, we can count the number of times each word appears in the text."
   ]
  },
  {
   "cell_type": "markdown",
   "metadata": {},
   "source": [
    "# Solving the Problem: Calculating Term Counts\n",
    "\n",
    "We should think about the nature of our problem. \n",
    "\n",
    "We have a data structure which is a list of tokens. As we iterate through the list, we will have to identify each distinct term, and then count the number of times it appears in the list. In other words, we will have a number of **unique terms** and an associated count **value** for each. This should ring some alarm bells about the best data structure for storing the information. What data structure would you use?\n",
    "\n",
    "Ideally, we would want to create a dictionary of word counts. In each dictionary, each term would be a key, and its count would be the value."
   ]
  },
  {
   "cell_type": "markdown",
   "metadata": {},
   "source": [
    "Within this problem, we have to think of two scenarios:\n",
    "\n",
    "For each word in our corpus,\n",
    "\n",
    "1. If we are encountering a new word, that is, if the word is not in our data structure, create an item where the key is the token, and the value is 1. \n",
    "1. Otherwise, if we are not encountering a new word, retrieve the value and update it by adding 1 to the count.\n",
    "\n",
    "Remember how to access, create and modify information in a dictionary. To retrieve a value from a dictionary, you call the dictionary name and the key in brackets. This method also works to create a new dictionary item, or to update an item's value. Also remember that you can iterate through the keys in a dictionary as you would iterate through the items in a list.\n",
    "\n",
    "\n",
    "Now, write some code that:\n",
    "1. Creates an empty dictionary called corpus_counts\n",
    "2. Loops through the terms in the corpus_tokens and:\n",
    "     - If the term does not have an entry in corpus_counts, creates an entry with the term for the key and value 1\n",
    "     - If the term does have an entry in corpus_counts, updates the entry and assigns it its value + 1."
   ]
  },
  {
   "cell_type": "code",
   "execution_count": 30,
   "metadata": {},
   "outputs": [],
   "source": [
    "corpus_counts={}\n",
    "for token in corpus_tokens:\n",
    "    if token not in corpus_counts:\n",
    "        corpus_counts[token]=1\n",
    "    else:\n",
    "        corpus_counts[token]=corpus_counts[token]+1"
   ]
  },
  {
   "cell_type": "markdown",
   "metadata": {},
   "source": [
    "With the loop above, we should have created a dictionary that includes all the terms in the volume, and the number of times each term appears. But how can we access this information in a way that allows us to draw conclusions, for instance, about the most frequent words in the book? \n",
    "\n",
    "Recall that dictionaries are unordered by nature.  Though we can sort by key, what we want to be doing is to sort by value. Because values could be repeated, and thus won't serve as unique dictionary keys, we can't just create a dictionary of value: key pairs. The solution to this dilemma is difficult, so we provide it below. What we need is an ordered collection that that gives us value, key pairs, with values first and keys second. Using a list of value, key touples, we could store repeated values and reorder for analysis. \n",
    "\n",
    "To resolve this issue,\n",
    "\n",
    "1. Create an empty list called ct_value_list\n",
    "1. Create a for-loop that iterates through key,value pairs in the items of the corpus_counts dictionary\n",
    "    1. For each key, value pair, append a tuple consisting of the (value, key) to ct_value_list."
   ]
  },
  {
   "cell_type": "code",
   "execution_count": 31,
   "metadata": {},
   "outputs": [],
   "source": [
    "ct_value_list =[]\n",
    "for k,v in corpus_counts.items():\n",
    "    ct_value_list.append((v,k))  "
   ]
  },
  {
   "cell_type": "markdown",
   "metadata": {},
   "source": [
    "We can now sort these using the sorted() function, using the keyword reverse=True to order them from largest to smallest.\n",
    "\n",
    "Reassign the ct_value_list variable to a sorted version of the list."
   ]
  },
  {
   "cell_type": "code",
   "execution_count": 32,
   "metadata": {},
   "outputs": [],
   "source": [
    "ct_value_list = sorted(ct_value_list, reverse=True)"
   ]
  },
  {
   "cell_type": "markdown",
   "metadata": {},
   "source": [
    "And now, we can index into the list to retrieve, for instance, the 10 most frequent words, by accessing the first ten items."
   ]
  },
  {
   "cell_type": "code",
   "execution_count": 33,
   "metadata": {},
   "outputs": [
    {
     "data": {
      "text/plain": [
       "[(19498, 'the'),\n",
       " (14406, 'and'),\n",
       " (7235, 'to'),\n",
       " (5854, 'he'),\n",
       " (5323, 'a'),\n",
       " (4064, 'was'),\n",
       " (3986, 'it'),\n",
       " (3766, 'of'),\n",
       " (3557, 'in'),\n",
       " (3225, 'i'),\n",
       " (3092, 'that'),\n",
       " (3013, 'she'),\n",
       " (2980, 'said'),\n",
       " (2780, 'his'),\n",
       " (2695, 'had'),\n",
       " (2656, 'her'),\n",
       " (2541, 'but'),\n",
       " (2463, 'him'),\n",
       " (2313, 'with'),\n",
       " (2161, 'not')]"
      ]
     },
     "execution_count": 33,
     "metadata": {},
     "output_type": "execute_result"
    }
   ],
   "source": [
    "ct_value_list[0:20]"
   ]
  },
  {
   "cell_type": "markdown",
   "metadata": {},
   "source": [
    "One thing we notice immediately is that the most frequent words in the text don't actually give us much of an idea as to what is going on in the text. \n",
    "\n",
    "> **Stop words** are words in a language that have very little meaning and are filtered out before or after natural language processing.\n",
    "\n",
    "We could filter these out from our analysis because many are very frequent, and will obscure the importance of other terms that might provide more meaning. \n",
    "\n",
    "Below, we create a list of words that are commonly considered stopwords in the English language."
   ]
  },
  {
   "cell_type": "code",
   "execution_count": 34,
   "metadata": {},
   "outputs": [],
   "source": [
    "stopwords= ['i','me','my','myself','we','our','ours','ourselves','you',\"youre\",\"youve\",\"youll\",\"youd\",'your',\n",
    " 'yours', 'yourself','yourselves','it','its','itself','they','them','their','theirs','themselves','what','which','who','whom','this',\n",
    " 'that',\"thatll\",'these','those','am','is','are','was','were','be','been','being','have','has','had',\n",
    " 'having','do','does','did','doing','a','an','the','and','but','if','or','because','as','until','while',\n",
    " 'of','at','by','for','with','about','against','between','into','through','during','before','after','above',\n",
    " 'below','to','from','up','down','in', 'out', 'on', 'off', 'over', 'under', 'again', 'further', 'then',\n",
    " 'once', 'here', 'there', 'when', 'where', 'why','how', 'all','any', 'both','each', 'few', 'more', 'most',\n",
    " 'other', 'some', 'such', 'no', 'nor', 'not', 'only', 'own', 'same', 'so', 'than', 'too', 'very', 's', 't',\n",
    " 'can', 'will', 'just', 'don', \"dont\", 'should', \"shouldve\", 'now', 'd', 'll', 'm', 'o', 're', 've', 'y',\n",
    " 'ain', 'aren', \"arent\", 'couldn', \"couldnt\", 'didn', \"didn't\", 'doesn', \"doesnt\", 'hadn', \"hadnt\",\n",
    " 'hasn', \"hasnt\", 'haven', \"havent\", 'isn', \"isnt\", 'ma', 'mightn', \"mightnt\", 'mustn', \"mustnt\",\n",
    " 'needn', \"neednt\", 'shan', \"shant\", 'shouldn', \"shouldnt\", 'wasn', \"wasnt\", 'weren', \"werent\", 'won',\n",
    " \"wont\", 'wouldn', \"wouldnt\",'said','thou','one','went','came','thee','could','would','took','go','shall','must','however','thy']"
   ]
  },
  {
   "cell_type": "code",
   "execution_count": null,
   "metadata": {},
   "outputs": [],
   "source": [
    "# Making a list of stopwords from those in the corpus counts is not significantly shorter\n",
    "\n",
    "#stop2 = []\n",
    "\n",
    "#for stopword in stopwords:\n",
    " #   if stopword not in stop2 and stopword in corpus_counts:\n",
    "  #      stop2.append(stopword)"
   ]
  },
  {
   "cell_type": "code",
   "execution_count": null,
   "metadata": {},
   "outputs": [],
   "source": [
    "# print(stop2)"
   ]
  },
  {
   "cell_type": "markdown",
   "metadata": {},
   "source": [
    "Now, let's repeat the loop we made before, but with the additional condition that the token/term should only be added to the dictionary if it is NOT in our stopword list."
   ]
  },
  {
   "cell_type": "code",
   "execution_count": 35,
   "metadata": {},
   "outputs": [],
   "source": [
    "corpus_counts={}\n",
    "for token in corpus_tokens:\n",
    "    if token not in stopwords:\n",
    "        if token not in corpus_counts:\n",
    "            corpus_counts[token]=1\n",
    "        else:\n",
    "            corpus_counts[token]=corpus_counts[token]+1"
   ]
  },
  {
   "cell_type": "markdown",
   "metadata": {},
   "source": [
    "Now, if we order the contents of the dictionary and print them, we get a clearer idea of the contents of the volume."
   ]
  },
  {
   "cell_type": "code",
   "execution_count": 39,
   "metadata": {},
   "outputs": [],
   "source": [
    "ct_value_list_stop =[]\n",
    "for k,v in corpus_counts.items():\n",
    "    ct_value_list_stop.append((v,k))  "
   ]
  },
  {
   "cell_type": "code",
   "execution_count": 40,
   "metadata": {},
   "outputs": [],
   "source": [
    "ct_value_list_stop = sorted(ct_value_list_stop, reverse=True)"
   ]
  },
  {
   "cell_type": "code",
   "execution_count": 41,
   "metadata": {},
   "outputs": [
    {
     "data": {
      "text/plain": [
       "[(5854, 'he'),\n",
       " (3013, 'she'),\n",
       " (2780, 'his'),\n",
       " (2656, 'her'),\n",
       " (2463, 'him'),\n",
       " (992, 'little'),\n",
       " (835, 'king'),\n",
       " (704, 'away'),\n",
       " (637, 'man'),\n",
       " (546, 'old'),\n",
       " (541, 'saw'),\n",
       " (537, 'come'),\n",
       " (532, 'time'),\n",
       " (479, 'two'),\n",
       " (477, 'great'),\n",
       " (469, 'well'),\n",
       " (464, 'himself'),\n",
       " (462, 'back'),\n",
       " (442, 'thought'),\n",
       " (431, 'father')]"
      ]
     },
     "execution_count": 41,
     "metadata": {},
     "output_type": "execute_result"
    }
   ],
   "source": [
    "ct_value_list_stop[0:20]"
   ]
  },
  {
   "cell_type": "markdown",
   "metadata": {},
   "source": [
    "And below, we will use Pandas (a module you will learn about in Lessons 9-10) to visualize this information. We can visualize the fifty most common terms in this collection of stories:"
   ]
  },
  {
   "cell_type": "code",
   "execution_count": 42,
   "metadata": {},
   "outputs": [
    {
     "data": {
      "text/plain": [
       "<matplotlib.axes._subplots.AxesSubplot at 0x7fbf29347290>"
      ]
     },
     "execution_count": 42,
     "metadata": {},
     "output_type": "execute_result"
    },
    {
     "data": {
      "image/png": "[encoded data removed]",
      "text/plain": [
       "<Figure size 1224x360 with 1 Axes>"
      ]
     },
     "metadata": {
      "needs_background": "light"
     },
     "output_type": "display_data"
    }
   ],
   "source": [
    "import pandas as pd\n",
    "\n",
    "c_counts_df=pd.DataFrame.from_dict(corpus_counts,orient='index',columns=['count']).sort_values(by='count',ascending=False)\n",
    "c_counts_df[0:50].sort_values(by='count',ascending=False).plot.bar(figsize=(17,5))"
   ]
  },
  {
   "cell_type": "markdown",
   "metadata": {},
   "source": [
    "One thing that stands out is that words denoting male characters (he, king, man, father,  kings, son, hans) are overall more frequent than those relating to females (woman, daughter, wife). What is more, it seems that men are more likely to be addressed as independent agents than to be mentioned in relation to somebody else. This exploratory analysis might lead to a research question: are men and women described differently in Grimms Fairy Tales?\n",
    "\n",
    "We have gone ahead and made a list of common words denoting male or female characters from our counts above. "
   ]
  },
  {
   "cell_type": "code",
   "execution_count": 43,
   "metadata": {},
   "outputs": [],
   "source": [
    "men = ['king', 'kings', 'man', 'father', 'son', 'sons', 'brother', 'master', 'huntsman', 'boy', 'lord', \n",
    "       'husband', 'soldier', 'devil', 'men', 'prince', 'dwarf', 'huntsmen', 'bridegroom', 'sons', 'fathers',\n",
    "       'soldiers', 'godfather', 'boys', 'dwarfs', 'captain', 'shepherd', 'ferdinand', 'farmer', \n",
    "       'countryman','his','him','he','himself']\n",
    "\n",
    "women = ['woman', 'daughter', 'daughters', 'wife', 'mother', 'maiden', 'girl', 'queen', 'bride', 'princess',\n",
    "         'sister', 'witch', 'stepmother', 'sisters', 'daughters', 'grandmother', 'waitingmaid','cinderella',\n",
    "         'rapunzel','her','hers','she','herself']"
   ]
  },
  {
   "cell_type": "markdown",
   "metadata": {},
   "source": [
    "The first thing we could ask is: are men mentioned more than women?"
   ]
  },
  {
   "cell_type": "code",
   "execution_count": 44,
   "metadata": {},
   "outputs": [],
   "source": [
    "mentions = 0\n",
    "for token in men:\n",
    "    mentions= mentions + corpus_counts[token]"
   ]
  },
  {
   "cell_type": "code",
   "execution_count": 45,
   "metadata": {},
   "outputs": [
    {
     "data": {
      "text/plain": [
       "16003"
      ]
     },
     "execution_count": 45,
     "metadata": {},
     "output_type": "execute_result"
    }
   ],
   "source": [
    "mentions"
   ]
  },
  {
   "cell_type": "code",
   "execution_count": 46,
   "metadata": {},
   "outputs": [],
   "source": [
    "womentions = 0\n",
    "for token in women:\n",
    "    womentions= womentions + corpus_counts[token]"
   ]
  },
  {
   "cell_type": "code",
   "execution_count": 47,
   "metadata": {},
   "outputs": [
    {
     "data": {
      "text/plain": [
       "8653"
      ]
     },
     "execution_count": 47,
     "metadata": {},
     "output_type": "execute_result"
    }
   ],
   "source": [
    "womentions"
   ]
  },
  {
   "cell_type": "markdown",
   "metadata": {},
   "source": [
    "This seems like a good starting point for a more fine-grained analysis of the corpus of stories in Grimms' Fairy Tales.\n",
    "\n",
    "# 3. Very Simple Gender Analysis\n",
    "\n",
    "Before, we counted the terms in our corpus as a whole. We can fine-tune our analysis by changing the level of aggretation, looking at counts not within the corpus, but within stories individually.\n",
    "\n",
    "\n",
    "## Splitting the Block of Text into Stories\n",
    "A first step would be to split the block of text into stories. Previously, we observed that the stories in the text are separated by four newline characters (\\n). Use this information and a [string method](https://docs.python.org/2.5/lib/string-methods.html) to split the clean text into a list of stories, assigned to a variable called 'stories'."
   ]
  },
  {
   "cell_type": "code",
   "execution_count": 48,
   "metadata": {},
   "outputs": [],
   "source": [
    "stories = text_clean.split('\\n\\n\\n\\n')"
   ]
  },
  {
   "cell_type": "markdown",
   "metadata": {},
   "source": [
    "How many stories do we have? Check the length of the list, which should be 201."
   ]
  },
  {
   "cell_type": "code",
   "execution_count": null,
   "metadata": {},
   "outputs": [],
   "source": [
    "len(stories)"
   ]
  },
  {
   "cell_type": "markdown",
   "metadata": {},
   "source": [
    "Finally, retrieve and print an item from the list, to examine its contents:"
   ]
  },
  {
   "cell_type": "code",
   "execution_count": null,
   "metadata": {},
   "outputs": [],
   "source": [
    "print(stories[40])"
   ]
  },
  {
   "cell_type": "markdown",
   "metadata": {},
   "source": [
    "As we did with the whole corpus, we will have to  tokenize each individual story. \n",
    "\n",
    "In the code cell below, create an empty list called stories_tokens. Then build a loop that iterates through each item in our stories_dict, replaces all \\n characters with spaces, splits each cleaned story by spaces, and appends the results to the stories_tokens list."
   ]
  },
  {
   "cell_type": "code",
   "execution_count": 49,
   "metadata": {},
   "outputs": [],
   "source": [
    "stories_tokens = []\n",
    "for story in stories:\n",
    "    stories_tokens.append(story.replace('\\n',' ').split(' '))"
   ]
  },
  {
   "cell_type": "markdown",
   "metadata": {},
   "source": [
    "Where we started with a list of stories, we further split each of those items into a list of terms. It is useful to thus bear in mind that stories_tokens is a list of lists. Each item in stories_tokens, indexable by position, is a list of the terms included in a particular story.  \n",
    "\n",
    "In this situation, we can access a story by position, which has been preserved in the previous transformation from individual poem to list of tokens, is sufficient for our purposes. \n",
    "\n",
    "Let's examine one item from our new poems_tokens list. What it should contain is a list of each of the terms in our poem. "
   ]
  },
  {
   "cell_type": "code",
   "execution_count": 50,
   "metadata": {},
   "outputs": [
    {
     "name": "stdout",
     "output_type": "stream",
     "text": [
      "['there', 'were', 'once', 'a', 'cock', 'and', 'a', 'hen', 'who', 'wanted', 'to', 'take', 'a', 'journey', 'together', 'so', 'the', 'cock', 'built', 'a', 'beautiful', 'carriage', 'which', 'had', 'four', 'red', 'wheels', 'and', 'harnessed', 'four', 'mice', 'to', 'it', 'the', 'hen', 'seated', 'herself', 'in', 'it', 'with', 'the', 'cock', 'and', 'they', 'drove', 'away', 'together', 'not', 'long', 'afterwards', 'they', 'met', 'a', 'cat', 'who', 'said', 'where', 'are', 'you', 'going', 'the', 'cock', 'replied', 'we', 'are', 'going', 'to', 'the', 'house', 'of', 'herr', 'korbes', 'take', 'me', 'with', 'you', 'said', 'the', 'cat', 'the', 'cock', 'answered', 'most', 'willingly', 'get', 'up', 'behind', 'lest', 'you', 'fall', 'off', 'in', 'front', 'take', 'great', 'care', 'not', 'to', 'dirty', 'my', 'little', 'red', 'wheels', 'and', 'you', 'little', 'wheels', 'roll', 'on', 'and', 'you', 'little', 'mice', 'pipe', 'out', 'as', 'we', 'go', 'forth', 'on', 'our', 'way', 'to', 'the', 'house', 'of', 'herr', 'korbes', '', 'after', 'this', 'came', 'a', 'millstone', 'then', 'an', 'egg', 'then', 'a', 'duck', 'then', 'a', 'pin', 'and', 'at', 'last', 'a', 'needle', 'who', 'all', 'seated', 'themselves', 'in', 'the', 'carriage', 'and', 'drove', 'with', 'them', 'when', 'however', 'they', 'reached', 'the', 'house', 'of', 'herr', 'korbes', 'herr', 'korbes', 'was', 'not', 'there', 'the', 'mice', 'drew', 'the', 'carriage', 'into', 'the', 'barn', 'the', 'hen', 'flew', 'with', 'the', 'cock', 'upon', 'a', 'perch', 'the', 'cat', 'sat', 'down', 'by', 'the', 'hearth', 'the', 'duck', 'on', 'the', 'wellpole', 'the', 'egg', 'rolled', 'itself', 'into', 'a', 'towel', 'the', 'pin', 'stuck', 'itself', 'into', 'the', 'chaircushion', 'the', 'needle', 'jumped', 'on', 'to', 'the', 'bed', 'in', 'the', 'middle', 'of', 'the', 'pillow', 'and', 'the', 'millstone', 'laid', 'itself', 'over', 'the', 'door', 'then', 'herr', 'korbes', 'came', 'home', 'went', 'to', 'the', 'hearth', 'and', 'was', 'about', 'to', 'light', 'the', 'fire', 'when', 'the', 'cat', 'threw', 'a', 'quantity', 'of', 'ashes', 'in', 'his', 'face', 'he', 'ran', 'into', 'the', 'kitchen', 'in', 'a', 'great', 'hurry', 'to', 'wash', 'it', 'off', 'and', 'the', 'duck', 'splashed', 'some', 'water', 'in', 'his', 'face', 'he', 'wanted', 'to', 'dry', 'it', 'with', 'the', 'towel', 'but', 'the', 'egg', 'rolled', 'up', 'against', 'him', 'broke', 'and', 'glued', 'up', 'his', 'eyes', 'he', 'wanted', 'to', 'rest', 'and', 'sat', 'down', 'in', 'the', 'chair', 'and', 'then', 'the', 'pin', 'pricked', 'him', 'he', 'fell', 'in', 'a', 'passion', 'and', 'threw', 'himself', 'on', 'his', 'bed', 'but', 'as', 'soon', 'as', 'he', 'laid', 'his', 'head', 'on', 'the', 'pillow', 'the', 'needle', 'pricked', 'him', 'so', 'that', 'he', 'screamed', 'aloud', 'and', 'was', 'just', 'going', 'to', 'run', 'out', 'into', 'the', 'wide', 'world', 'in', 'his', 'rage', 'but', 'when', 'he', 'came', 'to', 'the', 'housedoor', 'the', 'millstone', 'leapt', 'down', 'and', 'struck', 'him', 'dead', 'herr', 'korbes', 'must', 'have', 'been', 'a', 'very', 'wicked', 'man']\n"
     ]
    }
   ],
   "source": [
    "print(stories_tokens[40])"
   ]
  },
  {
   "cell_type": "markdown",
   "metadata": {},
   "source": [
    "By now, we have the raw data in a format that allows us to begin our analysis. \n",
    "\n",
    "Next, we will count terms within a story,  to evaluate term frequencies, which we can do by counting terms within each document and dividing by the document's length. Once we have this information, we will evaluate document similarity by creating a formula that compares term frequencies in two documents. \n",
    "\n",
    "# Calculating Male/Female Frequencies per Story\n",
    "\n",
    "For a more in-depth analysis could count all terms again, but per story. Since we are only interested in a very basic measure of the number of times a male or female character is mentioned, we can construct a loop for just this purpose. But instead of counting the terms in the text overall, it should loop through the stories_tokens list and count the terms in each story.\n",
    "\n",
    "Create an empty list called stories_mentions.\n",
    "Create a loop that iterates through each story in the stories_tokens list. Have it creates a stories_length variable for the length of the story, and two variables mentions and womentions equal to 0.\n",
    "Then construct a nested for-loop that iterates through the tokens in the story, adding 1 to the value of mentions and womentions if a token is in the male or female lists, respectively.  \n",
    "Finally, append an item to the stories_mentions list that is a list with the mentions, womentions and stories_length as an item."
   ]
  },
  {
   "cell_type": "code",
   "execution_count": 77,
   "metadata": {},
   "outputs": [],
   "source": [
    "stories_mentions = []\n",
    "\n",
    "for story in stories_tokens:\n",
    "    story_length=len(story)\n",
    "    mentions= 0\n",
    "    womentions =0\n",
    "    for token in story:\n",
    "        if token in men:\n",
    "            mentions = mentions+1\n",
    "        elif token in women:\n",
    "            womentions = womentions+1\n",
    "    mentions=mentions\n",
    "    womentions= womentions\n",
    "    stories_mentions.append([mentions,womentions, story_length])"
   ]
  },
  {
   "cell_type": "code",
   "execution_count": 78,
   "metadata": {
    "collapsed": true,
    "jupyter": {
     "outputs_hidden": true
    }
   },
   "outputs": [
    {
     "data": {
      "text/plain": [
       "[[69, 58, 1422],\n",
       " [4, 24, 978],\n",
       " [38, 174, 1905],\n",
       " [306, 22, 3814],\n",
       " [48, 38, 1113],\n",
       " [216, 91, 3142],\n",
       " [111, 15, 1717],\n",
       " [69, 0, 1067],\n",
       " [49, 130, 1989],\n",
       " [25, 7, 813],\n",
       " [111, 139, 2452],\n",
       " [78, 100, 1445],\n",
       " [54, 182, 2052],\n",
       " [11, 85, 909],\n",
       " [73, 93, 2966],\n",
       " [104, 51, 1442],\n",
       " [120, 28, 1615],\n",
       " [4, 19, 507],\n",
       " [181, 136, 3090],\n",
       " [230, 24, 3354],\n",
       " [102, 217, 2657],\n",
       " [67, 73, 1149],\n",
       " [12, 8, 634],\n",
       " [1, 134, 1211],\n",
       " [29, 59, 947],\n",
       " [39, 92, 1444],\n",
       " [41, 3, 1282],\n",
       " [73, 5, 749],\n",
       " [201, 53, 2564],\n",
       " [0, 17, 468],\n",
       " [120, 136, 2340],\n",
       " [10, 43, 905],\n",
       " [92, 0, 948],\n",
       " [43, 78, 1334],\n",
       " [54, 3, 776],\n",
       " [257, 36, 3843],\n",
       " [141, 26, 2225],\n",
       " [25, 26, 813],\n",
       " [42, 44, 1181],\n",
       " [28, 81, 1395],\n",
       " [19, 1, 392],\n",
       " [61, 0, 628],\n",
       " [6, 28, 301],\n",
       " [118, 14, 1228],\n",
       " [120, 8, 1623],\n",
       " [59, 88, 1413],\n",
       " [169, 162, 3129],\n",
       " [49, 5, 873],\n",
       " [104, 168, 1994],\n",
       " [54, 50, 1334],\n",
       " [12, 21, 961],\n",
       " [72, 91, 1660],\n",
       " [58, 227, 3164],\n",
       " [185, 29, 2334],\n",
       " [49, 55, 1096],\n",
       " [42, 140, 1484],\n",
       " [237, 43, 3114],\n",
       " [70, 7, 1203],\n",
       " [37, 84, 2580],\n",
       " [648, 187, 8598],\n",
       " [85, 20, 2083],\n",
       " [38, 8, 808],\n",
       " [57, 24, 1021],\n",
       " [74, 36, 1103],\n",
       " [88, 148, 2186],\n",
       " [3, 34, 485],\n",
       " [109, 40, 1090],\n",
       " [76, 3, 804],\n",
       " [43, 40, 952],\n",
       " [49, 12, 991],\n",
       " [142, 17, 2076],\n",
       " [42, 0, 406],\n",
       " [32, 5, 720],\n",
       " [14, 12, 374],\n",
       " [8, 4, 288],\n",
       " [149, 78, 1803],\n",
       " [34, 39, 922],\n",
       " [25, 4, 251],\n",
       " [4, 16, 301],\n",
       " [10, 18, 668],\n",
       " [301, 22, 4151],\n",
       " [87, 0, 983],\n",
       " [142, 12, 2083],\n",
       " [20, 4, 445],\n",
       " [121, 46, 1934],\n",
       " [1, 3, 230],\n",
       " [157, 21, 1741],\n",
       " [83, 103, 2341],\n",
       " [79, 170, 2237],\n",
       " [255, 23, 3096],\n",
       " [146, 28, 1857],\n",
       " [257, 54, 2433],\n",
       " [164, 58, 2263],\n",
       " [101, 70, 1427],\n",
       " [58, 47, 1342],\n",
       " [96, 69, 1466],\n",
       " [235, 21, 2322],\n",
       " [53, 5, 772],\n",
       " [115, 0, 1788],\n",
       " [123, 6, 1265],\n",
       " [174, 46, 1986],\n",
       " [29, 9, 916],\n",
       " [1, 18, 245],\n",
       " [89, 37, 1586],\n",
       " [0, 23, 526],\n",
       " [95, 27, 1398],\n",
       " [268, 24, 4196],\n",
       " [225, 68, 2127],\n",
       " [7, 13, 256],\n",
       " [119, 0, 1813],\n",
       " [223, 80, 2350],\n",
       " [33, 0, 396],\n",
       " [225, 162, 3430],\n",
       " [56, 35, 1219],\n",
       " [40, 15, 542],\n",
       " [146, 47, 1755],\n",
       " [0, 14, 142],\n",
       " [44, 27, 1090],\n",
       " [39, 4, 1037],\n",
       " [31, 1, 1167],\n",
       " [187, 29, 2145],\n",
       " [172, 83, 2645],\n",
       " [10, 67, 917],\n",
       " [58, 0, 665],\n",
       " [48, 16, 1248],\n",
       " [188, 45, 2003],\n",
       " [80, 181, 2212],\n",
       " [45, 36, 774],\n",
       " [102, 31, 1667],\n",
       " [13, 160, 2677],\n",
       " [12, 25, 309],\n",
       " [31, 0, 482],\n",
       " [90, 17, 1465],\n",
       " [140, 97, 2714],\n",
       " [86, 116, 1554],\n",
       " [322, 34, 3233],\n",
       " [74, 2, 713],\n",
       " [4, 0, 153],\n",
       " [9, 8, 135],\n",
       " [11, 0, 149],\n",
       " [18, 18, 647],\n",
       " [90, 2, 855],\n",
       " [24, 3, 427],\n",
       " [103, 22, 1296],\n",
       " [16, 1, 168],\n",
       " [91, 1, 1159],\n",
       " [42, 16, 543],\n",
       " [30, 0, 366],\n",
       " [4, 15, 283],\n",
       " [10, 11, 164],\n",
       " [15, 0, 224],\n",
       " [19, 0, 1120],\n",
       " [24, 0, 364],\n",
       " [4, 30, 337],\n",
       " [12, 4, 350],\n",
       " [8, 8, 155],\n",
       " [6, 21, 207],\n",
       " [48, 0, 931],\n",
       " [3, 2, 333],\n",
       " [2, 0, 210],\n",
       " [4, 12, 131],\n",
       " [93, 35, 2459],\n",
       " [26, 0, 253],\n",
       " [130, 32, 2381],\n",
       " [33, 16, 1002],\n",
       " [261, 73, 2810],\n",
       " [212, 56, 2635],\n",
       " [11, 0, 256],\n",
       " [9, 21, 458],\n",
       " [57, 107, 1910],\n",
       " [24, 31, 377],\n",
       " [59, 20, 1148],\n",
       " [3, 0, 241],\n",
       " [15, 0, 236],\n",
       " [45, 9, 841],\n",
       " [24, 0, 783],\n",
       " [29, 0, 578],\n",
       " [37, 0, 585],\n",
       " [93, 4, 1441],\n",
       " [118, 226, 3886],\n",
       " [26, 11, 678],\n",
       " [112, 99, 2126],\n",
       " [73, 0, 985],\n",
       " [35, 0, 727],\n",
       " [21, 0, 269],\n",
       " [131, 11, 1271],\n",
       " [63, 238, 2681],\n",
       " [80, 21, 1367],\n",
       " [32, 92, 1108],\n",
       " [21, 0, 377],\n",
       " [6, 3, 181],\n",
       " [86, 64, 1316],\n",
       " [199, 32, 3074],\n",
       " [178, 148, 3841],\n",
       " [7, 5, 241],\n",
       " [111, 4, 1495],\n",
       " [62, 57, 770],\n",
       " [49, 23, 1082],\n",
       " [52, 127, 2002],\n",
       " [103, 7, 1461],\n",
       " [15, 0, 184]]"
      ]
     },
     "execution_count": 78,
     "metadata": {},
     "output_type": "execute_result"
    }
   ],
   "source": [
    "stories_mentions"
   ]
  },
  {
   "cell_type": "markdown",
   "metadata": {},
   "source": [
    "# Visualizing some questions\n",
    "\n",
    "We can now bring this information into Pandas and visualize some patterns. You will learn about Pandas in lessons 9 and 10- for now, this is an efficient way to analyze and display the data you gathered.\n",
    "\n",
    "First, we structure our data (you do not need to be able to understand this yet)."
   ]
  },
  {
   "cell_type": "code",
   "execution_count": 90,
   "metadata": {},
   "outputs": [],
   "source": [
    "stories_mentions_df = pd.DataFrame(stories_mentions,columns=['m_mentions','f_mentions','length'])"
   ]
  },
  {
   "cell_type": "markdown",
   "metadata": {},
   "source": [
    "Below, we calculate frequency of male/female mentions by dividing the counts by story length. This allows us to control for the effects of having very long or short stories.\n",
    "\n",
    "We also create a variable for the difference between the frequencies, which allows us to see whether a story skews male or female. "
   ]
  },
  {
   "cell_type": "code",
   "execution_count": 91,
   "metadata": {},
   "outputs": [],
   "source": [
    "stories_mentions_df['f_freq']= stories_mentions_df['f_mentions']/stories_mentions_df['length']\n",
    "stories_mentions_df['m_freq']= stories_mentions_df['m_mentions']/stories_mentions_df['length']\n",
    "stories_mentions_df['difference']= stories_mentions_df['f_freq']-stories_mentions_df['m_freq']"
   ]
  },
  {
   "cell_type": "markdown",
   "metadata": {},
   "source": [
    "We add a variable called 'gender', with values 'male', 'female' or 'mixed', to indicate whether there are only male or female mentions, or a combination of both, in the story."
   ]
  },
  {
   "cell_type": "code",
   "execution_count": null,
   "metadata": {},
   "outputs": [],
   "source": [
    "# Add gender variable\n",
    "stories_mentions_df['gender']='mixed'\n",
    "stories_mentions_df.loc[(stories_mentions_df['m_mentions']>0)&(stories_mentions_df['f_mentions']==0),'gender']='male'\n",
    "stories_mentions_df.loc[(stories_mentions_df['f_mentions']>0)&(stories_mentions_df['m_mentions']==0),'gender']='female'"
   ]
  },
  {
   "cell_type": "markdown",
   "metadata": {},
   "source": [
    "And we add the story titles to our data."
   ]
  },
  {
   "cell_type": "code",
   "execution_count": 92,
   "metadata": {},
   "outputs": [],
   "source": [
    "# Add titles\n",
    "story_titles=[]\n",
    "with open('Other_files/GrimmsTitles.txt') as file:\n",
    "    for line in file:\n",
    "        story_titles.append(line.strip())\n",
    "for index, item in enumerate(story_titles):\n",
    "    stories_mentions_df.loc[index,'title']=item"
   ]
  },
  {
   "cell_type": "code",
   "execution_count": 221,
   "metadata": {},
   "outputs": [
    {
     "data": {
      "text/html": [
       "<div>\n",
       "<style scoped>\n",
       "    .dataframe tbody tr th:only-of-type {\n",
       "        vertical-align: middle;\n",
       "    }\n",
       "\n",
       "    .dataframe tbody tr th {\n",
       "        vertical-align: top;\n",
       "    }\n",
       "\n",
       "    .dataframe thead th {\n",
       "        text-align: right;\n",
       "    }\n",
       "</style>\n",
       "<table border=\"1\" class=\"dataframe\">\n",
       "  <thead>\n",
       "    <tr style=\"text-align: right;\">\n",
       "      <th></th>\n",
       "      <th>m_mentions</th>\n",
       "      <th>f_mentions</th>\n",
       "      <th>length</th>\n",
       "      <th>f_freq</th>\n",
       "      <th>m_freq</th>\n",
       "      <th>difference</th>\n",
       "      <th>title</th>\n",
       "      <th>gender</th>\n",
       "    </tr>\n",
       "  </thead>\n",
       "  <tbody>\n",
       "    <tr>\n",
       "      <th>0</th>\n",
       "      <td>69</td>\n",
       "      <td>58</td>\n",
       "      <td>1422</td>\n",
       "      <td>0.040788</td>\n",
       "      <td>0.048523</td>\n",
       "      <td>-0.007736</td>\n",
       "      <td>The Frog-King, or Iron Henry</td>\n",
       "      <td>mixed</td>\n",
       "    </tr>\n",
       "    <tr>\n",
       "      <th>1</th>\n",
       "      <td>4</td>\n",
       "      <td>24</td>\n",
       "      <td>978</td>\n",
       "      <td>0.024540</td>\n",
       "      <td>0.004090</td>\n",
       "      <td>0.020450</td>\n",
       "      <td>Cat and Mouse in Partnership</td>\n",
       "      <td>mixed</td>\n",
       "    </tr>\n",
       "    <tr>\n",
       "      <th>2</th>\n",
       "      <td>38</td>\n",
       "      <td>174</td>\n",
       "      <td>1905</td>\n",
       "      <td>0.091339</td>\n",
       "      <td>0.019948</td>\n",
       "      <td>0.071391</td>\n",
       "      <td>Our Lady’s Child</td>\n",
       "      <td>mixed</td>\n",
       "    </tr>\n",
       "    <tr>\n",
       "      <th>3</th>\n",
       "      <td>306</td>\n",
       "      <td>22</td>\n",
       "      <td>3814</td>\n",
       "      <td>0.005768</td>\n",
       "      <td>0.080231</td>\n",
       "      <td>-0.074463</td>\n",
       "      <td>The Story of the Youth Who Went Forth to Learn...</td>\n",
       "      <td>mixed</td>\n",
       "    </tr>\n",
       "    <tr>\n",
       "      <th>4</th>\n",
       "      <td>48</td>\n",
       "      <td>38</td>\n",
       "      <td>1113</td>\n",
       "      <td>0.034142</td>\n",
       "      <td>0.043127</td>\n",
       "      <td>-0.008985</td>\n",
       "      <td>The Wolf and the Seven Little Kids</td>\n",
       "      <td>mixed</td>\n",
       "    </tr>\n",
       "    <tr>\n",
       "      <th>...</th>\n",
       "      <td>...</td>\n",
       "      <td>...</td>\n",
       "      <td>...</td>\n",
       "      <td>...</td>\n",
       "      <td>...</td>\n",
       "      <td>...</td>\n",
       "      <td>...</td>\n",
       "      <td>...</td>\n",
       "    </tr>\n",
       "    <tr>\n",
       "      <th>196</th>\n",
       "      <td>62</td>\n",
       "      <td>57</td>\n",
       "      <td>770</td>\n",
       "      <td>0.074026</td>\n",
       "      <td>0.080519</td>\n",
       "      <td>-0.006494</td>\n",
       "      <td>Old Rinkrank</td>\n",
       "      <td>mixed</td>\n",
       "    </tr>\n",
       "    <tr>\n",
       "      <th>197</th>\n",
       "      <td>49</td>\n",
       "      <td>23</td>\n",
       "      <td>1082</td>\n",
       "      <td>0.021257</td>\n",
       "      <td>0.045287</td>\n",
       "      <td>-0.024030</td>\n",
       "      <td>The Crystal Ball</td>\n",
       "      <td>mixed</td>\n",
       "    </tr>\n",
       "    <tr>\n",
       "      <th>198</th>\n",
       "      <td>52</td>\n",
       "      <td>127</td>\n",
       "      <td>2002</td>\n",
       "      <td>0.063437</td>\n",
       "      <td>0.025974</td>\n",
       "      <td>0.037463</td>\n",
       "      <td>Maid Maleen</td>\n",
       "      <td>mixed</td>\n",
       "    </tr>\n",
       "    <tr>\n",
       "      <th>199</th>\n",
       "      <td>103</td>\n",
       "      <td>7</td>\n",
       "      <td>1461</td>\n",
       "      <td>0.004791</td>\n",
       "      <td>0.070500</td>\n",
       "      <td>-0.065708</td>\n",
       "      <td>The Boots of Buffalo-Leather</td>\n",
       "      <td>mixed</td>\n",
       "    </tr>\n",
       "    <tr>\n",
       "      <th>200</th>\n",
       "      <td>15</td>\n",
       "      <td>0</td>\n",
       "      <td>184</td>\n",
       "      <td>0.000000</td>\n",
       "      <td>0.081522</td>\n",
       "      <td>-0.081522</td>\n",
       "      <td>The Golden Key</td>\n",
       "      <td>male</td>\n",
       "    </tr>\n",
       "  </tbody>\n",
       "</table>\n",
       "<p>201 rows × 8 columns</p>\n",
       "</div>"
      ],
      "text/plain": [
       "     m_mentions  f_mentions  length    f_freq    m_freq  difference  \\\n",
       "0            69          58    1422  0.040788  0.048523   -0.007736   \n",
       "1             4          24     978  0.024540  0.004090    0.020450   \n",
       "2            38         174    1905  0.091339  0.019948    0.071391   \n",
       "3           306          22    3814  0.005768  0.080231   -0.074463   \n",
       "4            48          38    1113  0.034142  0.043127   -0.008985   \n",
       "..          ...         ...     ...       ...       ...         ...   \n",
       "196          62          57     770  0.074026  0.080519   -0.006494   \n",
       "197          49          23    1082  0.021257  0.045287   -0.024030   \n",
       "198          52         127    2002  0.063437  0.025974    0.037463   \n",
       "199         103           7    1461  0.004791  0.070500   -0.065708   \n",
       "200          15           0     184  0.000000  0.081522   -0.081522   \n",
       "\n",
       "                                                 title gender  \n",
       "0                         The Frog-King, or Iron Henry  mixed  \n",
       "1                         Cat and Mouse in Partnership  mixed  \n",
       "2                                     Our Lady’s Child  mixed  \n",
       "3    The Story of the Youth Who Went Forth to Learn...  mixed  \n",
       "4                   The Wolf and the Seven Little Kids  mixed  \n",
       "..                                                 ...    ...  \n",
       "196                                       Old Rinkrank  mixed  \n",
       "197                                   The Crystal Ball  mixed  \n",
       "198                                        Maid Maleen  mixed  \n",
       "199                       The Boots of Buffalo-Leather  mixed  \n",
       "200                                     The Golden Key   male  \n",
       "\n",
       "[201 rows x 8 columns]"
      ]
     },
     "execution_count": 221,
     "metadata": {},
     "output_type": "execute_result"
    }
   ],
   "source": [
    "stories_mentions_df"
   ]
  },
  {
   "cell_type": "code",
   "execution_count": 100,
   "metadata": {},
   "outputs": [],
   "source": [
    "# Import modules to help visualize\n",
    "import numpy as np\n",
    "import matplotlib.pyplot as plt"
   ]
  },
  {
   "cell_type": "markdown",
   "metadata": {},
   "source": [
    "### Visualization 1: Number of Stories with only Male or only Female Mentions\n",
    "\n",
    "This first visualization is a simple bar chart that counts the number of stories with mixed, only male or only female mentions. The majority of stories (160) mention characters of each gender. 30 stories have only male characters. And 3 have only female characters."
   ]
  },
  {
   "cell_type": "code",
   "execution_count": 224,
   "metadata": {},
   "outputs": [
    {
     "data": {
      "text/plain": [
       "<matplotlib.axes._subplots.AxesSubplot at 0x7fbf170daed0>"
      ]
     },
     "execution_count": 224,
     "metadata": {},
     "output_type": "execute_result"
    },
    {
     "data": {
      "image/png": "[encoded data removed]",
      "text/plain": [
       "<Figure size 720x360 with 1 Axes>"
      ]
     },
     "metadata": {
      "needs_background": "light"
     },
     "output_type": "display_data"
    }
   ],
   "source": [
    "stories_mentions_df['gender'].value_counts().plot(kind='bar',figsize=(10,5))"
   ]
  },
  {
   "cell_type": "code",
   "execution_count": 225,
   "metadata": {},
   "outputs": [],
   "source": [
    "# Add labels to columns?"
   ]
  },
  {
   "cell_type": "markdown",
   "metadata": {},
   "source": [
    "### Visualization 2: Histogram of the Difference between Male and Female Mentions\n",
    "\n",
    "Below, we plot a histogram of the 'difference' variable for stories with both types of characters. A histogram is a graphical representation of how a variable is distributed. It groups a variable's values into intervals or bins, and counts how many values fall into each bin.\n",
    "\n",
    "In this graph, the difference is more or less distributed as a bell curve (perhaps with a bit of a right tail). But as can be seen, the center of the bell curve is not found at the value 0 (neutral story), but somewhere in the negative (blue, or male) side. We can  thus see that the difference (calculated as f_mentions - m_mentions) is more often negative than positive (below zero, or in blue), meaning that stories tend to mention male characters more than female characters. \n",
    "\n",
    "We have excluded stories that only mention males or females."
   ]
  },
  {
   "cell_type": "code",
   "execution_count": 226,
   "metadata": {},
   "outputs": [
    {
     "data": {
      "image/png": "[encoded data removed]",
      "text/plain": [
       "<Figure size 432x288 with 1 Axes>"
      ]
     },
     "metadata": {
      "needs_background": "light"
     },
     "output_type": "display_data"
    }
   ],
   "source": [
    "cm = plt.cm.get_cmap('RdYlBu_r')\n",
    "\n",
    "Y,X = np.histogram(stories_mentions_df.loc[stories_mentions_df['gender']=='mixed','difference'], 20)\n",
    "x_span = X.max()-X.min()\n",
    "C = [cm(((x-X.min())/x_span)) for x in X]\n",
    "\n",
    "plt.bar(X[:-1],Y,color=C,width=X[1]-X[0])\n",
    "plt.show()"
   ]
  },
  {
   "cell_type": "code",
   "execution_count": 192,
   "metadata": {},
   "outputs": [],
   "source": [
    "colors = {'male':'red', 'female':'blue', 'mixed':'purple'}"
   ]
  },
  {
   "cell_type": "markdown",
   "metadata": {},
   "source": [
    "### Visualization 3: Histogram of Male and Female Frequencies\n",
    "\n",
    "Below, we plot another histogram, but this time for two different variables: male frequencies and female frequencies. As we can see, female frequencies (in blue) tend to gather in the lower values (with more than 35 stories falling in the lowest bin). Male frequencies are more widely distributed."
   ]
  },
  {
   "cell_type": "code",
   "execution_count": 201,
   "metadata": {},
   "outputs": [
    {
     "data": {
      "text/plain": [
       "<matplotlib.axes._subplots.AxesSubplot at 0x7fbf16205550>"
      ]
     },
     "execution_count": 201,
     "metadata": {},
     "output_type": "execute_result"
    },
    {
     "data": {
      "image/png": "[encoded data removed]",
      "text/plain": [
       "<Figure size 432x288 with 1 Axes>"
      ]
     },
     "metadata": {
      "needs_background": "light"
     },
     "output_type": "display_data"
    }
   ],
   "source": [
    "stories_mentions_df[['f_freq','m_freq']].plot.hist(bins=20, alpha=0.75)"
   ]
  },
  {
   "cell_type": "markdown",
   "metadata": {},
   "source": [
    "# Visualization 4: Area chart of Male and Female Frequencies, plotted over the duration of the Book\n",
    "\n",
    "The chart below shows frequency of male and female mentions (the female mentions plotted on a negative axis, so they can be viewed separately) per story, with the stories ordered as they appear in the book. We can see that male mentions tend to predominate, but at a first glance there does not seem to be much of a pattern in the ordering of the stories, at least regarding male- or female-dominated narratives."
   ]
  },
  {
   "cell_type": "code",
   "execution_count": 244,
   "metadata": {},
   "outputs": [
    {
     "data": {
      "text/plain": [
       "<matplotlib.axes._subplots.AxesSubplot at 0x7fbf1521d4d0>"
      ]
     },
     "execution_count": 244,
     "metadata": {},
     "output_type": "execute_result"
    },
    {
     "data": {
      "image/png": "[encoded data removed]",
      "text/plain": [
       "<Figure size 1080x360 with 1 Axes>"
      ]
     },
     "metadata": {
      "needs_background": "light"
     },
     "output_type": "display_data"
    }
   ],
   "source": [
    "stories_mentions_df['neg_f_freq']=-1*stories_mentions_df['f_freq']\n",
    "stories_mentions_df.plot.area('title',['m_freq','neg_f_freq'],figsize=(15,5))"
   ]
  },
  {
   "cell_type": "markdown",
   "metadata": {},
   "source": [
    "### Visualization 5: Histogram of Story length, grouped by Male/Female Skew\n",
    "\n",
    "We can bring another variable into play: story length. In the visualization below, we look at the distribution of story lengths, separated by those stories that skew female (orange) and those that skew male. The first analysis reviews little, aside that most stories skew male."
   ]
  },
  {
   "cell_type": "code",
   "execution_count": 230,
   "metadata": {},
   "outputs": [
    {
     "data": {
      "text/plain": [
       "difference\n",
       "False    AxesSubplot(0.125,0.125;0.775x0.755)\n",
       "True     AxesSubplot(0.125,0.125;0.775x0.755)\n",
       "Name: length, dtype: object"
      ]
     },
     "execution_count": 230,
     "metadata": {},
     "output_type": "execute_result"
    },
    {
     "data": {
      "image/png": "[encoded data removed]",
      "text/plain": [
       "<Figure size 432x288 with 1 Axes>"
      ]
     },
     "metadata": {
      "needs_background": "light"
     },
     "output_type": "display_data"
    }
   ],
   "source": [
    "stories_mentions_df.loc[stories_mentions_df['gender']=='mixed','length'].groupby(stories_mentions_df['difference']>0).plot.hist(bins=20, alpha=0.75)"
   ]
  },
  {
   "cell_type": "code",
   "execution_count": null,
   "metadata": {},
   "outputs": [],
   "source": [
    "# The index gives me an error with the 200 value. Really annoying."
   ]
  },
  {
   "cell_type": "code",
   "execution_count": 229,
   "metadata": {},
   "outputs": [
    {
     "data": {
      "image/png": "[encoded data removed]",
      "text/plain": [
       "<Figure size 432x288 with 1 Axes>"
      ]
     },
     "metadata": {
      "needs_background": "light"
     },
     "output_type": "display_data"
    }
   ],
   "source": [
    "#Unused graphs\n",
    "#plt.scatter(stories_mentions_df['length'],stories_mentions_df['difference'],c=stories_mentions_df['gender'].apply(lambda x: colors[x]), alpha=0.75)\n",
    "#plt.show()"
   ]
  },
  {
   "cell_type": "code",
   "execution_count": 250,
   "metadata": {},
   "outputs": [
    {
     "data": {
      "image/png": "[encoded data removed]",
      "text/plain": [
       "<Figure size 432x288 with 1 Axes>"
      ]
     },
     "metadata": {
      "needs_background": "light"
     },
     "output_type": "display_data"
    }
   ],
   "source": [
    "#plt.scatter(stories_mentions_df['f_mentions'],stories_mentions_df['m_mentions'],c=stories_mentions_df['difference'],cmap='RdYlBu_r', alpha=0.75)\n",
    "#plt.xlim(0,  700)\n",
    "#plt.ylim(0, 700)\n",
    "#plt.show()"
   ]
  },
  {
   "cell_type": "markdown",
   "metadata": {},
   "source": [
    "The number of things we can do with this amount of information we gathered is limited, but these graphs should spur additional questions. \n",
    "\n",
    "We could look at individual stories to look further into the exceptions these graphs have made obvious. \n",
    "\n",
    "For instance, we saw that only three stories mention only female characters. We could print these stories out to see what they are about."
   ]
  },
  {
   "cell_type": "code",
   "execution_count": 234,
   "metadata": {},
   "outputs": [],
   "source": [
    "femalestories= stories_mentions_df.loc[stories_mentions_df['gender']=='female']"
   ]
  },
  {
   "cell_type": "code",
   "execution_count": 235,
   "metadata": {},
   "outputs": [
    {
     "data": {
      "text/html": [
       "<div>\n",
       "<style scoped>\n",
       "    .dataframe tbody tr th:only-of-type {\n",
       "        vertical-align: middle;\n",
       "    }\n",
       "\n",
       "    .dataframe tbody tr th {\n",
       "        vertical-align: top;\n",
       "    }\n",
       "\n",
       "    .dataframe thead th {\n",
       "        text-align: right;\n",
       "    }\n",
       "</style>\n",
       "<table border=\"1\" class=\"dataframe\">\n",
       "  <thead>\n",
       "    <tr style=\"text-align: right;\">\n",
       "      <th></th>\n",
       "      <th>m_mentions</th>\n",
       "      <th>f_mentions</th>\n",
       "      <th>length</th>\n",
       "      <th>f_freq</th>\n",
       "      <th>m_freq</th>\n",
       "      <th>difference</th>\n",
       "      <th>title</th>\n",
       "      <th>gender</th>\n",
       "    </tr>\n",
       "  </thead>\n",
       "  <tbody>\n",
       "    <tr>\n",
       "      <th>29</th>\n",
       "      <td>0</td>\n",
       "      <td>17</td>\n",
       "      <td>468</td>\n",
       "      <td>0.036325</td>\n",
       "      <td>0.0</td>\n",
       "      <td>0.036325</td>\n",
       "      <td>The Louse and the Flea</td>\n",
       "      <td>female</td>\n",
       "    </tr>\n",
       "    <tr>\n",
       "      <th>104</th>\n",
       "      <td>0</td>\n",
       "      <td>23</td>\n",
       "      <td>526</td>\n",
       "      <td>0.043726</td>\n",
       "      <td>0.0</td>\n",
       "      <td>0.043726</td>\n",
       "      <td>Stories about Snakes</td>\n",
       "      <td>female</td>\n",
       "    </tr>\n",
       "    <tr>\n",
       "      <th>116</th>\n",
       "      <td>0</td>\n",
       "      <td>14</td>\n",
       "      <td>142</td>\n",
       "      <td>0.098592</td>\n",
       "      <td>0.0</td>\n",
       "      <td>0.098592</td>\n",
       "      <td>The Wilful Child</td>\n",
       "      <td>female</td>\n",
       "    </tr>\n",
       "  </tbody>\n",
       "</table>\n",
       "</div>"
      ],
      "text/plain": [
       "     m_mentions  f_mentions  length    f_freq  m_freq  difference  \\\n",
       "29            0          17     468  0.036325     0.0    0.036325   \n",
       "104           0          23     526  0.043726     0.0    0.043726   \n",
       "116           0          14     142  0.098592     0.0    0.098592   \n",
       "\n",
       "                      title  gender  \n",
       "29   The Louse and the Flea  female  \n",
       "104    Stories about Snakes  female  \n",
       "116        The Wilful Child  female  "
      ]
     },
     "execution_count": 235,
     "metadata": {},
     "output_type": "execute_result"
    }
   ],
   "source": [
    "femalestories"
   ]
  },
  {
   "cell_type": "code",
   "execution_count": 251,
   "metadata": {},
   "outputs": [
    {
     "name": "stdout",
     "output_type": "stream",
     "text": [
      "first story\n",
      "\n",
      "there was once a little child whose mother gave her every afternoon a\n",
      "small bowl of milk and bread and the child seated herself in the yard\n",
      "with it when she began to eat however a snake came creeping out of a\n",
      "crevice in the wall dipped its little head in the dish and ate with\n",
      "her the child had pleasure in this and when she was sitting there\n",
      "with her little dish and the snake did not come at once she cried\n",
      "\n",
      "snake snake come swiftly\n",
      "hither come thou tiny thing\n",
      "thou shalt have thy crumbs of bread\n",
      "thou shalt refresh thyself with milk\n",
      "\n",
      "then the snake came in haste and enjoyed its food moreover it showed\n",
      "gratitude for it brought the child all kinds of pretty things from its\n",
      "hidden treasures bright stones pearls and golden playthings the\n",
      "snake however only drank the milk and left the breadcrumbs alone\n",
      "then one day the child took its little spoon and struck the snake\n",
      "gently on its head with it and said eat the breadcrumbs as well\n",
      "little thing the mother who was standing in the kitchen heard the\n",
      "child talking to someone and when she saw that she was striking a\n",
      "snake with her spoon ran out with a log of wood and killed the good\n",
      "little creature\n",
      "\n",
      "from that time forth a change came over the child as long as the\n",
      "snake had eaten with her she had grown tall and strong but now she\n",
      "lost her pretty rosy cheeks and wasted away it was not long before the\n",
      "funeral bird began to cry in the night and the redbreast to collect\n",
      "little branches and leaves for a funeral garland and soon afterwards\n",
      "the child lay on her bier\n",
      "\n",
      "second story\n",
      "\n",
      "an orphan child was sitting on the town walls spinning when she saw a\n",
      "snake coming out of a hole low down in the wall swiftly she spread out\n",
      "beside this one of the blue silk handkerchiefs which snakes have such a\n",
      "strong liking for and which are the only things they will creep on as\n",
      "soon as the snake saw it it went back then returned bringing with it\n",
      "a small golden crown laid it on the handkerchief and then went away\n",
      "again the girl took up the crown it glittered and was of delicate\n",
      "golden filagree work it was not long before the snake came back for\n",
      "the second time but when it no longer saw the crown it crept up to\n",
      "the wall and in its grief smote its little head against it as long as\n",
      "it had strength to do so until at last it lay there dead if the girl\n",
      "had but left the crown where it was the snake would certainly have\n",
      "brought still more of its treasures out of the hole\n",
      "\n",
      "third story\n",
      "\n",
      "a snake cries huhu huhu a child says come out the snake comes\n",
      "out then the child inquires about her little sister hast thou not\n",
      "seen little redstockings the snake says no neither have i\n",
      "then i am like you huhu huhu huhu\n"
     ]
    }
   ],
   "source": [
    "print(stories[104])"
   ]
  },
  {
   "cell_type": "markdown",
   "metadata": {},
   "source": [
    "Two of these stories actually have characters that are neutral (\"snake\", \"child\", \"louse\" or \"flea\"). \n",
    "\n",
    "To go further, we could move beyond mentions and look at the number of characters of each gender mentioned in a story. Or we could look at how male and female characters are described, either by the adjectives surrounding them or in the way their actions are described.  We could also go beyond the contents of the book itself and think about reception: of the Grimms' fairy tales, some are more famous than others. How do these reflect the male and female characters they contain?"
   ]
  },
  {
   "cell_type": "markdown",
   "metadata": {},
   "source": [
    "<div style=\"text-align:center\">    \n",
    "  <a href=\"07%20Loops.ipynb\">Previous Lesson: Loops</a>|\n",
    "   <a href=\"08%20Accessing%20Files.ipynb\">Next Lesson: Accessing Files</a>\n",
    "</div>"
   ]
  }
 ],
 "metadata": {
  "kernelspec": {
   "display_name": "Python 3",
   "language": "python",
   "name": "python3"
  },
  "language_info": {
   "codemirror_mode": {
    "name": "ipython",
    "version": 3
   },
   "file_extension": ".py",
   "mimetype": "text/x-python",
   "name": "python",
   "nbconvert_exporter": "python",
   "pygments_lexer": "ipython3",
   "version": "3.7.6"
  }
 },
 "nbformat": 4,
 "nbformat_minor": 4
}
