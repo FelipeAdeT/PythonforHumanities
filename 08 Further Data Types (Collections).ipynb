{
 "cells": [
  {
   "cell_type": "markdown",
   "metadata": {
    "slideshow": {
     "slide_type": "slide"
    }
   },
   "source": [
    "# Lesson 8: Further Data Structures - Collections\n",
    "\n",
    "As seen in the Basic Data Types Lessons, strings, integers and floats are the simplest types of objects, objects which contain single values. You can store these as variables individually by assigning them a name. But you can also store them in more complex structures that exist for collecting multiple values.\n",
    "\n",
    "In this lesson, we will look at **collections**, objects that can hold more than one value. We will look at **lists**, **dictionaries** and **tuples**.\n"
   ]
  },
  {
   "cell_type": "code",
   "execution_count": null,
   "metadata": {},
   "outputs": [],
   "source": [
    "from QuestionsCollections import Q1,Q2,Q3,Q4, question,solution"
   ]
  },
  {
   "cell_type": "markdown",
   "metadata": {},
   "source": [
    "## Lesson Goals\n",
    "\n",
    "**Key Concepts:** "
   ]
  },
  {
   "cell_type": "markdown",
   "metadata": {
    "slideshow": {
     "slide_type": "subslide"
    }
   },
   "source": [
    "# Lists, Dictionaries and Tuples\n",
    "\n",
    "|Structure| Description | Notation|\n",
    "|---|---|---|\n",
    "|**List**| A changeable, ordered collection| []|\n",
    "|**Dictionary**| A changeable, unordered collection| {k:v}|\n",
    "|**Tuples**| An unchangeable, ordered collection (like an unchangeable list)|()|\n",
    "\n",
    "\n",
    "We'll look at these different options for storing several pieces of data and their advantages and uses."
   ]
  },
  {
   "cell_type": "markdown",
   "metadata": {
    "slideshow": {
     "slide_type": "slide"
    }
   },
   "source": [
    "---\n",
    "# Lists\n",
    "\n",
    ">**Lists** are ordered, mutable (changeable) collections of values.\n",
    "\n",
    "We have seen lists before, and have been using them in our code. Lists are **enclosed by square brackets**, and each item is **separated by a comma**. \n",
    "\n",
    "```python\n",
    "my_list = ['value A', 'value B', 1, 'value D']\n",
    "```\n",
    "\n",
    "Values in lists can be repeated, and one list can hold several data types (above, for example, we included an integer as well as text values). \n",
    "\n",
    "In fact, any Python object can be put into a list. We can even nest lists to make 'lists of lists', as well as include other collections inside a list."
   ]
  },
  {
   "cell_type": "markdown",
   "metadata": {},
   "source": [
    "# Creating Lists\n",
    "\n",
    "To create a list, you can specify its values in brackets and assign it a variable, as we saw above.\n",
    "\n",
    "**Exercise 1**: Create a list with 4 string elements: Plain Glaze, Classic Chocolate, Strawberry Sprinkle and Lemon Glaze. Give it an intelligible name. "
   ]
  },
  {
   "cell_type": "code",
   "execution_count": null,
   "metadata": {},
   "outputs": [],
   "source": []
  },
  {
   "cell_type": "code",
   "execution_count": null,
   "metadata": {},
   "outputs": [],
   "source": [
    "solution(Q1)"
   ]
  },
  {
   "cell_type": "markdown",
   "metadata": {},
   "source": [
    "Alternatively, we can create blank lists to be populated later. These be made with the reserved word **list()** or using **empty square brackets**:\n",
    "\n",
    "```python\n",
    "my_list = list()\n",
    "```\n",
    "\n",
    "or\n",
    "\n",
    "```python\n",
    "my_list = []\n",
    "```\n",
    "\n",
    "We'll practice this later.\n",
    "\n",
    "# Characteristics of Lists: Order\n",
    "\n",
    "Lists are **ordered**, meaning that each element can be accessed by its place in the list. Indexing and slicing lists works in the way we saw with strings.\n",
    "\n",
    "Like strings, lists are indexed by position, starting with position 0 for the first item. \n",
    "\n",
    "We can access an item in a list by giving the item name and its position within the list in brackets.\n",
    "\n",
    "```python\n",
    "list_name[0]\n",
    "```\n",
    "\n",
    "will return the first item in a list.\n",
    "\n",
    "You can also slice lists. \n",
    "\n",
    "```python\n",
    "list_name[a:b]\n",
    "``` \n",
    "\n",
    "would give you all list elements from a, **up to, but not including b**. You can omit a or b to start from the beginning or continue to the end, respectively. \n",
    "\n",
    "**Exercise 2** Retrieve the first three elements of our donut flavors list."
   ]
  },
  {
   "cell_type": "code",
   "execution_count": null,
   "metadata": {},
   "outputs": [],
   "source": []
  },
  {
   "cell_type": "code",
   "execution_count": null,
   "metadata": {},
   "outputs": [],
   "source": [
    "solution(Q2)"
   ]
  },
  {
   "cell_type": "markdown",
   "metadata": {},
   "source": [
    "# Characteristics of Lists: Mutability\n",
    "\n",
    "Lists are **mutable**, meaning that existing elements can be changed. To do so, specify the element's position and assign it a new value.\n",
    "\n",
    "In our example, say our donut shop has replaced 'Classic Chocolate' with 'Chocolate and Sea Salt'.  'Classic Chocolate' was item 2, in position 1.  \n",
    "\n",
    "In the code below, we can say (remember to update the name of the list if you used a different one)."
   ]
  },
  {
   "cell_type": "code",
   "execution_count": null,
   "metadata": {},
   "outputs": [],
   "source": [
    "donuts[1]= 'Chocolate and Sea Salt'"
   ]
  },
  {
   "cell_type": "markdown",
   "metadata": {},
   "source": [
    "If we print our list, we will see that the item has been updated."
   ]
  },
  {
   "cell_type": "code",
   "execution_count": null,
   "metadata": {},
   "outputs": [],
   "source": [
    "print(donuts)"
   ]
  },
  {
   "cell_type": "markdown",
   "metadata": {},
   "source": [
    "**Exercise 3:** Try it yourself: change the item 'Strawberry Sprinkle' to 'Strawberry Shortcake'."
   ]
  },
  {
   "cell_type": "code",
   "execution_count": null,
   "metadata": {},
   "outputs": [],
   "source": [
    "solution(Q3)"
   ]
  },
  {
   "cell_type": "markdown",
   "metadata": {},
   "source": [
    "---\n",
    "# Manipulating Lists: Functions, Operators and Methods\n",
    "\n",
    "## Python Built-in functions and lists\n",
    "\n",
    "Some of Python's built-in functions work well for lists.\n",
    "\n",
    "|Function| Action|\n",
    "|---|---|\n",
    "|**len(list)**|Returns number of items in a list|\n",
    "|**sum(list)**|Adds elements in list if these are all numerical|\n",
    "|**max(list)**|Returns maximum value in list|\n",
    "|**min(list)**|Returns minimum value in list|\n",
    "\n",
    "Where max and min also work on strings, by checking the character table. \n",
    "\n",
    "The membership operators **in** and **not in** also work with lists, and will check whether a list contains a certain item or not."
   ]
  },
  {
   "cell_type": "markdown",
   "metadata": {},
   "source": [
    "## List Methods\n",
    "\n",
    "Like strings, lists possess a variety of [useful methods](https://docs.python.org/3/tutorial/datastructures.html) that allow us to manipulate their contents. Unlike with strings, many of these methods act in-place, meaning that we do not need to reassing the variable to preserve any changes.\n",
    "\n",
    "|Method|Action|\n",
    "|--|--|\n",
    "|**list.append()**|Adds a value to the end of the list|\n",
    "|**list.extend()**| adds several values from an iterable object (such as a list) to end of list|\n",
    "|**list.insert()**| adds a value to another place in list|\n",
    "|**list.pop()**| Removes an item by position (default is the last position)|\n",
    "|**list.remove('value')**| Removes the first item with the content 'value' from the list|\n",
    "|**list.reverse()**| reverses the order of list|\n",
    "|**list.sort()**| sorts based on values|\n",
    "|**list.count('value')**| counts number of time 'value' is in list|\n",
    "\n",
    "**Exercise 4:** We are in the process of brainstorming more flavors for donuts. So far, ideas include: Apple Cider, Boston Cream, Lemon Glaze and Raspberry.\n",
    "\n",
    "1. Create a new list called 'donuts2' with these elements.\n",
    "2. Add these items to the end of our first list with one of the methods above. Look at the documentation if necessary.\n",
    "3. Calculate the length of the list.\n",
    "4. We only need 7 flavors - drop the last item of the list.\n",
    "5. We might have repeated the value 'Lemon Glaze'. Print the contents of the list to see what we have. \n",
    "6. Drop the first value of 'Lemon Glaze'\n",
    "7. Re-add the value 'Raspberry' to have 6 flavors.\n",
    "\n",
    "The final output should be a list called donuts with 6 flavors: 'Plain Glaze', 'Chocolate Sea Salt', 'Strawberry Sprinkle', 'Apple Cider', 'Boston Cream', 'Lemon Glaze', and 'Raspberry'.\n",
    "\n",
    "You can add new cells to the notebook if you would like to work in steps. Do this by clicking on the left of a cell, and pressing A or B (to create a cell above or below)."
   ]
  },
  {
   "cell_type": "code",
   "execution_count": null,
   "metadata": {},
   "outputs": [],
   "source": []
  },
  {
   "cell_type": "code",
   "execution_count": null,
   "metadata": {},
   "outputs": [],
   "source": [
    "solution(Q4)"
   ]
  },
  {
   "cell_type": "code",
   "execution_count": null,
   "metadata": {},
   "outputs": [],
   "source": [
    "#Removed list comprehensions - more advanced topic"
   ]
  },
  {
   "cell_type": "markdown",
   "metadata": {},
   "source": [
    "---\n",
    "# Dictionaries\n",
    "\n",
    "Dictionaries are unordered, mutable collections of key-value pairs. They are useful for **mapping** unique keys onto values.\n",
    "\n",
    "Dictionaries are **unordered**, meaning that unlike lists, they do not organize values by position.\n",
    "\n",
    "Data in a dictionary is organized by **key-value pairs**. They instead index values by their key, a name you can assign. You can fetch values by calling their key.   \n",
    "\n",
    "They function a bit like a bag of values, with tags (keys). Python searches through the keys efficiently to find the values, without preserving order.\n",
    "\n",
    "You might also liken each key value pair to an entry in a (printed) dictionary: you search for a word (key) to find its entry (value).\n",
    "\n",
    "```python\n",
    "my_dict = {'key1': value1,'key2': value2, 'key3: value3 }\n",
    "```\n",
    "Dictionaries are denoted by **curly brackets ({})**. Each **key-value pair** is written as key, colon, value. Key-value pairs are separated by commas.\n",
    "\n",
    "Keys must be unique, and can only be immutable objects (such as strings or numbers). Values can be repeated and can be any sort of object (including collections- such as lists or further dictionaries)."
   ]
  },
  {
   "cell_type": "markdown",
   "metadata": {},
   "source": [
    "# Creating Dictionaries\n",
    "\n",
    "You can create a blank dictionary by using the dict() command.\n",
    "\n",
    "```python\n",
    "my_dict = dict()\n",
    "```\n",
    "\n",
    "Alternatively, you can use empty curly braces {}:\n",
    "\n",
    "```python\n",
    "my_dict = {}\n",
    "```"
   ]
  },
  {
   "cell_type": "markdown",
   "metadata": {},
   "source": [
    "# Accessing Information in Dictionaries\n",
    "\n",
    "We can access a value in a dictionary by indexing, not by position, but by key:\n",
    "\n",
    "```python\n",
    "dict_name['key1']\n",
    "```\n",
    "\n",
    "The above will return the value stored for key1.\n",
    "\n",
    "Looking for a key that does not exist will result in an error. \n",
    "\n",
    "The ```dict.get('key',default = 'value')``` is a method that will also search for a key and return its value. If the key does not exist, instead of throwing an error, it will create one with the default value.\n",
    "\n",
    "# Creating New Key-Value Pairs\n",
    "\n",
    "Indexing can be used in the same way to define new key-value pairs, by assigning a key that does not exist to a new value.\n",
    "\n",
    "```python\n",
    "dict['newkey']='newvalue'\n",
    "```\n",
    "Please keep in mind that such an assignment using an existing key would overwrite its value.\n",
    "\n",
    "# Other Useful Dictionary Methods & Functions\n",
    "\n",
    "|Method| Action|\n",
    "|---|---|\n",
    "|list(d)|Return a list of all the keys used in the dictionary d.|\n",
    "|len(d)|Return the number of items in the dictionary d|\n",
    "|del d[key]| Remove d[key] from d. Raises a KeyError if key is not in the map.|\n",
    "|iter(d)|Return an iterator over the keys of the dictionary. This is a shortcut for iter(d.keys()).|\n",
    "|clear()|Remove all items from the dictionary.|\n",
    "|pop(key[, default])|If key is in the dictionary, remove it and return its value, else return default. If default is not given and key is not in the dictionary, a KeyError is raised.|\n",
    "|update([other])|Update the dictionary with the key/value pairs from other, overwriting existing keys. Return None.|\n",
    "\n",
    "The **in** and **not in** operators also work with dictionary keys."
   ]
  },
  {
   "cell_type": "code",
   "execution_count": null,
   "metadata": {},
   "outputs": [],
   "source": [
    "#histogram pattern\n",
    "\n",
    "#counts = dict()\n",
    "#names = ['a','b','c','b']\n",
    "#for name in names:\n",
    "#    counts[name]= counts.get(name,0) +1\n",
    "#print(counts)\n"
   ]
  },
  {
   "cell_type": "code",
   "execution_count": null,
   "metadata": {},
   "outputs": [],
   "source": [
    "# Note on below: should we even cover tuples for a beginner?"
   ]
  },
  {
   "cell_type": "markdown",
   "metadata": {},
   "source": [
    "# Tuples\n",
    "\n",
    "Tuples are ordered, immutable collections of values.\n",
    "\n",
    "```python\n",
    "my_tuple = ('value A', 'value B', 1, 'value D')\n",
    "```\n",
    "\n",
    "- Tuples are denoted by parentheses.\n",
    "- Items in tuples are separated by commas.\n",
    "- Values can be repeated\n",
    "- Different datatypes can coexist as values.\n",
    "- Any Python object can be put into a tuple.\n",
    "\n",
    "Tuples are much like lists, with the difference that they are immutable, meaning that once written, they cannot be modified. This means that the methods so useful for lists cannot be used with tuples. "
   ]
  },
  {
   "cell_type": "code",
   "execution_count": null,
   "metadata": {},
   "outputs": [],
   "source": []
  }
 ],
 "metadata": {
  "celltoolbar": "Slideshow",
  "kernelspec": {
   "display_name": "Python 3",
   "language": "python",
   "name": "python3"
  },
  "language_info": {
   "codemirror_mode": {
    "name": "ipython",
    "version": 3
   },
   "file_extension": ".py",
   "mimetype": "text/x-python",
   "name": "python",
   "nbconvert_exporter": "python",
   "pygments_lexer": "ipython3",
   "version": "3.7.6"
  }
 },
 "nbformat": 4,
 "nbformat_minor": 4
}
