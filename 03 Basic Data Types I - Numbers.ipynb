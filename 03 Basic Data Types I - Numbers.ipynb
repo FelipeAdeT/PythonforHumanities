{
 "cells": [
  {
   "cell_type": "markdown",
   "metadata": {},
   "source": [
    "# Basic Python Data Types: Numerical Values\n",
    "\n",
    "In the first lesson, we were introduced to the notion of semantics, or meaning. In this lesson we learn about some basic units of meaning in python: the basic data types of strings, integers, and floats, as well as mathematical operators. "
   ]
  },
  {
   "cell_type": "code",
   "execution_count": null,
   "metadata": {},
   "outputs": [],
   "source": [
    "# Run this cell to import lesson exercises\n",
    "from QuestionsBDT import Q1,Q2,Q3,Q4,Q5, question, solution"
   ]
  },
  {
   "cell_type": "markdown",
   "metadata": {},
   "source": [
    "---\n",
    "## Lesson goals:\n",
    "- Learn to check data types\n",
    "- Learn to convert data types\n",
    "- Basic data types: str, bool, int, float\n",
    "- Numerical operators\n",
    "\n",
    "**Key Concepts:** strings, integers, floats, numerical operators, string operators, indexing and slicing\n",
    "\n",
    "---\n",
    "# Basic Data Types\n",
    "\n",
    "Some default object classes, with their attributes and methods, exist in Python. Let's look at the most basic and essential types among them, the structures created to hold single values.\n",
    "\n",
    ">A **string** is a piece of text, a sequence of characters that is expressed in between quotes (single or double).\n",
    "    \n",
    ">An **integer** is a whole number.\n",
    "\n",
    ">And a **float (floating point)** is a number with a decimal point.\n",
    "\n",
    ">A **boolean** is a True or False, 0 or 1, value.\n",
    "\n",
    "Other datatypes exist, such as Decimal or Fraction, for more precise mathematical needs.\n",
    "\n",
    "## Checking a Variable's Datatype\n",
    "\n",
    "Strings, booleans, integers and floats are classes (types) of objects.\n",
    "\n",
    "You can store them as **variables** by assigning them a name with the equals sign.  We have been doing this for a while.\n",
    "\n",
    "Let's create a variable."
   ]
  },
  {
   "cell_type": "code",
   "execution_count": null,
   "metadata": {},
   "outputs": [],
   "source": [
    "artist = 'Frida Kahlo' # note the quotes"
   ]
  },
  {
   "cell_type": "markdown",
   "metadata": {},
   "source": [
    "As you can see, the text is surrounded by quotes, meaning it is a string type (failing to surround the text in single or double quotes would give us an error).\n",
    "\n",
    "We can double check what type of data it is by using the function **type()**:"
   ]
  },
  {
   "cell_type": "code",
   "execution_count": null,
   "metadata": {},
   "outputs": [],
   "source": [
    "type(artist)"
   ]
  },
  {
   "cell_type": "markdown",
   "metadata": {},
   "source": [
    "Let's also create a variable for the artist's birth year:"
   ]
  },
  {
   "cell_type": "code",
   "execution_count": null,
   "metadata": {},
   "outputs": [],
   "source": [
    "year_of_birth = '1907'"
   ]
  },
  {
   "cell_type": "markdown",
   "metadata": {},
   "source": [
    "Use the code cell below to check the variable's type. Have you caught the problem?"
   ]
  },
  {
   "cell_type": "code",
   "execution_count": null,
   "metadata": {},
   "outputs": [],
   "source": []
  },
  {
   "cell_type": "code",
   "execution_count": null,
   "metadata": {},
   "outputs": [],
   "source": [
    "solution(Q1)"
   ]
  },
  {
   "cell_type": "markdown",
   "metadata": {},
   "source": [
    "Though the variable is a number, we see that it is stored as a string, which is sometimes desirable, but will also prevent us from conducting mathematical operations on its value.\n",
    "\n",
    "---\n",
    "## Converting Between Datatypes\n",
    "\n",
    "We can also **convert a variable's data type**. The functions **str()**, **int()** and **float()** convert to their respective datatypes. \n",
    "\n",
    "**Exercise:** Use the code cell below to convert the artist's birth year to an integer. \n",
    "\n",
    "Note that not only do we apply the function, but we assign its output to a variable. In this case, we are reassigning to the existing variable, to avoid creating unnecessary objects. "
   ]
  },
  {
   "cell_type": "code",
   "execution_count": null,
   "metadata": {},
   "outputs": [],
   "source": [
    "year_of_birth = ___(year_of_birth)"
   ]
  },
  {
   "cell_type": "code",
   "execution_count": null,
   "metadata": {},
   "outputs": [],
   "source": [
    "year_of_birth"
   ]
  },
  {
   "cell_type": "code",
   "execution_count": null,
   "metadata": {},
   "outputs": [],
   "source": [
    "question(Q2)"
   ]
  },
  {
   "cell_type": "code",
   "execution_count": null,
   "metadata": {},
   "outputs": [],
   "source": [
    "question(Q3)"
   ]
  },
  {
   "cell_type": "markdown",
   "metadata": {},
   "source": [
    "---\n",
    "# Working with Numerical Data Types\n",
    "\n",
    "The two numerical data types we have looked at are integers and floats.\n",
    "\n",
    "To revisit, **integers** contain whole numbers, while **floats** are numbers with decimals. \n",
    "\n",
    "You can convert floats to integers. Just note that no rounding is done; instead, the decimals are just removed.\n",
    "\n",
    "# Numerical Operators \n",
    "\n",
    "At this basic level, we can conduct operations with integers and floats with the typical mathematical operators.\n",
    "\n",
    "|symbol | operation|\n",
    "|--|-|\n",
    "| + | add|\n",
    "| - | subtract|\n",
    "| * | multiply|\n",
    "| / | divide|\n",
    "| // | floor division (division excluding fractions)|\n",
    "| % | remainder|\n",
    "| ** | power|\n",
    "\n",
    "You can group operations or modify order by putting them in parentheses.\n",
    "\n",
    "## Order of Operations\n",
    "\n",
    "Python follows the mathematical convention of PEMDAS. Mathematical expressions are resolved in this order, from highest to lowest:\n",
    "\n",
    "**P** Parentheses\n",
    "\n",
    "**E** Exponentiation\n",
    "\n",
    "**M,D** Multiplication and Division\n",
    "\n",
    "**A,S** Addition and subtraction,\n",
    "\n",
    "Where M and D are given the same level of preference, as are A and S. Operators with the same preference are resolved from left to right. \n",
    "\n",
    "---\n",
    "## Let's play around with some numbers.\n",
    "\n",
    "Let's create some new numerical variables:"
   ]
  },
  {
   "cell_type": "code",
   "execution_count": null,
   "metadata": {},
   "outputs": [],
   "source": [
    "year_of_death = '1954'\n",
    "years_active = 28.5"
   ]
  },
  {
   "cell_type": "markdown",
   "metadata": {},
   "source": [
    "We could calculate the artist's life span."
   ]
  },
  {
   "cell_type": "code",
   "execution_count": null,
   "metadata": {},
   "outputs": [],
   "source": [
    "question(Q4)"
   ]
  },
  {
   "cell_type": "code",
   "execution_count": null,
   "metadata": {},
   "outputs": [],
   "source": [
    "question(Q5)"
   ]
  },
  {
   "cell_type": "markdown",
   "metadata": {},
   "source": [
    "Calculate the lifespan of the artist below by inserting the appropriate functions and operator. You should get a value of 47."
   ]
  },
  {
   "cell_type": "code",
   "execution_count": null,
   "metadata": {},
   "outputs": [],
   "source": [
    "lifespan = ___(year_of_death) _ ___(year_of_birth )"
   ]
  },
  {
   "cell_type": "code",
   "execution_count": null,
   "metadata": {},
   "outputs": [],
   "source": [
    "lifespan = int(year_of_death) - int(year_of_birth )"
   ]
  },
  {
   "cell_type": "markdown",
   "metadata": {},
   "source": [
    "When adding, the data types become even more important, because they won't give you an error but might give you an unexpected result.\n",
    "\n",
    "As integers, the operation works as expected, returning the year of death:"
   ]
  },
  {
   "cell_type": "code",
   "execution_count": null,
   "metadata": {},
   "outputs": [],
   "source": [
    "int(year_of_birth) + lifespan"
   ]
  },
  {
   "cell_type": "markdown",
   "metadata": {},
   "source": [
    "But we could also add them as strings..."
   ]
  },
  {
   "cell_type": "code",
   "execution_count": null,
   "metadata": {},
   "outputs": [],
   "source": [
    "str(year_of_death) + str(lifespan)"
   ]
  },
  {
   "cell_type": "markdown",
   "metadata": {},
   "source": [
    "This has given not given us the output of mathematical addition. Instead, has concatenated the two strings. Let's learn more about strings, next...\n",
    "\n",
    "---\n",
    "# Lesson Summary\n",
    "\n",
    "- Strings, integers and floats are some basic data types\n",
    "- You can check a value's data type with type()\n",
    "- And convert between them with str(), int() and float().\n",
    "- Mathematical operators work on numbers\n",
    "- Care must be taken with data types and operations to avoid unexpected results\n",
    "\n",
    "---\n",
    "# Further Resources\n",
    "\n",
    "Py4e?"
   ]
  }
 ],
 "metadata": {
  "celltoolbar": "Slideshow",
  "kernelspec": {
   "display_name": "Python 3",
   "language": "python",
   "name": "python3"
  },
  "language_info": {
   "codemirror_mode": {
    "name": "ipython",
    "version": 3
   },
   "file_extension": ".py",
   "mimetype": "text/x-python",
   "name": "python",
   "nbconvert_exporter": "python",
   "pygments_lexer": "ipython3",
   "version": "3.7.6"
  }
 },
 "nbformat": 4,
 "nbformat_minor": 4
}
